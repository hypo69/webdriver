{
 "cells": [
  {
   "cell_type": "code",
   "execution_count": null,
   "id": "1acd15fe-e998-4062-83d2-1fa69c3482a6",
   "metadata": {},
   "outputs": [],
   "source": [
    "import asyncio\n",
    "from types import SimpleNamespace\n",
    "import header\n",
    "from src import gs\n",
    "from src.suppliers.get_graber_by_supplier import get_graber_by_supplier_url\n",
    "from src.webdriver import Driver, Firefox\n",
    "from src.utils.jjson import j_loads_ns\n",
    "from src.utils.printer import pprint as print\n",
    "from src.logger import logger"
   ]
  },
  {
   "cell_type": "code",
   "execution_count": null,
   "id": "d3cd0478-f504-4204-8269-a6e45e5ee613",
   "metadata": {},
   "outputs": [],
   "source": [
    "d = Driver(Firefox)"
   ]
  },
  {
   "cell_type": "code",
   "execution_count": null,
   "id": "9aa4a07d-6551-4d7c-a4a0-e5e3e766b5d4",
   "metadata": {},
   "outputs": [],
   "source": [
    "graber: 'Graber' = get_graber_by_supplier_url(d, 'https://ksp.co.il', 2)"
   ]
  },
  {
   "cell_type": "code",
   "execution_count": null,
   "id": "611adf7c-1dc2-4de9-915c-9e9fb98e7124",
   "metadata": {},
   "outputs": [],
   "source": [
    "from src.endpoints.prestashop.product_fields import ProductFields"
   ]
  },
  {
   "cell_type": "code",
   "execution_count": null,
   "id": "b9721d1d-48d2-464f-b7d2-5b6e86f7b27f",
   "metadata": {},
   "outputs": [],
   "source": [
    "f:ProductFields = await graber.grab_page_async("
   ]
  }
 ],
 "metadata": {
  "kernelspec": {
   "display_name": "Python 3 (ipykernel)",
   "language": "python",
   "name": "python3"
  },
  "language_info": {
   "codemirror_mode": {
    "name": "ipython",
    "version": 3
   },
   "file_extension": ".py",
   "mimetype": "text/x-python",
   "name": "python",
   "nbconvert_exporter": "python",
   "pygments_lexer": "ipython3",
   "version": "3.13.2"
  }
 },
 "nbformat": 4,
 "nbformat_minor": 5
}
