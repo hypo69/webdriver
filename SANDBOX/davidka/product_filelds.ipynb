{
 "cells": [
  {
   "cell_type": "markdown",
   "id": "fd1e3515-1a62-43bc-9ffd-3efced9bb0d9",
   "metadata": {},
   "source": [
    "# `ProductFields`"
   ]
  },
  {
   "cell_type": "code",
   "execution_count": 1,
   "id": "1acd15fe-e998-4062-83d2-1fa69c3482a6",
   "metadata": {},
   "outputs": [],
   "source": [
    "import asyncio\n",
    "from types import SimpleNamespace\n",
    "import header\n",
    "from src import gs\n",
    "from src.endpoints.prestashop.product_fields import ProductFields\n",
    "from src.suppliers.get_graber_by_supplier import get_graber_by_supplier_url\n",
    "from src.webdriver import Driver, Firefox\n",
    "from src.utils.jjson import j_loads_ns\n",
    "from src.utils.printer import pprint as print\n",
    "from src.logger import logger"
   ]
  },
  {
   "cell_type": "code",
   "execution_count": 2,
   "id": "d3cd0478-f504-4204-8269-a6e45e5ee613",
   "metadata": {},
   "outputs": [
    {
     "name": "stderr",
     "output_type": "stream",
     "text": [
      "2025-04-08 20:33:38,641 - INFO - ℹ️ \u001b[32m\u001b[49mStarting Firefox WebDriver \u001b[0m\n",
      "2025-04-08 20:33:50,031 - INFO - ℹ️ \u001b[33m\u001b[49mBrowser started successfully, window_mode='normal' \u001b[0m\n"
     ]
    }
   ],
   "source": [
    "d = Driver(Firefox)"
   ]
  },
  {
   "cell_type": "code",
   "execution_count": 3,
   "id": "9aa4a07d-6551-4d7c-a4a0-e5e3e766b5d4",
   "metadata": {},
   "outputs": [],
   "source": [
    "graber: 'Graber' = get_graber_by_supplier_url(d, 'https://morlevi.co.il', 2)"
   ]
  },
  {
   "cell_type": "code",
   "execution_count": 4,
   "id": "b9721d1d-48d2-464f-b7d2-5b6e86f7b27f",
   "metadata": {},
   "outputs": [
    {
     "data": {
      "text/plain": [
       "True"
      ]
     },
     "execution_count": 4,
     "metadata": {},
     "output_type": "execute_result"
    }
   ],
   "source": [
    "d.get_url('https://www.morlevi.co.il/product/21695')"
   ]
  },
  {
   "cell_type": "code",
   "execution_count": 5,
   "id": "37e8e697-b38f-41f8-8d44-ab57a1a6291d",
   "metadata": {},
   "outputs": [
    {
     "name": "stderr",
     "output_type": "stream",
     "text": [
      "2025-04-08 20:33:57,080 - DEBUG - 🐛 \u001b[36m\u001b[49mEmpty locator provided. \u001b[0m\n"
     ]
    }
   ],
   "source": [
    "f:ProductFields = await graber.grab_page_async()"
   ]
  },
  {
   "cell_type": "code",
   "execution_count": 6,
   "id": "408391bc-aff3-49da-be6f-ad04097bb9e1",
   "metadata": {},
   "outputs": [
    {
     "name": "stdout",
     "output_type": "stream",
     "text": [
      "\u001b[37m{\n",
      "    \"id_product\": \"2784-95H810100\",\n",
      "    \"id_supplier\": \"2784\",\n",
      "    \"id_shop_default\": \"1\",\n",
      "    \"id_shop\": \"1\",\n",
      "    \"id_tax\": \"13\",\n",
      "    \"on_sale\": \"1\",\n",
      "    \"online_only\": \"0\",\n",
      "    \"minimal_quantity\": \"1\",\n",
      "    \"active\": \"1\",\n",
      "    \"available_for_order\": \"1\",\n",
      "    \"show_condition\": \"1\",\n",
      "    \"condition\": \"new\",\n",
      "    \"show_price\": \"1\",\n",
      "    \"visibility\": \"both\",\n",
      "    \"is_virtual\": \"0\",\n",
      "    \"state\": \"1\",\n",
      "    \"product_type\": \"standard\",\n",
      "    \"description\": {\n",
      "        \"language\": {\n",
      "            \"attrs\": {\n",
      "                \"id\": 2\n",
      "            },\n",
      "            \"value\": \"\"\n",
      "        }\n",
      "    },\n",
      "    \"name\": {\n",
      "        \"language\": {\n",
      "            \"attrs\": {\n",
      "                \"id\": 2\n",
      "            },\n",
      "            \"value\": \"\\u05dc\\u05d5\\u05d7 Gigabyte H810M H 1.0 Micro-Atx DDR5 LGA1851 VGA HDMI\"\n",
      "        }\n",
      "    },\n",
      "    \"specification\": {\n",
      "        \"language\": {\n",
      "            \"attrs\": {\n",
      "                \"id\": 2\n",
      "            },\n",
      "            \"value\": \"\\u05ea\\u05d5\\u05e9\\u05d1\\u05ea LGA 1851 \\u05e2\\u05e8\\u05db\\u05ea \\u05e9\\u05d1\\u05d1\\u05d9\\u05dd INTEL H810 \\u05de\\u05e7\\\\\\\"\\u05d8 \\u05d9\\u05e6\\u05e8\\u05df H810M H 1.0 \\u05d2\\u05d5\\u05d3\\u05dc \\u05dc\\u05d5\\u05d7 Micro ATX \\u05ea\\u05de\\u05d9\\u05db\\u05d4 \\u05d1\\u05de\\u05e2\\u05d1\\u05d3\\u05d9\\u05dd Intel GEN 15 LGA1851 ARROW LAKE \\u05e1\\u05d5\\u05d2 \\u05d6\\u05db\\u05e8\\u05d5\\u05df DDR5 \\u05ea\\u05de\\u05d9\\u05db\\u05d4 \\u05d1\\u05de\\u05e7\\u05e1\\u05d9\\u05de\\u05d5\\u05dd \\u05ea\\u05d3\\u05e8 \\u05e9\\u05e2\\u05d5\\u05df 6400 \\u05db\\u05de\\u05d5\\u05ea \\u05d7\\u05e8\\u05d9\\u05e6\\u05d9 \\u05d6\\u05db\\u05e8\\u05d5\\u05df 2 \\u05d7\\u05e8\\u05d9\\u05e6\\u05d9 PCIE X16 X8 X4 1xPCIe4.0x16 1xPCIe 3.0x4 VGA 1 \\u05d7\\u05d9\\u05d1\\u05d5\\u05e8 HDMI 1 \\u05db\\u05de\\u05d4 \\u05de\\u05e1\\u05db\\u05d9\\u05dd \\u05e0\\u05d9\\u05ea\\u05df \\u05dc\\u05d7\\u05d1\\u05e8 \\u05d1\\u05d5 \\u05d6\\u05de\\u05e0\\u05d9\\u05ea 2 SOUND Realtek\\u00ae Audio CODEC SATA 3 4 USB 2.0 Type-A 5 USB 2.0 HEADER 1 USB 3 Header 1 USB 3.2 Gen 1 Type-A 1 RAID 0,1,5,10 \\u05db\\u05e8\\u05d8\\u05d9\\u05e1 \\u05e8\\u05e9\\u05ea \\u05e7\\u05d5\\u05d5\\u05d9 Realtek GbE \\u05d7\\u05d9\\u05d1\\u05d5\\u05e8 PS/2 \\u05e2\\u05db\\u05d1\\u05e8/\\u05de\\u05e7\\u05dc\\u05d3\\u05ea \\u05db\\u05de\\u05d5\\u05ea \\u05d7\\u05d9\\u05d1\\u05d5\\u05e8\\u05d9 \\u05de\\u05d0\\u05d5\\u05e8\\u05e8 \\u05de\\u05d0\\u05e8\\u05d6 2 \\u05ea\\u05de\\u05d9\\u05db\\u05d4 \\u05d1\\u05de\\u05e2\\u05e8\\u05db\\u05d5\\u05ea \\u05d4\\u05e4\\u05e2\\u05dc\\u05d4 Windows 11 64BIT \\u05de\\u05de\\u05e9\\u05e7 \\u05db\\u05e8\\u05d8\\u05d9\\u05e1 \\u05de\\u05e1\\u05da PCI Express 4.0 X16 TYPE-C Header Front USB 3.1 Gen 1 Type-C NVMe PCIe 4.0 & 3.0 M.2 Connector 1 QFLASH \\u05d9\\u05e9 \\u05ea\\u05e7\\u05d5\\u05e4\\u05ea \\u05d0\\u05d7\\u05e8\\u05d9\\u05d5\\u05ea 3 \\u05e9\\u05e0\\u05d9\\u05dd\"\n",
      "        }\n",
      "    },\n",
      "    \"associations\": {\n",
      "        \"categories\": [\n",
      "            {\n",
      "                \"id\": \"2\"\n",
      "            }\n",
      "        ]\n",
      "    }\n",
      "}\u001b[0m\n"
     ]
    }
   ],
   "source": [
    "product_dict:dict = f.to_dict()\n",
    "print(product_dict)"
   ]
  },
  {
   "cell_type": "code",
   "execution_count": null,
   "id": "a7d76373-a17c-414e-aad5-f7496e5b3273",
   "metadata": {},
   "outputs": [],
   "source": []
  }
 ],
 "metadata": {
  "kernelspec": {
   "display_name": "Python 3 (ipykernel)",
   "language": "python",
   "name": "python3"
  },
  "language_info": {
   "codemirror_mode": {
    "name": "ipython",
    "version": 3
   },
   "file_extension": ".py",
   "mimetype": "text/x-python",
   "name": "python",
   "nbconvert_exporter": "python",
   "pygments_lexer": "ipython3",
   "version": "3.13.2"
  }
 },
 "nbformat": 4,
 "nbformat_minor": 5
}
