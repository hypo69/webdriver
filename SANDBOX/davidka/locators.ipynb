{
 "cells": [
  {
   "cell_type": "markdown",
   "id": "2be5e88f-0bfa-4f97-850c-f9c5dd419a4a",
   "metadata": {},
   "source": [
    "# Локаторы"
   ]
  },
  {
   "cell_type": "code",
   "execution_count": 1,
   "id": "d66c3702-80b8-47f5-a5ab-b2da6129adb8",
   "metadata": {},
   "outputs": [],
   "source": [
    "import asyncio\n",
    "import header\n",
    "from src import gs\n",
    "from src.webdriver import Driver, Firefox\n",
    "from src.utils.printer import pprint as print\n",
    "from src.logger import logger"
   ]
  },
  {
   "cell_type": "code",
   "execution_count": 2,
   "id": "fbf349b6-efc5-4590-a6cb-f8a8b277059d",
   "metadata": {},
   "outputs": [
    {
     "name": "stderr",
     "output_type": "stream",
     "text": [
      "2025-04-08 20:44:03,126 - INFO - ℹ️ \u001b[32m\u001b[49mStarting Firefox WebDriver \u001b[0m\n",
      "2025-04-08 20:44:13,809 - INFO - ℹ️ \u001b[33m\u001b[49mBrowser started successfully, window_mode='normal' \u001b[0m\n"
     ]
    }
   ],
   "source": [
    "d = Driver(Firefox)"
   ]
  },
  {
   "cell_type": "markdown",
   "id": "d9a6abab-a57b-4256-8d8f-01c4022858fe",
   "metadata": {},
   "source": [
    "Поставщик (`supplier`): `KSP` \n",
    "\n",
    "Категория (`category`): Память для компьютера. \n",
    "\n",
    "`id_category` = `3776`\n",
    "\n",
    "[see RAM category in store](https://emil-design.com/__ooOOoo__/index.php/sell/catalog/categories/4768?token=82ad575c3e6bb9c4808df52810fc5250)"
   ]
  },
  {
   "cell_type": "code",
   "execution_count": 3,
   "id": "d982a6cb-df9f-4738-ae27-642478b49ec0",
   "metadata": {},
   "outputs": [
    {
     "data": {
      "text/plain": [
       "True"
      ]
     },
     "execution_count": 3,
     "metadata": {},
     "output_type": "execute_result"
    }
   ],
   "source": [
    "d.get_url(\"https://ksp.co.il/mob/cat/1038\")"
   ]
  },
  {
   "cell_type": "code",
   "execution_count": 4,
   "id": "cbe89100-d51f-487f-b23b-7528c5e8eab6",
   "metadata": {},
   "outputs": [
    {
     "data": {
      "text/plain": [
       "True"
      ]
     },
     "execution_count": 4,
     "metadata": {},
     "output_type": "execute_result"
    }
   ],
   "source": [
    "d.scroll(8)"
   ]
  },
  {
   "cell_type": "code",
   "execution_count": 5,
   "id": "86c97e91-b36c-4e02-ae3a-3ebac3a3bf62",
   "metadata": {},
   "outputs": [],
   "source": [
    "product_links_locator:dict =  {\n",
    "    \"attribute\": \"href\",\n",
    "    \"by\": \"XPATH\",\n",
    "    \"selector\": \"//a[contains(@href, '/item/')]\",\n",
    "    \"if_list\":\"all\",\n",
    "    \"use_mouse\": False, \n",
    "    \"mandatory\": True,\n",
    "    \"timeout\":0,\n",
    "    \"timeout_for_event\":\"presence_of_element_located\",\n",
    "    \"event\": None\n",
    "}"
   ]
  },
  {
   "cell_type": "code",
   "execution_count": 6,
   "id": "c1612859-6b43-495f-af00-36924190788f",
   "metadata": {},
   "outputs": [],
   "source": [
    "product_links:list | str = await( d.execute_locator(product_links_locator) ) \n",
    "product_links:list = product_links if isinstance(product_links, list) else [product_links]"
   ]
  },
  {
   "cell_type": "code",
   "execution_count": 7,
   "id": "ee302472-3e4a-4137-9794-3f54e4f32e0c",
   "metadata": {},
   "outputs": [
    {
     "name": "stderr",
     "output_type": "stream",
     "text": [
      "2025-04-08 20:44:21,117 - INFO - ℹ️ \u001b[32m\u001b[49mreturns type:<class 'list'> \u001b[0m\n",
      "2025-04-08 20:44:21,118 - INFO - ℹ️ \u001b[32m\u001b[49mlinks count:49 \u001b[0m\n"
     ]
    },
    {
     "name": "stdout",
     "output_type": "stream",
     "text": [
      "\u001b[37mhttps://ksp.co.il/web/item/113795\u001b[0m\n",
      "\u001b[37mhttps://ksp.co.il/web/item/113795\u001b[0m\n",
      "\u001b[37mhttps://ksp.co.il/web/item/288502\u001b[0m\n",
      "\u001b[37mhttps://ksp.co.il/web/item/288502\u001b[0m\n",
      "\u001b[37mhttps://ksp.co.il/web/item/330624\u001b[0m\n",
      "\u001b[37mhttps://ksp.co.il/web/item/169185\u001b[0m\n",
      "\u001b[37mhttps://ksp.co.il/web/item/169185\u001b[0m\n",
      "\u001b[37mhttps://ksp.co.il/web/item/360019\u001b[0m\n",
      "\u001b[37mhttps://ksp.co.il/web/item/360019\u001b[0m\n",
      "\u001b[37mhttps://ksp.co.il/web/item/338315\u001b[0m\n",
      "\u001b[37mhttps://ksp.co.il/web/item/338315\u001b[0m\n",
      "\u001b[37mhttps://ksp.co.il/web/item/337202\u001b[0m\n",
      "\u001b[37mhttps://ksp.co.il/web/item/337202\u001b[0m\n",
      "\u001b[37mhttps://ksp.co.il/web/item/268981\u001b[0m\n",
      "\u001b[37mhttps://ksp.co.il/web/item/268981\u001b[0m\n",
      "\u001b[37mhttps://ksp.co.il/web/item/338316\u001b[0m\n",
      "\u001b[37mhttps://ksp.co.il/web/item/338316\u001b[0m\n",
      "\u001b[37mhttps://ksp.co.il/web/item/164176\u001b[0m\n",
      "\u001b[37mhttps://ksp.co.il/web/item/164176\u001b[0m\n",
      "\u001b[37mhttps://ksp.co.il/web/item/282599\u001b[0m\n",
      "\u001b[37mhttps://ksp.co.il/web/item/282599\u001b[0m\n",
      "\u001b[37mhttps://ksp.co.il/web/item/164158\u001b[0m\n",
      "\u001b[37mhttps://ksp.co.il/web/item/164158\u001b[0m\n",
      "\u001b[37mhttps://ksp.co.il/web/item/186690\u001b[0m\n",
      "\u001b[37mhttps://ksp.co.il/web/item/186690\u001b[0m\n",
      "\u001b[37mhttps://ksp.co.il/web/item/72538\u001b[0m\n",
      "\u001b[37mhttps://ksp.co.il/web/item/72538\u001b[0m\n",
      "\u001b[37mhttps://ksp.co.il/web/item/114607\u001b[0m\n",
      "\u001b[37mhttps://ksp.co.il/web/item/114607\u001b[0m\n",
      "\u001b[37mhttps://ksp.co.il/web/item/69741\u001b[0m\n",
      "\u001b[37mhttps://ksp.co.il/web/item/69741\u001b[0m\n",
      "\u001b[37mhttps://ksp.co.il/web/item/49600\u001b[0m\n",
      "\u001b[37mhttps://ksp.co.il/web/item/49600\u001b[0m\n",
      "\u001b[37mhttps://ksp.co.il/web/item/164774\u001b[0m\n",
      "\u001b[37mhttps://ksp.co.il/web/item/164774\u001b[0m\n",
      "\u001b[37mhttps://ksp.co.il/web/item/238921\u001b[0m\n",
      "\u001b[37mhttps://ksp.co.il/web/item/238921\u001b[0m\n",
      "\u001b[37mhttps://ksp.co.il/web/item/363360\u001b[0m\n",
      "\u001b[37mhttps://ksp.co.il/web/item/363360\u001b[0m\n",
      "\u001b[37mhttps://ksp.co.il/web/item/301787\u001b[0m\n",
      "\u001b[37mhttps://ksp.co.il/web/item/301787\u001b[0m\n",
      "\u001b[37mhttps://ksp.co.il/web/item/48284\u001b[0m\n",
      "\u001b[37mhttps://ksp.co.il/web/item/48284\u001b[0m\n",
      "\u001b[37mhttps://ksp.co.il/web/item/219402\u001b[0m\n",
      "\u001b[37mhttps://ksp.co.il/web/item/219402\u001b[0m\n",
      "\u001b[37mhttps://ksp.co.il/web/item/337191\u001b[0m\n",
      "\u001b[37mhttps://ksp.co.il/web/item/337191\u001b[0m\n",
      "\u001b[37mhttps://ksp.co.il/web/item/212365\u001b[0m\n",
      "\u001b[37mhttps://ksp.co.il/web/item/212365\u001b[0m\n"
     ]
    }
   ],
   "source": [
    "logger.info(f'returns type:{type(product_links)}')\n",
    "logger.info(f'links count:{len(product_links)}')\n",
    "print(product_links)"
   ]
  },
  {
   "cell_type": "code",
   "execution_count": 8,
   "id": "abb4ad3d-2017-4379-8b67-31c4426c00ae",
   "metadata": {},
   "outputs": [],
   "source": [
    "product_name_locator: dict = {\n",
    "    \"attribute\": \"aria-label\",\n",
    "    \"by\": \"XPATH\",\n",
    "    \"selector\": \"//div[@id = 'product-page-root']//h1[contains(@class, 'title')]\",\n",
    "    \"if_list\": \"first\",\n",
    "    \"use_mouse\": False,\n",
    "    \"timeout\": 1,\n",
    "    \"timeout_for_event\": \"presence_of_element_located\",\n",
    "    \"event\": None,\n",
    "    \"mandatory\": True,\n",
    "    \"locator_description\": \"KSP - Название товара\"\n",
    "  }"
   ]
  },
  {
   "cell_type": "code",
   "execution_count": 9,
   "id": "be3326c3-388b-4e65-9e5a-3f63b082e667",
   "metadata": {},
   "outputs": [],
   "source": [
    "product_name_mobile_locator: dict =  {\n",
    "    \"attribute\": \"innerText\",\n",
    "    \"by\": \"XPATH\",\n",
    "    \"selector\": \"//h1[@class = 'rtl-16esk6i']\",\n",
    "    \"if_list\": \"first\",\n",
    "    \"use_mouse\": False,\n",
    "    \"timeout\": 2,\n",
    "    \"timeout_for_event\": \"presence_of_element_located\",\n",
    "    \"event\": None,\n",
    "    \"mandatory\": True,\n",
    "    \"locator_description\": \"KSP mobile version - Название товара\"\n",
    "  }"
   ]
  },
  {
   "cell_type": "code",
   "execution_count": 10,
   "id": "1fe477fe-36b1-41d6-b47d-db39ed170e8f",
   "metadata": {},
   "outputs": [],
   "source": [
    "async def get_product_name(d:Driver) -> str:\n",
    "    \"\"\"Функция возвращает значение поля `name` товара.\n",
    "    В зависимости от версии страницы `/mob/` | `/web/` (мобильная / десктопная) \n",
    "    функция подставляет релевантный локатор\"\"\"\n",
    "    \n",
    "    if '/mob/' in d.current_url:   \n",
    "        return await d.execute_locator(product_name_mobile_locator)\n",
    "    else:\n",
    "        return await d.execute_locator(product_name_locator)\n",
    "        "
   ]
  },
  {
   "cell_type": "code",
   "execution_count": 14,
   "id": "d5d1b7c2-2cec-4c16-a886-8161b70a1c20",
   "metadata": {},
   "outputs": [
    {
     "name": "stdout",
     "output_type": "stream",
     "text": [
      "\u001b[37mProduct name זכרון למחשב נייד Sodimm Kingston ValueRAM 16GB DDR4 3200Mhz CL22\u001b[0m\n",
      "\u001b[37mProduct name זכרון למחשב נייד Sodimm Kingston ValueRAM 16GB DDR4 3200Mhz CL22\u001b[0m\n",
      "\u001b[37mProduct name זיכרון למחשב Corsair Vengeance RGB 2x16GB DDR5 6000MHz CL38  צבע שחור\u001b[0m\n",
      "\u001b[37mProduct name זיכרון למחשב Corsair Vengeance RGB 2x16GB DDR5 6000MHz CL38  צבע שחור\u001b[0m\n",
      "\u001b[37mProduct name מצלמת אקסטרים GoPro HERO  שנתיים אחריות יבואן רשמי על ידי רונלייט\u001b[0m\n"
     ]
    },
    {
     "name": "stderr",
     "output_type": "stream",
     "text": [
      "2025-04-08 20:45:38,634 - DEBUG - 🐛 \u001b[36m\u001b[49mstopped by debugger \u001b[0m\n"
     ]
    },
    {
     "name": "stdout",
     "output_type": "stream",
     "text": [
      "\u001b[37mProduct name זכרון למחשב Kingston FURY BEAST 2x16GB DDR4 3600MHz CL18\u001b[0m\n"
     ]
    }
   ],
   "source": [
    "counter:int = 0 # <- счетчик, чтобы сервер нас не забанил за частые запросы\n",
    "for url in product_links:\n",
    "    counter += 1\n",
    "    d.get_url(url)\n",
    "    name = await get_product_name(d)\n",
    "    print(f'Product name {name}')\n",
    "    if counter > 5:\n",
    "        logger.debug('stopped by debugger', None, False)\n",
    "        break\n",
    "    d.wait(3)"
   ]
  },
  {
   "cell_type": "code",
   "execution_count": null,
   "id": "900b3e31-aa6e-4d0b-9db9-7c3807b6d7f7",
   "metadata": {},
   "outputs": [],
   "source": []
  }
 ],
 "metadata": {
  "kernelspec": {
   "display_name": "Python 3 (ipykernel)",
   "language": "python",
   "name": "python3"
  },
  "language_info": {
   "codemirror_mode": {
    "name": "ipython",
    "version": 3
   },
   "file_extension": ".py",
   "mimetype": "text/x-python",
   "name": "python",
   "nbconvert_exporter": "python",
   "pygments_lexer": "ipython3",
   "version": "3.13.2"
  }
 },
 "nbformat": 4,
 "nbformat_minor": 5
}
