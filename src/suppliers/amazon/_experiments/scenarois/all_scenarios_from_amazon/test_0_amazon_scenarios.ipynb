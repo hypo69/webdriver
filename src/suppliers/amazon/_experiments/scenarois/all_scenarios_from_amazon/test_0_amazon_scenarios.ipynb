{
 "cells": [
  {
   "cell_type": "markdown",
   "id": "63ce4d2d",
   "metadata": {},
   "source": [
    "# <a id='toc1_'></a>[Amazon тест](#toc0_)"
   ]
  },
  {
   "cell_type": "code",
   "execution_count": null,
   "id": "65fc94bf",
   "metadata": {
    "tags": []
   },
   "outputs": [],
   "source": [
    "\n",
    "import header\n",
    "from header import  start_supplier, Product, ProductFields\n",
    "\n",
    "supplier_prefix = 'amazon'\n",
    "s = start_supplier(supplier_prefix)\n",
    "\"\"\" s - на протяжении всего кода означает класс `Supplier` \"\"\"\n",
    "\n",
    "print(\" Можно продолжать \")"
   ]
  },
  {
   "cell_type": "markdown",
   "id": "52099c5a-f456-4de8-a849-174725284cd9",
   "metadata": {},
   "source": [
    "<p><font color=\"#074B35\">Сценарий из тестового файла `dict_scenarios.py` </font></p>"
   ]
  },
  {
   "cell_type": "code",
   "execution_count": 3,
   "id": "30e26c6f",
   "metadata": {
    "tags": []
   },
   "outputs": [],
   "source": [
    "from dict_scenarios import scenario\n",
    "s.current_scenario = scenario['Murano Glass']\n",
    "l = s.locators.get('product')\n",
    "d = s.driver\n",
    "_ = d.execute_locator"
   ]
  },
  {
   "cell_type": "markdown",
   "id": "c491c989-2d1e-4d21-9578-774c2684ac04",
   "metadata": {},
   "source": [
    "<p> Сценарий из файла сценариев  </p>"
   ]
  },
  {
   "cell_type": "code",
   "execution_count": null,
   "id": "03b4c057-891e-458b-becc-9cbad3949721",
   "metadata": {},
   "outputs": [],
   "source": []
  },
  {
   "cell_type": "code",
   "execution_count": 4,
   "id": "fb626e20-455b-4fb2-96cc-fc2335d08321",
   "metadata": {
    "tags": []
   },
   "outputs": [
    {
     "name": "stdout",
     "output_type": "stream",
     "text": [
      "  Supplier class\n",
      "    Класс поставщика. Исполняет сценарии\n",
      "\n",
      "        Named Args:\n",
      "        `supplier_prefix` `str`  :  supplier_prefix s.e. 'aliexpress'\n",
      "                    Table of suppliers: https://docs.google.com/spreadsheets/d/14f0PyQa32pur-sW2MBvA5faIVghnsA0hWClYoKpkFBQ/edit?usp=sharing\n",
      "        `land` `str`  :   language in ISO 639-1\n",
      "        `supplier_id` `int`  :  supplier id     Table of suppliers:\n",
      "    https://docs.google.com/spreadsheets/d/14f0PyQa32pur-sW2MBvA5faIVghnsA0hWClYoKpkFBQ/edit?usp=sharing\n",
      "    \n"
     ]
    }
   ],
   "source": [
    "print(s.__doc__)"
   ]
  },
  {
   "cell_type": "markdown",
   "id": "1755ea3c-0292-4dcf-a405-801358eb145c",
   "metadata": {},
   "source": [
    "<h3><i>Файл стаскивается с моего сервера, a нe с Амазон. </i></h3>"
   ]
  },
  {
   "cell_type": "code",
   "execution_count": 4,
   "id": "3693489c-695d-4422-991f-548fa63c65e1",
   "metadata": {
    "tags": []
   },
   "outputs": [],
   "source": [
    "test_url_1 = r\"https://dev.davidka.net/hypotez/amazon/amazon_test_1.htm\"\n",
    "test_url_2 = r\"https://dev.davidka.net/hypotez/amazon/amazon_test_2.htm\""
   ]
  },
  {
   "cell_type": "markdown",
   "id": "579f8436-4e60-485f-9125-c46b243a67ca",
   "metadata": {},
   "source": [
    "<h3><i>Файл стаскивается с Амазон. </i></h3>"
   ]
  },
  {
   "cell_type": "code",
   "execution_count": 5,
   "id": "7586659e-66ad-47ab-8c24-b9f6f2892782",
   "metadata": {
    "tags": []
   },
   "outputs": [],
   "source": [
    "test_url_3 = r\"https://www.amazon.com/Apple-Watch-44mm-Space-Aluminum/dp/B07PS9D7GW/ref=sr_1_1?qid=1685717078&refinements=p_n_is_free_shipping%3A10236242011%2Cp_89%3AApple&rnid=2407755011&s=electronics&sr=1-1\""
   ]
  },
  {
   "cell_type": "code",
   "execution_count": 5,
   "id": "51d2ddc5-655f-46af-82aa-acf863874742",
   "metadata": {},
   "outputs": [],
   "source": [
    "test_url_4 = r\"https://www.amazon.com/C%C3%A1-dOro-Hippie-Colored-Murano-Style/dp/B09N53XSQB/ref=sr_1_1_sspa?crid=24Q0ZZYVNOQMP&keywords=Art+Deco+murano+glass&qid=1687277030&sprefix=art+deco+murano+glass%2Caps%2C230&sr=8-1-spons&sp_csd=d2lkZ2V0TmFtZT1zcF9hdGY&psc=1\""
   ]
  },
  {
   "cell_type": "code",
   "execution_count": 6,
   "id": "edfa76a7",
   "metadata": {
    "tags": []
   },
   "outputs": [
    {
     "data": {
      "text/plain": [
       "True"
      ]
     },
     "execution_count": 6,
     "metadata": {},
     "output_type": "execute_result"
    }
   ],
   "source": [
    "d.get_url(test_url_4)"
   ]
  },
  {
   "cell_type": "markdown",
   "id": "43aed2f0",
   "metadata": {},
   "source": [
    "_______________________________________________\n",
    "## <a id='toc1_3_'></a>[Поля товара](#toc0_)"
   ]
  },
  {
   "cell_type": "code",
   "execution_count": 7,
   "id": "60ef4cb1-9f04-44c5-ad4d-66ae073336c1",
   "metadata": {},
   "outputs": [],
   "source": [
    "from src.tools import StringNormalizer as StringNormalizer\n",
    "def grab_product_page(s):\n",
    "    \"\"\" \n",
    "        Собираю информацию со страницы товара\n",
    "        Attrs:\n",
    "            p (Product)\n",
    "            d (Driver)\n",
    "        @returns\n",
    "            f (ProductFields) с заполненными полями, else False\n",
    "    \"\"\"\n",
    "    d = s.driver\n",
    "    l = s.locators.get('product')\n",
    "    f = ProductFields()\n",
    "    _ = d.execute_locator\n",
    "\n",
    "\n",
    "\n",
    "    \"\"\" ID,ASIN,SKU,SUPPLIER SKU \"\"\"\n",
    "    \n",
    "\n",
    "    def _set_defaults() -> bool:\n",
    "        \"\"\" Set defaults for product of supplier\n",
    "        Attrs:\n",
    "    \n",
    "            \n",
    "        @returns\n",
    "    \t\"\"\"\n",
    "        f.active = 1\n",
    "        f.active = 1\n",
    "        f.on_sale = 0\n",
    "        f.min_qty = 1\n",
    "        f.low_stock_level = 0\n",
    "        f.low_stock_threshold = ''\n",
    "        f.show_price = 1\n",
    "        f.show_condition = 1\n",
    "        f.aviable_online_only = 0\n",
    "        f.advanced_stock_management = 0\n",
    "        \n",
    "        ...\n",
    "\n",
    "    _set_defaults()\n",
    "\n",
    "    ASIN = _(l['ASIN'])\n",
    "    f.id_product = None\n",
    "    f.reference = f'{s.supplier_id}-{ASIN}'\n",
    "    f.supplier_reference = ASIN\n",
    "    f.price = StringNormalizer.normalize_price(_(l['price'])[0])\n",
    "    f.name = _(l['name'])[0]\n",
    "    #f.summary = _(l['summary'])[0]\n",
    "    f.id_supplier = s.supplier_id\n",
    "    f.id_category_default = list(s.current_scenario['presta_categories']['default_category'].keys())[0]\n",
    "    return f\n"
   ]
  },
  {
   "cell_type": "markdown",
   "id": "3b6ee460-97a7-4fa2-b782-c74a9d8bcac8",
   "metadata": {},
   "source": [
    "## Переопределяю локаторы для товара по test_url_4"
   ]
  },
  {
   "cell_type": "code",
   "execution_count": 13,
   "id": "4aefe33b-3157-42eb-bc50-1aa6b29c0f09",
   "metadata": {},
   "outputs": [],
   "source": [
    "l['price']['selector'] = \\\n",
    "\"//div[contains(@data-csa-c-asin, '$_(driver.current_url.split(f'''/''')[-2])_$') and contains(@id, 'corePriceDisplay')]//span[1]\""
   ]
  },
  {
   "cell_type": "code",
   "execution_count": 14,
   "id": "b4e0d3b8-3772-43fb-92f2-76c67a9dcca6",
   "metadata": {},
   "outputs": [],
   "source": [
    "ASIN = _(l['ASIN'])"
   ]
  },
  {
   "cell_type": "code",
   "execution_count": 15,
   "id": "a42f45a0-fd2f-479f-b025-e7415c50e722",
   "metadata": {
    "scrolled": true,
    "tags": []
   },
   "outputs": [],
   "source": [
    "product_reference = f\"{s.supplier_id}-{ASIN}\"\n",
    "check = Product.check_if_product_in_presta_db(product_reference)"
   ]
  },
  {
   "cell_type": "code",
   "execution_count": 16,
   "id": "0f1d5a49-009c-49eb-893c-116e8fc554f5",
   "metadata": {},
   "outputs": [
    {
     "name": "stdout",
     "output_type": "stream",
     "text": [
      "45\n"
     ]
    }
   ],
   "source": [
    "print(check)"
   ]
  },
  {
   "cell_type": "code",
   "execution_count": 17,
   "id": "4bbb5ed6-a422-40a4-a6d1-f970cfc27cd2",
   "metadata": {},
   "outputs": [],
   "source": [
    "product_fields: ProductFields = grab_product_page(s)"
   ]
  },
  {
   "cell_type": "code",
   "execution_count": 18,
   "id": "189a88c8-deba-4ed8-a2ef-7cb7d84081e0",
   "metadata": {},
   "outputs": [],
   "source": [
    "raw_price = _(l['price'])[0]\n"
   ]
  },
  {
   "cell_type": "code",
   "execution_count": 19,
   "id": "2443ddc9-18d6-435c-b3cd-bf49ab08f13a",
   "metadata": {},
   "outputs": [
    {
     "name": "stdout",
     "output_type": "stream",
     "text": [
      "$168.00\n",
      "$168\n",
      ".\n",
      "00\n"
     ]
    }
   ],
   "source": [
    "print(raw_price)"
   ]
  },
  {
   "cell_type": "code",
   "execution_count": 20,
   "id": "dd553678-87a5-4673-a9d0-3af288184225",
   "metadata": {},
   "outputs": [],
   "source": [
    "raw_price = str(raw_price).split('\\n')[0]"
   ]
  },
  {
   "cell_type": "code",
   "execution_count": 21,
   "id": "1fe51a78-1640-47c3-ac25-2029673415ac",
   "metadata": {},
   "outputs": [
    {
     "name": "stdout",
     "output_type": "stream",
     "text": [
      "$168.00\n"
     ]
    }
   ],
   "source": [
    "print(raw_price)"
   ]
  },
  {
   "cell_type": "code",
   "execution_count": 22,
   "id": "d8caf432-ae9d-4a39-9490-6d6d868c3626",
   "metadata": {},
   "outputs": [],
   "source": [
    "price = StringNormalizer.normalize_price(raw_price)"
   ]
  },
  {
   "cell_type": "code",
   "execution_count": 23,
   "id": "bbf9ad11-1310-4e79-a9d0-01fa4f39f4d1",
   "metadata": {},
   "outputs": [
    {
     "name": "stdout",
     "output_type": "stream",
     "text": [
      "168.0\n",
      "<class 'float'>\n"
     ]
    }
   ],
   "source": [
    "jprint(price)\n",
    "print(type(price))"
   ]
  },
  {
   "cell_type": "code",
   "execution_count": 30,
   "id": "de86f753-108d-450f-b5f7-0aa6f172fb36",
   "metadata": {},
   "outputs": [],
   "source": [
    "product_fields.wholesale_price = product_fields.price = str(price)\n",
    "product_fields.name = product_fields.name.encode('utf-8')\n",
    "product_dict: dict = {}\n",
    "product_dict['product']: dict = dict(product_fields.fields)\n",
    "#product_dict['product']['wholesale_price'] = product_dict['product']['price'] = float(product_dict['product']['wholesale_price'] )"
   ]
  },
  {
   "cell_type": "code",
   "execution_count": 34,
   "id": "9f29e151-8934-44fc-87e2-806db1df809e",
   "metadata": {},
   "outputs": [
    {
     "name": "stdout",
     "output_type": "stream",
     "text": [
      "{'product': {'active': 1, 'on_sale': 0, 'low_stock_threshold': '', 'show_price': 1, 'show_condition': 1, 'advanced_stock_management': 0, 'id_product': None, 'reference': '2800-B09N53XSQB', 'supplier_reference': 'B09N53XSQB', 'name': b\"C\\xc3\\xa1 d'Oro Small Glass Vase Hippie Colored Canes Hand Blown Murano-Style Art Glass - Model Oval\", 'id_supplier': '2800', 'id_category_default': '11209', 'wholesale_price': '168.0', 'price': '168.0'}}\n"
     ]
    }
   ],
   "source": [
    "print(product_dict)"
   ]
  },
  {
   "cell_type": "code",
   "execution_count": null,
   "id": "e10797df-2ff0-4549-9755-1b1cdf7b7e31",
   "metadata": {},
   "outputs": [],
   "source": []
  },
  {
   "cell_type": "code",
   "execution_count": 35,
   "id": "18069224-4825-4c2a-8a17-9cd11606481e",
   "metadata": {
    "tags": []
   },
   "outputs": [],
   "source": [
    "from src.endpoints.PrestaShop import Product as PrestaProduct"
   ]
  },
  {
   "cell_type": "code",
   "execution_count": 36,
   "id": "fd93dc95-1d16-401e-81d3-823212553935",
   "metadata": {},
   "outputs": [
    {
     "data": {
      "text/plain": [
       "{'PrestaShop': {'product': {'id': '51', 'id_manufacturer': '', 'id_supplier': '2800', 'id_category_default': '11209', 'new': '', 'cache_default_attribute': '', 'id_default_image': {'attrs': {'notFilterable': 'true'}, 'value': ''}, 'id_default_combination': {'attrs': {'notFilterable': 'true'}, 'value': '0'}, 'id_tax': '', 'position_in_category': {'attrs': {'notFilterable': 'true'}, 'value': ''}, 'manufacturer_name': {'attrs': {'notFilterable': 'true'}, 'value': ''}, 'quantity': {'attrs': {'notFilterable': 'true'}, 'value': ''}, 'type': {'attrs': {'notFilterable': 'true'}, 'value': 'simple'}, 'id_shop_default': '1', 'reference': '2800-B09N53XSQB', 'supplier_reference': 'B09N53XSQB', 'location': '', 'width': '', 'height': '', 'depth': '', 'weight': '', 'quantity_discount': '', 'ean13': '', 'isbn': '', 'upc': '', 'mpn': '', 'cache_is_pack': '', 'cache_has_attachments': '', 'is_virtual': '', 'state': '', 'additional_delivery_times': '', 'delivery_in_stock': {'language': [{'attrs': {'id': '1'}, 'value': ''}, {'attrs': {'id': '2'}, 'value': ''}, {'attrs': {'id': '3'}, 'value': ''}]}, 'delivery_out_stock': {'language': [{'attrs': {'id': '1'}, 'value': ''}, {'attrs': {'id': '2'}, 'value': ''}, {'attrs': {'id': '3'}, 'value': ''}]}, 'product_type': '', 'on_sale': '0', 'online_only': '', 'ecotax': '', 'minimal_quantity': '', 'low_stock_threshold': '', 'low_stock_alert': '', 'price': '168.0', 'wholesale_price': '168.0', 'unity': '', 'unit_price_ratio': '', 'additional_shipping_cost': '', 'customizable': '', 'text_fields': '', 'uploadable_files': '', 'active': '1', 'redirect_type': '', 'id_type_redirected': '', 'available_for_order': '', 'available_date': '', 'show_condition': '1', 'condition': 'new', 'show_price': '1', 'indexed': '', 'visibility': 'both', 'advanced_stock_management': '0', 'date_add': '2023-07-01 15:17:31', 'date_upd': '2023-07-01 15:17:31', 'pack_stock_type': '', 'meta_description': {'language': [{'attrs': {'id': '1'}, 'value': ''}, {'attrs': {'id': '2'}, 'value': ''}, {'attrs': {'id': '3'}, 'value': ''}]}, 'meta_keywords': {'language': [{'attrs': {'id': '1'}, 'value': ''}, {'attrs': {'id': '2'}, 'value': ''}, {'attrs': {'id': '3'}, 'value': ''}]}, 'meta_title': {'language': [{'attrs': {'id': '1'}, 'value': ''}, {'attrs': {'id': '2'}, 'value': ''}, {'attrs': {'id': '3'}, 'value': ''}]}, 'link_rewrite': {'language': [{'attrs': {'id': '1'}, 'value': ''}, {'attrs': {'id': '2'}, 'value': ''}, {'attrs': {'id': '3'}, 'value': ''}]}, 'name': {'language': [{'attrs': {'id': '1'}, 'value': '\"'}, {'attrs': {'id': '2'}, 'value': 'C'}, {'attrs': {'id': '3'}, 'value': '\\\\'}]}, 'description': {'language': [{'attrs': {'id': '1'}, 'value': ''}, {'attrs': {'id': '2'}, 'value': ''}, {'attrs': {'id': '3'}, 'value': ''}]}, 'description_short': {'language': [{'attrs': {'id': '1'}, 'value': ''}, {'attrs': {'id': '2'}, 'value': ''}, {'attrs': {'id': '3'}, 'value': ''}]}, 'available_now': {'language': [{'attrs': {'id': '1'}, 'value': ''}, {'attrs': {'id': '2'}, 'value': ''}, {'attrs': {'id': '3'}, 'value': ''}]}, 'available_later': {'language': [{'attrs': {'id': '1'}, 'value': ''}, {'attrs': {'id': '2'}, 'value': ''}, {'attrs': {'id': '3'}, 'value': ''}]}, 'affiliate_short_link': {'language': [{'attrs': {'id': '1'}, 'value': ''}, {'attrs': {'id': '2'}, 'value': ''}, {'attrs': {'id': '3'}, 'value': ''}]}, 'affiliate_text': {'language': [{'attrs': {'id': '1'}, 'value': ''}, {'attrs': {'id': '2'}, 'value': ''}, {'attrs': {'id': '3'}, 'value': ''}]}, 'affiliate_summary': {'language': [{'attrs': {'id': '1'}, 'value': ''}, {'attrs': {'id': '2'}, 'value': ''}, {'attrs': {'id': '3'}, 'value': ''}]}, 'affiliate_summary_2': {'language': [{'attrs': {'id': '1'}, 'value': ''}, {'attrs': {'id': '2'}, 'value': ''}, {'attrs': {'id': '3'}, 'value': ''}]}, 'associations': {'categories': {'attrs': {'nodeType': 'category', 'api': 'categories'}, 'value': ''}, 'images': {'attrs': {'nodeType': 'image', 'api': 'images'}, 'value': ''}, 'combinations': {'attrs': {'nodeType': 'combination', 'api': 'combinations'}, 'value': ''}, 'product_option_values': {'attrs': {'nodeType': 'product_option_value', 'api': 'product_option_values'}, 'value': ''}, 'product_features': {'attrs': {'nodeType': 'product_feature', 'api': 'product_features'}, 'value': ''}, 'tags': {'attrs': {'nodeType': 'tag', 'api': 'tags'}, 'value': ''}, 'stock_availables': {'attrs': {'nodeType': 'stock_available', 'api': 'stock_availables'}, 'stock_available': {'id': '101', 'id_product_attribute': '0'}}, 'attachments': {'attrs': {'nodeType': 'attachment', 'api': 'attachments'}, 'value': ''}, 'accessories': {'attrs': {'nodeType': 'product', 'api': 'products'}, 'value': ''}, 'product_bundle': {'attrs': {'nodeType': 'product', 'api': 'products'}, 'value': ''}}}}}"
      ]
     },
     "execution_count": 36,
     "metadata": {},
     "output_type": "execute_result"
    }
   ],
   "source": [
    "PrestaProduct.add(product_dict)"
   ]
  },
  {
   "cell_type": "code",
   "execution_count": null,
   "id": "86ec0e91-f49a-439a-aa3d-2079798f466f",
   "metadata": {},
   "outputs": [],
   "source": []
  },
  {
   "cell_type": "code",
   "execution_count": null,
   "id": "afe79cb1",
   "metadata": {},
   "outputs": [],
   "source": [
    "\n",
    "f.ean13= _(l['ean13']) or 0\n",
    "print(f\"\"\"'ean13' = {f.ean13}\"\"\")\n",
    "\n",
    "f.isbn= _(l['isbn']) or 0\n",
    "print(f\"\"\"'ean13' = {f.isbn}\"\"\")\n",
    "\n",
    "f.upc= _(l['upc']) or 0\n",
    "print(f\"\"\"'upc' = {f.upc}\"\"\")\n",
    "\n",
    "f.mpn= _(l['mpn']) or 0\n",
    "print(f\"\"\"'mpn' = {f.mpn}\"\"\")\n",
    "\n",
    "f.ecotax= _(l['ecotax']) or 0\n",
    "print(f\"\"\"'ecotax' = {f.ecotax}\"\"\")\n",
    "\n",
    "f.quantity= _(l['quantity']) or 1\n",
    "print(f\"\"\"'quantity' = {f.quantity}\"\"\")\n",
    "\n",
    "f.minimal_quantity= _(l['minimal_quantity']) or 0\n",
    "print(f\"\"\"'minimal_quantity' = {f.minimal_quantity}\"\"\")\n",
    "        "
   ]
  },
  {
   "cell_type": "code",
   "execution_count": null,
   "id": "1f0bcc4f-d83f-4a63-8c6d-0b41bc61231c",
   "metadata": {
    "tags": []
   },
   "outputs": [],
   "source": [
    "\n",
    "f.wholesale_price= _(l['wholesale_price']) or 0\n",
    "print(f\"\"\"'wholesale_price' = {f.wholesale_price}\"\"\")\n",
    "f.unity= _(l['unity'])\n",
    "print(f\"\"\"'unity' = {f.unity}\"\"\")\n",
    "f.unit_price_ratio= _(l['unit_price_ratio'])\n",
    "print(f\"\"\"'unit_price_ratio' = {f.unit_price_ratio}\"\"\")\n",
    "f.additional_shipping_cost= _(l['additional_shipping_cost'])\n",
    "print(f\"\"\"'additional_shipping_cost' = {f.additional_shipping_cost}\"\"\")\n",
    "f.reference= _(l['additional_shipping_cost'])\n",
    "print(f\"\"\"'reference' = {f.reference}\"\"\")\n",
    "f.supplier_reference= _(l['supplier_reference'])\n",
    "print(f\"\"\"'supplier_reference' = {f.supplier_reference}\"\"\")\n",
    "f.location= _(l['location'])\n",
    "print(f\"\"\"'location' = {f.location}\"\"\")\n",
    "f.width= _(l['width'])\n",
    "print(f\"\"\"'width' = {f.width}\"\"\")\n",
    "f.height= _(l['height'])\n",
    "print(f\"\"\"'height' = {f.height}\"\"\")\n",
    "f.depth= _(l['depth'])\n",
    "print(f\"\"\"'depth' = {f.depth}\"\"\")\n",
    "f.weight= _(l['weight'])\n",
    "print(f\"\"\"'weight' = {f.weight}\"\"\")\n",
    "f.out_of_stock= _(l['out_of_stock'])\n",
    "print(f\"\"\"'out_of_stock' = {f.out_of_stock}\"\"\")\n",
    "f.additional_delivery_times= _(l['additional_delivery_times'])\n",
    "print(f\"\"\"'additional_delivery_times' = {f.additional_delivery_times}\"\"\")\n",
    "f.quantity_discount= _(l['quantity_discount'])\n",
    "print(f\"\"\"'quantity_discount' = {f.quantity_discount}\"\"\")"
   ]
  },
  {
   "cell_type": "code",
   "execution_count": null,
   "id": "d92afce3-0d44-4770-b278-70988a613af7",
   "metadata": {},
   "outputs": [],
   "source": [
    "description= _(l['description'])\n",
    "description_short= _(l['description_short'])\n",
    "link_rewrite= f.link_rewrite\n",
    "meta_description= _(l['meta_description'])\n",
    "meta_keywords= _(l['meta_keywords'])\n",
    "meta_title= _(l['meta_title'])\n",
    "name= _(l['name'])\n",
    "available_now= f.available_now\n",
    "available_later= f.available_later        \n",
    "delivery_in_stock= _(l['delivery_in_stock'])\n",
    "delivery_out_stock= _(l['delivery_out_stock'])\n",
    "affiliate_short_link= _(l['affiliate_short_link'])\n",
    "affiliate_text= _(l['affiliate_text'])\n",
    "affiliate_summary= _(l['affiliate_summary'])\n",
    "affiliate_summary_2= _(l['affiliate_summary_2'])"
   ]
  },
  {
   "cell_type": "code",
   "execution_count": null,
   "id": "519a1037-6521-4fb2-aef8-ac9edffd3935",
   "metadata": {},
   "outputs": [],
   "source": [
    "field_price_tax_exluded\n",
    "field_price_tax_included\n",
    "field_tax_rule_id"
   ]
  },
  {
   "cell_type": "code",
   "execution_count": null,
   "id": "75724500-b82a-45ea-b73c-61940fbf11f6",
   "metadata": {},
   "outputs": [],
   "source": [
    "field_cost_price"
   ]
  },
  {
   "cell_type": "code",
   "execution_count": null,
   "id": "37a3023c-3870-4abd-b147-6434fbaf1be5",
   "metadata": {
    "tags": []
   },
   "outputs": [],
   "source": [
    "field_on_sale\n",
    "field_discount_amount\n",
    "field_discount_percent\n",
    "field_discount_from\n",
    "field_discount_to"
   ]
  },
  {
   "cell_type": "code",
   "execution_count": null,
   "id": "57af4cb0-dcda-4f0d-b3f6-5814619e2bd6",
   "metadata": {},
   "outputs": [],
   "source": [
    "\n",
    "field_sku\n",
    "field_supplier_sku\n",
    "field_supplier_id\n",
    "field_brand"
   ]
  },
  {
   "cell_type": "code",
   "execution_count": null,
   "id": "7193b158-488f-4f93-903b-32436c76d7a9",
   "metadata": {},
   "outputs": [],
   "source": [
    "s.run_scenario(test_scenario)"
   ]
  },
  {
   "cell_type": "code",
   "execution_count": null,
   "id": "6088900e",
   "metadata": {},
   "outputs": [],
   "source": [
    "print(s)"
   ]
  },
  {
   "cell_type": "code",
   "execution_count": null,
   "id": "451dec3d-1bb1-4835-87bc-c6c68ebf5e1e",
   "metadata": {},
   "outputs": [],
   "source": []
  }
 ],
 "metadata": {
  "kernelspec": {
   "display_name": "Python 3 (ipykernel)",
   "language": "python",
   "name": "python3"
  },
  "language_info": {
   "codemirror_mode": {
    "name": "ipython",
    "version": 3
   },
   "file_extension": ".py",
   "mimetype": "text/x-python",
   "name": "python",
   "nbconvert_exporter": "python",
   "pygments_lexer": "ipython3",
   "version": "3.11.3"
  },
  "toc-autonumbering": false,
  "toc-showcode": true,
  "toc-showmarkdowntxt": false
 },
 "nbformat": 4,
 "nbformat_minor": 5
}
