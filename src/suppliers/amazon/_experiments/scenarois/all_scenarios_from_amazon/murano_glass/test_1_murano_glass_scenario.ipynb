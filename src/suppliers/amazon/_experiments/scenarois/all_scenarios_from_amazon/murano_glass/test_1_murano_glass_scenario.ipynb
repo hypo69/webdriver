{
 "cells": [
  {
   "cell_type": "markdown",
   "id": "63ce4d2d",
   "metadata": {},
   "source": [
    "# AMAZON"
   ]
  },
  {
   "cell_type": "markdown",
   "id": "ba58de3b-a104-4481-bc68-e86ef20047c4",
   "metadata": {},
   "source": [
    "## `Murano Glass` scenario\n"
   ]
  },
  {
   "cell_type": "code",
   "execution_count": null,
   "id": "65fc94bf",
   "metadata": {
    "tags": []
   },
   "outputs": [],
   "source": [
    "from pathlib import Path\n",
    "from typing import Union\n",
    "import header\n",
    "from header import logger,   pprint, \\\n",
    "            StringNormalizer, StringFormatter, translate, \\\n",
    "            Product, ProductFields, \\\n",
    "            Supplier, start_supplier\n",
    "\n",
    "\n",
    "supplier_prefix = 'amazon'\n",
    "s = start_supplier(supplier_prefix)\n",
    "\"\"\" s - на протяжении всего кода означает класс `Supplier` \"\"\"\n",
    "\n",
    "print(\" Можно продолжать \")\n",
    "\n",
    "#Тестовый сценарий из местного файла dict_scenarios.py\n",
    "from dict_scenarios import scenario\n",
    "\n",
    "s.current_scenario = scenario['Murano Glass']\n",
    "l = s.locators.get('product')\n",
    "d = s.driver\n",
    "_ = d.execute_locator\n"
   ]
  },
  {
   "cell_type": "code",
   "execution_count": 2,
   "id": "2bb4739a-1a7f-42e7-9873-ddb2135fec23",
   "metadata": {},
   "outputs": [
    {
     "data": {
      "text/plain": [
       "True"
      ]
     },
     "execution_count": 2,
     "metadata": {},
     "output_type": "execute_result"
    }
   ],
   "source": [
    "s.run_scenario(s.current_scenario)"
   ]
  },
  {
   "cell_type": "markdown",
   "id": "43aed2f0",
   "metadata": {
    "jupyter": {
     "source_hidden": true
    }
   },
   "source": [
    "_______________________________________________\n",
    "## <a id='toc1_3_'></a>[Поля товара](#toc0_)"
   ]
  },
  {
   "cell_type": "markdown",
   "id": "a56cdb11-872e-4eef-9a3d-b0952659421e",
   "metadata": {},
   "source": [
    "<h3>Это функция из модуля <font color=\"11073B\"> suppliers.amazon.grabber</font></h3>\n",
    "Ее можно тестировать. \n",
    "<h6>Не забудь!</h6>\n",
    "<font color='red'><b>Глявное - не забыть потом синхронизирпвать в suppliers.amazon.grabber</b><font>\n"
   ]
  },
  {
   "cell_type": "code",
   "execution_count": 3,
   "id": "60ef4cb1-9f04-44c5-ad4d-66ae073336c1",
   "metadata": {},
   "outputs": [],
   "source": [
    "\n",
    "def grab_product_page(s: Supplier):\n",
    "    \"\"\" \n",
    "        Собираю информацию со страницы товара\n",
    "        Attrs:\n",
    "            p (Product)\n",
    "            d (Driver)\n",
    "        @returns\n",
    "            f (ProductFields) с заполненными полями, else False\n",
    "    \"\"\"\n",
    "    d = s.driver\n",
    "    l = s.locators.get('product')\n",
    "    f = ProductFields()\n",
    "    _ = d.execute_locator\n",
    "\n",
    "\n",
    "\n",
    "    \"\"\" ID,ASIN,SKU,SUPPLIER SKU \"\"\"\n",
    "    \n",
    "\n",
    "    def _set_defaults() -> bool:\n",
    "        \"\"\" Set defaults for product of supplier\n",
    "        Attrs:\n",
    "    \n",
    "            \n",
    "        @returns\n",
    "    \t\"\"\"\n",
    "        f.active = 1\n",
    "        f.active = 1\n",
    "        f.on_sale = 0\n",
    "        f.min_qty = 1\n",
    "        f.low_stock_level = 0\n",
    "        f.low_stock_threshold = ''\n",
    "        f.show_price = 1\n",
    "        f.show_condition = 1\n",
    "        f.aviable_online_only = 0\n",
    "        f.advanced_stock_management = 0\n",
    "        f.id_default_image = 24\n",
    "        ...\n",
    "\n",
    "    _set_defaults()\n",
    "\n",
    "    ASIN = _(l['ASIN'])\n",
    "    #f.id_product = None\n",
    "    f.reference = f'{s.supplier_id}-{ASIN}'\n",
    "    f.supplier_reference = ASIN\n",
    "    f.price = StringNormalizer.normalize_price(_(l['price'])[0])\n",
    "    f.name = _(l['name'])[0]\n",
    "    #f.summary = _(l['summary'])[0]\n",
    "    f.id_supplier = s.supplier_id\n",
    "    f.id_category_default = list(s.current_scenario['presta_categories']['default_category'].keys())[0]\n",
    "    f.state = 1\n",
    "    \n",
    "    return f\n"
   ]
  },
  {
   "cell_type": "markdown",
   "id": "3b6ee460-97a7-4fa2-b782-c74a9d8bcac8",
   "metadata": {},
   "source": [
    "## Переопределяю локаторы для товара по test_url_4\n",
    "есть проблема с локаторами для разных типов товараЬ новый и реф"
   ]
  },
  {
   "cell_type": "code",
   "execution_count": 4,
   "id": "4aefe33b-3157-42eb-bc50-1aa6b29c0f09",
   "metadata": {},
   "outputs": [],
   "source": [
    "l['price']['selector'] = \\\n",
    "\"//div[contains(@data-csa-c-asin, '$_(driver.current_url.split(f'''/''')[-2])_$') and contains(@id, 'corePriceDisplay')]//span[1]\""
   ]
  },
  {
   "cell_type": "code",
   "execution_count": 5,
   "id": "95c26532-a691-4c0d-beb8-d5b89c84ffc3",
   "metadata": {},
   "outputs": [],
   "source": [
    "#l['price']['selector'] = \\\n",
    "#\"//div[contains(@data-csa-c-asin, '$_(driver.current_url.split(f'''/''')[-2])_$') and contains(@id, 'corePriceDisplay')]//span[1]\""
   ]
  },
  {
   "cell_type": "markdown",
   "id": "257497ea-5d73-4693-9855-b2ace6aa74d1",
   "metadata": {},
   "source": [
    "### Собираю товар"
   ]
  },
  {
   "cell_type": "code",
   "execution_count": null,
   "id": "b4e0d3b8-3772-43fb-92f2-76c67a9dcca6",
   "metadata": {},
   "outputs": [],
   "source": []
  },
  {
   "cell_type": "code",
   "execution_count": 6,
   "id": "a42f45a0-fd2f-479f-b025-e7415c50e722",
   "metadata": {
    "scrolled": true,
    "tags": []
   },
   "outputs": [
    {
     "name": "stdout",
     "output_type": "stream",
     "text": [
      " Если товар в бд получу id_product, иначе False. Получил: 45\n"
     ]
    }
   ],
   "source": [
    "ASIN = _(l['ASIN'])\n",
    "product_reference = f\"{s.supplier_id}-{ASIN}\"\n",
    "check = Product.check_if_product_in_presta_db(product_reference)\n",
    "print(f' Если товар в бд получу id_product, иначе False. Получил: {check}')"
   ]
  },
  {
   "cell_type": "code",
   "execution_count": 7,
   "id": "dd553678-87a5-4673-a9d0-3af288184225",
   "metadata": {},
   "outputs": [],
   "source": [
    "\n",
    "\n",
    "def execute_product():\n",
    "    \"\"\" Манипуляции с товаром \"\"\"\n",
    "\n",
    "    if not isinstance(check, bool):\n",
    "        \"\"\" Если не вернулся False, значит товар уже в бд, я полуну его id_product\n",
    "        здесь обработка product_update\n",
    "        \"\"\"\n",
    "        ...\n",
    "\n",
    "    else:\n",
    "        product_fields: ProductFields = Product.grab_product_page(s)\n",
    "        #product_dict['product']['price'] = product_fields.wholesale_price = product_fields.price = get_price()\n",
    "        product_dict: dict = {}\n",
    "        product_dict['product']: dict = dict(product_fields.fields)\n",
    "        #product_dict['product']['wholesale_price'] = product_dict['product']['price'] = float(product_dict['product']['wholesale_price'] )\n",
    "        pprint(PrestaProduct.add(product_dict))\n",
    "\n"
   ]
  },
  {
   "cell_type": "code",
   "execution_count": null,
   "id": "13900e7b-9bf7-4b66-9db5-8b550e01b2e8",
   "metadata": {},
   "outputs": [],
   "source": [
    "# функция в модуле\n",
    "product_fields: ProductFields = Product.grab_product_page(s)\n",
    "\n",
    "# функция в тесте (выше по коду)\n",
    "#product_fields: ProductFields = grab_product_page(s)\n",
    "\n",
    "product_dict: dict = {}\n",
    "product_dict['product']: dict = dict(product_fields.fields)"
   ]
  },
  {
   "cell_type": "code",
   "execution_count": null,
   "id": "e84588bc-f824-42dc-b8e1-9fa69184338f",
   "metadata": {},
   "outputs": [],
   "source": [
    "jprint(product_dict)"
   ]
  },
  {
   "cell_type": "code",
   "execution_count": 10,
   "id": "751ada31-a169-4cbe-a4d7-bb231cf09d73",
   "metadata": {},
   "outputs": [],
   "source": [
    "l['additional_images_urls'] = \\\n",
    " {\n",
    "    \"attribute\": \"src\",\n",
    "    \"logic for attribue[AND|OR|XOR|VALUE|null]\": False,\n",
    "    \"by\": \"xpath\",\n",
    "    \"selector\": \"//img[@id='landingImage']\",\n",
    "    \"use_mouse\": False,\n",
    "    \"action\": None,\n",
    "    \"logic for action[AND|OR|XOR|VALUE|null]\": None\n",
    "  }\n",
    "default_image_url = _(l['additional_images_urls'])[0]"
   ]
  },
  {
   "cell_type": "code",
   "execution_count": 11,
   "id": "41b5d978-8983-42c3-beab-5a93dd624207",
   "metadata": {},
   "outputs": [],
   "source": [
    "import requests\n",
    "from PIL import Image\n",
    "\n",
    "def upload_default_image(resource, image_url):\n",
    "    try:\n",
    "        # Загрузка изображения с помощью модуля requests\n",
    "        response = requests.get(image_url)\n",
    "        image_data = response.content\n",
    "\n",
    "        # Добавление изображения в базу данных PrestaShop\n",
    "        resource = fr'images/{resource}'\n",
    "        print(resource)\n",
    "        image_info = PrestaAPIV1.add(resource, image_data)\n",
    "        add_image\n",
    "        image_id = image_info['image']['id']\n",
    "        print(f'Дефолтное изображение для {resource.capitalize()} успешно загружено с ID {image_id}.')\n",
    "        return image_id\n",
    "    except PrestaShopWebServiceError as e:\n",
    "        print(f'Ошибка при загрузке дефолтного изображения для {resource}:  {ex}')\n",
    "        return\n",
    "\n",
    "\n",
    "\n",
    "def upload_default_image_2(resource, image_url):\n",
    "    try:\n",
    "        # Загрузка изображения с помощью модуля requests\n",
    "        response = requests.get(image_url)\n",
    "        image_data = response.content\n",
    "\n",
    "        # Сохранение изображения во временный файл\n",
    "        temp_filename = 'temp_image.jpg'\n",
    "        with open(temp_filename, 'wb') as file:\n",
    "            file.write(image_data)\n",
    "\n",
    "        # Открытие изображения с помощью библиотеки Pillow\n",
    "        image = Image.open(temp_filename)\n",
    "\n",
    "        # Изменение размера изображения, если необходимо\n",
    "        # image = image.resize((new_width, new_height))\n",
    "\n",
    "        # Сохранение измененного изображения\n",
    "        image.save(temp_filename)\n",
    "\n",
    "        # Добавление изображения в базу данных PrestaShop\n",
    "        image_info = PrestaAPIV1.add(f'{resource}', temp_filename)\n",
    "        image_id = image_info['image']['id']\n",
    "        print(f'Дефолтное изображение для {resource.capitalize()} успешно загружено с ID {image_id}.')\n",
    "\n",
    "        # Удаление временного файла\n",
    "        os.remove(temp_filename)\n",
    "\n",
    "        return image_id\n",
    "    except PrestaShopWebServiceError as e:\n",
    "        print(f'Ошибка при загрузке дефолтного изображения для {resource}:  {ex}')\n",
    "        return"
   ]
  },
  {
   "cell_type": "code",
   "execution_count": 19,
   "id": "3c15b64e-be9d-492f-862f-8d9e27fb4630",
   "metadata": {},
   "outputs": [],
   "source": [
    "def upload_default_image(resource, image_url):\n",
    "    try:\n",
    "        # Загрузка изображения с помощью модуля requests\n",
    "        response = requests.get(image_url)\n",
    "        image_data = response.content\n",
    "        # Добавление изображения в базу данных PrestaShop\n",
    "        resource = fr'images/{resource}'\n",
    "        image_info = PrestaAPIV1.add(resource, b'image_data')\n",
    "        add_image\n",
    "        image_id = image_info['image']['id']\n",
    "        print(f'Дефолтное изображение для {resource.capitalize()} успешно загружено с ID {image_id}.')\n",
    "        return image_id\n",
    "    except PrestaShopWebServiceError as e:\n",
    "        print(f'Ошибка при загрузке дефолтного изображения для {resource}:  {ex}')\n",
    "        return"
   ]
  },
  {
   "cell_type": "code",
   "execution_count": 21,
   "id": "0b60704a-8644-40a0-aa67-1800efb4979f",
   "metadata": {},
   "outputs": [],
   "source": [
    "\n",
    "def upload_default_image_2(resource, image_url):\n",
    "    try:\n",
    "        # Загрузка изображения с помощью модуля requests\n",
    "        response = requests.get(image_url)\n",
    "        image_data = response.content\n",
    "\n",
    "        # Сохранение изображения во временный файл\n",
    "        temp_filename = 'temp_image.jpg'\n",
    "        with open(temp_filename, 'wb') as file:\n",
    "            file.write(image_data)\n",
    "\n",
    "        # Открытие изображения с помощью библиотеки Pillow\n",
    "        image = Image.open(temp_filename)\n",
    "\n",
    "        # Изменение размера изображения, если необходимо\n",
    "        # image = image.resize((new_width, new_height))\n",
    "\n",
    "        # Сохранение измененного изображения\n",
    "        image.save(temp_filename)\n",
    "\n",
    "        # Добавление изображения в базу данных PrestaShop\n",
    "        image_info = PrestaAPIV1.add(f'{resource}', temp_filename)\n",
    "        image_id = image_info['image']['id']\n",
    "        print(f'Дефолтное изображение для {resource.capitalize()} успешно загружено с ID {image_id}.')\n",
    "\n",
    "        # Удаление временного файла\n",
    "        os.remove(temp_filename)\n",
    "\n",
    "        return image_id\n",
    "    except PrestaShopWebServiceError as e:\n",
    "        print(f'Ошибка при загрузке дефолтного изображения для {resource}:  {ex}')\n",
    "        return"
   ]
  },
  {
   "cell_type": "code",
   "execution_count": 22,
   "id": "9023a2c3-85fa-4cc7-bf8a-48273da1ba09",
   "metadata": {},
   "outputs": [
    {
     "name": "stdout",
     "output_type": "stream",
     "text": [
      "https://m.media-amazon.com/images/I/51ojk3Tf1PL._AC_SX522_.jpg\n",
      "Ошибка при загрузке дефолтного изображения для products/47: 'XML error : String could not be parsed as XML\\nXML length : 14\\nOriginal XML : temp_image.jpg'\n"
     ]
    }
   ],
   "source": [
    "print(default_image_url)\n",
    "default_image_id = upload_default_image_2('products/47', default_image_url)"
   ]
  },
  {
   "cell_type": "code",
   "execution_count": 13,
   "id": "d8caf432-ae9d-4a39-9490-6d6d868c3626",
   "metadata": {},
   "outputs": [
    {
     "name": "stdout",
     "output_type": "stream",
     "text": [
      "{\n",
      "    \"product\": {\n",
      "        \"active\": 1,\n",
      "        \"on_sale\": 0,\n",
      "        \"low_stock_threshold\": \"\",\n",
      "        \"show_price\": 1,\n",
      "        \"show_condition\": 1,\n",
      "        \"advanced_stock_management\": 0,\n",
      "        \"id_default_image\": 24,\n",
      "        \"reference\": \"2800-B09N53XSQB\",\n",
      "        \"supplier_reference\": \"B09N53XSQB\",\n",
      "        \"price\": 168.0,\n",
      "        \"name\": \"C\\\\xe1 d'Oro Small Glass Vase Hippie Colored Canes Hand Blown Murano-Style Art Glass - Model Oval\",\n",
      "        \"id_supplier\": \"2800\",\n",
      "        \"id_category_default\": \"11209\",\n",
      "        \"state\": 1\n",
      "    }\n",
      "}\n"
     ]
    },
    {
     "data": {
      "text/plain": [
       "{'PrestaShop': {'product': {'id': '49',\n",
       "   'id_manufacturer': '',\n",
       "   'id_supplier': '2800',\n",
       "   'id_category_default': '11209',\n",
       "   'new': '',\n",
       "   'cache_default_attribute': '',\n",
       "   'id_default_image': {'attrs': {'notFilterable': 'true'}, 'value': ''},\n",
       "   'id_default_combination': {'attrs': {'notFilterable': 'true'},\n",
       "    'value': '0'},\n",
       "   'id_tax': '',\n",
       "   'position_in_category': {'attrs': {'notFilterable': 'true'}, 'value': ''},\n",
       "   'manufacturer_name': {'attrs': {'notFilterable': 'true'}, 'value': ''},\n",
       "   'quantity': {'attrs': {'notFilterable': 'true'}, 'value': ''},\n",
       "   'type': {'attrs': {'notFilterable': 'true'}, 'value': 'simple'},\n",
       "   'id_shop_default': '1',\n",
       "   'reference': '2800-B09N53XSQB',\n",
       "   'supplier_reference': 'B09N53XSQB',\n",
       "   'location': '',\n",
       "   'width': '',\n",
       "   'height': '',\n",
       "   'depth': '',\n",
       "   'weight': '',\n",
       "   'quantity_discount': '',\n",
       "   'ean13': '',\n",
       "   'isbn': '',\n",
       "   'upc': '',\n",
       "   'mpn': '',\n",
       "   'cache_is_pack': '',\n",
       "   'cache_has_attachments': '',\n",
       "   'is_virtual': '',\n",
       "   'state': '1',\n",
       "   'additional_delivery_times': '',\n",
       "   'delivery_in_stock': {'language': [{'attrs': {'id': '1'}, 'value': ''},\n",
       "     {'attrs': {'id': '2'}, 'value': ''},\n",
       "     {'attrs': {'id': '3'}, 'value': ''}]},\n",
       "   'delivery_out_stock': {'language': [{'attrs': {'id': '1'}, 'value': ''},\n",
       "     {'attrs': {'id': '2'}, 'value': ''},\n",
       "     {'attrs': {'id': '3'}, 'value': ''}]},\n",
       "   'product_type': '',\n",
       "   'on_sale': '0',\n",
       "   'online_only': '',\n",
       "   'ecotax': '',\n",
       "   'minimal_quantity': '',\n",
       "   'low_stock_threshold': '',\n",
       "   'low_stock_alert': '',\n",
       "   'price': '168.0',\n",
       "   'wholesale_price': '',\n",
       "   'unity': '',\n",
       "   'unit_price_ratio': '',\n",
       "   'additional_shipping_cost': '',\n",
       "   'customizable': '',\n",
       "   'text_fields': '',\n",
       "   'uploadable_files': '',\n",
       "   'active': '1',\n",
       "   'redirect_type': '',\n",
       "   'id_type_redirected': '',\n",
       "   'available_for_order': '',\n",
       "   'available_date': '',\n",
       "   'show_condition': '1',\n",
       "   'condition': 'new',\n",
       "   'show_price': '1',\n",
       "   'indexed': '',\n",
       "   'visibility': 'both',\n",
       "   'advanced_stock_management': '0',\n",
       "   'date_add': '2023-06-28 04:52:09',\n",
       "   'date_upd': '2023-06-28 04:52:09',\n",
       "   'pack_stock_type': '',\n",
       "   'meta_description': {'language': [{'attrs': {'id': '1'}, 'value': ''},\n",
       "     {'attrs': {'id': '2'}, 'value': ''},\n",
       "     {'attrs': {'id': '3'}, 'value': ''}]},\n",
       "   'meta_keywords': {'language': [{'attrs': {'id': '1'}, 'value': ''},\n",
       "     {'attrs': {'id': '2'}, 'value': ''},\n",
       "     {'attrs': {'id': '3'}, 'value': ''}]},\n",
       "   'meta_title': {'language': [{'attrs': {'id': '1'}, 'value': ''},\n",
       "     {'attrs': {'id': '2'}, 'value': ''},\n",
       "     {'attrs': {'id': '3'}, 'value': ''}]},\n",
       "   'link_rewrite': {'language': [{'attrs': {'id': '1'}, 'value': ''},\n",
       "     {'attrs': {'id': '2'}, 'value': ''},\n",
       "     {'attrs': {'id': '3'}, 'value': ''}]},\n",
       "   'name': {'language': [{'attrs': {'id': '1'}, 'value': '\\\\'},\n",
       "     {'attrs': {'id': '2'}, 'value': 'x'},\n",
       "     {'attrs': {'id': '3'}, 'value': 'e'}]},\n",
       "   'description': {'language': [{'attrs': {'id': '1'}, 'value': ''},\n",
       "     {'attrs': {'id': '2'}, 'value': ''},\n",
       "     {'attrs': {'id': '3'}, 'value': ''}]},\n",
       "   'description_short': {'language': [{'attrs': {'id': '1'}, 'value': ''},\n",
       "     {'attrs': {'id': '2'}, 'value': ''},\n",
       "     {'attrs': {'id': '3'}, 'value': ''}]},\n",
       "   'available_now': {'language': [{'attrs': {'id': '1'}, 'value': ''},\n",
       "     {'attrs': {'id': '2'}, 'value': ''},\n",
       "     {'attrs': {'id': '3'}, 'value': ''}]},\n",
       "   'available_later': {'language': [{'attrs': {'id': '1'}, 'value': ''},\n",
       "     {'attrs': {'id': '2'}, 'value': ''},\n",
       "     {'attrs': {'id': '3'}, 'value': ''}]},\n",
       "   'affiliate_short_link': {'language': [{'attrs': {'id': '1'}, 'value': ''},\n",
       "     {'attrs': {'id': '2'}, 'value': ''},\n",
       "     {'attrs': {'id': '3'}, 'value': ''}]},\n",
       "   'affiliate_text': {'language': [{'attrs': {'id': '1'}, 'value': ''},\n",
       "     {'attrs': {'id': '2'}, 'value': ''},\n",
       "     {'attrs': {'id': '3'}, 'value': ''}]},\n",
       "   'affiliate_summary': {'language': [{'attrs': {'id': '1'}, 'value': ''},\n",
       "     {'attrs': {'id': '2'}, 'value': ''},\n",
       "     {'attrs': {'id': '3'}, 'value': ''}]},\n",
       "   'affiliate_summary_2': {'language': [{'attrs': {'id': '1'}, 'value': ''},\n",
       "     {'attrs': {'id': '2'}, 'value': ''},\n",
       "     {'attrs': {'id': '3'}, 'value': ''}]},\n",
       "   'associations': {'categories': {'attrs': {'nodeType': 'category',\n",
       "      'api': 'categories'},\n",
       "     'value': ''},\n",
       "    'images': {'attrs': {'nodeType': 'image', 'api': 'images'}, 'value': ''},\n",
       "    'combinations': {'attrs': {'nodeType': 'combination',\n",
       "      'api': 'combinations'},\n",
       "     'value': ''},\n",
       "    'product_option_values': {'attrs': {'nodeType': 'product_option_value',\n",
       "      'api': 'product_option_values'},\n",
       "     'value': ''},\n",
       "    'product_features': {'attrs': {'nodeType': 'product_feature',\n",
       "      'api': 'product_features'},\n",
       "     'value': ''},\n",
       "    'tags': {'attrs': {'nodeType': 'tag', 'api': 'tags'}, 'value': ''},\n",
       "    'stock_availables': {'attrs': {'nodeType': 'stock_available',\n",
       "      'api': 'stock_availables'},\n",
       "     'stock_available': {'id': '99', 'id_product_attribute': '0'}},\n",
       "    'attachments': {'attrs': {'nodeType': 'attachment', 'api': 'attachments'},\n",
       "     'value': ''},\n",
       "    'accessories': {'attrs': {'nodeType': 'product', 'api': 'products'},\n",
       "     'value': ''},\n",
       "    'product_bundle': {'attrs': {'nodeType': 'product', 'api': 'products'},\n",
       "     'value': ''}}}}}"
      ]
     },
     "execution_count": 13,
     "metadata": {},
     "output_type": "execute_result"
    }
   ],
   "source": [
    "import codecs\n",
    "product_dict['product']['name'] = codecs.encode(_(l['name'])[0], 'unicode_escape').decode('utf-8') \n",
    "jprint(product_dict)\n",
    "PrestaProduct.add(product_dict)"
   ]
  },
  {
   "cell_type": "code",
   "execution_count": 14,
   "id": "9f29e151-8934-44fc-87e2-806db1df809e",
   "metadata": {},
   "outputs": [
    {
     "name": "stdout",
     "output_type": "stream",
     "text": [
      "{'product': {'active': 1,\n",
      "             'advanced_stock_management': 0,\n",
      "             'id_category_default': '11209',\n",
      "             'id_default_image': 24,\n",
      "             'id_supplier': '2800',\n",
      "             'low_stock_threshold': '',\n",
      "             'name': \"C\\\\xe1 d'Oro Small Glass Vase Hippie Colored Canes Hand \"\n",
      "                     'Blown Murano-Style Art Glass - Model Oval',\n",
      "             'on_sale': 0,\n",
      "             'price': 168.0,\n",
      "             'reference': '2800-B09N53XSQB',\n",
      "             'show_condition': 1,\n",
      "             'show_price': 1,\n",
      "             'state': 1,\n",
      "             'supplier_reference': 'B09N53XSQB'}}\n"
     ]
    }
   ],
   "source": [
    "pprint(product_dict)"
   ]
  },
  {
   "cell_type": "code",
   "execution_count": null,
   "id": "afe79cb1",
   "metadata": {},
   "outputs": [],
   "source": [
    "\n",
    "f.ean13= _(l['ean13']) or 0\n",
    "print(f\"\"\"'ean13' = {f.ean13}\"\"\")\n",
    "\n",
    "f.isbn= _(l['isbn']) or 0\n",
    "print(f\"\"\"'ean13' = {f.isbn}\"\"\")\n",
    "\n",
    "f.upc= _(l['upc']) or 0\n",
    "print(f\"\"\"'upc' = {f.upc}\"\"\")\n",
    "\n",
    "f.mpn= _(l['mpn']) or 0\n",
    "print(f\"\"\"'mpn' = {f.mpn}\"\"\")\n",
    "\n",
    "f.ecotax= _(l['ecotax']) or 0\n",
    "print(f\"\"\"'ecotax' = {f.ecotax}\"\"\")\n",
    "\n",
    "f.quantity= _(l['quantity']) or 1\n",
    "print(f\"\"\"'quantity' = {f.quantity}\"\"\")\n",
    "\n",
    "f.minimal_quantity= _(l['minimal_quantity']) or 0\n",
    "print(f\"\"\"'minimal_quantity' = {f.minimal_quantity}\"\"\")\n",
    "        "
   ]
  },
  {
   "cell_type": "code",
   "execution_count": null,
   "id": "1f0bcc4f-d83f-4a63-8c6d-0b41bc61231c",
   "metadata": {
    "tags": []
   },
   "outputs": [],
   "source": [
    "\n",
    "f.wholesale_price= _(l['wholesale_price']) or 0\n",
    "print(f\"\"\"'wholesale_price' = {f.wholesale_price}\"\"\")\n",
    "f.unity= _(l['unity'])\n",
    "print(f\"\"\"'unity' = {f.unity}\"\"\")\n",
    "f.unit_price_ratio= _(l['unit_price_ratio'])\n",
    "print(f\"\"\"'unit_price_ratio' = {f.unit_price_ratio}\"\"\")\n",
    "f.additional_shipping_cost= _(l['additional_shipping_cost'])\n",
    "print(f\"\"\"'additional_shipping_cost' = {f.additional_shipping_cost}\"\"\")\n",
    "f.reference= _(l['additional_shipping_cost'])\n",
    "print(f\"\"\"'reference' = {f.reference}\"\"\")\n",
    "f.supplier_reference= _(l['supplier_reference'])\n",
    "print(f\"\"\"'supplier_reference' = {f.supplier_reference}\"\"\")\n",
    "f.location= _(l['location'])\n",
    "print(f\"\"\"'location' = {f.location}\"\"\")\n",
    "f.width= _(l['width'])\n",
    "print(f\"\"\"'width' = {f.width}\"\"\")\n",
    "f.height= _(l['height'])\n",
    "print(f\"\"\"'height' = {f.height}\"\"\")\n",
    "f.depth= _(l['depth'])\n",
    "print(f\"\"\"'depth' = {f.depth}\"\"\")\n",
    "f.weight= _(l['weight'])\n",
    "print(f\"\"\"'weight' = {f.weight}\"\"\")\n",
    "f.out_of_stock= _(l['out_of_stock'])\n",
    "print(f\"\"\"'out_of_stock' = {f.out_of_stock}\"\"\")\n",
    "f.additional_delivery_times= _(l['additional_delivery_times'])\n",
    "print(f\"\"\"'additional_delivery_times' = {f.additional_delivery_times}\"\"\")\n",
    "f.quantity_discount= _(l['quantity_discount'])\n",
    "print(f\"\"\"'quantity_discount' = {f.quantity_discount}\"\"\")"
   ]
  },
  {
   "cell_type": "code",
   "execution_count": null,
   "id": "d92afce3-0d44-4770-b278-70988a613af7",
   "metadata": {},
   "outputs": [],
   "source": [
    "description= _(l['description'])\n",
    "description_short= _(l['description_short'])\n",
    "link_rewrite= f.link_rewrite\n",
    "meta_description= _(l['meta_description'])\n",
    "meta_keywords= _(l['meta_keywords'])\n",
    "meta_title= _(l['meta_title'])\n",
    "name= _(l['name'])\n",
    "available_now= f.available_now\n",
    "available_later= f.available_later        \n",
    "delivery_in_stock= _(l['delivery_in_stock'])\n",
    "delivery_out_stock= _(l['delivery_out_stock'])\n",
    "affiliate_short_link= _(l['affiliate_short_link'])\n",
    "affiliate_text= _(l['affiliate_text'])\n",
    "affiliate_summary= _(l['affiliate_summary'])\n",
    "affiliate_summary_2= _(l['affiliate_summary_2'])"
   ]
  },
  {
   "cell_type": "code",
   "execution_count": null,
   "id": "519a1037-6521-4fb2-aef8-ac9edffd3935",
   "metadata": {},
   "outputs": [],
   "source": [
    "field_price_tax_exluded\n",
    "field_price_tax_included\n",
    "field_tax_rule_id"
   ]
  },
  {
   "cell_type": "code",
   "execution_count": null,
   "id": "75724500-b82a-45ea-b73c-61940fbf11f6",
   "metadata": {},
   "outputs": [],
   "source": [
    "field_cost_price"
   ]
  },
  {
   "cell_type": "code",
   "execution_count": null,
   "id": "37a3023c-3870-4abd-b147-6434fbaf1be5",
   "metadata": {
    "tags": []
   },
   "outputs": [],
   "source": [
    "field_on_sale\n",
    "field_discount_amount\n",
    "field_discount_percent\n",
    "field_discount_from\n",
    "field_discount_to"
   ]
  },
  {
   "cell_type": "code",
   "execution_count": null,
   "id": "57af4cb0-dcda-4f0d-b3f6-5814619e2bd6",
   "metadata": {},
   "outputs": [],
   "source": [
    "\n",
    "field_sku\n",
    "field_supplier_sku\n",
    "field_supplier_id\n",
    "field_brand"
   ]
  },
  {
   "cell_type": "code",
   "execution_count": null,
   "id": "7193b158-488f-4f93-903b-32436c76d7a9",
   "metadata": {},
   "outputs": [],
   "source": [
    "s.run_scenario(test_scenario)"
   ]
  },
  {
   "cell_type": "code",
   "execution_count": null,
   "id": "6088900e",
   "metadata": {},
   "outputs": [],
   "source": [
    "print(s)"
   ]
  },
  {
   "cell_type": "code",
   "execution_count": null,
   "id": "451dec3d-1bb1-4835-87bc-c6c68ebf5e1e",
   "metadata": {},
   "outputs": [],
   "source": []
  }
 ],
 "metadata": {
  "kernelspec": {
   "display_name": "Python 3 (ipykernel)",
   "language": "python",
   "name": "python3"
  },
  "language_info": {
   "codemirror_mode": {
    "name": "ipython",
    "version": 3
   },
   "file_extension": ".py",
   "mimetype": "text/x-python",
   "name": "python",
   "nbconvert_exporter": "python",
   "pygments_lexer": "ipython3",
   "version": "3.11.4"
  },
  "toc-autonumbering": false,
  "toc-showcode": true,
  "toc-showmarkdowntxt": false
 },
 "nbformat": 4,
 "nbformat_minor": 5
}
