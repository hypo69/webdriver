{
 "cells": [
  {
   "cell_type": "markdown",
   "id": "63ce4d2d",
   "metadata": {},
   "source": [
    "# <a id='toc1_'></a>[Amazon тест](#toc0_)"
   ]
  },
  {
   "cell_type": "markdown",
   "id": "ba58de3b-a104-4481-bc68-e86ef20047c4",
   "metadata": {},
   "source": [
    "## Murano Glass"
   ]
  },
  {
   "cell_type": "code",
   "execution_count": 1,
   "id": "65fc94bf",
   "metadata": {
    "tags": []
   },
   "outputs": [
    {
     "name": "stdout",
     "output_type": "stream",
     "text": [
      "\u001b[1m\u001b[33m\u001b[32m->INFO\u001b[0m\u001b[1m\u001b[33m 22:07:40 from start: 0:00:00.008000 User {{user_id}} logged in\n",
      "\t\u001b[30mhelpers.logger\u001b[0m\u001b[1m\u001b[33m:\u001b[36m<module>:48\u001b[0m\u001b[1m\u001b[33m\n",
      "\u001b[0m\u001b[1m\u001b[0m\n"
     ]
    },
    {
     "name": "stderr",
     "output_type": "stream",
     "text": [
      "NoneType: None\n"
     ]
    },
    {
     "name": "stdout",
     "output_type": "stream",
     "text": [
      "\u001b[1m\u001b[33m\u001b[32m->INFO\u001b[0m\u001b[1m\u001b[33m 22:07:41 from start: 0:00:00.627054 caller: __init__ file: <attrs generated init gs.GlobalSettings>\n",
      "\t\u001b[30mgs\u001b[0m\u001b[1m\u001b[33m:\u001b[36m__init__:72\u001b[0m\u001b[1m\u001b[33m\n",
      "\u001b[0m\u001b[1m\u001b[0m\n",
      "True\n",
      "\u001b[1m\u001b[33m\u001b[32m->INFO\u001b[0m\u001b[1m\u001b[33m 22:07:42 from start: 0:00:01.110496 amazon begin to attach driver ...\n",
      "\t\u001b[30msuppliers.supplier\u001b[0m\u001b[1m\u001b[33m:\u001b[36m_load_settings:126\u001b[0m\u001b[1m\u001b[33m\n",
      "\u001b[0m\u001b[1m\u001b[0m\n",
      "\u001b[1m\u001b[33m\u001b[32m->INFO\u001b[0m\u001b[1m\u001b[33m 22:07:42 from start: 0:00:01.111492  \n",
      "        ----------------------\n",
      "        Старт вебдрайвера firefox. \n",
      "        Будет выбран драйвер, подключатся настройки и профиль.\n",
      "        На моем компьютере это занимает около полуминуты\n",
      "        Ждем...\n",
      "        ----------------------\n",
      "        \n",
      "\t\u001b[30mwebdriver.Driver\u001b[0m\u001b[1m\u001b[33m:\u001b[36m__init__:206\u001b[0m\u001b[1m\u001b[33m\n",
      "\u001b[0m\u001b[1m\u001b[0m\n",
      "\u001b[1m\u001b[33m\u001b[32m->INFO\u001b[0m\u001b[1m\u001b[33m 22:07:42 from start: 0:00:01.112499 START -  удалениe временных файлов из `tmp`\n",
      "\t\u001b[30mwebdriver.Driver\u001b[0m\u001b[1m\u001b[33m:\u001b[36mdelete_driver_logs:428\u001b[0m\u001b[1m\u001b[33m\n",
      "\u001b[0m\u001b[1m\u001b[0m\n",
      "Ошибка при удалении содержимого папки: [WinError 32] The process cannot access the file because it is being used by another process: 'C:\\\\Users\\\\user\\\\AppData\\\\Local\\\\Temp\\\\04e7eb1d-f715-4006-9655-f01e0fb3708a.tmp'\n",
      "Ошибка при удалении содержимого папки: [WinError 32] The process cannot access the file because it is being used by another process: 'C:\\\\Users\\\\user\\\\AppData\\\\Local\\\\Temp\\\\077e42f6-0069-49ca-bb13-bb3f801339c9.tmp'\n",
      "Ошибка при удалении содержимого папки: [WinError 32] The process cannot access the file because it is being used by another process: 'C:\\\\Users\\\\user\\\\AppData\\\\Local\\\\Temp\\\\0fca0db6-05d6-4512-9b9a-670f5ca7a97e.tmp'\n",
      "Ошибка при удалении содержимого папки: [WinError 32] The process cannot access the file because it is being used by another process: 'C:\\\\Users\\\\user\\\\AppData\\\\Local\\\\Temp\\\\14e8305d-2d89-4b63-9988-e5131f69e068.tmp'\n",
      "Ошибка при удалении содержимого папки: [WinError 32] The process cannot access the file because it is being used by another process: 'C:\\\\Users\\\\user\\\\AppData\\\\Local\\\\Temp\\\\20bd261f-4599-4c9f-8a14-6e468985a1bb.tmp'\n",
      "Ошибка при удалении содержимого папки: [WinError 32] The process cannot access the file because it is being used by another process: 'C:\\\\Users\\\\user\\\\AppData\\\\Local\\\\Temp\\\\2efbc74c-ede1-4de2-9350-71a13577682a.tmp'\n",
      "Ошибка при удалении содержимого папки: [WinError 32] The process cannot access the file because it is being used by another process: 'C:\\\\Users\\\\user\\\\AppData\\\\Local\\\\Temp\\\\2f9a60da-1a7f-4485-848c-91163a54b3e0.tmp'\n",
      "Ошибка при удалении содержимого папки: [WinError 32] The process cannot access the file because it is being used by another process: 'C:\\\\Users\\\\user\\\\AppData\\\\Local\\\\Temp\\\\3b4d38fb-3d75-46ea-92f5-a0be2aeaa0a9.tmp'\n",
      "Ошибка при удалении содержимого папки: [WinError 32] The process cannot access the file because it is being used by another process: 'C:\\\\Users\\\\user\\\\AppData\\\\Local\\\\Temp\\\\44d48fe4-ae8a-4ac9-80a9-0151c932222e.tmp'\n",
      "Ошибка при удалении содержимого папки: [WinError 32] The process cannot access the file because it is being used by another process: 'C:\\\\Users\\\\user\\\\AppData\\\\Local\\\\Temp\\\\46a01900-7a9c-4ad2-816c-0b4467cfc69f.tmp'\n",
      "Ошибка при удалении содержимого папки: [WinError 32] The process cannot access the file because it is being used by another process: 'C:\\\\Users\\\\user\\\\AppData\\\\Local\\\\Temp\\\\4bbd19ed-65d8-42de-a509-aed95918d655.tmp'\n",
      "Ошибка при удалении содержимого папки: 'Driver' object has no attribute 'clear_temp_directory'\n",
      "Ошибка при удалении содержимого папки: [WinError 32] The process cannot access the file because it is being used by another process: 'C:\\\\Users\\\\user\\\\AppData\\\\Local\\\\Temp\\\\582340fe-d852-4f96-bf18-85fff2c52aa2.tmp'\n",
      "Ошибка при удалении содержимого папки: [WinError 32] The process cannot access the file because it is being used by another process: 'C:\\\\Users\\\\user\\\\AppData\\\\Local\\\\Temp\\\\583b8838-f498-4a11-a773-fa7d0ef471b8.tmp'\n",
      "Ошибка при удалении содержимого папки: [WinError 32] The process cannot access the file because it is being used by another process: 'C:\\\\Users\\\\user\\\\AppData\\\\Local\\\\Temp\\\\5bd876c7-46ce-4701-8da9-1aed7a64f354.tmp'\n",
      "Ошибка при удалении содержимого папки: [WinError 32] The process cannot access the file because it is being used by another process: 'C:\\\\Users\\\\user\\\\AppData\\\\Local\\\\Temp\\\\5eb4421d-a73a-41c7-a28c-6f8c4458f2f2.tmp'\n",
      "Ошибка при удалении содержимого папки: [WinError 32] The process cannot access the file because it is being used by another process: 'C:\\\\Users\\\\user\\\\AppData\\\\Local\\\\Temp\\\\645471ad-3c7d-4d9f-a09d-a06e95a5318e.tmp'\n",
      "Ошибка при удалении содержимого папки: [WinError 32] The process cannot access the file because it is being used by another process: 'C:\\\\Users\\\\user\\\\AppData\\\\Local\\\\Temp\\\\6c881fed-24ad-4660-82d6-5395f5afbddc.tmp'\n",
      "Ошибка при удалении содержимого папки: [WinError 32] The process cannot access the file because it is being used by another process: 'C:\\\\Users\\\\user\\\\AppData\\\\Local\\\\Temp\\\\789b562a-1c46-4290-81f5-118839707b76.tmp'\n",
      "Ошибка при удалении содержимого папки: [WinError 32] The process cannot access the file because it is being used by another process: 'C:\\\\Users\\\\user\\\\AppData\\\\Local\\\\Temp\\\\7d3d4b01-ea44-4df9-9cdc-8ba6da296530.tmp'\n",
      "Ошибка при удалении содержимого папки: [WinError 32] The process cannot access the file because it is being used by another process: 'C:\\\\Users\\\\user\\\\AppData\\\\Local\\\\Temp\\\\7d639ab6-ccc6-4cc0-befc-e5e81be25321.tmp'\n",
      "Ошибка при удалении содержимого папки: [WinError 32] The process cannot access the file because it is being used by another process: 'C:\\\\Users\\\\user\\\\AppData\\\\Local\\\\Temp\\\\84734601-82b8-44c4-a125-02797eb86188.tmp'\n",
      "Ошибка при удалении содержимого папки: [WinError 32] The process cannot access the file because it is being used by another process: 'C:\\\\Users\\\\user\\\\AppData\\\\Local\\\\Temp\\\\85f71b2a-a128-4e6b-b0e7-ad9c8fde1e24.tmp'\n",
      "Ошибка при удалении содержимого папки: [WinError 32] The process cannot access the file because it is being used by another process: 'C:\\\\Users\\\\user\\\\AppData\\\\Local\\\\Temp\\\\8a8b67e9-af58-48be-97fa-80efa2b6e225.tmp'\n",
      "Ошибка при удалении содержимого папки: [WinError 32] The process cannot access the file because it is being used by another process: 'C:\\\\Users\\\\user\\\\AppData\\\\Local\\\\Temp\\\\8adcdaf0-3f06-4d55-8cf6-9a5d87cca1b9.tmp'\n",
      "Ошибка при удалении содержимого папки: [WinError 32] The process cannot access the file because it is being used by another process: 'C:\\\\Users\\\\user\\\\AppData\\\\Local\\\\Temp\\\\8e92eb2d-8edf-4bd8-a355-ec356b1fb6ea.tmp'\n",
      "Ошибка при удалении содержимого папки: [WinError 32] The process cannot access the file because it is being used by another process: 'C:\\\\Users\\\\user\\\\AppData\\\\Local\\\\Temp\\\\8f461faa-8d3c-4e3f-8beb-7e2672ce995b.tmp'\n",
      "Ошибка при удалении содержимого папки: [WinError 32] The process cannot access the file because it is being used by another process: 'C:\\\\Users\\\\user\\\\AppData\\\\Local\\\\Temp\\\\8f85dbde-9b5b-4b7b-8700-e9b76818014b.tmp'\n",
      "Ошибка при удалении содержимого папки: [WinError 32] The process cannot access the file because it is being used by another process: 'C:\\\\Users\\\\user\\\\AppData\\\\Local\\\\Temp\\\\95c38734-8ab7-49dc-b259-8c50588a5d6b.tmp'\n",
      "Ошибка при удалении содержимого папки: [WinError 32] The process cannot access the file because it is being used by another process: 'C:\\\\Users\\\\user\\\\AppData\\\\Local\\\\Temp\\\\9f1543fd-f4f8-4161-a3bf-d088d7548efe.tmp'\n",
      "Ошибка при удалении содержимого папки: [WinError 32] The process cannot access the file because it is being used by another process: 'C:\\\\Users\\\\user\\\\AppData\\\\Local\\\\Temp\\\\a4253936-affd-4d6b-97d3-b561cc83903c.tmp'\n",
      "Ошибка при удалении содержимого папки: [WinError 32] The process cannot access the file because it is being used by another process: 'C:\\\\Users\\\\user\\\\AppData\\\\Local\\\\Temp\\\\a644a4e5200f261d953fdfe19604b860-{87A94AB0-E370-4cde-98D3-ACC110C5967D}'\n",
      "Ошибка при удалении содержимого папки: [WinError 32] The process cannot access the file because it is being used by another process: 'C:\\\\Users\\\\user\\\\AppData\\\\Local\\\\Temp\\\\a71c2373-e6e8-43cb-8cec-06c11d48b14c.tmp'\n",
      "Ошибка при удалении содержимого папки: [WinError 32] The process cannot access the file because it is being used by another process: 'C:\\\\Users\\\\user\\\\AppData\\\\Local\\\\Temp\\\\ac32aa1f-42fb-4037-8d77-1d242db30c32.tmp'\n",
      "Ошибка при удалении содержимого папки: [WinError 32] The process cannot access the file because it is being used by another process: 'C:\\\\Users\\\\user\\\\AppData\\\\Local\\\\Temp\\\\b06ca6d7-b39e-4d91-a932-ad07f36f3bbd.tmp'\n",
      "Ошибка при удалении содержимого папки: [WinError 32] The process cannot access the file because it is being used by another process: 'C:\\\\Users\\\\user\\\\AppData\\\\Local\\\\Temp\\\\b6ace848-14c6-426e-877a-3d9b578932ab.tmp'\n",
      "Ошибка при удалении содержимого папки: [WinError 32] The process cannot access the file because it is being used by another process: 'C:\\\\Users\\\\user\\\\AppData\\\\Local\\\\Temp\\\\bcbe0a74-b0af-4e77-af1b-4d56ccc5c93a.tmp'\n",
      "Ошибка при удалении содержимого папки: [WinError 32] The process cannot access the file because it is being used by another process: 'C:\\\\Users\\\\user\\\\AppData\\\\Local\\\\Temp\\\\bf4aa3a4-6529-4712-ae66-3df98a520419.tmp'\n",
      "Ошибка при удалении содержимого папки: [WinError 32] The process cannot access the file because it is being used by another process: 'C:\\\\Users\\\\user\\\\AppData\\\\Local\\\\Temp\\\\c1a5e75a-1d7b-467c-a0d7-997bfaa663c4.tmp'\n",
      "Ошибка при удалении содержимого папки: [WinError 32] The process cannot access the file because it is being used by another process: 'C:\\\\Users\\\\user\\\\AppData\\\\Local\\\\Temp\\\\c2ba3461-87f7-4194-9192-d02a9964904e.tmp'\n",
      "Ошибка при удалении содержимого папки: [WinError 32] The process cannot access the file because it is being used by another process: 'C:\\\\Users\\\\user\\\\AppData\\\\Local\\\\Temp\\\\cb0117ea-c1a7-43bc-85cf-610ad7695ac5.tmp'\n",
      "Ошибка при удалении содержимого папки: [WinError 32] The process cannot access the file because it is being used by another process: 'C:\\\\Users\\\\user\\\\AppData\\\\Local\\\\Temp\\\\f399a46f-a5ea-439b-a5de-2cf3df210ee6.tmp'\n",
      "Ошибка при удалении содержимого папки: 'Driver' object has no attribute 'clear_temp_directory'\n",
      "Ошибка при удалении содержимого папки: 'Driver' object has no attribute 'clear_temp_directory'\n",
      "Ошибка при удалении содержимого папки: 'Driver' object has no attribute 'clear_temp_directory'\n",
      "Ошибка при удалении содержимого папки: 'Driver' object has no attribute 'clear_temp_directory'\n",
      "Ошибка при удалении содержимого папки: 'Driver' object has no attribute 'clear_temp_directory'\n",
      "Ошибка при удалении содержимого папки: 'Driver' object has no attribute 'clear_temp_directory'\n",
      "Ошибка при удалении содержимого папки: 'Driver' object has no attribute 'clear_temp_directory'\n",
      "Ошибка при удалении содержимого папки: 'Driver' object has no attribute 'clear_temp_directory'\n",
      "Ошибка при удалении содержимого папки: 'Driver' object has no attribute 'clear_temp_directory'\n",
      "Ошибка при удалении содержимого папки: 'Driver' object has no attribute 'clear_temp_directory'\n",
      "Ошибка при удалении содержимого папки: 'Driver' object has no attribute 'clear_temp_directory'\n",
      "Ошибка при удалении содержимого папки: 'Driver' object has no attribute 'clear_temp_directory'\n",
      "Ошибка при удалении содержимого папки: 'Driver' object has no attribute 'clear_temp_directory'\n",
      "Ошибка при удалении содержимого папки: 'Driver' object has no attribute 'clear_temp_directory'\n",
      "Ошибка при удалении содержимого папки: 'Driver' object has no attribute 'clear_temp_directory'\n",
      "Ошибка при удалении содержимого папки: 'Driver' object has no attribute 'clear_temp_directory'\n",
      "Ошибка при удалении содержимого папки: 'Driver' object has no attribute 'clear_temp_directory'\n",
      "Ошибка при удалении содержимого папки: 'Driver' object has no attribute 'clear_temp_directory'\n",
      "Ошибка при удалении содержимого папки: 'Driver' object has no attribute 'clear_temp_directory'\n",
      "Ошибка при удалении содержимого папки: 'Driver' object has no attribute 'clear_temp_directory'\n",
      "Ошибка при удалении содержимого папки: 'Driver' object has no attribute 'clear_temp_directory'\n",
      "Ошибка при удалении содержимого папки: 'Driver' object has no attribute 'clear_temp_directory'\n",
      "Ошибка при удалении содержимого папки: 'Driver' object has no attribute 'clear_temp_directory'\n",
      "Ошибка при удалении содержимого папки: 'Driver' object has no attribute 'clear_temp_directory'\n",
      "Ошибка при удалении содержимого папки: 'Driver' object has no attribute 'clear_temp_directory'\n",
      "Ошибка при удалении содержимого папки: 'Driver' object has no attribute 'clear_temp_directory'\n",
      "Ошибка при удалении содержимого папки: 'Driver' object has no attribute 'clear_temp_directory'\n",
      "Ошибка при удалении содержимого папки: 'Driver' object has no attribute 'clear_temp_directory'\n",
      "Ошибка при удалении содержимого папки: 'Driver' object has no attribute 'clear_temp_directory'\n",
      "\u001b[1m\u001b[33m\u001b[32m->INFO\u001b[0m\u001b[1m\u001b[33m 22:07:42 from start: 0:00:01.123494 STOP -  удаления временных файлов из `tmp`\n",
      "\t\u001b[30mwebdriver.Driver\u001b[0m\u001b[1m\u001b[33m:\u001b[36mdelete_driver_logs:458\u001b[0m\u001b[1m\u001b[33m\n",
      "\u001b[0m\u001b[1m\u001b[0m\n",
      "\u001b[1m\u001b[33m\u001b[32m->INFO\u001b[0m\u001b[1m\u001b[33m 22:07:42 from start: 0:00:01.124493  Firefox ... \n",
      "\t\u001b[30mwebdriver.Firefox\u001b[0m\u001b[1m\u001b[33m:\u001b[36m__init__:71\u001b[0m\u001b[1m\u001b[33m\n",
      "\u001b[0m\u001b[1m\u001b[0m\n",
      "\u001b[34m\u001b[1m\n",
      "            \u001b[32m->DEBUG\u001b[0m\u001b[34m\u001b[1m 22:07:47 from start: 0:00:06.752353 \u001b[33m\u001b[1mПрофиль C:\\Users\\user\\AppData\\Local\\Temp\\tmpqhln_9h3\\webdriver-py-profilecopy\\user.js\u001b[0m\u001b[34m\u001b[1m\u001b[33m\u001b[0m\u001b[34m\u001b[1m\n",
      "            \t\u001b[30mwebdriver.Firefox\u001b[0m\u001b[34m\u001b[1m:\u001b[36m__init__:89\u001b[0m\u001b[34m\u001b[1m\n",
      "\u001b[0m\n",
      "\u001b[1m\u001b[33m\u001b[32m->INFO\u001b[0m\u001b[1m\u001b[33m 22:07:24 from start: 0:00:43.266635  ... стартовал \n",
      "\t\u001b[30mwebdriver.Firefox\u001b[0m\u001b[1m\u001b[33m:\u001b[36m__init__:147\u001b[0m\u001b[1m\u001b[33m\n",
      "\u001b[0m\u001b[1m\u001b[0m\n",
      "\u001b[1m\u001b[33m\u001b[32m->INFO\u001b[0m\u001b[1m\u001b[33m 22:07:24 from start: 0:00:43.267636  ... driver attached succeStringFormatterully in 42 seconds \n",
      "\t\u001b[30msuppliers.supplier\u001b[0m\u001b[1m\u001b[33m:\u001b[36m_load_settings:131\u001b[0m\u001b[1m\u001b[33m\n",
      "\u001b[0m\u001b[1m\u001b[0m\n",
      " Можно продолжать \n"
     ]
    }
   ],
   "source": [
    "\n",
    "import header\n",
    "from header import  start_supplier, Product, ProductFields\n",
    "\n",
    "supplier_prefix = 'amazon'\n",
    "s = start_supplier(supplier_prefix)\n",
    "\"\"\" s - на протяжении всего кода означает класс `Supplier` \"\"\"\n",
    "\n",
    "print(\" Можно продолжать \")"
   ]
  },
  {
   "cell_type": "code",
   "execution_count": 3,
   "id": "30e26c6f",
   "metadata": {
    "tags": []
   },
   "outputs": [],
   "source": [
    "\n",
    "from dict_scenarios import scenario\n",
    "s.current_scenario = scenario['Murano Glass']\n",
    "l = s.locators.get('product')\n",
    "d = s.driver\n",
    "_ = d.execute_locator"
   ]
  },
  {
   "cell_type": "code",
   "execution_count": 4,
   "id": "fb626e20-455b-4fb2-96cc-fc2335d08321",
   "metadata": {
    "tags": []
   },
   "outputs": [
    {
     "name": "stdout",
     "output_type": "stream",
     "text": [
      "  Supplier class\n",
      "    Класс поставщика. Исполняет сценарии\n",
      "\n",
      "        Named Args:\n",
      "        `supplier_prefix` `str`  :  supplier_prefix s.e. 'aliexpress'\n",
      "                    Table of suppliers: https://docs.google.com/spreadsheets/d/14f0PyQa32pur-sW2MBvA5faIVghnsA0hWClYoKpkFBQ/edit?usp=sharing\n",
      "        `land` `str`  :   language in ISO 639-1\n",
      "        `supplier_id` `int`  :  supplier id     Table of suppliers:\n",
      "    https://docs.google.com/spreadsheets/d/14f0PyQa32pur-sW2MBvA5faIVghnsA0hWClYoKpkFBQ/edit?usp=sharing\n",
      "    \n"
     ]
    }
   ],
   "source": [
    "print(s.__doc__)"
   ]
  },
  {
   "cell_type": "markdown",
   "id": "1755ea3c-0292-4dcf-a405-801358eb145c",
   "metadata": {},
   "source": [
    "<h3><i>Файл стаскивается с моего сервера, a нe с Амазон. </i></h3>"
   ]
  },
  {
   "cell_type": "code",
   "execution_count": 4,
   "id": "3693489c-695d-4422-991f-548fa63c65e1",
   "metadata": {
    "tags": []
   },
   "outputs": [],
   "source": [
    "test_url_1 = r\"https://dev.davidka.net/hypotez/amazon/amazon_test_1.htm\"\n",
    "test_url_2 = r\"https://dev.davidka.net/hypotez/amazon/amazon_test_2.htm\""
   ]
  },
  {
   "cell_type": "markdown",
   "id": "579f8436-4e60-485f-9125-c46b243a67ca",
   "metadata": {},
   "source": [
    "<h3><i>Файл стаскивается с Амазон. </i></h3>"
   ]
  },
  {
   "cell_type": "code",
   "execution_count": 5,
   "id": "7586659e-66ad-47ab-8c24-b9f6f2892782",
   "metadata": {
    "tags": []
   },
   "outputs": [],
   "source": [
    "test_url_3 = r\"https://www.amazon.com/Apple-Watch-44mm-Space-Aluminum/dp/B07PS9D7GW/ref=sr_1_1?qid=1685717078&refinements=p_n_is_free_shipping%3A10236242011%2Cp_89%3AApple&rnid=2407755011&s=electronics&sr=1-1\""
   ]
  },
  {
   "cell_type": "code",
   "execution_count": 5,
   "id": "51d2ddc5-655f-46af-82aa-acf863874742",
   "metadata": {},
   "outputs": [],
   "source": [
    "test_url_4 = r\"https://www.amazon.com/C%C3%A1-dOro-Hippie-Colored-Murano-Style/dp/B09N53XSQB/ref=sr_1_1_sspa?crid=24Q0ZZYVNOQMP&keywords=Art+Deco+murano+glass&qid=1687277030&sprefix=art+deco+murano+glass%2Caps%2C230&sr=8-1-spons&sp_csd=d2lkZ2V0TmFtZT1zcF9hdGY&psc=1\""
   ]
  },
  {
   "cell_type": "code",
   "execution_count": 6,
   "id": "edfa76a7",
   "metadata": {
    "tags": []
   },
   "outputs": [
    {
     "data": {
      "text/plain": [
       "True"
      ]
     },
     "execution_count": 6,
     "metadata": {},
     "output_type": "execute_result"
    }
   ],
   "source": [
    "d.get_url(test_url_4)"
   ]
  },
  {
   "cell_type": "markdown",
   "id": "43aed2f0",
   "metadata": {},
   "source": [
    "_______________________________________________\n",
    "## <a id='toc1_3_'></a>[Поля товара](#toc0_)"
   ]
  },
  {
   "cell_type": "code",
   "execution_count": 14,
   "id": "b4e0d3b8-3772-43fb-92f2-76c67a9dcca6",
   "metadata": {},
   "outputs": [],
   "source": []
  },
  {
   "cell_type": "code",
   "execution_count": 15,
   "id": "a42f45a0-fd2f-479f-b025-e7415c50e722",
   "metadata": {
    "scrolled": true,
    "tags": []
   },
   "outputs": [],
   "source": [
    "ASIN = _(l['ASIN'])\n",
    "product_reference = f\"{s.supplier_id}-{ASIN}\"\n",
    "id_product = Product.check_if_product_in_presta_db(product_reference)"
   ]
  },
  {
   "cell_type": "code",
   "execution_count": 16,
   "id": "0f1d5a49-009c-49eb-893c-116e8fc554f5",
   "metadata": {},
   "outputs": [
    {
     "name": "stdout",
     "output_type": "stream",
     "text": [
      "45\n"
     ]
    }
   ],
   "source": [
    "if not isinstance(id_product, bool):\n",
    "    \"\"\" Если не вернулся False, значит товар уже в бд, я полуну его id_product\n",
    "    здесь обработка product_update\n",
    "    \"\"\"\n",
    "    ...\n",
    "\n",
    "else:\n",
    "    product_fields: ProductFields = Product.grab_product_page(s)\n",
    "    product_dict: dict = {}\n",
    "    product_dict['product']: dict = dict(product_fields.fields)\n",
    "    pprint(PrestaProduct.add(product_dict))"
   ]
  },
  {
   "cell_type": "code",
   "execution_count": 17,
   "id": "4bbb5ed6-a422-40a4-a6d1-f970cfc27cd2",
   "metadata": {},
   "outputs": [],
   "source": [
    "product_fields: ProductFields = grab_product_page(s)"
   ]
  },
  {
   "cell_type": "code",
   "execution_count": 18,
   "id": "189a88c8-deba-4ed8-a2ef-7cb7d84081e0",
   "metadata": {},
   "outputs": [],
   "source": [
    "raw_price = _(l['price'])[0]\n"
   ]
  },
  {
   "cell_type": "code",
   "execution_count": 19,
   "id": "2443ddc9-18d6-435c-b3cd-bf49ab08f13a",
   "metadata": {},
   "outputs": [
    {
     "name": "stdout",
     "output_type": "stream",
     "text": [
      "$168.00\n",
      "$168\n",
      ".\n",
      "00\n"
     ]
    }
   ],
   "source": [
    "print(raw_price)"
   ]
  },
  {
   "cell_type": "code",
   "execution_count": 20,
   "id": "dd553678-87a5-4673-a9d0-3af288184225",
   "metadata": {},
   "outputs": [],
   "source": [
    "raw_price = str(raw_price).split('\\n')[0]"
   ]
  },
  {
   "cell_type": "code",
   "execution_count": 21,
   "id": "1fe51a78-1640-47c3-ac25-2029673415ac",
   "metadata": {},
   "outputs": [
    {
     "name": "stdout",
     "output_type": "stream",
     "text": [
      "$168.00\n"
     ]
    }
   ],
   "source": [
    "print(raw_price)"
   ]
  },
  {
   "cell_type": "code",
   "execution_count": 22,
   "id": "d8caf432-ae9d-4a39-9490-6d6d868c3626",
   "metadata": {},
   "outputs": [],
   "source": [
    "price = StringNormalizer.normalize_price(raw_price)"
   ]
  },
  {
   "cell_type": "code",
   "execution_count": 23,
   "id": "bbf9ad11-1310-4e79-a9d0-01fa4f39f4d1",
   "metadata": {},
   "outputs": [
    {
     "name": "stdout",
     "output_type": "stream",
     "text": [
      "168.0\n",
      "<class 'float'>\n"
     ]
    }
   ],
   "source": [
    "jprint(price)\n",
    "print(type(price))"
   ]
  },
  {
   "cell_type": "code",
   "execution_count": 30,
   "id": "de86f753-108d-450f-b5f7-0aa6f172fb36",
   "metadata": {},
   "outputs": [],
   "source": [
    "product_fields.wholesale_price = product_fields.price = str(price)\n",
    "product_fields.name = product_fields.name.encode('utf-8')\n",
    "product_dict: dict = product_fields.product_dict\n"
   ]
  },
  {
   "cell_type": "code",
   "execution_count": null,
   "id": "9f29e151-8934-44fc-87e2-806db1df809e",
   "metadata": {},
   "outputs": [],
   "source": [
    "print(product_dict)"
   ]
  },
  {
   "cell_type": "code",
   "execution_count": null,
   "id": "e10797df-2ff0-4549-9755-1b1cdf7b7e31",
   "metadata": {},
   "outputs": [],
   "source": []
  },
  {
   "cell_type": "code",
   "execution_count": null,
   "id": "86ec0e91-f49a-439a-aa3d-2079798f466f",
   "metadata": {},
   "outputs": [],
   "source": []
  },
  {
   "cell_type": "code",
   "execution_count": null,
   "id": "afe79cb1",
   "metadata": {},
   "outputs": [],
   "source": [
    "\n",
    "f.ean13= _(l['ean13']) or 0\n",
    "print(f\"\"\"'ean13' = {f.ean13}\"\"\")\n",
    "\n",
    "f.isbn= _(l['isbn']) or 0\n",
    "print(f\"\"\"'ean13' = {f.isbn}\"\"\")\n",
    "\n",
    "f.upc= _(l['upc']) or 0\n",
    "print(f\"\"\"'upc' = {f.upc}\"\"\")\n",
    "\n",
    "f.mpn= _(l['mpn']) or 0\n",
    "print(f\"\"\"'mpn' = {f.mpn}\"\"\")\n",
    "\n",
    "f.ecotax= _(l['ecotax']) or 0\n",
    "print(f\"\"\"'ecotax' = {f.ecotax}\"\"\")\n",
    "\n",
    "f.quantity= _(l['quantity']) or 1\n",
    "print(f\"\"\"'quantity' = {f.quantity}\"\"\")\n",
    "\n",
    "f.minimal_quantity= _(l['minimal_quantity']) or 0\n",
    "print(f\"\"\"'minimal_quantity' = {f.minimal_quantity}\"\"\")\n",
    "        "
   ]
  },
  {
   "cell_type": "code",
   "execution_count": null,
   "id": "1f0bcc4f-d83f-4a63-8c6d-0b41bc61231c",
   "metadata": {
    "tags": []
   },
   "outputs": [],
   "source": [
    "\n",
    "f.wholesale_price= _(l['wholesale_price']) or 0\n",
    "print(f\"\"\"'wholesale_price' = {f.wholesale_price}\"\"\")\n",
    "f.unity= _(l['unity'])\n",
    "print(f\"\"\"'unity' = {f.unity}\"\"\")\n",
    "f.unit_price_ratio= _(l['unit_price_ratio'])\n",
    "print(f\"\"\"'unit_price_ratio' = {f.unit_price_ratio}\"\"\")\n",
    "f.additional_shipping_cost= _(l['additional_shipping_cost'])\n",
    "print(f\"\"\"'additional_shipping_cost' = {f.additional_shipping_cost}\"\"\")\n",
    "f.reference= _(l['additional_shipping_cost'])\n",
    "print(f\"\"\"'reference' = {f.reference}\"\"\")\n",
    "f.supplier_reference= _(l['supplier_reference'])\n",
    "print(f\"\"\"'supplier_reference' = {f.supplier_reference}\"\"\")\n",
    "f.location= _(l['location'])\n",
    "print(f\"\"\"'location' = {f.location}\"\"\")\n",
    "f.width= _(l['width'])\n",
    "print(f\"\"\"'width' = {f.width}\"\"\")\n",
    "f.height= _(l['height'])\n",
    "print(f\"\"\"'height' = {f.height}\"\"\")\n",
    "f.depth= _(l['depth'])\n",
    "print(f\"\"\"'depth' = {f.depth}\"\"\")\n",
    "f.weight= _(l['weight'])\n",
    "print(f\"\"\"'weight' = {f.weight}\"\"\")\n",
    "f.out_of_stock= _(l['out_of_stock'])\n",
    "print(f\"\"\"'out_of_stock' = {f.out_of_stock}\"\"\")\n",
    "f.additional_delivery_times= _(l['additional_delivery_times'])\n",
    "print(f\"\"\"'additional_delivery_times' = {f.additional_delivery_times}\"\"\")\n",
    "f.quantity_discount= _(l['quantity_discount'])\n",
    "print(f\"\"\"'quantity_discount' = {f.quantity_discount}\"\"\")"
   ]
  },
  {
   "cell_type": "code",
   "execution_count": null,
   "id": "d92afce3-0d44-4770-b278-70988a613af7",
   "metadata": {},
   "outputs": [],
   "source": [
    "description= _(l['description'])\n",
    "description_short= _(l['description_short'])\n",
    "link_rewrite= f.link_rewrite\n",
    "meta_description= _(l['meta_description'])\n",
    "meta_keywords= _(l['meta_keywords'])\n",
    "meta_title= _(l['meta_title'])\n",
    "name= _(l['name'])\n",
    "available_now= f.available_now\n",
    "available_later= f.available_later        \n",
    "delivery_in_stock= _(l['delivery_in_stock'])\n",
    "delivery_out_stock= _(l['delivery_out_stock'])\n",
    "affiliate_short_link= _(l['affiliate_short_link'])\n",
    "affiliate_text= _(l['affiliate_text'])\n",
    "affiliate_summary= _(l['affiliate_summary'])\n",
    "affiliate_summary_2= _(l['affiliate_summary_2'])"
   ]
  },
  {
   "cell_type": "code",
   "execution_count": null,
   "id": "519a1037-6521-4fb2-aef8-ac9edffd3935",
   "metadata": {},
   "outputs": [],
   "source": [
    "field_price_tax_exluded\n",
    "field_price_tax_included\n",
    "field_tax_rule_id"
   ]
  },
  {
   "cell_type": "code",
   "execution_count": null,
   "id": "75724500-b82a-45ea-b73c-61940fbf11f6",
   "metadata": {},
   "outputs": [],
   "source": [
    "field_cost_price"
   ]
  },
  {
   "cell_type": "code",
   "execution_count": null,
   "id": "37a3023c-3870-4abd-b147-6434fbaf1be5",
   "metadata": {
    "tags": []
   },
   "outputs": [],
   "source": [
    "field_on_sale\n",
    "field_discount_amount\n",
    "field_discount_percent\n",
    "field_discount_from\n",
    "field_discount_to"
   ]
  },
  {
   "cell_type": "code",
   "execution_count": null,
   "id": "57af4cb0-dcda-4f0d-b3f6-5814619e2bd6",
   "metadata": {},
   "outputs": [],
   "source": [
    "\n",
    "field_sku\n",
    "field_supplier_sku\n",
    "field_supplier_id\n",
    "field_brand"
   ]
  },
  {
   "cell_type": "code",
   "execution_count": null,
   "id": "7193b158-488f-4f93-903b-32436c76d7a9",
   "metadata": {},
   "outputs": [],
   "source": [
    "s.run_scenario(test_scenario)"
   ]
  },
  {
   "cell_type": "code",
   "execution_count": null,
   "id": "6088900e",
   "metadata": {},
   "outputs": [],
   "source": [
    "print(s)"
   ]
  },
  {
   "cell_type": "code",
   "execution_count": null,
   "id": "451dec3d-1bb1-4835-87bc-c6c68ebf5e1e",
   "metadata": {},
   "outputs": [],
   "source": []
  }
 ],
 "metadata": {
  "kernelspec": {
   "display_name": "Python 3 (ipykernel)",
   "language": "python",
   "name": "python3"
  },
  "language_info": {
   "codemirror_mode": {
    "name": "ipython",
    "version": 3
   },
   "file_extension": ".py",
   "mimetype": "text/x-python",
   "name": "python",
   "nbconvert_exporter": "python",
   "pygments_lexer": "ipython3",
   "version": "3.11.3"
  },
  "toc-autonumbering": false,
  "toc-showcode": true,
  "toc-showmarkdowntxt": false
 },
 "nbformat": 4,
 "nbformat_minor": 5
}
