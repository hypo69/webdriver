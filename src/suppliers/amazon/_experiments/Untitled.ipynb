{
 "cells": [
  {
   "cell_type": "code",
   "execution_count": 1,
   "id": "c2af442e-b2e9-432e-bfed-69d15eda453a",
   "metadata": {},
   "outputs": [],
   "source": [
    "string = r'https://www.amazon.com/Ecopriso-Entryway-Outlets-Console-Drawers/dp/B09P3WPWP7/ref=sr_1_7?c=ts&keywords=Sofa+Tables&qid=1689791306&s=furniture&sr=1-7&ts_id=3733651'"
   ]
  },
  {
   "cell_type": "code",
   "execution_count": 3,
   "id": "7d9af2a5-0447-4d28-91f9-832611c9f13e",
   "metadata": {},
   "outputs": [
    {
     "ename": "SyntaxError",
     "evalue": "invalid syntax (547991296.py, line 1)",
     "output_type": "error",
     "traceback": [
      "\u001b[1;36m  Cell \u001b[1;32mIn[3], line 1\u001b[1;36m\u001b[0m\n\u001b[1;33m    out = str([(string.index('dp/') + 3):string.index('dp/')+ 13:])\u001b[0m\n\u001b[1;37m                                        ^\u001b[0m\n\u001b[1;31mSyntaxError\u001b[0m\u001b[1;31m:\u001b[0m invalid syntax\n"
     ]
    }
   ],
   "source": [
    "out = str([(string.index('dp/') + 3):string.index('dp/')+ 13:])"
   ]
  },
  {
   "cell_type": "code",
   "execution_count": null,
   "id": "72e927f2-05e5-4613-9817-96cf50949e28",
   "metadata": {},
   "outputs": [],
   "source": []
  }
 ],
 "metadata": {
  "kernelspec": {
   "display_name": "Python 3 (ipykernel)",
   "language": "python",
   "name": "python3"
  },
  "language_info": {
   "codemirror_mode": {
    "name": "ipython",
    "version": 3
   },
   "file_extension": ".py",
   "mimetype": "text/x-python",
   "name": "python",
   "nbconvert_exporter": "python",
   "pygments_lexer": "ipython3",
   "version": "3.11.3"
  }
 },
 "nbformat": 4,
 "nbformat_minor": 5
}
