{
 "cells": [
  {
   "cell_type": "code",
   "execution_count": null,
   "id": "39be2601-e3e7-4f01-bea9-195be00c88f6",
   "metadata": {},
   "outputs": [],
   "source": [
    "from pathlib import Path\n",
    "from typing import Union\n",
    "import header\n",
    "from header import logger,   pprint, \\\n",
    "            StringNormalizer, StringFormatter, translate, \\\n",
    "            Product, ProductFields, \\\n",
    "            PrestaProduct, PrestaAPIV1, PrestaShopWebServiceError, upload_image, \\\n",
    "            Supplier, start_supplier\n",
    "\n",
    "\n",
    "supplier_prefix = 'amazon'\n",
    "s = start_supplier(supplier_prefix)\n",
    "\"\"\" s - на протяжении всего кода означает класс `Supplier` \"\"\"\n",
    "\n",
    "print(\" Можно продолжать \")\n",
    "\n",
    "#Тестовый сценарий из местного файла dict_scenarios.py\n",
    "from dict_scenarios import scenario\n",
    "\n",
    "s.current_scenario = scenario['Murano Glass']\n",
    "l = s.locators.get('product')\n",
    "d = s.driver\n",
    "_ = d.execute_locator"
   ]
  },
  {
   "cell_type": "code",
   "execution_count": null,
   "id": "0a76f305-8c70-4cca-a258-39268c2c9d62",
   "metadata": {},
   "outputs": [],
   "source": [
    "scenario = \\\n",
    "{    \"Murano Glass\": \n",
    "    {\n",
    "        \"url\": \"https://www.amazon.com/s?k=Art+Deco+murano+glass&crid=24Q0ZZYVNOQMP&sprefix=art+deco+murano+glass%2Caps%2C230&ref=nb_sb_noss\",\n",
    "        \"condition\": \"new\",\n",
    "        \"presta_categories\": \n",
    "        {\n",
    "            \"default_category\":{\"11209\":\"MURANO GLASS\"},\n",
    "            \"addtional cateregories: []\n",
    "        },\n",
    "            \"price_rule\": 1\n",
    "    }\n",
    "}"
   ]
  }
 ],
 "metadata": {
  "kernelspec": {
   "display_name": "Python 3 (ipykernel)",
   "language": "python",
   "name": "python3"
  },
  "language_info": {
   "codemirror_mode": {
    "name": "ipython",
    "version": 3
   },
   "file_extension": ".py",
   "mimetype": "text/x-python",
   "name": "python",
   "nbconvert_exporter": "python",
   "pygments_lexer": "ipython3",
   "version": "3.11.3"
  }
 },
 "nbformat": 4,
 "nbformat_minor": 5
}
