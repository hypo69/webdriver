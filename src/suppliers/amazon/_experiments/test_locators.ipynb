{
 "cells": [
  {
   "cell_type": "code",
   "execution_count": 1,
   "id": "49959d4d-f650-44dd-83d8-af99a1e694f2",
   "metadata": {},
   "outputs": [
    {
     "name": "stdout",
     "output_type": "stream",
     "text": [
      "\u001b[1m\u001b[33m\u001b[32m->INFO\u001b[0m\u001b[1m\u001b[33m 18:07:55 from start: 0:00:00.001126 User {{user_id}} logged in\n",
      "\t\u001b[30mhelpers.logger\u001b[0m\u001b[1m\u001b[33m:\u001b[36m<module>:48\u001b[0m\u001b[1m\u001b[33m\n",
      "\u001b[0m\u001b[1m\u001b[0m\n"
     ]
    },
    {
     "name": "stderr",
     "output_type": "stream",
     "text": [
      "NoneType: None\n"
     ]
    },
    {
     "name": "stdout",
     "output_type": "stream",
     "text": [
      "\u001b[1m\u001b[33m\u001b[32m->INFO\u001b[0m\u001b[1m\u001b[33m 18:07:56 from start: 0:00:00.754996 caller: __init__ file: <attrs generated init gs.GlobalSettings>\n",
      "\t\u001b[30mgs\u001b[0m\u001b[1m\u001b[33m:\u001b[36m__init__:72\u001b[0m\u001b[1m\u001b[33m\n",
      "\u001b[0m\u001b[1m\u001b[0m\n",
      "True\n",
      "\u001b[1m\u001b[33m\u001b[32m->INFO\u001b[0m\u001b[1m\u001b[33m 18:07:57 from start: 0:00:01.467176  Start: amazon ... \n",
      "\t\u001b[30msuppliers.supplier\u001b[0m\u001b[1m\u001b[33m:\u001b[36m__init__:86\u001b[0m\u001b[1m\u001b[33m\n",
      "\u001b[0m\u001b[1m\u001b[0m\n",
      "\u001b[1m\u001b[33m\u001b[32m->INFO\u001b[0m\u001b[1m\u001b[33m 18:07:57 from start: 0:00:01.627889 amazon begin to attach driver ...\n",
      "\t\u001b[30msuppliers.supplier\u001b[0m\u001b[1m\u001b[33m:\u001b[36m_load_settings:123\u001b[0m\u001b[1m\u001b[33m\n",
      "\u001b[0m\u001b[1m\u001b[0m\n",
      "\u001b[1m\u001b[33m\u001b[32m->INFO\u001b[0m\u001b[1m\u001b[33m 18:07:57 from start: 0:00:01.627889  \n",
      "        ----------------------\n",
      "        Старт вебдрайвера firefox. \n",
      "        Будет выбран драйвер, подключатся настройки и профиль.\n",
      "        На моем компьютере это занимает около полуминуты\n",
      "        Ждем...\n",
      "        ----------------------\n",
      "        \n",
      "\t\u001b[30mwebdriver.Driver\u001b[0m\u001b[1m\u001b[33m:\u001b[36m__init__:206\u001b[0m\u001b[1m\u001b[33m\n",
      "\u001b[0m\u001b[1m\u001b[0m\n",
      "\u001b[1m\u001b[33m\u001b[32m->INFO\u001b[0m\u001b[1m\u001b[33m 18:07:57 from start: 0:00:01.627889  Firefox ... \n",
      "\t\u001b[30mwebdriver.Firefox\u001b[0m\u001b[1m\u001b[33m:\u001b[36m__init__:71\u001b[0m\u001b[1m\u001b[33m\n",
      "\u001b[0m\u001b[1m\u001b[0m\n",
      "\u001b[34m\u001b[1m\n",
      "            \u001b[32m->DEBUG\u001b[0m\u001b[34m\u001b[1m 18:07:00 from start: 0:00:04.491962 \u001b[33m\u001b[1mПрофиль C:\\Users\\user\\AppData\\Local\\Temp\\tmplvvo85c6\\webdriver-py-profilecopy\\user.js\u001b[0m\u001b[34m\u001b[1m\u001b[33m\u001b[0m\u001b[34m\u001b[1m\n",
      "            \t\u001b[30mwebdriver.Firefox\u001b[0m\u001b[34m\u001b[1m:\u001b[36m__init__:89\u001b[0m\u001b[34m\u001b[1m\n",
      "\u001b[0m\n",
      "\u001b[1m\u001b[33m\u001b[32m->INFO\u001b[0m\u001b[1m\u001b[33m 18:07:11 from start: 0:00:15.103493  ... стартовал \n",
      "\t\u001b[30mwebdriver.Firefox\u001b[0m\u001b[1m\u001b[33m:\u001b[36m__init__:147\u001b[0m\u001b[1m\u001b[33m\n",
      "\u001b[0m\u001b[1m\u001b[0m\n",
      "\u001b[1m\u001b[33m\u001b[32m->INFO\u001b[0m\u001b[1m\u001b[33m 18:07:11 from start: 0:00:15.103493  ... driver attached succeStringFormatterully in 14 seconds \n",
      "\t\u001b[30msuppliers.supplier\u001b[0m\u001b[1m\u001b[33m:\u001b[36m_load_settings:128\u001b[0m\u001b[1m\u001b[33m\n",
      "\u001b[0m\u001b[1m\u001b[0m\n",
      "\u001b[1m\u001b[33m\u001b[32m->INFO\u001b[0m\u001b[1m\u001b[33m 18:07:11 from start: 0:00:15.103493 ... amazon started succeStringFormatterully!\n",
      "\t\u001b[30msuppliers.supplier\u001b[0m\u001b[1m\u001b[33m:\u001b[36m_load_settings:131\u001b[0m\u001b[1m\u001b[33m\n",
      "\u001b[0m\u001b[1m\u001b[0m\n",
      " Можно продолжать \n",
      "{'attribute': None, 'logic for attribue[AND|OR|XOR|VALUE|null]': None, 'by': None, 'selector': None, 'logic for action[AND|OR|XOR|VALUE|null]': None, 'use_mouse': False, 'action': None}\n",
      "' Если товар в бд получу id_product, иначе False. Получил: False'\n"
     ]
    }
   ],
   "source": [
    "from pathlib import Path\n",
    "from typing import Union\n",
    "import header\n",
    "from src import gs, \\\n",
    "            logger,   pprint, \\\n",
    "            StringNormalizer, StringFormatter, \\\n",
    "            Product, ProductFields, \\\n",
    "            Supplier, start_supplier\n",
    "\n",
    "\n",
    "supplier_prefix = 'amazon'\n",
    "s = start_supplier(supplier_prefix)\n",
    "\"\"\" s - на протяжении всего кода означает класс `Supplier` \"\"\"\n",
    "\n",
    "print(\" Можно продолжать \")\n",
    "\n",
    "\n",
    "from dict_scenarios import scenario\n",
    "s.current_scenario = scenario['Murano Glass']\n",
    "\n",
    "# -------------- сокращения -------\n",
    "l = s.reread_locators('product')\n",
    "d = s.driver\n",
    "_ = d.execute_locator\n",
    "f: ProductFields = ProductFields()\n",
    "# --------------------------------\n",
    "\n",
    "test_url_4 = r\"https://www.amazon.com/C%C3%A1-dOro-Hippie-Colored-Murano-Style/dp/B09N53XSQB/ref=sr_1_1_sspa?crid=24Q0ZZYVNOQMP&keywords=Art+Deco+murano+glass&qid=1687277030&sprefix=art+deco+murano+glass%2Caps%2C230&sr=8-1-spons&sp_csd=d2lkZ2V0TmFtZT1zcF9hdGY&psc=1\"\n",
    "test_url_5 = r\"https://www.amazon.com/Luxury-Lane-Sommerso-Centerpiece-Decoration/dp/B0BSZBF8NJ/ref=sr_1_3_sspa?c=ts&keywords=Vases&qid=1688326048&s=furniture&sr=1-3-spons&ts_id=3745451&sp_csd=d2lkZ2V0TmFtZT1zcF9hdGY&th=1\"\n",
    "d.get_url(test_url_4)\n",
    "\n",
    "\n",
    "l = s.reread_locators('product')\n",
    "ASIN = _(l['ASIN'])\n",
    "\n",
    "link_rewrite = d.current_url.split(f'''/''')[-4]\n",
    "\n",
    "l = s.reread_locators('product')\n",
    "print(l['link_rewrite'])\n",
    "\n",
    "product_reference = f\"{s.supplier_id}-{ASIN}\"\n",
    "response = Product.check_if_product_in_presta_db(product_reference)\n",
    "pprint(f' Если товар в бд получу id_product, иначе False. Получил: {response}')"
   ]
  },
  {
   "cell_type": "code",
   "execution_count": 3,
   "id": "04c964ef-293b-4bc9-a09d-23be988e7a45",
   "metadata": {},
   "outputs": [],
   "source": [
    "f: ProductFields = ProductFields()"
   ]
  },
  {
   "cell_type": "code",
   "execution_count": 5,
   "id": "c3528fef-1fe6-4783-bafd-8dfe5a3da61e",
   "metadata": {},
   "outputs": [],
   "source": [
    "f.summary = _(l['summary'])[0]"
   ]
  },
  {
   "cell_type": "code",
   "execution_count": 6,
   "id": "5268b4c9-af00-4397-ab90-8fc8566d5896",
   "metadata": {},
   "outputs": [
    {
     "name": "stdout",
     "output_type": "stream",
     "text": [
      "About this item\n",
      "Measures: 7.5 inches height x 3.9 inches width\n",
      "Safe Packaging: The product is wrapped in secure shipping materials and then placed in reinforced cardboard boxes.\n",
      "Hand Blown Glass: The pieces are 100% handcrafted by the technique and tradition of Murano glass production. There may be slight variations in color patterns, measures and thickness between pieces.\n",
      "Founded in 1965 by Mario Seguso, Cá d'Oro glass studio produces blown glass art pieces using the Murano techniques brought by the Seguso family to the country.\n"
     ]
    }
   ],
   "source": [
    "print(f.summary)"
   ]
  },
  {
   "cell_type": "code",
   "execution_count": 4,
   "id": "41cb3a92-a3ea-4f64-b2d3-c85e9439eea3",
   "metadata": {},
   "outputs": [
    {
     "name": "stdout",
     "output_type": "stream",
     "text": [
      "\u001b[31m\u001b[1m\u001b[31m\u001b[1m\u001b[32m->ERROR\u001b[0m\u001b[31m\u001b[1m\u001b[31m\u001b[1m 18:07:24 from start: 0:07:28.494770 \n",
      "        Не определен метод захвата элемента! \n",
      "        Локатор {'attribute': None, 'logic for attribue[AND|OR|XOR|VALUE|null]': None, 'by': None, 'selector': None, 'logic for action[AND|OR|XOR|VALUE|null]': None, 'use_mouse': False, 'action': None}\n",
      "        \n",
      "\t\u001b[30mwebdriver.execute_locator\u001b[0m\u001b[31m\u001b[1m\u001b[31m\u001b[1m:\u001b[36mget_webelments_from_page:416\u001b[0m\u001b[31m\u001b[1m\u001b[31m\u001b[1m\n",
      "\u001b[0m\u001b[31m\u001b[1m\u001b[31m\u001b[0m\u001b[31m\u001b[1m\u001b[0m\n"
     ]
    },
    {
     "ename": "TypeError",
     "evalue": "'bool' object is not subscriptable",
     "output_type": "error",
     "traceback": [
      "\u001b[1;31m---------------------------------------------------------------------------\u001b[0m",
      "\u001b[1;31mTypeError\u001b[0m                                 Traceback (most recent call last)",
      "Cell \u001b[1;32mIn[4], line 1\u001b[0m\n\u001b[1;32m----> 1\u001b[0m f\u001b[38;5;241m.\u001b[39mdescription \u001b[38;5;241m=\u001b[39m \u001b[43m_\u001b[49m\u001b[43m(\u001b[49m\u001b[43ml\u001b[49m\u001b[43m[\u001b[49m\u001b[38;5;124;43m'\u001b[39;49m\u001b[38;5;124;43mdescription\u001b[39;49m\u001b[38;5;124;43m'\u001b[39;49m\u001b[43m]\u001b[49m\u001b[43m)\u001b[49m\u001b[43m[\u001b[49m\u001b[38;5;241;43m0\u001b[39;49m\u001b[43m]\u001b[49m\n",
      "\u001b[1;31mTypeError\u001b[0m: 'bool' object is not subscriptable"
     ]
    }
   ],
   "source": [
    "f.description = _(l['description'])[0]"
   ]
  },
  {
   "cell_type": "code",
   "execution_count": 2,
   "id": "ac5c26a9-aa82-4af4-a865-ffd04bc66ae7",
   "metadata": {},
   "outputs": [
    {
     "name": "stdout",
     "output_type": "stream",
     "text": [
      "\u001b[31m\u001b[1m\u001b[31m\u001b[1m\u001b[32m->ERROR\u001b[0m\u001b[31m\u001b[1m\u001b[31m\u001b[1m 18:07:16 from start: 0:00:20.135732 \n",
      "        Не определен метод захвата элемента! \n",
      "        Локатор {'attribute': None, 'logic for attribue[AND|OR|XOR|VALUE|null]': None, 'by': None, 'selector': None, 'logic for action[AND|OR|XOR|VALUE|null]': None, 'use_mouse': False, 'action': None}\n",
      "        \n",
      "\t\u001b[30mwebdriver.execute_locator\u001b[0m\u001b[31m\u001b[1m\u001b[31m\u001b[1m:\u001b[36mget_webelments_from_page:416\u001b[0m\u001b[31m\u001b[1m\u001b[31m\u001b[1m\n",
      "\u001b[0m\u001b[31m\u001b[1m\u001b[31m\u001b[0m\u001b[31m\u001b[1m\u001b[0m\n"
     ]
    },
    {
     "ename": "TypeError",
     "evalue": "'bool' object is not subscriptable",
     "output_type": "error",
     "traceback": [
      "\u001b[1;31m---------------------------------------------------------------------------\u001b[0m",
      "\u001b[1;31mTypeError\u001b[0m                                 Traceback (most recent call last)",
      "Cell \u001b[1;32mIn[2], line 1\u001b[0m\n\u001b[1;32m----> 1\u001b[0m f\u001b[38;5;241m.\u001b[39mdescription \u001b[38;5;241m=\u001b[39m \u001b[43m_\u001b[49m\u001b[43m(\u001b[49m\u001b[43ml\u001b[49m\u001b[43m[\u001b[49m\u001b[38;5;124;43m'\u001b[39;49m\u001b[38;5;124;43mdescription\u001b[39;49m\u001b[38;5;124;43m'\u001b[39;49m\u001b[43m]\u001b[49m\u001b[43m)\u001b[49m\u001b[43m[\u001b[49m\u001b[38;5;241;43m0\u001b[39;49m\u001b[43m]\u001b[49m\n\u001b[0;32m      2\u001b[0m f\u001b[38;5;241m.\u001b[39mdescription_short  \u001b[38;5;241m=\u001b[39m _(l[\u001b[38;5;124m'\u001b[39m\u001b[38;5;124mdescription_short\u001b[39m\u001b[38;5;124m'\u001b[39m])[\u001b[38;5;241m0\u001b[39m]\n\u001b[0;32m      3\u001b[0m f\u001b[38;5;241m.\u001b[39msummary \u001b[38;5;241m=\u001b[39m _(l[\u001b[38;5;124m'\u001b[39m\u001b[38;5;124msummary\u001b[39m\u001b[38;5;124m'\u001b[39m])[\u001b[38;5;241m0\u001b[39m]\n",
      "\u001b[1;31mTypeError\u001b[0m: 'bool' object is not subscriptable"
     ]
    }
   ],
   "source": [
    "\n",
    "\n",
    "\n",
    "\n",
    "\n",
    "\n",
    "f.description_short  = _(l['description_short'])[0]\n",
    "f.summary = _(l['summary'])[0]"
   ]
  },
  {
   "cell_type": "code",
   "execution_count": null,
   "id": "4c4979fa-0122-4ca1-963d-6e7810a3377f",
   "metadata": {},
   "outputs": [],
   "source": [
    "print(f)"
   ]
  },
  {
   "cell_type": "code",
   "execution_count": null,
   "id": "6071c111-542a-4d19-9bde-d7cc78007fa8",
   "metadata": {},
   "outputs": [],
   "source": []
  }
 ],
 "metadata": {
  "kernelspec": {
   "display_name": "Python 3 (ipykernel)",
   "language": "python",
   "name": "python3"
  },
  "language_info": {
   "codemirror_mode": {
    "name": "ipython",
    "version": 3
   },
   "file_extension": ".py",
   "mimetype": "text/x-python",
   "name": "python",
   "nbconvert_exporter": "python",
   "pygments_lexer": "ipython3",
   "version": "3.11.4"
  }
 },
 "nbformat": 4,
 "nbformat_minor": 5
}
