{
 "cells": [
  {
   "cell_type": "markdown",
   "id": "63ce4d2d",
   "metadata": {},
   "source": [
    "# <a id='toc1_'></a>[Amazon тест](#toc0_)"
   ]
  },
  {
   "cell_type": "markdown",
   "id": "ba58de3b-a104-4481-bc68-e86ef20047c4",
   "metadata": {},
   "source": [
    "## Murano Glass"
   ]
  },
  {
   "cell_type": "code",
   "execution_count": 1,
   "id": "65fc94bf",
   "metadata": {
    "tags": []
   },
   "outputs": [
    {
     "name": "stdout",
     "output_type": "stream",
     "text": [
      "\u001b[1m\u001b[33m\u001b[32m->INFO\u001b[0m\u001b[1m\u001b[33m 16:07:42 from start: 0:00:00.007030 User {{user_id}} logged in\n",
      "\t\u001b[30mhelpers.logger\u001b[0m\u001b[1m\u001b[33m:\u001b[36m<module>:48\u001b[0m\u001b[1m\u001b[33m\n",
      "\u001b[0m\u001b[1m\u001b[0m\n"
     ]
    },
    {
     "name": "stderr",
     "output_type": "stream",
     "text": [
      "NoneType: None\n"
     ]
    },
    {
     "name": "stdout",
     "output_type": "stream",
     "text": [
      "\u001b[1m\u001b[33m\u001b[32m->INFO\u001b[0m\u001b[1m\u001b[33m 16:07:43 from start: 0:00:00.445413 caller: __init__ file: <attrs generated init gs.GlobalSettings>\n",
      "\t\u001b[30mgs\u001b[0m\u001b[1m\u001b[33m:\u001b[36m__init__:72\u001b[0m\u001b[1m\u001b[33m\n",
      "\u001b[0m\u001b[1m\u001b[0m\n",
      "True\n",
      "\u001b[1m\u001b[33m\u001b[32m->INFO\u001b[0m\u001b[1m\u001b[33m 16:07:43 from start: 0:00:00.741973  Start: amazon ... \n",
      "\t\u001b[30msuppliers.supplier\u001b[0m\u001b[1m\u001b[33m:\u001b[36m__init__:86\u001b[0m\u001b[1m\u001b[33m\n",
      "\u001b[0m\u001b[1m\u001b[0m\n",
      "\u001b[1m\u001b[33m\u001b[32m->INFO\u001b[0m\u001b[1m\u001b[33m 16:07:43 from start: 0:00:00.759970 amazon begin to attach driver ...\n",
      "\t\u001b[30msuppliers.supplier\u001b[0m\u001b[1m\u001b[33m:\u001b[36m_load_settings:123\u001b[0m\u001b[1m\u001b[33m\n",
      "\u001b[0m\u001b[1m\u001b[0m\n",
      "\u001b[1m\u001b[33m\u001b[32m->INFO\u001b[0m\u001b[1m\u001b[33m 16:07:43 from start: 0:00:00.760972  \n",
      "        ----------------------\n",
      "        Старт вебдрайвера firefox. \n",
      "        Будет выбран драйвер, подключатся настройки и профиль.\n",
      "        На моем компьютере это занимает около полуминуты\n",
      "        Ждем...\n",
      "        ----------------------\n",
      "        \n",
      "\t\u001b[30mwebdriver.Driver\u001b[0m\u001b[1m\u001b[33m:\u001b[36m__init__:206\u001b[0m\u001b[1m\u001b[33m\n",
      "\u001b[0m\u001b[1m\u001b[0m\n",
      "\u001b[1m\u001b[33m\u001b[32m->INFO\u001b[0m\u001b[1m\u001b[33m 16:07:43 from start: 0:00:00.761974  Firefox ... \n",
      "\t\u001b[30mwebdriver.Firefox\u001b[0m\u001b[1m\u001b[33m:\u001b[36m__init__:71\u001b[0m\u001b[1m\u001b[33m\n",
      "\u001b[0m\u001b[1m\u001b[0m\n",
      "\u001b[34m\u001b[1m\n",
      "            \u001b[32m->DEBUG\u001b[0m\u001b[34m\u001b[1m 16:07:47 from start: 0:00:05.150149 \u001b[33m\u001b[1mПрофиль C:\\Users\\user\\AppData\\Local\\Temp\\tmpdf9cylgr\\webdriver-py-profilecopy\\user.js\u001b[0m\u001b[34m\u001b[1m\u001b[33m\u001b[0m\u001b[34m\u001b[1m\n",
      "            \t\u001b[30mwebdriver.Firefox\u001b[0m\u001b[34m\u001b[1m:\u001b[36m__init__:89\u001b[0m\u001b[34m\u001b[1m\n",
      "\u001b[0m\n",
      "\u001b[1m\u001b[33m\u001b[32m->INFO\u001b[0m\u001b[1m\u001b[33m 16:07:22 from start: 0:00:39.923256  ... стартовал \n",
      "\t\u001b[30mwebdriver.Firefox\u001b[0m\u001b[1m\u001b[33m:\u001b[36m__init__:147\u001b[0m\u001b[1m\u001b[33m\n",
      "\u001b[0m\u001b[1m\u001b[0m\n",
      "\u001b[1m\u001b[33m\u001b[32m->INFO\u001b[0m\u001b[1m\u001b[33m 16:07:22 from start: 0:00:39.924760  ... driver attached succeStringFormatterully in 39 seconds \n",
      "\t\u001b[30msuppliers.supplier\u001b[0m\u001b[1m\u001b[33m:\u001b[36m_load_settings:128\u001b[0m\u001b[1m\u001b[33m\n",
      "\u001b[0m\u001b[1m\u001b[0m\n",
      "\u001b[1m\u001b[33m\u001b[32m->INFO\u001b[0m\u001b[1m\u001b[33m 16:07:22 from start: 0:00:39.926766 ... amazon started succeStringFormatterully!\n",
      "\t\u001b[30msuppliers.supplier\u001b[0m\u001b[1m\u001b[33m:\u001b[36m_load_settings:131\u001b[0m\u001b[1m\u001b[33m\n",
      "\u001b[0m\u001b[1m\u001b[0m\n",
      " Можно продолжать \n"
     ]
    }
   ],
   "source": [
    "from pathlib import Path\n",
    "from typing import Union\n",
    "import header\n",
    "from header import logger,   pprint, StringNormalizer, StringFormatter, translate, Product, ProductFields, PrestaProduct, PrestaAPIV1, upload_image, Supplier, start_supplier\n",
    "supplier_prefix = 'amazon'\n",
    "s = start_supplier(supplier_prefix)\n",
    "\"\"\" s - на протяжении всего кода означает класс `Supplier` \"\"\"\n",
    "\n",
    "print(\" Можно продолжать \")\n",
    "\n",
    "\n",
    "from dict_scenarios import scenario\n",
    "\"\"\" згружаю сценарий из тетового фаайла \"\"\"\n",
    "\n",
    "s.current_scenario = scenario['Murano Glass']\n",
    "l = s.locators.get('product')\n",
    "d = s.driver\n",
    "_ = d.execute_locator\n",
    "\n",
    "\n",
    "\n",
    "\n",
    "test_url_4 = r\"https://www.amazon.com/C%C3%A1-dOro-Hippie-Colored-Murano-Style/dp/B09N53XSQB/ref=sr_1_1_sspa?crid=24Q0ZZYVNOQMP&keywords=Art+Deco+murano+glass&qid=1687277030&sprefix=art+deco+murano+glass%2Caps%2C230&sr=8-1-spons&sp_csd=d2lkZ2V0TmFtZT1zcF9hdGY&psc=1\"\n",
    "d.get_url(test_url_4)\n"
   ]
  },
  {
   "cell_type": "code",
   "execution_count": 2,
   "id": "2bb4739a-1a7f-42e7-9873-ddb2135fec23",
   "metadata": {},
   "outputs": [
    {
     "data": {
      "text/plain": [
       "True"
      ]
     },
     "execution_count": 2,
     "metadata": {},
     "output_type": "execute_result"
    }
   ],
   "source": [
    "\n"
   ]
  },
  {
   "cell_type": "markdown",
   "id": "43aed2f0",
   "metadata": {},
   "source": [
    "_______________________________________________\n",
    "## <a id='toc1_3_'></a>[Поля товара](#toc0_)"
   ]
  },
  {
   "cell_type": "markdown",
   "id": "a56cdb11-872e-4eef-9a3d-b0952659421e",
   "metadata": {},
   "source": [
    "Это функция из модуля suppliers.amazon.grabber\n",
    "Ее можно тестировать. Глявное - не забыть потом синхронизирпвать в suppliers.amazon.grabber"
   ]
  },
  {
   "cell_type": "code",
   "execution_count": 3,
   "id": "60ef4cb1-9f04-44c5-ad4d-66ae073336c1",
   "metadata": {},
   "outputs": [],
   "source": [
    "\n",
    "def grab_product_page(s: Supplier):\n",
    "    \"\"\" \n",
    "        Собираю информацию со страницы товара\n",
    "        Attrs:\n",
    "            p (Product)\n",
    "            d (Driver)\n",
    "        @returns\n",
    "            f (ProductFields) с заполненными полями, else False\n",
    "    \"\"\"\n",
    "    d = s.driver\n",
    "    l = s.locators.get('product')\n",
    "    f = ProductFields()\n",
    "    _ = d.execute_locator\n",
    "\n",
    "\n",
    "\n",
    "    \"\"\" ID,ASIN,SKU,SUPPLIER SKU \"\"\"\n",
    "    \n",
    "\n",
    "    def _set_defaults() -> bool:\n",
    "        \"\"\" Set defaults for product of supplier\n",
    "        Attrs:\n",
    "    \n",
    "            \n",
    "        @returns\n",
    "    \t\"\"\"\n",
    "        f.active = 1\n",
    "        f.active = 1\n",
    "        f.on_sale = 0\n",
    "        f.min_qty = 1\n",
    "        f.low_stock_level = 0\n",
    "        f.low_stock_threshold = ''\n",
    "        f.show_price = 1\n",
    "        f.show_condition = 1\n",
    "        f.aviable_online_only = 0\n",
    "        f.advanced_stock_management = 0\n",
    "        f.id_default_image = 24\n",
    "        ...\n",
    "\n",
    "    _set_defaults()\n",
    "\n",
    "    ASIN = _(l['ASIN'])\n",
    "    #f.id_product = None\n",
    "    f.reference = f'{s.supplier_id}-{ASIN}'\n",
    "    f.supplier_reference = ASIN\n",
    "    f.price = StringNormalizer.normalize_price(_(l['price'])[0])\n",
    "    f.name = StringNormalizer.symbols2UTF(_(l['name'])[0])\n",
    "    #f.summary = _(l['summary'])[0]\n",
    "    f.id_supplier = s.supplier_id\n",
    "    f.id_category_default = list(s.current_scenario['presta_categories']['default_category'].keys())[0]\n",
    "    f.state = 1\n",
    "    \n",
    "    return f\n"
   ]
  },
  {
   "cell_type": "markdown",
   "id": "3b6ee460-97a7-4fa2-b782-c74a9d8bcac8",
   "metadata": {},
   "source": [
    "## Переопределяю локаторы для товара по test_url_4\n",
    "есть проблема с локаторами для разных типов товараЬ новый и реф"
   ]
  },
  {
   "cell_type": "code",
   "execution_count": 4,
   "id": "4aefe33b-3157-42eb-bc50-1aa6b29c0f09",
   "metadata": {},
   "outputs": [],
   "source": [
    "l['price']['selector'] = \\\n",
    "\"//div[contains(@data-csa-c-asin, 'B09N53XSQB') and contains(@id, 'corePriceDisplay')]//span[1]\""
   ]
  },
  {
   "cell_type": "code",
   "execution_count": 5,
   "id": "95c26532-a691-4c0d-beb8-d5b89c84ffc3",
   "metadata": {},
   "outputs": [],
   "source": [
    "#l['price']['selector'] = \\\n",
    "#\"//div[contains(@data-csa-c-asin, '$_(driver.current_url.split(f'''/''')[-2])_$') and contains(@id, 'corePriceDisplay')]//span[1]\""
   ]
  },
  {
   "cell_type": "markdown",
   "id": "257497ea-5d73-4693-9855-b2ace6aa74d1",
   "metadata": {},
   "source": [
    "### Собираю товар"
   ]
  },
  {
   "cell_type": "code",
   "execution_count": 6,
   "id": "b4e0d3b8-3772-43fb-92f2-76c67a9dcca6",
   "metadata": {},
   "outputs": [],
   "source": [
    "ASIN = _(l['ASIN'])"
   ]
  },
  {
   "cell_type": "code",
   "execution_count": 7,
   "id": "a42f45a0-fd2f-479f-b025-e7415c50e722",
   "metadata": {
    "scrolled": true,
    "tags": []
   },
   "outputs": [],
   "source": [
    "product_reference = f\"{s.supplier_id}-{ASIN}\"\n",
    "#check = Product.check_if_product_in_presta_db(product_reference)"
   ]
  },
  {
   "cell_type": "markdown",
   "id": "6b5dc6ba-8f00-4152-a457-d21696345c3e",
   "metadata": {},
   "source": [
    "функция из модуля PrestaShop.product"
   ]
  },
  {
   "cell_type": "code",
   "execution_count": 8,
   "id": "d67cfe2b-228e-43b9-a16e-8c4ebe29bf1d",
   "metadata": {},
   "outputs": [],
   "source": [
    "\n",
    "def check_if_product_in_presta_db(product_reference: str) -> Union[int,bool]:\n",
    "    \"\"\" Проверка наличия товара в БД \n",
    "    Attrs:\n",
    "    reference`str`  :  product_reference\n",
    "    @returns\n",
    "    product - словарь товарам иначе False\n",
    "    False - if Product NOT in the DB, else Product\n",
    "    \"\"\"\n",
    "    product_filter = {'filter[reference]': product_reference}\n",
    "    response = PrestaAPIV1.search('products', product_filter)\n",
    "    \n",
    "    if isinstance(response, list) and len(response) > 0:\n",
    "        return response[0]\n",
    "    else:\n",
    "        return\n"
   ]
  },
  {
   "cell_type": "code",
   "execution_count": 9,
   "id": "aff41ff2-d21d-435e-aff2-a477ed0fba94",
   "metadata": {},
   "outputs": [],
   "source": [
    "check = check_if_product_in_presta_db(product_reference)"
   ]
  },
  {
   "cell_type": "code",
   "execution_count": 10,
   "id": "0f1d5a49-009c-49eb-893c-116e8fc554f5",
   "metadata": {},
   "outputs": [
    {
     "name": "stdout",
     "output_type": "stream",
     "text": [
      "50\n"
     ]
    }
   ],
   "source": [
    "print(check)"
   ]
  },
  {
   "cell_type": "code",
   "execution_count": null,
   "id": "aa0ca8a3-f629-4857-a9e6-816956b0a66c",
   "metadata": {},
   "outputs": [],
   "source": [
    "\n",
    "def get_price(format: str = 'str') -> Union[str,float]:\n",
    "    \"\"\" Привожу денюшку к \n",
    "    [ ] float \n",
    "    [v] str\n",
    "    \"\"\"\n",
    "  \n",
    "    raw_price = _(l['price'])[0]\n",
    "    raw_price = str(raw_price).split('\\n')[0]\n",
    "    price = StringNormalizer.normalize_price(raw_price)\n",
    "    return str(price) if format == 'str' else price\n",
    "\n"
   ]
  },
  {
   "cell_type": "code",
   "execution_count": null,
   "id": "40e60b8e-4ff3-42ad-85fe-dfbb2fd21bf4",
   "metadata": {},
   "outputs": [],
   "source": [
    "def upadate_product(id_product: int) -> bool:\n",
    "    \"\"\" \"\"\"\n",
    "    "
   ]
  },
  {
   "cell_type": "code",
   "execution_count": 40,
   "id": "dd553678-87a5-4673-a9d0-3af288184225",
   "metadata": {},
   "outputs": [],
   "source": [
    "\n",
    "\n",
    "\n",
    "\n",
    "def execute_product():\n",
    "    \"\"\" Манипуляции с товаром \"\"\"\n",
    "\n",
    "    if not isinstance(check, bool):\n",
    "        \"\"\" Если не вернулся False, значит товар уже в бд, я полуну его id_product\n",
    "        здесь обработка product_update\n",
    "        \"\"\"\n",
    "        ...\n",
    "        update_product()\n",
    "    else:\n",
    "        product_fields: ProductFields = Product.grab_product_page(s)\n",
    "        product_fields.wholesale_price = product_fields.price = get_price()\n",
    "\n",
    "        product_fields.price = get_price(s, format = 'str')\n",
    "        product_fields.name = StringNormalizer.symbols2UTF(_(l['name'])[0])\n",
    "        \n",
    "        product_dict: dict = {}\n",
    "        product_dict['product']: dict = dict(product_fields.fields)\n",
    "        return product_fields\n",
    "       \n",
    "\n"
   ]
  },
  {
   "cell_type": "code",
   "execution_count": 41,
   "id": "13900e7b-9bf7-4b66-9db5-8b550e01b2e8",
   "metadata": {},
   "outputs": [],
   "source": [
    "# функция в модуле\n",
    "#product_fields: ProductFields = Product.grab_product_page(s)\n",
    "\n",
    "# функция в тесте (выше по коду)\n",
    "# product_fields: ProductFields = grab_product_page(s)\n",
    "\n",
    "product_dict: dict = {}\n",
    "product_dict['product']: dict = execute_product()"
   ]
  },
  {
   "cell_type": "code",
   "execution_count": 43,
   "id": "e84588bc-f824-42dc-b8e1-9fa69184338f",
   "metadata": {},
   "outputs": [
    {
     "name": "stdout",
     "output_type": "stream",
     "text": [
      "{'product': None}\n",
      "{'product': None}\n"
     ]
    }
   ],
   "source": [
    "pprint(product_dict)\n",
    "print(product_dict)"
   ]
  },
  {
   "cell_type": "code",
   "execution_count": 14,
   "id": "751ada31-a169-4cbe-a4d7-bb231cf09d73",
   "metadata": {},
   "outputs": [],
   "source": [
    "l['additional_images_urls'] = \\\n",
    " {\n",
    "    \"attribute\": \"src\",\n",
    "    \"logic for attribue[AND|OR|XOR|VALUE|null]\": False,\n",
    "    \"by\": \"xpath\",\n",
    "    \"selector\": \"//img[@id='landingImage']\",\n",
    "    \"use_mouse\": False,\n",
    "    \"action\": None,\n",
    "    \"logic for action[AND|OR|XOR|VALUE|null]\": None\n",
    "  }\n",
    "default_image_url = _(l['additional_images_urls'])[0]"
   ]
  },
  {
   "cell_type": "code",
   "execution_count": 33,
   "id": "41b5d978-8983-42c3-beab-5a93dd624207",
   "metadata": {},
   "outputs": [],
   "source": [
    "import requests\n",
    "from prestapyt import PrestaShopWebServiceDict, PrestaShopWebServiceError\n",
    "from PIL import Image\n",
    "\n",
    "def upload_default_image(resource, image_url):\n",
    "    try:\n",
    "        # Загрузка изображения с помощью модуля requests\n",
    "        response = requests.get(image_url)\n",
    "        image_data = response.content\n",
    "\n",
    "        # Добавление изображения в базу данных PrestaShop\n",
    "        resource = fr'images/{resource}'\n",
    "        print(resource)\n",
    "        image_info = PrestaAPIV1.add(resource, image_data)\n",
    "        add_image\n",
    "        image_id = image_info['image']['id']\n",
    "        print(f'Дефолтное изображение для {resource.capitalize()} успешно загружено с ID {image_id}.')\n",
    "        return image_id\n",
    "    except PrestaShopWebServiceError as e:\n",
    "        print(f'Ошибка при загрузке дефолтного изображения для {resource}:  {ex}')\n",
    "        return\n",
    "\n",
    "\n",
    "\n",
    "def upload_default_image_2(resource, image_url):\n",
    "    try:\n",
    "        # Загрузка изображения с помощью модуля requests\n",
    "        response = requests.get(image_url)\n",
    "        image_data = response.content\n",
    "\n",
    "        # Сохранение изображения во временный файл\n",
    "        temp_filename = 'temp_image.jpg'\n",
    "        with open(temp_filename, 'wb') as file:\n",
    "            file.write(image_data)\n",
    "\n",
    "        # Открытие изображения с помощью библиотеки Pillow\n",
    "        image = Image.open(temp_filename)\n",
    "\n",
    "        # Изменение размера изображения, если необходимо\n",
    "        # image = image.resize((new_width, new_height))\n",
    "\n",
    "        # Сохранение измененного изображения\n",
    "        #image.save(temp_filename)\n",
    "\n",
    "        # Добавление изображения в базу данных PrestaShop\n",
    "        image_info = PrestaAPIV1.add(f'{resource}', image)\n",
    "        image_id = image_info['image']['id']\n",
    "        print(f'Дефолтное изображение для {resource.capitalize()} успешно загружено с ID {image_id}.')\n",
    "\n",
    "        # Удаление временного файла\n",
    "        os.remove(temp_filename)\n",
    "\n",
    "        return image_id\n",
    "    except PrestaShopWebServiceError as e:\n",
    "        print(f'Ошибка при загрузке дефолтного изображения для {resource}:  {ex}')\n",
    "        return\n",
    "\n",
    "        \n",
    "def upload_default_image_3(resource, image_url):\n",
    "    try:\n",
    "        # Загрузка изображения с помощью модуля requests\n",
    "        response = requests.get(image_url)\n",
    "        image_data = response.content\n",
    "\n",
    "        # Добавление изображения в базу данных PrestaShop\n",
    "        resource = fr'images/{resource}'\n",
    "        print(resource)\n",
    "        image_info = PrestaAPIV1.add(resource, image_url)\n",
    "        add_image\n",
    "        image_id = image_info['image']['id']\n",
    "        print(f'Дефолтное изображение для {resource.capitalize()} успешно загружено с ID {image_id}.')\n",
    "        return image_id\n",
    "    except PrestaShopWebServiceError as e:\n",
    "        print(f'Ошибка при загрузке дефолтного изображения для {resource}:  {ex}')\n",
    "        return\n"
   ]
  },
  {
   "cell_type": "code",
   "execution_count": null,
   "id": "9023a2c3-85fa-4cc7-bf8a-48273da1ba09",
   "metadata": {},
   "outputs": [],
   "source": [
    "print(default_image_url)\n",
    "default_image_id = upload_default_image_2('products/43', default_image_url)"
   ]
  },
  {
   "cell_type": "code",
   "execution_count": 14,
   "id": "d8caf432-ae9d-4a39-9490-6d6d868c3626",
   "metadata": {},
   "outputs": [
    {
     "name": "stdout",
     "output_type": "stream",
     "text": [
      "\u001b[31m\u001b[1m\u001b[31m\u001b[1m\u001b[32m->ERROR\u001b[0m\u001b[31m\u001b[1m\u001b[31m\u001b[1m 15:07:57 from start: 0:02:42.599743  Не добавился товар в базу данных престашоп. Ошибка:\n",
      "            'Validation error: \"Property Product->name is not valid\"'\n",
      "            -------------------\n",
      "            товар\n",
      "            {'product': {'active': 1, 'on_sale': 0, 'low_stock_threshold': '', 'show_price': 1, 'show_condition': 1, 'advanced_stock_management': 0, 'id_default_image': 24, 'reference': '2800-B09N53XSQB', 'supplier_reference': 'B09N53XSQB', 'price': 168.0, 'name': 'C&aacute; d&#39;Oro Small Glass Vase Hippie Colored Canes Hand Blown Murano-Style Art Glass - Model Oval', 'id_supplier': '2800', 'id_category_default': '11209', 'state': 1}}\n",
      "\t\u001b[30mPrestaShop.product\u001b[0m\u001b[31m\u001b[1m\u001b[31m\u001b[1m:\u001b[36madd:66\u001b[0m\u001b[31m\u001b[1m\u001b[31m\u001b[1m\n",
      "\u001b[0m\u001b[31m\u001b[1m\u001b[31m\u001b[0m\u001b[31m\u001b[1m\u001b[0m\n"
     ]
    },
    {
     "data": {
      "text/plain": [
       "False"
      ]
     },
     "execution_count": 14,
     "metadata": {},
     "output_type": "execute_result"
    }
   ],
   "source": [
    "PrestaProduct.add(product_dict)"
   ]
  },
  {
   "cell_type": "code",
   "execution_count": 44,
   "id": "9f29e151-8934-44fc-87e2-806db1df809e",
   "metadata": {},
   "outputs": [
    {
     "name": "stdout",
     "output_type": "stream",
     "text": [
      "{'product': None}\n"
     ]
    }
   ],
   "source": [
    "pprint(product_dict)"
   ]
  },
  {
   "cell_type": "code",
   "execution_count": null,
   "id": "86ec0e91-f49a-439a-aa3d-2079798f466f",
   "metadata": {},
   "outputs": [],
   "source": [
    "PrestaAPIV1.add('products',fields.fields)"
   ]
  },
  {
   "cell_type": "code",
   "execution_count": null,
   "id": "afe79cb1",
   "metadata": {},
   "outputs": [],
   "source": [
    "\n",
    "f.ean13= _(l['ean13']) or 0\n",
    "print(f\"\"\"'ean13' = {f.ean13}\"\"\")\n",
    "\n",
    "f.isbn= _(l['isbn']) or 0\n",
    "print(f\"\"\"'ean13' = {f.isbn}\"\"\")\n",
    "\n",
    "f.upc= _(l['upc']) or 0\n",
    "print(f\"\"\"'upc' = {f.upc}\"\"\")\n",
    "\n",
    "f.mpn= _(l['mpn']) or 0\n",
    "print(f\"\"\"'mpn' = {f.mpn}\"\"\")\n",
    "\n",
    "f.ecotax= _(l['ecotax']) or 0\n",
    "print(f\"\"\"'ecotax' = {f.ecotax}\"\"\")\n",
    "\n",
    "f.quantity= _(l['quantity']) or 1\n",
    "print(f\"\"\"'quantity' = {f.quantity}\"\"\")\n",
    "\n",
    "f.minimal_quantity= _(l['minimal_quantity']) or 0\n",
    "print(f\"\"\"'minimal_quantity' = {f.minimal_quantity}\"\"\")\n",
    "        "
   ]
  },
  {
   "cell_type": "code",
   "execution_count": null,
   "id": "1f0bcc4f-d83f-4a63-8c6d-0b41bc61231c",
   "metadata": {
    "tags": []
   },
   "outputs": [],
   "source": [
    "\n",
    "f.wholesale_price= _(l['wholesale_price']) or 0\n",
    "print(f\"\"\"'wholesale_price' = {f.wholesale_price}\"\"\")\n",
    "f.unity= _(l['unity'])\n",
    "print(f\"\"\"'unity' = {f.unity}\"\"\")\n",
    "f.unit_price_ratio= _(l['unit_price_ratio'])\n",
    "print(f\"\"\"'unit_price_ratio' = {f.unit_price_ratio}\"\"\")\n",
    "f.additional_shipping_cost= _(l['additional_shipping_cost'])\n",
    "print(f\"\"\"'additional_shipping_cost' = {f.additional_shipping_cost}\"\"\")\n",
    "f.reference= _(l['additional_shipping_cost'])\n",
    "print(f\"\"\"'reference' = {f.reference}\"\"\")\n",
    "f.supplier_reference= _(l['supplier_reference'])\n",
    "print(f\"\"\"'supplier_reference' = {f.supplier_reference}\"\"\")\n",
    "f.location= _(l['location'])\n",
    "print(f\"\"\"'location' = {f.location}\"\"\")\n",
    "f.width= _(l['width'])\n",
    "print(f\"\"\"'width' = {f.width}\"\"\")\n",
    "f.height= _(l['height'])\n",
    "print(f\"\"\"'height' = {f.height}\"\"\")\n",
    "f.depth= _(l['depth'])\n",
    "print(f\"\"\"'depth' = {f.depth}\"\"\")\n",
    "f.weight= _(l['weight'])\n",
    "print(f\"\"\"'weight' = {f.weight}\"\"\")\n",
    "f.out_of_stock= _(l['out_of_stock'])\n",
    "print(f\"\"\"'out_of_stock' = {f.out_of_stock}\"\"\")\n",
    "f.additional_delivery_times= _(l['additional_delivery_times'])\n",
    "print(f\"\"\"'additional_delivery_times' = {f.additional_delivery_times}\"\"\")\n",
    "f.quantity_discount= _(l['quantity_discount'])\n",
    "print(f\"\"\"'quantity_discount' = {f.quantity_discount}\"\"\")"
   ]
  },
  {
   "cell_type": "code",
   "execution_count": null,
   "id": "d92afce3-0d44-4770-b278-70988a613af7",
   "metadata": {},
   "outputs": [],
   "source": [
    "description= _(l['description'])\n",
    "description_short= _(l['description_short'])\n",
    "link_rewrite= f.link_rewrite\n",
    "meta_description= _(l['meta_description'])\n",
    "meta_keywords= _(l['meta_keywords'])\n",
    "meta_title= _(l['meta_title'])\n",
    "name= _(l['name'])\n",
    "available_now= f.available_now\n",
    "available_later= f.available_later        \n",
    "delivery_in_stock= _(l['delivery_in_stock'])\n",
    "delivery_out_stock= _(l['delivery_out_stock'])\n",
    "affiliate_short_link= _(l['affiliate_short_link'])\n",
    "affiliate_text= _(l['affiliate_text'])\n",
    "affiliate_summary= _(l['affiliate_summary'])\n",
    "affiliate_summary_2= _(l['affiliate_summary_2'])"
   ]
  },
  {
   "cell_type": "code",
   "execution_count": null,
   "id": "519a1037-6521-4fb2-aef8-ac9edffd3935",
   "metadata": {},
   "outputs": [],
   "source": [
    "field_price_tax_exluded\n",
    "field_price_tax_included\n",
    "field_tax_rule_id"
   ]
  },
  {
   "cell_type": "code",
   "execution_count": null,
   "id": "75724500-b82a-45ea-b73c-61940fbf11f6",
   "metadata": {},
   "outputs": [],
   "source": [
    "field_cost_price"
   ]
  },
  {
   "cell_type": "code",
   "execution_count": null,
   "id": "37a3023c-3870-4abd-b147-6434fbaf1be5",
   "metadata": {
    "tags": []
   },
   "outputs": [],
   "source": [
    "field_on_sale\n",
    "field_discount_amount\n",
    "field_discount_percent\n",
    "field_discount_from\n",
    "field_discount_to"
   ]
  },
  {
   "cell_type": "code",
   "execution_count": null,
   "id": "57af4cb0-dcda-4f0d-b3f6-5814619e2bd6",
   "metadata": {},
   "outputs": [],
   "source": [
    "\n",
    "field_sku\n",
    "field_supplier_sku\n",
    "field_supplier_id\n",
    "field_brand"
   ]
  },
  {
   "cell_type": "code",
   "execution_count": null,
   "id": "7193b158-488f-4f93-903b-32436c76d7a9",
   "metadata": {},
   "outputs": [],
   "source": [
    "s.run_scenario(test_scenario)"
   ]
  },
  {
   "cell_type": "code",
   "execution_count": null,
   "id": "6088900e",
   "metadata": {},
   "outputs": [],
   "source": [
    "print(s)"
   ]
  },
  {
   "cell_type": "code",
   "execution_count": null,
   "id": "451dec3d-1bb1-4835-87bc-c6c68ebf5e1e",
   "metadata": {},
   "outputs": [],
   "source": []
  }
 ],
 "metadata": {
  "kernelspec": {
   "display_name": "Python 3 (ipykernel)",
   "language": "python",
   "name": "python3"
  },
  "language_info": {
   "codemirror_mode": {
    "name": "ipython",
    "version": 3
   },
   "file_extension": ".py",
   "mimetype": "text/x-python",
   "name": "python",
   "nbconvert_exporter": "python",
   "pygments_lexer": "ipython3",
   "version": "3.11.3"
  },
  "toc-autonumbering": false,
  "toc-showcode": true,
  "toc-showmarkdowntxt": false
 },
 "nbformat": 4,
 "nbformat_minor": 5
}
