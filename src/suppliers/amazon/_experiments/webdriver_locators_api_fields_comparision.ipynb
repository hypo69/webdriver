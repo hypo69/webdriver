{
 "cells": [
  {
   "cell_type": "code",
   "execution_count": 14,
   "id": "07a01b03-be2f-4b0c-8eaa-96b8c2bf3fed",
   "metadata": {
    "tags": []
   },
   "outputs": [],
   "source": [
    "import sys\n",
    "import os\n",
    "path = os.getcwd()[:os.getcwd().rfind(r'\\hypotez')]\n",
    "sys.path.append(path)  # Добавляю корневую папку в sys.path\n",
    "from pathlib import Path\n",
    "import json\n",
    "from hypotez import gs, Supplier, Product\n",
    "from src.logger.logger import logger"
   ]
  },
  {
   "cell_type": "code",
   "execution_count": 15,
   "id": "726b7e51-4d1f-4456-97b9-0dd54e44b4cb",
   "metadata": {
    "tags": []
   },
   "outputs": [],
   "source": [
    "def get_product_locators_from_supplier_json(supplier_prefix: str) -> dict:\n",
    "    \"\"\" Возвращает все ключи из файла .suppliers/<supplier>/locators/product.json \n",
    "    Attrs:\n",
    "        supplier_prefix`str`  :  префикс поставщика\n",
    "    \"\"\"\n",
    "    file_path: Path = Path(gs.dir_root,'suppliers',supplier_prefix,'locators','product.json')\n",
    "    locators = j_loads(file_path)\n",
    "    return locators\n",
    "    "
   ]
  },
  {
   "cell_type": "code",
   "execution_count": 35,
   "id": "5f67f251-d71a-44d0-a55a-19f770eacddd",
   "metadata": {
    "tags": []
   },
   "outputs": [],
   "source": [
    "locators_dict = get_product_locators_from_supplier_json('amazon')"
   ]
  },
  {
   "cell_type": "code",
   "execution_count": 36,
   "id": "f0e6586e-fae8-4aa1-b84c-5edb45dbc450",
   "metadata": {
    "tags": []
   },
   "outputs": [],
   "source": [
    "#print(json.dumps(locators_dict, indent=4))"
   ]
  },
  {
   "cell_type": "code",
   "execution_count": 37,
   "id": "91dad333-e02c-4f34-b607-b6beb7777336",
   "metadata": {
    "tags": []
   },
   "outputs": [],
   "source": [
    "#print(*locators_dict.keys())"
   ]
  },
  {
   "cell_type": "code",
   "execution_count": 38,
   "id": "beb45a62-11cf-4c95-9ecb-9f09b2fedbfe",
   "metadata": {
    "tags": []
   },
   "outputs": [],
   "source": [
    "dict_keys = locators_dict.keys()"
   ]
  },
  {
   "cell_type": "code",
   "execution_count": 39,
   "id": "76789929-b178-404e-9c2d-3597f1d4b9df",
   "metadata": {
    "tags": []
   },
   "outputs": [
    {
     "name": "stdout",
     "output_type": "stream",
     "text": [
      "<class 'dict_keys'>\n"
     ]
    }
   ],
   "source": [
    "print(type(dict_keys))"
   ]
  },
  {
   "cell_type": "code",
   "execution_count": 40,
   "id": "eb97bd71-c6a8-41bd-b22c-be485a3763af",
   "metadata": {
    "tags": []
   },
   "outputs": [
    {
     "data": {
      "text/plain": [
       "'\\nfor k in dict_keys:\\n    print(k)\\n    \\n    '"
      ]
     },
     "execution_count": 40,
     "metadata": {},
     "output_type": "execute_result"
    }
   ],
   "source": [
    "\"\"\"\n",
    "for k in dict_keys:\n",
    "    print(k)\n",
    "    \n",
    "    \"\"\""
   ]
  },
  {
   "cell_type": "code",
   "execution_count": 41,
   "id": "13efb461-9660-4c63-a31e-34abedbadeee",
   "metadata": {
    "tags": []
   },
   "outputs": [
    {
     "ename": "SyntaxError",
     "evalue": "invalid syntax (2565527602.py, line 1)",
     "output_type": "error",
     "traceback": [
      "\u001b[1;36m  Cell \u001b[1;32mIn[41], line 1\u001b[1;36m\u001b[0m\n\u001b[1;33m    get PrestaShop_shema_product_keys():\u001b[0m\n\u001b[1;37m        ^\u001b[0m\n\u001b[1;31mSyntaxError\u001b[0m\u001b[1;31m:\u001b[0m invalid syntax\n"
     ]
    }
   ],
   "source": [
    "get PrestaShop_shema_product_keys() -> dict:\n",
    "        \"\"\" Возвращает ключи словаря из файла .PrestaShop/schemas/product_schema.json \"\"\"\n",
    "        "
   ]
  },
  {
   "cell_type": "code",
   "execution_count": null,
   "id": "27e76be8-8174-4408-a07b-9e30659c43ed",
   "metadata": {},
   "outputs": [],
   "source": []
  }
 ],
 "metadata": {
  "kernelspec": {
   "display_name": "Python 3 (ipykernel)",
   "language": "python",
   "name": "python3"
  },
  "language_info": {
   "codemirror_mode": {
    "name": "ipython",
    "version": 3
   },
   "file_extension": ".py",
   "mimetype": "text/x-python",
   "name": "python",
   "nbconvert_exporter": "python",
   "pygments_lexer": "ipython3",
   "version": "3.11.3"
  }
 },
 "nbformat": 4,
 "nbformat_minor": 5
}
