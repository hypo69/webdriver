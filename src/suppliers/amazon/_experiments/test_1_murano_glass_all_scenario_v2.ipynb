{
 "cells": [
  {
   "cell_type": "markdown",
   "id": "a3472d80-01f5-4b9d-a404-cc53ce318868",
   "metadata": {},
   "source": [
    "### Прогоны тестов на добавление товаров со стороны модуля <font style=\"color:green;\"><b><i>PrestaShop</i></b></font>"
   ]
  },
  {
   "cell_type": "markdown",
   "id": "63ce4d2d",
   "metadata": {},
   "source": [
    "# <a id='toc1_'></a>[Amazon тест](#toc0_)"
   ]
  },
  {
   "cell_type": "markdown",
   "id": "ba58de3b-a104-4481-bc68-e86ef20047c4",
   "metadata": {},
   "source": [
    "## `Murano Glass` - Прогоняю весь сценарий на добавление товаров со страницы категории\n"
   ]
  },
  {
   "cell_type": "code",
   "execution_count": 1,
   "id": "65fc94bf",
   "metadata": {
    "tags": []
   },
   "outputs": [
    {
     "name": "stdout",
     "output_type": "stream",
     "text": [
      "Master password for kee... database: ········\n"
     ]
    },
    {
     "name": "stderr",
     "output_type": "stream",
     "text": [
      "NoneType: None\n",
      "2024-02-07 00:35:42,652 - ERROR - Error v2\n",
      "NoneType: None\n",
      "2024-02-07 00:35:42,667 - INFO - \n",
      "        -----------------------------------------\n",
      "                Старт amazon\n",
      "        -----------------------------------------\n",
      "2024-02-07 00:35:42,698 - INFO - amazon Begin to attach driver ... \n",
      "2024-02-07 00:35:42,698 - INFO -  \n",
      "        -----------------------------------------------------\n",
      "        Старт вебдрайвера firefox. \n",
      "        Будет выбран драйвер, подключатся настройки и профиль.\n",
      "        На моем компьютере это занимает около полуминуты. Ждем...\n",
      "        -----------------------------------------------------\n",
      "2024-02-07 00:35:42,698 - INFO -  Firefox ... \n",
      "2024-02-07 00:36:15,029 - INFO -  ... стартовал \n",
      "2024-02-07 00:36:15,039 - DEBUG -  ... драйвер подключился за 33 seconds \n",
      "NoneType: None\n"
     ]
    },
    {
     "name": "stdout",
     "output_type": "stream",
     "text": [
      " Можно продолжать \n"
     ]
    }
   ],
   "source": [
    "from pathlib import Path\n",
    "from typing import Union\n",
    "import notebook_header\n",
    "from notebook_header import gs \n",
    "from notebook_header import logger,   pprint\n",
    "from notebook_header import StringNormalizer, StringFormatter\n",
    "from notebook_header import Product, ProductFields\n",
    "from notebook_header import Supplier, start_supplier\n",
    "from notebook_header import Driver\n",
    "from src.scenarios import run_scenarios\n",
    "\n",
    "\n",
    "s = start_supplier('amazon','en')\n",
    "\"\"\" s - на протяжении всего кода означает класс `Supplier` \"\"\"\n",
    "\n",
    "print(\" Можно продолжать \")\n"
   ]
  },
  {
   "cell_type": "markdown",
   "id": "b84e2401",
   "metadata": {},
   "source": [
    "\n",
    "## Соглашения: \n",
    "-  <b><i>s</i></b> - поставщик  *(Supplier)*\n",
    "-  <b><i>p</i></b> - товар  *(Product)*\n",
    "-  <b><i>l</i></b> - локаторы полей товара *(locators)*\n",
    "-  <b><i>d</i></b> - драйвер  *(Driver)*\n",
    "-  <b><i>f</i></b> - поля товара  *(ProductFields)*\n",
    "- <b><i>reread_locators</i></b> - перечитываль оригинальных локторов из файла"
   ]
  },
  {
   "cell_type": "code",
   "execution_count": 2,
   "id": "7f1efc29",
   "metadata": {},
   "outputs": [],
   "source": [
    "\n",
    "p: Product = Product(s)\n",
    "l: dict = s.locators['product']\n",
    "d: Driver = s.driver\n",
    "f: ProductFields = ProductFields(s)\n",
    "    "
   ]
  },
  {
   "cell_type": "code",
   "execution_count": 3,
   "id": "d9393f99-135a-4a82-b8b0-3ed9bc69f1a6",
   "metadata": {},
   "outputs": [],
   "source": [
    "s.current_scenario: dict = {\n",
    "      \"url\": \"https://amzn.to/3OhRz2g\",\n",
    "      \"condition\": \"new\",\n",
    "      \"presta_categories\": {\n",
    "        \"default_category\": { \"11209\": \"MURANO GLASS\" },\n",
    "        \"additional_categories\": [ \"\" ]\n",
    "      },\n",
    "      \"price_rule\": 1\n",
    "    }\n",
    "\n",
    "#s.run_scenario(s.current_scenario)"
   ]
  },
  {
   "cell_type": "code",
   "execution_count": 4,
   "id": "21644cb0",
   "metadata": {},
   "outputs": [
    {
     "name": "stderr",
     "output_type": "stream",
     "text": [
      "2024-02-07 00:37:12,948 - INFO - Старт сценария: None\n",
      "2024-02-07 00:37:16,528 - DEBUG - Страница загрузилась за 3.580331802368164\n",
      "NoneType: None\n",
      "2024-02-07 00:37:16,544 - INFO -  Новый URI https://www.amazon.com/s?k=Art+Deco+murano+glass&language=en-US&crid=24Q0ZZYVNOQMP&linkCode=sl2&linkId=1a5da5b6a02f09a4d8fe47362e06cf3a&sprefix=art+deco+murano+glass%2Caps%2C230&tag=ecat0001-20&ref=as_li_ss_tl \n",
      "2024-02-07 00:37:17,151 - INFO -  Найдено 64 товаров \n",
      "2024-02-07 00:37:20,502 - DEBUG - Страница загрузилась за 3.3503754138946533\n",
      "NoneType: None\n",
      "2024-02-07 00:37:20,543 - INFO -  Новый URI https://www.amazon.com/C%C3%A1-dOro-Hippie-Colored-Murano-Style/dp/B09N4SR3M6/ref=sr_1_1_sspa?crid=24Q0ZZYVNOQMP&keywords=Art+Deco+murano+glass&linkCode=sl2&linkId=1a5da5b6a02f09a4d8fe47362e06cf3a&qid=1707259033&sprefix=art+deco+murano+glass%2Caps%2C230&sr=8-1-spons&sp_csd=d2lkZ2V0TmFtZT1zcF9hdGY&psc=1 \n",
      "NoneType: None\n",
      "2024-02-07 00:37:21,159 - ERROR -  Не определен метод захвата элемента! \n",
      "        Локатор {'attribute': None, 'by': None, 'selector': None, 'use_mouse': False, 'mandatory': True, 'action': None} \n",
      "NoneType: None\n",
      "Traceback (most recent call last):\n",
      "  File \"C:\\Users\\user\\Documents\\repos\\hypotez\\src\\scenarios\\executor.py\", line 170, in run_scenario\n",
      "    product_fields = s.related_modules.grab_product_page(s)\n",
      "                     ^^^^^^^^^^^^^^^^^^^^^^^^^^^^^^^^^^^^^^\n",
      "  File \"C:\\Users\\user\\Documents\\repos\\hypotez\\src\\suppliers\\amazon\\grabber.py\", line 74, in grab_product_page\n",
      "    f.affiliate_short_link = field_affiliate_short_link()\n",
      "                            ^^^^^^^^^^^^^^^^^^^^^^^^^^^^\n",
      "  File \"C:\\Users\\user\\Documents\\repos\\hypotez\\src\\suppliers\\amazon\\grabber.py\", line 229, in field_affiliate_short_link\n",
      "    return d.execute_locator(l['affiliate_short_link'])[1][0]\n",
      "           ^^^^^^^^^^^^^^^^^^^^^^^^^^^^^^^^^^^^^^^^^^^^\n",
      "  File \"C:\\Users\\user\\Documents\\repos\\hypotez\\src\\webdriver\\Driver.py\", line 637, in execute_locator\n",
      "    return execute_locator.execute_locator(self, locator)\n",
      "           ^^^^^^^^^^^^^^^^^^^^^^^^^^^^^^^^^^^^^^^^^^^^^^\n",
      "  File \"C:\\Users\\user\\Documents\\repos\\hypotez\\src\\webdriver\\execute_locator.py\", line 290, in execute_locator\n",
      "    ret = parse_locator(l)\n",
      "         ^^^^^^^^^^^^^^^^\n",
      "  File \"C:\\Users\\user\\Documents\\repos\\hypotez\\src\\webdriver\\execute_locator.py\", line 243, in parse_locator\n",
      "    ret = execute_event (driver, l, keys)\n",
      "          ^^^^^^^^^^^^^^^^^^^^^^^^^^^^^^^^\n",
      "  File \"C:\\Users\\user\\Documents\\repos\\hypotez\\src\\webdriver\\execute_locator.py\", line 456, in execute_event\n",
      "    driver.wait(cal_func=cal_func, wait=inteval, when=when)\n",
      "TypeError: Driver.wait() got an unexpected keyword argument 'cal_func'\n",
      "2024-02-07 00:37:21,174 - ERROR - ошибка \n",
      "Traceback (most recent call last):\n",
      "  File \"C:\\Users\\user\\Documents\\repos\\hypotez\\src\\scenarios\\executor.py\", line 170, in run_scenario\n",
      "    product_fields = s.related_modules.grab_product_page(s)\n",
      "                     ^^^^^^^^^^^^^^^^^^^^^^^^^^^^^^^^^^^^^^\n",
      "  File \"C:\\Users\\user\\Documents\\repos\\hypotez\\src\\suppliers\\amazon\\grabber.py\", line 74, in grab_product_page\n",
      "    f.affiliate_short_link = field_affiliate_short_link()\n",
      "                            ^^^^^^^^^^^^^^^^^^^^^^^^^^^^\n",
      "  File \"C:\\Users\\user\\Documents\\repos\\hypotez\\src\\suppliers\\amazon\\grabber.py\", line 229, in field_affiliate_short_link\n",
      "    return d.execute_locator(l['affiliate_short_link'])[1][0]\n",
      "           ^^^^^^^^^^^^^^^^^^^^^^^^^^^^^^^^^^^^^^^^^^^^\n",
      "  File \"C:\\Users\\user\\Documents\\repos\\hypotez\\src\\webdriver\\Driver.py\", line 637, in execute_locator\n",
      "    return execute_locator.execute_locator(self, locator)\n",
      "           ^^^^^^^^^^^^^^^^^^^^^^^^^^^^^^^^^^^^^^^^^^^^^^\n",
      "  File \"C:\\Users\\user\\Documents\\repos\\hypotez\\src\\webdriver\\execute_locator.py\", line 290, in execute_locator\n",
      "    ret = parse_locator(l)\n",
      "         ^^^^^^^^^^^^^^^^\n",
      "  File \"C:\\Users\\user\\Documents\\repos\\hypotez\\src\\webdriver\\execute_locator.py\", line 243, in parse_locator\n",
      "    ret = execute_event (driver, l, keys)\n",
      "          ^^^^^^^^^^^^^^^^^^^^^^^^^^^^^^^^\n",
      "  File \"C:\\Users\\user\\Documents\\repos\\hypotez\\src\\webdriver\\execute_locator.py\", line 456, in execute_event\n",
      "    driver.wait(cal_func=cal_func, wait=inteval, when=when)\n",
      "TypeError: Driver.wait() got an unexpected keyword argument 'cal_func'\n"
     ]
    }
   ],
   "source": [
    "ret = run_scenarios(s, s.current_scenario)"
   ]
  },
  {
   "cell_type": "markdown",
   "id": "43aed2f0",
   "metadata": {},
   "source": [
    "_______________________________________________\n",
    "## <a id='toc1_3_'></a>[Поля товара](#toc0_)\n"
   ]
  },
  {
   "cell_type": "markdown",
   "id": "2877be37-1167-4c0d-95e9-17b5e6423bb6",
   "metadata": {},
   "source": [
    "`grab_product_page` <p>Это функция из модуля <font color=\"11073B\"> suppliers.amazon.grabber</font>\n",
    "Ее можно тестировать. \n",
    "<h6>Не забудь!</h6>\n",
    "<font color='red'><b>Глявное - не забыть потом синхронизирoвать в suppliers.amazon.grabber</b><font></p>"
   ]
  },
  {
   "cell_type": "markdown",
   "id": "257497ea-5d73-4693-9855-b2ace6aa74d1",
   "metadata": {},
   "source": [
    "### Проверяю наличие товара в бд"
   ]
  },
  {
   "cell_type": "code",
   "execution_count": null,
   "id": "a42f45a0-fd2f-479f-b025-e7415c50e722",
   "metadata": {
    "scrolled": true,
    "tags": []
   },
   "outputs": [],
   "source": [
    "product_reference = f\"{s.supplier_id}-{_(l['reference'])}\"\n",
    "response = Product.check_if_product_in_presta_db(product_reference)\n",
    "pprint(f' Если товар в бд получу id_product, иначе False. Получил: {response}')"
   ]
  },
  {
   "cell_type": "code",
   "execution_count": null,
   "id": "02249a8c-5a24-46cf-b4e5-af08fe803333",
   "metadata": {},
   "outputs": [],
   "source": [
    "\n",
    "\n",
    "\"\"\" Я добавляю в базу данных престашоп товар путем нескольких последовательных действий\n",
    "1. Заполняю поля, необходимые для создания нового товара\n",
    "2. Получаю `id_product` созданного товара\n",
    "3. Используя полученный `id_product` загружаю дефолтную картинку\n",
    "4. итд.\n",
    "\"\"\"\n",
    "\n",
    "from typing import Union\n",
    "# ----------------------------\n",
    "from global_settings import gs\n",
    "from src.logger.logger import logger\n",
    "from src.tools import StringFormatter, StringNormalizer as StringNormalizer\n",
    "from src.product import Product, ProductFields\n",
    "from src.suppliers import Supplier\n",
    "# ----------------------------\n",
    "\n",
    "\n",
    "\n",
    "\n",
    "def grab_product_page(s: Supplier, id_product: int = 0 , presta_api_version: Union[str('V1'),str('V2'),str('V3')] = 'V3') -> ProductFields:\n",
    "    \"\"\" ПОКА ТОЛЬКО ДЛЯ НОВЫХ!!!!! СТРАНИЦ\n",
    "        Собираю информацию со страницы товара. \n",
    "        Важно помнить, что драйвер уже должен быть на\n",
    "        этой странице\n",
    "        ---------------\n",
    "        Attrs:\n",
    "            s (Supplier)\n",
    "        @returns\n",
    "            f (ProductFields) с заполненными полями, else False\n",
    "    \"\"\"\n",
    "\n",
    "\n",
    "    l = s.reread_locators('product')\n",
    "    d = s.driver\n",
    "   \n",
    "    _ = d.execute_locator\n",
    "\n",
    "    print('Strat local function grabber')\n",
    "\n",
    "    def add_new_product_stage_1(s: Supplier) -> ProductFields:\n",
    "        \"\"\" Первая стадия добавления нового товара. Заполняю все необходимые поля\n",
    "            Далее я отправлю их в PrestaShop и получу обратно ID вновь созданного товара\n",
    "            На второй стадии, зная ID, я отправлю главную картинку и прочее\n",
    "        \"\"\"\n",
    "        f: ProductFields = ProductFields()\n",
    "       \n",
    "        \"\"\" ID,ASIN,SKU,SUPPLIER SKU \"\"\"\n",
    "    \n",
    "\n",
    "        def _set_defaults() -> bool:\n",
    "            \"\"\" Set defaults for product of supplier \"\"\"\n",
    "            f.active = 1\n",
    "            f.on_sale = 1\n",
    "            f.min_qty = 1\n",
    "            f.low_stock_level = 0\n",
    "            f.low_stock_threshold = ''\n",
    "            f.show_price = 1\n",
    "            f.show_condition = 1\n",
    "            f.aviable_online_only = 0\n",
    "            f.advanced_stock_management = 0\n",
    "            f.state = 1\n",
    "\n",
    "        def set_price(s, format: str = 'str') -> Union[str,float]:\n",
    "            \"\"\" Привожу денюшку к \n",
    "            [ ] float \n",
    "            [v] str\n",
    "            \"\"\"\n",
    "            l = s.reread_locators('product')\n",
    "            raw_price = _(l['price'])[0]\n",
    "            #raw_price = str(raw_price).split('\\n')[0]\n",
    "            return StringNormalizer.normalize_price(raw_price)\n",
    "    \n",
    "\n",
    "        \"\"\" Я добавляю в базу данных престашоп товар путем нескольких последовательных действий\n",
    "        1. Добавляю поля, необходимые для создания нового товара\n",
    "        2. Получаю `id_product` созданного товара\n",
    "        3. Используя полученный `id_product` загружаю дефолтную картинку\n",
    "        4. итд.\n",
    "        \"\"\"\n",
    "\n",
    "        _set_defaults()\n",
    "        l = s.reread_locators('product')\n",
    "        reference = _(l['reference'])\n",
    "        f.reference = f'{s.supplier_id}-{reference}'\n",
    "        f.supplier_reference = reference\n",
    "        f.price = set_price(s, format = 'str')\n",
    "        f.name = _(l['name'])[0]\n",
    "        \n",
    "        f.description_short = _(l['description_short'])[0]\n",
    "        f.id_supplier = s.supplier_id\n",
    "        \n",
    "        _category_default = list(s.current_scenario['presta_categories']['default_category'].keys())[0]\n",
    "        f.id_category_default = _category_default\n",
    "        f.category_ids = Product.get_parent_categories(_category_default)\n",
    "\n",
    "        #affiliate = _(l['affiliate short link'])\n",
    "        #affiliate = affiliate[1][0]\n",
    "        #f.affiliate_short_link = affiliate\n",
    "\n",
    "        #f.link_rewrite = d.current_url.split(f'''/''')[-4]\n",
    "\n",
    "\n",
    "\n",
    "        #f.link_rewrite = \"test-link\"\n",
    "        return f\n",
    "\n",
    "    def upload_image(id_product, image_url) -> ProductFields:\n",
    "        \"\"\" После того, как я занес новый товар в бд - я получу его id\n",
    "        Далее я гружу фото и получаю ее id\n",
    "        Далее я догружаю осталные па\n",
    "        ----------------------\n",
    "        Attrs: \n",
    "            s (Supplier):\n",
    "            f (ProductFields): Заполненные на первом этапе поля. Я беру из них только то, что мне надо для апдейта\n",
    "        @returns\n",
    "            ProductFields: поля для апдейта\n",
    "        \"\"\"\n",
    "\n",
    "        img = Product.upload_product_default_image(id_product, image_url)\n",
    "        return img\n",
    "        \n",
    "    \n",
    "\n",
    "\n",
    "\n",
    "    if id_product == 0:\n",
    "        print(\"---------------------NEW PRODUCT-----------------------\")\n",
    "        f = add_new_product_stage_1(s)\n",
    "        product_dict = f.product_dict\n",
    "        product = Product.add_2_PrestaShop(product_dict, presta_api_version)\n",
    "        id_product = product['id']\n",
    "        print(\"---------------------NEW PRODUCT ID-----------------------\")\n",
    "        print(id_product)\n",
    "        image_url = _(l['additional_images_urls'])[0]\n",
    "        img = upload_image(id_product, image_url)\n",
    "        return product, img\n",
    "\n",
    "    \n",
    "    ...\n"
   ]
  },
  {
   "cell_type": "code",
   "execution_count": null,
   "id": "e660ff38-8993-496a-ba5f-1acb4b37cd9f",
   "metadata": {},
   "outputs": [],
   "source": [
    "product_fields: ProductFields = Product.grab_product_page(s)\n",
    "#product_fields: ProductFields = grab_product_page(s)"
   ]
  },
  {
   "cell_type": "code",
   "execution_count": null,
   "id": "31a2bfc6-3696-4a9d-9981-8a1a7828f46a",
   "metadata": {},
   "outputs": [],
   "source": [
    "jprint(product_fields.fields)"
   ]
  },
  {
   "cell_type": "code",
   "execution_count": null,
   "id": "79feb0aa-6424-47d5-876d-1068fb45b9af",
   "metadata": {},
   "outputs": [],
   "source": [
    "product_dict: dict = {}\n",
    "product_dict['product'] = product_fields.fields"
   ]
  },
  {
   "cell_type": "code",
   "execution_count": null,
   "id": "498e17fe-9619-4c0f-9dbd-86336131b5f9",
   "metadata": {},
   "outputs": [],
   "source": [
    "jprint(product_dict)"
   ]
  },
  {
   "cell_type": "code",
   "execution_count": null,
   "id": "f0214c6b-dbb3-431b-b270-c00eaff0401e",
   "metadata": {},
   "outputs": [],
   "source": [
    "#prod = PrestaAPIV1.add('products', product_dict)"
   ]
  },
  {
   "cell_type": "code",
   "execution_count": null,
   "id": "b6731893-c515-4ed0-9776-6be637150329",
   "metadata": {},
   "outputs": [],
   "source": [
    "pprint(prod['product'])"
   ]
  },
  {
   "cell_type": "markdown",
   "id": "c92b2398-f140-4ba4-a855-850fc4095a62",
   "metadata": {},
   "source": [
    "# Погоняй до сюда"
   ]
  },
  {
   "cell_type": "code",
   "execution_count": null,
   "id": "d1a98b58-1dbe-447a-b437-129525ebbd18",
   "metadata": {},
   "outputs": [],
   "source": [
    "l = s.reread_locators('product')\n",
    "affiliate = _(l['affiliate short link'])\n",
    "pprint(l['affiliate short link'])\n",
    "pprint(affiliate)"
   ]
  },
  {
   "cell_type": "code",
   "execution_count": null,
   "id": "1380da5e-10b3-4130-a84a-2ee8f6a6a84f",
   "metadata": {},
   "outputs": [],
   "source": [
    "\n",
    "product_dict['product']['link_rewrite']: dict = \\\n",
    "{\n",
    "    \"language\":[\n",
    "        {'attrs': {'id': '1'},'value': link_rewrite},\n",
    "        {'attrs': {'id': '1'},'value': link_rewrite},\n",
    "        {'attrs': {'id': '1'},'value': link_rewrite}\n",
    "]}\n",
    "\n",
    "\n",
    "product_dict['product']['affiliate_short_link']: dict = \\\n",
    "{\n",
    "    \"language\":[\n",
    "        {'attrs': {'id': '1'},'value': affiliate[1][0]},\n",
    "        {'attrs': {'id': '1'},'value': affiliate[1][0]},\n",
    "        {'attrs': {'id': '1'},'value': affiliate[1][0]}\n",
    "]}\n",
    "\n",
    "\n",
    "\n",
    "pprint(product_dict)"
   ]
  },
  {
   "cell_type": "code",
   "execution_count": null,
   "id": "e84588bc-f824-42dc-b8e1-9fa69184338f",
   "metadata": {},
   "outputs": [],
   "source": [
    "prod = PrestaAPIV1OdAhad.add('products', product_dict)"
   ]
  },
  {
   "cell_type": "code",
   "execution_count": null,
   "id": "41b5d978-8983-42c3-beab-5a93dd624207",
   "metadata": {},
   "outputs": [],
   "source": [
    "pprint(PrestaAPIV1OdAhad.add('products', product_dict))\n",
    "#pprint(Product.add_2_PrestaShop(product_dict))"
   ]
  },
  {
   "cell_type": "code",
   "execution_count": null,
   "id": "3d2e16a4-1333-496d-80cb-f3f277d00c1c",
   "metadata": {},
   "outputs": [],
   "source": [
    "PrestaAPIV1.add('products', product_dict)"
   ]
  },
  {
   "cell_type": "code",
   "execution_count": null,
   "id": "477283fc-72d1-4461-bdf5-6750407c2659",
   "metadata": {},
   "outputs": [],
   "source": [
    "test_p = Product.get_product_info_by_id(63)"
   ]
  },
  {
   "cell_type": "code",
   "execution_count": null,
   "id": "be343c11-794e-43e9-a67b-b0f696401f1d",
   "metadata": {},
   "outputs": [],
   "source": []
  }
 ],
 "metadata": {
  "kernelspec": {
   "display_name": "Python 3 (ipykernel)",
   "language": "python",
   "name": "python3"
  },
  "language_info": {
   "codemirror_mode": {
    "name": "ipython",
    "version": 3
   },
   "file_extension": ".py",
   "mimetype": "text/x-python",
   "name": "python",
   "nbconvert_exporter": "python",
   "pygments_lexer": "ipython3",
   "version": "3.11.7"
  },
  "toc-autonumbering": false,
  "toc-showcode": true,
  "toc-showmarkdowntxt": false
 },
 "nbformat": 4,
 "nbformat_minor": 5
}
