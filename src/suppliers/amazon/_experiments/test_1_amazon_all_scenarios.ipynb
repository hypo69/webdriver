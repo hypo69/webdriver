{
 "cells": [
  {
   "cell_type": "code",
   "execution_count": null,
   "id": "16c2d86b-cced-4b15-9ed1-06282f71b39d",
   "metadata": {},
   "outputs": [],
   "source": [
    "import header\n",
    "from header import  pprint, start_supplier, Product, ProductFields\n",
    "\n",
    "supplier_prefix = 'amazon'\n",
    "s = start_supplier(supplier_prefix)\n",
    "\n",
    "s.run()"
   ]
  },
  {
   "cell_type": "code",
   "execution_count": null,
   "id": "8825df33-d56b-4455-885a-b011510ca5ea",
   "metadata": {},
   "outputs": [],
   "source": []
  }
 ],
 "metadata": {
  "kernelspec": {
   "display_name": "Python 3 (ipykernel)",
   "language": "python",
   "name": "python3"
  },
  "language_info": {
   "codemirror_mode": {
    "name": "ipython",
    "version": 3
   },
   "file_extension": ".py",
   "mimetype": "text/x-python",
   "name": "python",
   "nbconvert_exporter": "python",
   "pygments_lexer": "ipython3",
   "version": "3.11.3"
  }
 },
 "nbformat": 4,
 "nbformat_minor": 5
}
