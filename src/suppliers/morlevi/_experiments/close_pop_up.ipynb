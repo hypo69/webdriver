{
 "cells": [
  {
   "cell_type": "markdown",
   "id": "e890c0aa",
   "metadata": {},
   "source": [
    "# MORLEVI"
   ]
  },
  {
   "cell_type": "code",
   "execution_count": 13,
   "id": "d6ab0e38",
   "metadata": {},
   "outputs": [],
   "source": [
    "import asyncio\n",
    "import header\n",
    "from types import SimpleNamespace"
   ]
  },
  {
   "cell_type": "code",
   "execution_count": 8,
   "id": "fcd24705-f23e-4ef3-87d3-d025226762f6",
   "metadata": {},
   "outputs": [],
   "source": [
    "from src import gs\n",
    "from src.webdriver.driver import Driver\n",
    "from src.webdriver.firefox import Firefox\n",
    "from src.utils.jjson import j_loads_ns"
   ]
  },
  {
   "cell_type": "code",
   "execution_count": 5,
   "id": "bf06d763-6cd3-40a2-bf36-881f4de2199a",
   "metadata": {},
   "outputs": [
    {
     "name": "stderr",
     "output_type": "stream",
     "text": [
      "INFO: \u001b[32mStart Firefox \u001b[0m\n",
      "2024-12-04 17:51:35,174 - INFO - \u001b[32mStart Firefox \u001b[0m\n"
     ]
    }
   ],
   "source": [
    "d = Driver(Firefox)"
   ]
  },
  {
   "cell_type": "code",
   "execution_count": 11,
   "id": "fb1f8115-4911-42c0-be9d-dc6dd987b0df",
   "metadata": {},
   "outputs": [],
   "source": [
    "locator:SimpleNamespace =  j_loads_ns(gs.path.src / 'suppliers' / 'morlevi' / 'locators' / 'product.json' )"
   ]
  },
  {
   "cell_type": "code",
   "execution_count": 6,
   "id": "ac219c3d-27d6-4a64-8116-de8706c3b8be",
   "metadata": {},
   "outputs": [
    {
     "data": {
      "text/plain": [
       "True"
      ]
     },
     "execution_count": 6,
     "metadata": {},
     "output_type": "execute_result"
    }
   ],
   "source": [
    "d.get_url('https://www.morlevi.co.il/product/19041')"
   ]
  },
  {
   "cell_type": "code",
   "execution_count": 15,
   "id": "f4cb8359-71d2-4946-b8cb-8a7b85678202",
   "metadata": {},
   "outputs": [
    {
     "name": "stderr",
     "output_type": "stream",
     "text": [
      "ERROR: \u001b[37m\u001b[41mТаймаут для локатора: namespace(attribute=None, by='xpath', selector=\"//button[@class='close']\", if_list='first', use_mouse=False, event='click()', mandatory=True, locator_description='Кнопка закрытия попап окна') Message: \n",
      "\u001b[0m\n",
      "2024-12-04 17:59:44,478 - ERROR - \u001b[37m\u001b[41mТаймаут для локатора: namespace(attribute=None, by='xpath', selector=\"//button[@class='close']\", if_list='first', use_mouse=False, event='click()', mandatory=True, locator_description='Кнопка закрытия попап окна') Message: \n",
      "\u001b[0m\n"
     ]
    },
    {
     "data": {
      "text/plain": [
       "False"
      ]
     },
     "execution_count": 15,
     "metadata": {},
     "output_type": "execute_result"
    }
   ],
   "source": [
    "await d.execute_locator(locator.close_pop_up)"
   ]
  },
  {
   "cell_type": "code",
   "execution_count": null,
   "id": "b26954de-bb78-4e41-93f5-3126d93dbb37",
   "metadata": {},
   "outputs": [],
   "source": []
  }
 ],
 "metadata": {
  "kernelspec": {
   "display_name": "Python 3 (ipykernel)",
   "language": "python",
   "name": "python3"
  },
  "language_info": {
   "codemirror_mode": {
    "name": "ipython",
    "version": 3
   },
   "file_extension": ".py",
   "mimetype": "text/x-python",
   "name": "python",
   "nbconvert_exporter": "python",
   "pygments_lexer": "ipython3",
   "version": "3.12.3"
  }
 },
 "nbformat": 4,
 "nbformat_minor": 5
}
