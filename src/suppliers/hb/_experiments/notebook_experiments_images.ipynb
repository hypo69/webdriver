{
 "cells": [
  {
   "cell_type": "code",
   "execution_count": 1,
   "id": "7773ff1f",
   "metadata": {},
   "outputs": [
    {
     "name": "stdout",
     "output_type": "stream",
     "text": [
      "Master password for kee... database: ········\n"
     ]
    }
   ],
   "source": [
    "import notebook_header\n",
    "from notebook_header import start_supplier\n",
    "from notebook_header import pprint,  logger, j_dumps, j_loads\n",
    "from notebook_header import Driver, execute_locator, Supplier, Product, ProductFields\n",
    "from notebook_header import StringNormalizer, StringFormatter, Path, gs\n",
    "from src.scenarios import run_scenarios\n",
    "import re, shutil\n",
    "from selenium.webdriver.remote.webelement import WebElement"
   ]
  },
  {
   "cell_type": "code",
   "execution_count": 2,
   "id": "5db5092b",
   "metadata": {},
   "outputs": [
    {
     "name": "stderr",
     "output_type": "stream",
     "text": [
      "2024-03-02 16:45:32,368 - INFO - Start supplier\n",
      "2024-03-02 16:45:32,370 - INFO - \n",
      "        -----------------------------------------\n",
      "                Старт hb\n",
      "        -----------------------------------------\n",
      "2024-03-02 16:45:32,378 - INFO - hb Begin to attach driver ... \n",
      "2024-03-02 16:45:32,380 - INFO -  \n",
      "        -----------------------------------------------------\n",
      "        Старт вебдрайвера firefox. \n",
      "        Будет выбран драйвер, подключатся настройки и профиль.\n",
      "        На моем компьютере это занимает около полуминуты. Ждем...\n",
      "        -----------------------------------------------------\n",
      "2024-03-02 16:45:32,382 - INFO -  Firefox ... \n",
      "2024-03-02 16:46:04,274 - INFO -  ... стартовал \n",
      "2024-03-02 16:46:04,297 - DEBUG -  ... драйвер подключился за 32 seconds \n",
      "NoneType: None\n"
     ]
    },
    {
     "data": {
      "text/plain": [
       "' s - на протяжении всего кода означает запущенный инстанс класса `Supplier` '"
      ]
     },
     "execution_count": 2,
     "metadata": {},
     "output_type": "execute_result"
    }
   ],
   "source": [
    "s = start_supplier('hb', 'en')\n",
    "\"\"\" s - на протяжении всего кода означает запущенный инстанс класса `Supplier` \"\"\""
   ]
  },
  {
   "cell_type": "code",
   "execution_count": null,
   "id": "a1941c95",
   "metadata": {},
   "outputs": [],
   "source": []
  }
 ],
 "metadata": {
  "kernelspec": {
   "display_name": "Python 3 (ipykernel)",
   "language": "python",
   "name": "python3"
  },
  "language_info": {
   "codemirror_mode": {
    "name": "ipython",
    "version": 3
   },
   "file_extension": ".py",
   "mimetype": "text/x-python",
   "name": "python",
   "nbconvert_exporter": "python",
   "pygments_lexer": "ipython3",
   "version": "3.11.8"
  }
 },
 "nbformat": 4,
 "nbformat_minor": 5
}
