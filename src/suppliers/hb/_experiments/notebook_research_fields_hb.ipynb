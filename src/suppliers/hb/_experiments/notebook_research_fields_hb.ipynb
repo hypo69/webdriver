{
 "cells": [
  {
   "cell_type": "markdown",
   "id": "323295dc",
   "metadata": {},
   "source": [
    "# Research HB product fields"
   ]
  },
  {
   "cell_type": "code",
   "execution_count": 1,
   "id": "810d5781-0789-4a17-8668-b72f61bb480d",
   "metadata": {},
   "outputs": [
    {
     "name": "stdout",
     "output_type": "stream",
     "text": [
      "Master password for kee... database: ········\n"
     ]
    }
   ],
   "source": [
    "import notebook_header\n",
    "from notebook_header import start_supplier\n",
    "from notebook_header import pprint,  logger, j_dumps, j_loads, save_text_file\n",
    "from notebook_header import Driver, execute_locator, Supplier, Product, ProductFields\n",
    "from notebook_header import StringNormalizer, StringFormatter, Path, gs\n",
    "#from notebook_header import PrestaAPIV1, PrestaAPIV2, PrestaAPIV3\n",
    "from typing import List, Union, Dict\n",
    "import re, shutil\n",
    "from selenium.webdriver.remote.webelement import WebElement"
   ]
  },
  {
   "cell_type": "markdown",
   "id": "c11c5d7b",
   "metadata": {},
   "source": [
    "## Старт hbdeadsea.co.il"
   ]
  },
  {
   "cell_type": "code",
   "execution_count": 2,
   "id": "a725136a-c076-479a-a87c-02373a12c626",
   "metadata": {},
   "outputs": [
    {
     "name": "stderr",
     "output_type": "stream",
     "text": [
      "2024-03-02 15:53:03,958 - INFO - Start supplier\n",
      "2024-03-02 15:53:03,960 - INFO - \n",
      "        -----------------------------------------\n",
      "                Старт hb\n",
      "        -----------------------------------------\n",
      "2024-03-02 15:53:03,967 - INFO - hb Begin to attach driver ... \n",
      "2024-03-02 15:53:03,968 - INFO -  \n",
      "        -----------------------------------------------------\n",
      "        Старт вебдрайвера firefox. \n",
      "        Будет выбран драйвер, подключатся настройки и профиль.\n",
      "        На моем компьютере это занимает около полуминуты. Ждем...\n",
      "        -----------------------------------------------------\n",
      "2024-03-02 15:53:03,970 - INFO -  Firefox ... \n",
      "2024-03-02 15:53:37,063 - INFO -  ... стартовал \n",
      "2024-03-02 15:53:37,078 - DEBUG -  ... драйвер подключился за 34 seconds \n",
      "NoneType: None\n"
     ]
    },
    {
     "data": {
      "text/plain": [
       "' s - на протяжении всего кода означает запущенный инстанс класса `Supplier` '"
      ]
     },
     "execution_count": 2,
     "metadata": {},
     "output_type": "execute_result"
    }
   ],
   "source": [
    "s = start_supplier('hb', 'en')\n",
    "\"\"\" s - на протяжении всего кода означает запущенный инстанс класса `Supplier` \"\"\""
   ]
  },
  {
   "cell_type": "markdown",
   "id": "b7ecb4f9",
   "metadata": {},
   "source": [
    "\n",
    "## Соглашения: \n",
    "-  <b><i>s</i></b> - поставщик  *(Supplier)*\n",
    "-  <b><i>p</i></b> - товар  *(Product)*\n",
    "-  <b><i>l</i></b> - локаторы полей товара *(locators)*\n",
    "-  <b><i>d</i></b> - драйвер  *(Driver)*\n",
    "-  <b><i>f</i></b> - поля товара  *(ProductFields)*\n",
    "- <b><i>reread_locators</i></b> - перечитываль оригинальных локторов из файла"
   ]
  },
  {
   "cell_type": "code",
   "execution_count": 3,
   "id": "85f729c7",
   "metadata": {},
   "outputs": [],
   "source": [
    "p: Product = Product(s)\n",
    "l: dict = s.locators['product']\n",
    "d: Driver = s.driver\n",
    "f: ProductFields = ProductFields(s)"
   ]
  },
  {
   "cell_type": "markdown",
   "id": "28f9dc38",
   "metadata": {},
   "source": [
    "### *Тестовые сценарии, функции дебаггинга*: update_locators_file()  reread_locators()"
   ]
  },
  {
   "cell_type": "code",
   "execution_count": 4,
   "id": "2a77d9ae-e431-4350-bb59-a1a405f65828",
   "metadata": {},
   "outputs": [],
   "source": [
    "\"\"\"! @debug Тестовый сценарий. Нужен для правильного распределиня категорий \"\"\"\n",
    "s.current_scenario: dict =  {\n",
    "      \"url\": \"https://hbdeadsea.co.il/product-category/bodyspa/feet-hand-treatment/\",\n",
    "      \"name\": \"טיפוח כפות ידיים ורגליים\",\n",
    "      \"condition\": \"new\",\n",
    "      \"presta_categories\": {\n",
    "        \"default_category\": 11259,\n",
    "        \"additional_categories\": []\n",
    "      }\n",
    "    }"
   ]
  },
  {
   "cell_type": "markdown",
   "id": "8111cc8f",
   "metadata": {},
   "source": [
    "### reread_locators_file"
   ]
  },
  {
   "cell_type": "code",
   "execution_count": 5,
   "id": "6c056f82",
   "metadata": {},
   "outputs": [],
   "source": [
    "def reread_locators( entity = 'product'):\n",
    "    global l\n",
    "    try:\n",
    "        \"\"\"! \"\"\"\n",
    "        locators_file = Path (s.supplier_abs_path, 'locators', 'product.json')\n",
    "        l = s.locators [ entity ] = j_loads (locators_file) \n",
    "        return l #s.locators [ entity ]\n",
    "    except Exception as ex:\n",
    "        logger.error(f'ошибка  {ex}')\n",
    "        return"
   ]
  },
  {
   "cell_type": "markdown",
   "id": "9f98b68d",
   "metadata": {},
   "source": [
    "###  Update locator file"
   ]
  },
  {
   "cell_type": "code",
   "execution_count": 6,
   "id": "1b4b08f9-ef3d-4460-80f3-f01f2b74a396",
   "metadata": {},
   "outputs": [],
   "source": [
    "\"\"\"! @debug\n",
    "     Редактор локаторов  \n",
    "        Если я меняю локатор на лету - я могу заменить его в файле  \n",
    "        Хорош для дебаггера и изменения локатора при изменении дизайна целевой страницы.\n",
    "        Целевые страницы часто меняют дизайн, поэтому есть необходимость менять локатор \"на лету\".\n",
    "        Перед сохранением измененного значения создается файл бекап. \n",
    "        @todo Помнить об этой особенности. Она плодит файлы!\n",
    "        @param issue `str` сущность \n",
    "        @param locators `dict`: json для сохранения в файл\n",
    "        @returns locator dict : перезагруженый словарь локаторов\n",
    "        \"\"\"\n",
    "\"\"\" Перенес в класс Supplier \"\"\"\n",
    "\n",
    "\n",
    "def update_locators_file(locators: dict, entity: str ) -> dict:\n",
    "    global s\n",
    "    locators_file = Path (s.supplier_abs_path, 'locators', f'{entity}.json')\n",
    "    backup_locators_file = Path (s.supplier_abs_path, 'locators', f'{gs.now()}_{entity}.json')\n",
    "    shutil.copy2 (locators_file, backup_locators_file)\n",
    "    j_dumps (locators, locators_file)\n",
    "    s.locators [entity] = j_loads (locators_file)\n",
    "    return s.locators [entity]\n"
   ]
  },
  {
   "cell_type": "markdown",
   "id": "64766272",
   "metadata": {},
   "source": [
    "-----------------"
   ]
  },
  {
   "cell_type": "code",
   "execution_count": 7,
   "id": "df30d238",
   "metadata": {
    "scrolled": true
   },
   "outputs": [
    {
     "data": {
      "text/plain": [
       "'! Поля в классе f (ProductFields)'"
      ]
     },
     "execution_count": 7,
     "metadata": {},
     "output_type": "execute_result"
    }
   ],
   "source": [
    "\"\"\"! Поля в классе f (ProductFields)\"\"\"\n",
    "#pprint(f.fields_dict)"
   ]
  },
  {
   "cell_type": "markdown",
   "id": "e08c280c",
   "metadata": {},
   "source": [
    "### ИСПОЛНЕНИЕ СЦЕНАРИЯ"
   ]
  },
  {
   "cell_type": "code",
   "execution_count": 8,
   "id": "f3c7636c-40fd-4fec-a45e-24f08281834e",
   "metadata": {},
   "outputs": [
    {
     "name": "stderr",
     "output_type": "stream",
     "text": [
      "2024-03-02 15:53:40,081 - DEBUG - Страница загрузилась за 2.9389452934265137\n",
      "NoneType: None\n",
      "2024-03-02 15:53:40,090 - INFO -  Новый URI https://hbdeadsea.co.il/product-category/bodyspa/feet-hand-treatment/ \n"
     ]
    },
    {
     "data": {
      "text/plain": [
       "'! Начинаю сценарий. 1. Перешел по URL сценария '"
      ]
     },
     "execution_count": 8,
     "metadata": {},
     "output_type": "execute_result"
    }
   ],
   "source": [
    "d.get_url(s.current_scenario['url'])\n",
    "\"\"\"! Начинаю сценарий. 1. Перешел по URL сценария \"\"\""
   ]
  },
  {
   "cell_type": "code",
   "execution_count": null,
   "id": "d8790b37",
   "metadata": {},
   "outputs": [],
   "source": []
  },
  {
   "cell_type": "code",
   "execution_count": 9,
   "id": "e37d1293",
   "metadata": {},
   "outputs": [
    {
     "name": "stderr",
     "output_type": "stream",
     "text": [
      "2024-03-02 15:53:45,459 - INFO -  Найдено 16 товаров \n"
     ]
    },
    {
     "data": {
      "text/plain": [
       "'! Получил список товаров в категории '"
      ]
     },
     "execution_count": 9,
     "metadata": {},
     "output_type": "execute_result"
    }
   ],
   "source": [
    "list_products_in_category: list = s.related_modules.get_list_products_in_category(s)\n",
    "\"\"\"! Получил список товаров в категории \"\"\""
   ]
  },
  {
   "cell_type": "code",
   "execution_count": 10,
   "id": "e37914af",
   "metadata": {},
   "outputs": [
    {
     "data": {
      "text/plain": [
       "'! закрываю баннер '"
      ]
     },
     "execution_count": 10,
     "metadata": {},
     "output_type": "execute_result"
    }
   ],
   "source": [
    "d.execute_locator(s.locators['product']['close_banner'])\n",
    "\"\"\"! закрываю баннер \"\"\""
   ]
  },
  {
   "cell_type": "code",
   "execution_count": 11,
   "id": "6db12167",
   "metadata": {},
   "outputs": [
    {
     "data": {
      "text/plain": [
       "'! Можно на них посмотреть '"
      ]
     },
     "execution_count": 11,
     "metadata": {},
     "output_type": "execute_result"
    }
   ],
   "source": [
    "\"\"\"! Можно на них посмотреть \"\"\"\n",
    "#pprint(list_products_in_category)\n",
    "#for url in list_products_in_category : print(url)"
   ]
  },
  {
   "cell_type": "markdown",
   "id": "fa117300",
   "metadata": {},
   "source": [
    "## Начинаю собирать поля товара\n",
    "1. Перехожу по URI первого товара из списка"
   ]
  },
  {
   "cell_type": "code",
   "execution_count": 12,
   "id": "e12e9c16-1696-4934-8aa4-032757357128",
   "metadata": {},
   "outputs": [
    {
     "name": "stderr",
     "output_type": "stream",
     "text": [
      "2024-03-02 15:53:46,835 - DEBUG - Страница загрузилась за 1.350431203842163\n",
      "NoneType: None\n",
      "2024-03-02 15:53:46,846 - INFO -  Новый URI https://hbdeadsea.co.il/product/%d7%a7%d7%a8%d7%9d-%d7%98%d7%99%d7%a4%d7%95%d7%9c%d7%99-%d7%9c%d7%99%d7%93%d7%99%d7%99%d7%9d-%d7%95%d7%9c%d7%a6%d7%99%d7%a4%d7%95%d7%a8%d7%a0%d7%99%d7%99%d7%9d-3/ \n"
     ]
    },
    {
     "data": {
      "text/plain": [
       "'! перешел по первому url из списка '"
      ]
     },
     "execution_count": 12,
     "metadata": {},
     "output_type": "execute_result"
    }
   ],
   "source": [
    "d.get_url(list_products_in_category[0])\n",
    "\"\"\"! перешел по первому url из списка \"\"\"\n"
   ]
  },
  {
   "cell_type": "markdown",
   "id": "6af938f6",
   "metadata": {},
   "source": [
    "\n",
    "<hr>\n"
   ]
  },
  {
   "cell_type": "code",
   "execution_count": 13,
   "id": "6696247d",
   "metadata": {},
   "outputs": [
    {
     "data": {
      "text/plain": [
       "'! закрываю баннер '"
      ]
     },
     "execution_count": 13,
     "metadata": {},
     "output_type": "execute_result"
    }
   ],
   "source": [
    "d.wait(5)\n",
    "d.execute_locator(s.locators['product']['close_banner'])\n",
    "\"\"\"! закрываю баннер \"\"\""
   ]
  },
  {
   "cell_type": "markdown",
   "id": "4ae9f628",
   "metadata": {},
   "source": [
    "<font color=green size=5>Функции, специфичные для конкретного  поставщика</font>"
   ]
  },
  {
   "cell_type": "code",
   "execution_count": 14,
   "id": "74048dd9",
   "metadata": {},
   "outputs": [],
   "source": [
    "#############################################################################\n",
    "#\n",
    "#"
   ]
  },
  {
   "cell_type": "code",
   "execution_count": 15,
   "id": "8605b010",
   "metadata": {},
   "outputs": [],
   "source": [
    "\n",
    "def product_reference_and_volume_and_price_for_100():\n",
    "    \"\"\"!  Функция вытаскивает 3 поля:\n",
    "    - volume,\n",
    "    - supplier_reference,\n",
    "    - цена за единицу товара \n",
    "    @todo Реализовать поле `цена за единицу товара`\"\"\"\n",
    "    global f\n",
    "    webelements: [WebElement] = d.execute_locator(l['product_reference_and_volume_and_price_for_100'])\n",
    "\n",
    "    for webelement in webelements:\n",
    "        if ('Fl.oz' and 'מ\"ל' )\tin webelement.text:\n",
    "            \"\"\"! объем \"\"\"\n",
    "            f.volume = webelement.text\n",
    "        elif str(r'מחיר ל100 מ\"ל') in webelement.text:\n",
    "            \"\"\"! цена за единицу товара\n",
    "            @todo придумать куда\n",
    "            \"\"\"\n",
    "            print(f'цена за единицу товара:{webelement.text}')\n",
    "        elif 'מקט' in webelement.text:\n",
    "            f.supplier_reference = StringNormalizer.get_numbers_only(webelement.text)\n",
    "        ...\n",
    "    ...\n",
    "product_reference_and_volume_and_price_for_100()    "
   ]
  },
  {
   "cell_type": "code",
   "execution_count": 16,
   "id": "fb759a05",
   "metadata": {},
   "outputs": [],
   "source": [
    "#\n",
    "#\n",
    "###########################################################################"
   ]
  },
  {
   "cell_type": "code",
   "execution_count": null,
   "id": "672e985d",
   "metadata": {},
   "outputs": [],
   "source": []
  },
  {
   "cell_type": "markdown",
   "id": "001957a8",
   "metadata": {},
   "source": [
    "## наполняю данными объект ProductFields. \n",
    "(Порядок полей в коде - алфавитный. Поля таблиц PrestaShop имеют свою нумерацию)"
   ]
  },
  {
   "cell_type": "markdown",
   "id": "0176b044",
   "metadata": {},
   "source": [
    "### Оязательные поля"
   ]
  },
  {
   "cell_type": "markdown",
   "id": "e789f7a8",
   "metadata": {},
   "source": [
    "#### Заполняю поле поставщика\n",
    "<a id=FieldStringFormatterormulas></a>\n",
    "[отсюда можно запустить заполнение всех полей сразу](#FillAllFields)  \n",
    "или:\n",
    "- [Обязательные поля](#FieldsIds)\n",
    "- [Доставка](#DeliveryFields)\n",
    "- [Affiliate](#AffiliateFields)\n",
    "- [Description](#DescriptionFields)\n",
    "\n",
    "##### supplier_id, supplier_refernce, reference\n",
    "<a id=FieldsIds></a>"
   ]
  },
  {
   "cell_type": "code",
   "execution_count": 17,
   "id": "7d3b5a72",
   "metadata": {},
   "outputs": [],
   "source": [
    "f.id_supplier = s.supplier_id\n",
    "f.reference = f'{s.supplier_id}-{f.supplier_reference}'"
   ]
  },
  {
   "cell_type": "code",
   "execution_count": 18,
   "id": "10e544f9",
   "metadata": {},
   "outputs": [
    {
     "name": "stdout",
     "output_type": "stream",
     "text": [
      "'11267'\n",
      "'2226'\n",
      "'11267-2226'\n"
     ]
    }
   ],
   "source": [
    "pprint(s.supplier_id)\n",
    "pprint(f.supplier_reference)\n",
    "pprint(f.reference)"
   ]
  },
  {
   "cell_type": "markdown",
   "id": "b93ae876",
   "metadata": {},
   "source": [
    "-----"
   ]
  },
  {
   "cell_type": "markdown",
   "id": "76f32c3f",
   "metadata": {},
   "source": [
    "### Доставка\n",
    "<a id=DeliveryFields></a>\n",
    "[наверх к списку полей](#FieldStringFormatterormulas)"
   ]
  },
  {
   "cell_type": "code",
   "execution_count": 45,
   "id": "e8092b21",
   "metadata": {},
   "outputs": [],
   "source": [
    "def field_additional_shipping_cost():\n",
    "    \"\"\"!  \n",
    "     стоимость доставки\n",
    "    @details\n",
    "    \"\"\"\n",
    "    return d.execute_locator(l['additional_shipping_cost'])"
   ]
  },
  {
   "cell_type": "code",
   "execution_count": 46,
   "id": "c7f9d329",
   "metadata": {},
   "outputs": [],
   "source": [
    "f.additional_shipping_cost  = field_additional_shipping_cost()"
   ]
  },
  {
   "cell_type": "code",
   "execution_count": 47,
   "id": "ce7164cd",
   "metadata": {},
   "outputs": [
    {
     "name": "stdout",
     "output_type": "stream",
     "text": [
      "30\n"
     ]
    }
   ],
   "source": [
    "print(f.additional_shipping_cost)"
   ]
  },
  {
   "cell_type": "code",
   "execution_count": 48,
   "id": "c5027840",
   "metadata": {},
   "outputs": [],
   "source": [
    "def field_delivery_in_stock():\n",
    "    \"\"\"!  \n",
    "     Доставка, когда товар в наличии\n",
    "    @details\n",
    "    \"\"\"\n",
    "    return d.execute_locator(l['delivery_in_stock'])\n",
    "\n",
    "f.delivery_in_stock = field_delivery_in_stock()"
   ]
  },
  {
   "cell_type": "code",
   "execution_count": 49,
   "id": "8a437377",
   "metadata": {},
   "outputs": [
    {
     "name": "stdout",
     "output_type": "stream",
     "text": [
      "{'language': [{'attrs': {'id': '1'}, 'value': 'Israel Post'},\n",
      "              {'attrs': {'id': '2'}, 'value': 'Israel Post'},\n",
      "              {'attrs': {'id': '3'}, 'value': 'Israel Post'}]}\n"
     ]
    }
   ],
   "source": [
    "pprint(f.delivery_in_stock)"
   ]
  },
  {
   "cell_type": "code",
   "execution_count": 50,
   "id": "8e4e31c8",
   "metadata": {},
   "outputs": [],
   "source": [
    "def field_delivery_out_stock():\n",
    "    \"\"\"!  \n",
    "     Заметка о доставке, когда товара нет в наличии\n",
    "    \"\"\"\n",
    "    webelement = d.execute_locator(l['delivery_out_stock'])\n",
    "    if len(webelement) <1: return '' # <- товар в наличии\n",
    "    #else: return str(webelement[0].text).decode('utf-8')  # <- товара нет, запиаываю сообщение с сайта (אזל ממלאי)\n",
    "    else: return str(webelement[0].text)  # <- товара нет, запиаываю сообщение с сайта (אזל ממלאי)\n",
    "    \n",
    "\n",
    "f.delivery_out_stock = field_delivery_out_stock()     "
   ]
  },
  {
   "cell_type": "code",
   "execution_count": 51,
   "id": "9df36157",
   "metadata": {},
   "outputs": [
    {
     "name": "stdout",
     "output_type": "stream",
     "text": [
      "{'language': [{'attrs': {'id': '1'}, 'value': 'המלאי אזל'},\n",
      "              {'attrs': {'id': '2'}, 'value': 'המלאי אזל'},\n",
      "              {'attrs': {'id': '3'}, 'value': 'המלאי אזל'}]}\n"
     ]
    }
   ],
   "source": [
    "pprint(f.delivery_out_stock)"
   ]
  },
  {
   "cell_type": "code",
   "execution_count": 52,
   "id": "be6bdd5e",
   "metadata": {},
   "outputs": [],
   "source": [
    "#l = reread_locators()"
   ]
  },
  {
   "cell_type": "markdown",
   "id": "3463dda6",
   "metadata": {},
   "source": [
    "------"
   ]
  },
  {
   "cell_type": "markdown",
   "id": "ee4f73f2",
   "metadata": {},
   "source": [
    "### affiliate\n",
    "<a id=AffiliateFields></a>\n",
    "[наверх к списку полей](#FieldStringFormatterormulas)"
   ]
  },
  {
   "cell_type": "code",
   "execution_count": 53,
   "id": "cc60a07b",
   "metadata": {},
   "outputs": [],
   "source": [
    "f.affiliate_short_link = d.current_url"
   ]
  },
  {
   "cell_type": "code",
   "execution_count": 54,
   "id": "2737f245",
   "metadata": {},
   "outputs": [
    {
     "name": "stdout",
     "output_type": "stream",
     "text": [
      "{'language': [{'attrs': {'id': '1'},\n",
      "               'value': 'https://hbdeadsea.co.il/product/%d7%a7%d7%a8%d7%9d-%d7%98%d7%99%d7%a4%d7%95%d7%9c%d7%99-%d7%9c%d7%99%d7%93%d7%99%d7%99%d7%9d-%d7%95%d7%9c%d7%a6%d7%99%d7%a4%d7%95%d7%a8%d7%a0%d7%99%d7%99%d7%9d-3/'},\n",
      "              {'attrs': {'id': '2'},\n",
      "               'value': 'https://hbdeadsea.co.il/product/%d7%a7%d7%a8%d7%9d-%d7%98%d7%99%d7%a4%d7%95%d7%9c%d7%99-%d7%9c%d7%99%d7%93%d7%99%d7%99%d7%9d-%d7%95%d7%9c%d7%a6%d7%99%d7%a4%d7%95%d7%a8%d7%a0%d7%99%d7%99%d7%9d-3/'},\n",
      "              {'attrs': {'id': '3'},\n",
      "               'value': 'https://hbdeadsea.co.il/product/%d7%a7%d7%a8%d7%9d-%d7%98%d7%99%d7%a4%d7%95%d7%9c%d7%99-%d7%9c%d7%99%d7%93%d7%99%d7%99%d7%9d-%d7%95%d7%9c%d7%a6%d7%99%d7%a4%d7%95%d7%a8%d7%a0%d7%99%d7%99%d7%9d-3/'}]}\n"
     ]
    }
   ],
   "source": [
    "pprint(f.affiliate_short_link)"
   ]
  },
  {
   "cell_type": "markdown",
   "id": "d856735f",
   "metadata": {},
   "source": [
    "### описание товара\n",
    "<a id=DescriptionFields></a>\n",
    "[наверх к списку полей](#FieldStringFormatterormulas)\n",
    "### description, name,  meta_title, meta_description, meta_keywords, link_rewrite, brand"
   ]
  },
  {
   "cell_type": "code",
   "execution_count": 55,
   "id": "3882e8db",
   "metadata": {},
   "outputs": [],
   "source": [
    "def field_name(product_name: str) -> str:\n",
    "\t\"\"\"!  Название товара \n",
    "\tОчищаю поля от лишних параметров, которые не проходят в престашоп \n",
    "\t\"\"\"\n",
    "\treturn str(StringNormalizer.normalize_product_name(product_name))"
   ]
  },
  {
   "cell_type": "code",
   "execution_count": 56,
   "id": "307f00cb",
   "metadata": {},
   "outputs": [],
   "source": [
    "def field_link_rewrite(product_name: str) -> str:\n",
    "\t\"\"\"!  Создается из переменной `product_name` которая содержит значение локатора l['name'] \t\"\"\"\t\n",
    "\treturn str(StringNormalizer.normalize_link_rewrite ( product_name ))\n",
    "\t"
   ]
  },
  {
   "cell_type": "code",
   "execution_count": 57,
   "id": "1c57682a",
   "metadata": {},
   "outputs": [],
   "source": [
    "###########################################################################################################\n",
    "_name = d.execute_locator (l['name'])[0]\t# чтоб два раза не бегать, Я получаю значение локатора в _name\n",
    "f.name = field_name(_name)\t\t\t\t\t# а потом использую для f.name\n",
    "f.link_rewrite = field_link_rewrite(_name)  # и для f.link_rewrite\n",
    "###########################################################################################################\t"
   ]
  },
  {
   "cell_type": "code",
   "execution_count": 58,
   "id": "605ac1cb",
   "metadata": {},
   "outputs": [
    {
     "name": "stdout",
     "output_type": "stream",
     "text": [
      "{'language': [{'attrs': {'id': '1'},\n",
      "               'value': 'קרם_טיפולי_לידיים_ולציפורניים_בניחוח_מגנוליה_כחולה'},\n",
      "              {'attrs': {'id': '2'},\n",
      "               'value': 'קרם_טיפולי_לידיים_ולציפורניים_בניחוח_מגנוליה_כחולה'},\n",
      "              {'attrs': {'id': '3'},\n",
      "               'value': 'קרם_טיפולי_לידיים_ולציפורניים_בניחוח_מגנוליה_כחולה'}]}\n"
     ]
    }
   ],
   "source": [
    "pprint(f.link_rewrite)\n",
    "#pprint(f.name)"
   ]
  },
  {
   "cell_type": "code",
   "execution_count": 59,
   "id": "64c82254",
   "metadata": {},
   "outputs": [],
   "source": [
    "\n",
    "def field_description():\n",
    "    return str(d.execute_locator (l['description'] )[0].text)\n",
    "\n",
    "f.description = f.description_short = field_description()"
   ]
  },
  {
   "cell_type": "code",
   "execution_count": 60,
   "id": "4d386595",
   "metadata": {},
   "outputs": [
    {
     "name": "stdout",
     "output_type": "stream",
     "text": [
      "{'language': [{'attrs': {'id': '1'},\n",
      "               'value': 'כפות ידיים מטופחות הן כרטיס הביקור של כל אישה ועבורן '\n",
      "                        'נוצר קרם ידיים מהטובים שיש. משמש ככפפה להגנת העור '\n",
      "                        'מפני השפעותיהם המזיקות של חומרי הניקוי. מכיל רכיבים '\n",
      "                        'צמחיים כגון שמן אבוקדו, שמן זית, שמן עץ התה, שמן '\n",
      "                        'קלנדולה, שמן לבנדר, תמצית ורדים, חמאת שיאה, שמן קוקוס '\n",
      "                        'ובנוסף דבש ואלוורה להרגעה. זהו שילוב מנצח לתוצאות '\n",
      "                        'בדוקות, להחלקת וריכוך הידיים וחיזוק ציפורניים שבורות '\n",
      "                        'ומפוצלות. מועשר בויטמינים A+E+С ו-26 מינרלים מים '\n",
      "                        'המלח. מומלץ להחזיק שפופרת של קרם זה בתיק, ברכב '\n",
      "                        'ובמשרד.'},\n",
      "              {'attrs': {'id': '2'},\n",
      "               'value': 'כפות ידיים מטופחות הן כרטיס הביקור של כל אישה ועבורן '\n",
      "                        'נוצר קרם ידיים מהטובים שיש. משמש ככפפה להגנת העור '\n",
      "                        'מפני השפעותיהם המזיקות של חומרי הניקוי. מכיל רכיבים '\n",
      "                        'צמחיים כגון שמן אבוקדו, שמן זית, שמן עץ התה, שמן '\n",
      "                        'קלנדולה, שמן לבנדר, תמצית ורדים, חמאת שיאה, שמן קוקוס '\n",
      "                        'ובנוסף דבש ואלוורה להרגעה. זהו שילוב מנצח לתוצאות '\n",
      "                        'בדוקות, להחלקת וריכוך הידיים וחיזוק ציפורניים שבורות '\n",
      "                        'ומפוצלות. מועשר בויטמינים A+E+С ו-26 מינרלים מים '\n",
      "                        'המלח. מומלץ להחזיק שפופרת של קרם זה בתיק, ברכב '\n",
      "                        'ובמשרד.'},\n",
      "              {'attrs': {'id': '3'},\n",
      "               'value': 'כפות ידיים מטופחות הן כרטיס הביקור של כל אישה ועבורן '\n",
      "                        'נוצר קרם ידיים מהטובים שיש. משמש ככפפה להגנת העור '\n",
      "                        'מפני השפעותיהם המזיקות של חומרי הניקוי. מכיל רכיבים '\n",
      "                        'צמחיים כגון שמן אבוקדו, שמן זית, שמן עץ התה, שמן '\n",
      "                        'קלנדולה, שמן לבנדר, תמצית ורדים, חמאת שיאה, שמן קוקוס '\n",
      "                        'ובנוסף דבש ואלוורה להרגעה. זהו שילוב מנצח לתוצאות '\n",
      "                        'בדוקות, להחלקת וריכוך הידיים וחיזוק ציפורניים שבורות '\n",
      "                        'ומפוצלות. מועשר בויטמינים A+E+С ו-26 מינרלים מים '\n",
      "                        'המלח. מומלץ להחזיק שפופרת של קרם זה בתיק, ברכב '\n",
      "                        'ובמשרד.'}]}\n"
     ]
    }
   ],
   "source": [
    "pprint(f.description)"
   ]
  },
  {
   "cell_type": "code",
   "execution_count": 61,
   "id": "2dbd8d5a",
   "metadata": {},
   "outputs": [],
   "source": [
    "def field_how_to_use():\n",
    "\treturn str(d.execute_locator ( l ['how_to_use'] )[0].text)\n",
    "\t...\n",
    "\n",
    "f.how_to_use = field_how_to_use()"
   ]
  },
  {
   "cell_type": "code",
   "execution_count": 62,
   "id": "e9d82e64",
   "metadata": {},
   "outputs": [
    {
     "name": "stdout",
     "output_type": "stream",
     "text": [
      "{'language': [{'attrs': {'id': '1'},\n",
      "               'value': 'אופן השימוש: יש לעסות את הידיים והציפורניים לאחר כל '\n",
      "                        'שטיפת ידיים בסבון. יש להשתמש בתמרוק רק למטרה שלשמה '\n",
      "                        'הוא נועד ובהתאם להוראות שימוש, אין לבלוע, יש להימנע '\n",
      "                        'ממגע בעיניים, להרחיק מילדים, לשימוש חיצוני בלבד, אין '\n",
      "                        'להשתמש במוצר אם ידועה רגישות לאחד המרכיבים, לא לשימוש '\n",
      "                        'בתינוקות.'},\n",
      "              {'attrs': {'id': '2'},\n",
      "               'value': 'אופן השימוש: יש לעסות את הידיים והציפורניים לאחר כל '\n",
      "                        'שטיפת ידיים בסבון. יש להשתמש בתמרוק רק למטרה שלשמה '\n",
      "                        'הוא נועד ובהתאם להוראות שימוש, אין לבלוע, יש להימנע '\n",
      "                        'ממגע בעיניים, להרחיק מילדים, לשימוש חיצוני בלבד, אין '\n",
      "                        'להשתמש במוצר אם ידועה רגישות לאחד המרכיבים, לא לשימוש '\n",
      "                        'בתינוקות.'},\n",
      "              {'attrs': {'id': '3'},\n",
      "               'value': 'אופן השימוש: יש לעסות את הידיים והציפורניים לאחר כל '\n",
      "                        'שטיפת ידיים בסבון. יש להשתמש בתמרוק רק למטרה שלשמה '\n",
      "                        'הוא נועד ובהתאם להוראות שימוש, אין לבלוע, יש להימנע '\n",
      "                        'ממגע בעיניים, להרחיק מילדים, לשימוש חיצוני בלבד, אין '\n",
      "                        'להשתמש במוצר אם ידועה רגישות לאחד המרכיבים, לא לשימוש '\n",
      "                        'בתינוקות.'}]}\n"
     ]
    }
   ],
   "source": [
    "pprint(f.how_to_use)"
   ]
  },
  {
   "cell_type": "code",
   "execution_count": 63,
   "id": "e401133d",
   "metadata": {},
   "outputs": [],
   "source": [
    "def field_ingredients():\n",
    "\t\"\"\"!  Состав. Забираю с сайта HTML с картинками ингридиентов \"\"\"\n",
    "\t\n",
    "\treturn str(d.execute_locator ( l['ingredients'] )[0].text)\n",
    "\t...\n",
    "f.ingredients = field_ingredients()"
   ]
  },
  {
   "cell_type": "code",
   "execution_count": 64,
   "id": "907856d7",
   "metadata": {},
   "outputs": [
    {
     "name": "stdout",
     "output_type": "stream",
     "text": [
      "{'language': [{'attrs': {'id': '1'},\n",
      "               'value': 'מינרלים מים המלח\\n'\n",
      "                        'ויטמין E\\n'\n",
      "                        'ויטמין C\\n'\n",
      "                        'ויטמין A\\n'\n",
      "                        'חמאת שיאה\\n'\n",
      "                        'שמן זית\\n'\n",
      "                        'אבוקדו\\n'\n",
      "                        'שמן קלנדולה\\n'\n",
      "                        'דבש\\n'\n",
      "                        'אלוורה'},\n",
      "              {'attrs': {'id': '2'},\n",
      "               'value': 'מינרלים מים המלח\\n'\n",
      "                        'ויטמין E\\n'\n",
      "                        'ויטמין C\\n'\n",
      "                        'ויטמין A\\n'\n",
      "                        'חמאת שיאה\\n'\n",
      "                        'שמן זית\\n'\n",
      "                        'אבוקדו\\n'\n",
      "                        'שמן קלנדולה\\n'\n",
      "                        'דבש\\n'\n",
      "                        'אלוורה'},\n",
      "              {'attrs': {'id': '3'},\n",
      "               'value': 'מינרלים מים המלח\\n'\n",
      "                        'ויטמין E\\n'\n",
      "                        'ויטמין C\\n'\n",
      "                        'ויטמין A\\n'\n",
      "                        'חמאת שיאה\\n'\n",
      "                        'שמן זית\\n'\n",
      "                        'אבוקדו\\n'\n",
      "                        'שמן קלנדולה\\n'\n",
      "                        'דבש\\n'\n",
      "                        'אלוורה'}]}\n"
     ]
    }
   ],
   "source": [
    "pprint(f.ingredients)\n"
   ]
  },
  {
   "cell_type": "code",
   "execution_count": 65,
   "id": "47b5bfa2",
   "metadata": {},
   "outputs": [],
   "source": [
    "def field_id_manufacturer():\n",
    "\t\"\"\"!  ID бренда. Может быть и названием бренда - престашоп сам разберется \"\"\"\n",
    "\t\n",
    "\treturn d.execute_locator(l[\"id_manufacturer\"])\n",
    "\t..."
   ]
  },
  {
   "cell_type": "markdown",
   "id": "de1de423",
   "metadata": {},
   "source": [
    "### Категории"
   ]
  },
  {
   "cell_type": "code",
   "execution_count": 66,
   "id": "02206e8e",
   "metadata": {},
   "outputs": [],
   "source": [
    "def field_id_category_default():\n",
    "\t\"\"\"!  Главная категория товара. Берется из сценария\t\"\"\"\n",
    "\treturn s.current_scenario['presta_categories']['default_category']\n",
    "\t...\n",
    "f.id_category_default = field_id_category_default()"
   ]
  },
  {
   "cell_type": "code",
   "execution_count": 41,
   "id": "33160ecf",
   "metadata": {},
   "outputs": [
    {
     "name": "stdout",
     "output_type": "stream",
     "text": [
      "11259\n"
     ]
    }
   ],
   "source": [
    "pprint(f.id_category_default)"
   ]
  },
  {
   "cell_type": "markdown",
   "id": "c95e90d1",
   "metadata": {},
   "source": [
    "### Цена"
   ]
  },
  {
   "cell_type": "code",
   "execution_count": 42,
   "id": "ffca2eea",
   "metadata": {},
   "outputs": [],
   "source": [
    "#l = reread_locators()"
   ]
  },
  {
   "cell_type": "code",
   "execution_count": 43,
   "id": "43533039",
   "metadata": {},
   "outputs": [],
   "source": [
    "def field_price():\n",
    "\t\"\"\"!  \n",
    "\t\n",
    "\t@details\n",
    "\t\"\"\"\n",
    "\treturn StringNormalizer.normalize_price (d.execute_locator (l['price'])[0] ) \n",
    "\n",
    "#f.price = f.wholesale_price = str(field_price())\n",
    "f.price = f.wholesale_price = field_price()"
   ]
  },
  {
   "cell_type": "code",
   "execution_count": 44,
   "id": "10964fce",
   "metadata": {},
   "outputs": [
    {
     "name": "stdout",
     "output_type": "stream",
     "text": [
      "8.0\n"
     ]
    }
   ],
   "source": [
    "pprint(f.price)"
   ]
  },
  {
   "cell_type": "markdown",
   "id": "14135614",
   "metadata": {},
   "source": [
    "### Изображения"
   ]
  },
  {
   "cell_type": "code",
   "execution_count": 69,
   "id": "01369e84",
   "metadata": {},
   "outputs": [],
   "source": [
    "f.assist_fields_dict['default_image_url']: str = d.execute_locator(l[\"default_image_url\"])\n",
    "\n",
    "_images_urls: Union[List, str] = d.execute_locator(l[\"additional_images_urls\"])\n",
    "if _images_urls and len(_images_urls) > 0:\n",
    "    _images_urls: List = [_images_urls] if isinstance(_images_urls, str) else _images_urls\n",
    "    f.assist_fields_dict['product_images_additional_urls'] = [url.replace(\"-100x100\", \"\") for url in _images_urls]"
   ]
  },
  {
   "cell_type": "code",
   "execution_count": 70,
   "id": "5c6644fa",
   "metadata": {},
   "outputs": [
    {
     "name": "stdout",
     "output_type": "stream",
     "text": [
      "{'default_image_url': '',\n",
      " 'images_urls': '',\n",
      " 'default_image_url': ['https://hbdeadsea.co.il/wp-content/uploads/2022/08/2226-copy.jpg'],\n",
      " 'product_images_additional_urls': ['https://hbdeadsea.co.il/wp-content/uploads/2022/08/2226-copy.jpg',\n",
      "                                    'https://hbdeadsea.co.il/wp-content/uploads/2022/11/222322252226.jpg']}\n"
     ]
    }
   ],
   "source": [
    "pprint(f.assist_fields_dict)"
   ]
  },
  {
   "cell_type": "markdown",
   "id": "f1fbe51b",
   "metadata": {},
   "source": [
    "# Stop"
   ]
  },
  {
   "cell_type": "code",
   "execution_count": 45,
   "id": "503d2fc5",
   "metadata": {},
   "outputs": [],
   "source": [
    "presta_fields_dict = f.presta_fields_dict\n",
    "assist_fields_dict = f.assist_fields_dict"
   ]
  },
  {
   "cell_type": "code",
   "execution_count": 46,
   "id": "d863eb3a",
   "metadata": {},
   "outputs": [
    {
     "name": "stderr",
     "output_type": "stream",
     "text": [
      "2024-02-21 20:45:24,386 - INFO - Файл будет сохаранен в C:\\Users\\user\\Documents\\repos\\hypotez\\log\\20240221204524-11267-2226.json\n"
     ]
    },
    {
     "data": {
      "text/plain": [
       "True"
      ]
     },
     "execution_count": 46,
     "metadata": {},
     "output_type": "execute_result"
    }
   ],
   "source": [
    "#pprint(f.presta_fields_dict)\n",
    "j_dumps(presta_fields_dict, Path(gs.dir_log, f'{gs.now()}-{presta_fields_dict[\"reference\"]}.json'))"
   ]
  },
  {
   "cell_type": "code",
   "execution_count": 72,
   "id": "736e6d96",
   "metadata": {},
   "outputs": [
    {
     "name": "stdout",
     "output_type": "stream",
     "text": [
      "--------------------------V2 ERROR -------------------------------------\n"
     ]
    },
    {
     "name": "stderr",
     "output_type": "stream",
     "text": [
      "Traceback (most recent call last):\n",
      "  File \"C:\\Users\\user\\Documents\\repos\\hypotez\\src\\PrestaShop\\product.py\", line 163, in add\n",
      "    response = PrestaAPIV2.add('products', data, data_format)['product']\n",
      "               ^^^^^^^^^^^^^^^^^^^^^^^^^^^^^^^^^^^^^^^^^^^^^^\n",
      "  File \"C:\\Users\\user\\Documents\\repos\\hypotez\\src\\PrestaShop\\presta_apis\\presta_python_api_v2\\PrestaShop_api.py\", line 45, in add\n",
      "    return self._request('POST', resource, data = data, data_format = data_format )\n",
      "           ^^^^^^^^^^^^^^^^^^^^^^^^^^^^^^^^^^^^^^^^^^^^^^^^^^^^^^^^^^^^^^^^^^^^^^^^\n",
      "  File \"C:\\Users\\user\\Documents\\repos\\hypotez\\src\\PrestaShop\\presta_apis\\presta_python_api_v2\\PrestaShop_api.py\", line 42, in _request\n",
      "    return self._check_response(res, xmltodict.parse(res.text)['PrestaShop'] if not files and res.text and res.text != '[]' else None)\n",
      "           ^^^^^^^^^^^^^^^^^^^^^^^^^^^^^^^^^^^^^^^^^^^^^^^^^^^^^^^^^^^^^^^^^^^^^^^^^^^^^^^^^^^^^^^^^^^^^^^^^^^^^^^^^^^^^^^^^^^^^^^^^^^\n",
      "  File \"C:\\Users\\user\\Documents\\repos\\hypotez\\src\\PrestaShop\\presta_apis\\presta_python_api_v2\\PrestaShop_api.py\", line 33, in _check_response\n",
      "    raise PrestaShopException_V2('Status %s, %s' % (res.status_code, ret))\n",
      "src.PrestaShop.presta_apis.presta_python_api_v2.PrestaShop_api.PrestaShopException_V2: Status 500, {'@xmlns:xlink': 'http://www.w3.org/1999/xlink', 'errors': {'error': {'code': '127', 'message': 'XML error : String could not be parsed as XML\\nXML length : 11103\\nOriginal XML : <?xml version=\"1.0\" encoding=\"utf-8\"?>\\n<PrestaShop><product><active>1</active><additional_delivery_times></additional_delivery_times><additional_shipping_cost>30</additional_shipping_cost><advanced_stock_management></advanced_stock_management><affiliate_short_link><language><attrs><id>1</id></attrs><value>https://hbdeadsea.co.il/product/%d7%a7%d7%a8%d7%9d-%d7%98%d7%99%d7%a4%d7%95%d7%9c%d7%99-%d7%9c%d7%99%d7%93%d7%99%d7%99%d7%9d-%d7%95%d7%9c%d7%a6%d7%99%d7%a4%d7%95%d7%a8%d7%a0%d7%99%d7%99%d7%9d-3/</value></language><language><attrs><id>2</id></attrs><value>https://hbdeadsea.co.il/product/%d7%a7%d7%a8%d7%9d-%d7%98%d7%99%d7%a4%d7%95%d7%9c%d7%99-%d7%9c%d7%99%d7%93%d7%99%d7%99%d7%9d-%d7%95%d7%9c%d7%a6%d7%99%d7%a4%d7%95%d7%a8%d7%a0%d7%99%d7%99%d7%9d-3/</value></language><language><attrs><id>3</id></attrs><value>https://hbdeadsea.co.il/product/%d7%a7%d7%a8%d7%9d-%d7%98%d7%99%d7%a4%d7%95%d7%9c%d7%99-%d7%9c%d7%99%d7%93%d7%99%d7%99%d7%9d-%d7%95%d7%9c%d7%a6%d7%99%d7%a4%d7%95%d7%a8%d7%a0%d7%99%d7%99%d7%9d-3/</value></language></affiliate_short_link><affiliate_summary><language><attrs><id>1</id></attrs><value></value></language><language><attrs><id>2</id></attrs><value></value></language><language><attrs><id>3</id></attrs><value></value></language></affiliate_summary><affiliate_summary_2><language><attrs><id>1</id></attrs><value></value></language><language><attrs><id>2</id></attrs><value></value></language><language><attrs><id>3</id></attrs><value></value></language></affiliate_summary_2><affiliate_text><language><attrs><id>1</id></attrs><value></value></language><language><attrs><id>2</id></attrs><value></value></language><language><attrs><id>3</id></attrs><value></value></language></affiliate_text><associations><categories><id>2</id></categories></associations><available_date></available_date><available_for_order>1</available_for_order><available_later><language><attrs><id>1</id></attrs><value></value></language><language><attrs><id>2</id></attrs><value></value></language><language><attrs><id>3</id></attrs><value></value></language></available_later><available_now><language><attrs><id>1</id></attrs><value></value></language><language><attrs><id>2</id></attrs><value></value></language><language><attrs><id>3</id></attrs><value></value></language></available_now><cache_default_attribute></cache_default_attribute><cache_has_attachments></cache_has_attachments><cache_is_pack></cache_is_pack><condition>new</condition><customizable></customizable><date_add></date_add><date_upd></date_upd><delivery_in_stock><language><attrs><id>1</id></attrs><value>Israel Post</value></language><language><attrs><id>2</id></attrs><value>Israel Post</value></language><language><attrs><id>3</id></attrs><value>Israel Post</value></language></delivery_in_stock><delivery_out_stock><language><attrs><id>1</id></attrs><value>המלאי אזל</value></language><language><attrs><id>2</id></attrs><value>המלאי אזל</value></language><language><attrs><id>3</id></attrs><value>המלאי אזל</value></language></delivery_out_stock><depth></depth><description><language><attrs><id>1</id></attrs><value>כפות ידיים מטופחות הן כרטיס הביקור של כל אישה ועבורן נוצר קרם ידיים מהטובים שיש. משמש ככפפה להגנת העור מפני השפעותיהם המזיקות של חומרי הניקוי. מכיל רכיבים צמחיים כגון שמן אבוקדו, שמן זית, שמן עץ התה, שמן קלנדולה, שמן לבנדר, תמצית ורדים, חמאת שיאה, שמן קוקוס ובנוסף דבש ואלוורה להרגעה. זהו שילוב מנצח לתוצאות בדוקות, להחלקת וריכוך הידיים וחיזוק ציפורניים שבורות ומפוצלות. מועשר בויטמינים A+E+С ו-26 מינרלים מים המלח. מומלץ להחזיק שפופרת של קרם זה בתיק, ברכב ובמשרד.</value></language><language><attrs><id>2</id></attrs><value>כפות ידיים מטופחות הן כרטיס הביקור של כל אישה ועבורן נוצר קרם ידיים מהטובים שיש. משמש ככפפה להגנת העור מפני השפעותיהם המזיקות של חומרי הניקוי. מכיל רכיבים צמחיים כגון שמן אבוקדו, שמן זית, שמן עץ התה, שמן קלנדולה, שמן לבנדר, תמצית ורדים, חמאת שיאה, שמן קוקוס ובנוסף דבש ואלוורה להרגעה. זהו שילוב מנצח לתוצאות בדוקות, להחלקת וריכוך הידיים וחיזוק ציפורניים שבורות ומפוצלות. מועשר בויטמינים A+E+С ו-26 מינרלים מים המלח. מומלץ להחזיק שפופרת של קרם זה בתיק, ברכב ובמשרד.</value></language><language><attrs><id>3</id></attrs><value>כפות ידיים מטופחות הן כרטיס הביקור של כל אישה ועבורן נוצר קרם ידיים מהטובים שיש. משמש ככפפה להגנת העור מפני השפעותיהם המזיקות של חומרי הניקוי. מכיל רכיבים צמחיים כגון שמן אבוקדו, שמן זית, שמן עץ התה, שמן קלנדולה, שמן לבנדר, תמצית ורדים, חמאת שיאה, שמן קוקוס ובנוסף דבש ואלוורה להרגעה. זהו שילוב מנצח לתוצאות בדוקות, להחלקת וריכוך הידיים וחיזוק ציפורניים שבורות ומפוצלות. מועשר בויטמינים A+E+С ו-26 מינרלים מים המלח. מומלץ להחזיק שפופרת של קרם זה בתיק, ברכב ובמשרד.</value></language></description><description_short><language><attrs><id>1</id></attrs><value>כפות ידיים מטופחות הן כרטיס הביקור של כל אישה ועבורן נוצר קרם ידיים מהטובים שיש. משמש ככפפה להגנת העור מפני השפעותיהם המזיקות של חומרי הניקוי. מכיל רכיבים צמחיים כגון שמן אבוקדו, שמן זית, שמן עץ התה, שמן קלנדולה, שמן לבנדר, תמצית ורדים, חמאת שיאה, שמן קוקוס ובנוסף דבש ואלוורה להרגעה. זהו שילוב מנצח לתוצאות בדוקות, להחלקת וריכוך הידיים וחיזוק ציפורניים שבורות ומפוצלות. מועשר בויטמינים A+E+С ו-26 מינרלים מים המלח. מומלץ להחזיק שפופרת של קרם זה בתיק, ברכב ובמשרד.</value></language><language><attrs><id>2</id></attrs><value>כפות ידיים מטופחות הן כרטיס הביקור של כל אישה ועבורן נוצר קרם ידיים מהטובים שיש. משמש ככפפה להגנת העור מפני השפעותיהם המזיקות של חומרי הניקוי. מכיל רכיבים צמחיים כגון שמן אבוקדו, שמן זית, שמן עץ התה, שמן קלנדולה, שמן לבנדר, תמצית ורדים, חמאת שיאה, שמן קוקוס ובנוסף דבש ואלוורה להרגעה. זהו שילוב מנצח לתוצאות בדוקות, להחלקת וריכוך הידיים וחיזוק ציפורניים שבורות ומפוצלות. מועשר בויטמינים A+E+С ו-26 מינרלים מים המלח. מומלץ להחזיק שפופרת של קרם זה בתיק, ברכב ובמשרד.</value></language><language><attrs><id>3</id></attrs><value>כפות ידיים מטופחות הן כרטיס הביקור של כל אישה ועבורן נוצר קרם ידיים מהטובים שיש. משמש ככפפה להגנת העור מפני השפעותיהם המזיקות של חומרי הניקוי. מכיל רכיבים צמחיים כגון שמן אבוקדו, שמן זית, שמן עץ התה, שמן קלנדולה, שמן לבנדר, תמצית ורדים, חמאת שיאה, שמן קוקוס ובנוסף דבש ואלוורה להרגעה. זהו שילוב מנצח לתוצאות בדוקות, להחלקת וריכוך הידיים וחיזוק ציפורניים שבורות ומפוצלות. מועשר בויטמינים A+E+С ו-26 מינרלים מים המלח. מומלץ להחזיק שפופרת של קרם זה בתיק, ברכב ובמשרד.</value></language></description_short><ean13></ean13><ecotax></ecotax><height></height><how_to_use><language><attrs><id>1</id></attrs><value>אופן השימוש: יש לעסות את הידיים והציפורניים לאחר כל שטיפת ידיים בסבון. יש להשתמש בתמרוק רק למטרה שלשמה הוא נועד ובהתאם להוראות שימוש, אין לבלוע, יש להימנע ממגע בעיניים, להרחיק מילדים, לשימוש חיצוני בלבד, אין להשתמש במוצר אם ידועה רגישות לאחד המרכיבים, לא לשימוש בתינוקות.</value></language><language><attrs><id>2</id></attrs><value>אופן השימוש: יש לעסות את הידיים והציפורניים לאחר כל שטיפת ידיים בסבון. יש להשתמש בתמרוק רק למטרה שלשמה הוא נועד ובהתאם להוראות שימוש, אין לבלוע, יש להימנע ממגע בעיניים, להרחיק מילדים, לשימוש חיצוני בלבד, אין להשתמש במוצר אם ידועה רגישות לאחד המרכיבים, לא לשימוש בתינוקות.</value></language><language><attrs><id>3</id></attrs><value>אופן השימוש: יש לעסות את הידיים והציפורניים לאחר כל שטיפת ידיים בסבון. יש להשתמש בתמרוק רק למטרה שלשמה הוא נועד ובהתאם להוראות שימוש, אין לבלוע, יש להימנע ממגע בעיניים, להרחיק מילדים, לשימוש חיצוני בלבד, אין להשתמש במוצר אם ידועה רגישות לאחד המרכיבים, לא לשימוש בתינוקות.</value></language></how_to_use><id_category_default>11259</id_category_default><id_default_combination></id_default_combination><id_default_image></id_default_image><id_manufacturer></id_manufacturer><id_product></id_product><id_shop_default>1</id_shop_default><id_shop></id_shop><id_supplier>11267</id_supplier><id_tax>13</id_tax><id_type_redirected></id_type_redirected><indexed></indexed><ingredients><language><attrs><id>1</id></attrs><value>מינרלים מים המלח\\nויטמין E\\nויטמין C\\nויטמין A\\nחמאת שיאה\\nשמן זית\\nאבוקדו\\nשמן קלנדולה\\nדבש\\nאלוורה</value></language><language><attrs><id>2</id></attrs><value>מינרלים מים המלח\\nויטמין E\\nויטמין C\\nויטמין A\\nחמאת שיאה\\nשמן זית\\nאבוקדו\\nשמן קלנדולה\\nדבש\\nאלוורה</value></language><language><attrs><id>3</id></attrs><value>מינרלים מים המלח\\nויטמין E\\nוי�'}}}\n"
     ]
    },
    {
     "name": "stderr",
     "output_type": "stream",
     "text": [
      "2024-03-02 16:14:58,456 - ERROR - Status 500, {'@xmlns:xlink': 'http://www.w3.org/1999/xlink', 'errors': {'error': {'code': '127', 'message': 'XML error : String could not be parsed as XML\\nXML length : 11103\\nOriginal XML : <?xml version=\"1.0\" encoding=\"utf-8\"?>\\n<PrestaShop><product><active>1</active><additional_delivery_times></additional_delivery_times><additional_shipping_cost>30</additional_shipping_cost><advanced_stock_management></advanced_stock_management><affiliate_short_link><language><attrs><id>1</id></attrs><value>https://hbdeadsea.co.il/product/%d7%a7%d7%a8%d7%9d-%d7%98%d7%99%d7%a4%d7%95%d7%9c%d7%99-%d7%9c%d7%99%d7%93%d7%99%d7%99%d7%9d-%d7%95%d7%9c%d7%a6%d7%99%d7%a4%d7%95%d7%a8%d7%a0%d7%99%d7%99%d7%9d-3/</value></language><language><attrs><id>2</id></attrs><value>https://hbdeadsea.co.il/product/%d7%a7%d7%a8%d7%9d-%d7%98%d7%99%d7%a4%d7%95%d7%9c%d7%99-%d7%9c%d7%99%d7%93%d7%99%d7%99%d7%9d-%d7%95%d7%9c%d7%a6%d7%99%d7%a4%d7%95%d7%a8%d7%a0%d7%99%d7%99%d7%9d-3/</value></language><language><attrs><id>3</id></attrs><value>https://hbdeadsea.co.il/product/%d7%a7%d7%a8%d7%9d-%d7%98%d7%99%d7%a4%d7%95%d7%9c%d7%99-%d7%9c%d7%99%d7%93%d7%99%d7%99%d7%9d-%d7%95%d7%9c%d7%a6%d7%99%d7%a4%d7%95%d7%a8%d7%a0%d7%99%d7%99%d7%9d-3/</value></language></affiliate_short_link><affiliate_summary><language><attrs><id>1</id></attrs><value></value></language><language><attrs><id>2</id></attrs><value></value></language><language><attrs><id>3</id></attrs><value></value></language></affiliate_summary><affiliate_summary_2><language><attrs><id>1</id></attrs><value></value></language><language><attrs><id>2</id></attrs><value></value></language><language><attrs><id>3</id></attrs><value></value></language></affiliate_summary_2><affiliate_text><language><attrs><id>1</id></attrs><value></value></language><language><attrs><id>2</id></attrs><value></value></language><language><attrs><id>3</id></attrs><value></value></language></affiliate_text><associations><categories><id>2</id></categories></associations><available_date></available_date><available_for_order>1</available_for_order><available_later><language><attrs><id>1</id></attrs><value></value></language><language><attrs><id>2</id></attrs><value></value></language><language><attrs><id>3</id></attrs><value></value></language></available_later><available_now><language><attrs><id>1</id></attrs><value></value></language><language><attrs><id>2</id></attrs><value></value></language><language><attrs><id>3</id></attrs><value></value></language></available_now><cache_default_attribute></cache_default_attribute><cache_has_attachments></cache_has_attachments><cache_is_pack></cache_is_pack><condition>new</condition><customizable></customizable><date_add></date_add><date_upd></date_upd><delivery_in_stock><language><attrs><id>1</id></attrs><value>Israel Post</value></language><language><attrs><id>2</id></attrs><value>Israel Post</value></language><language><attrs><id>3</id></attrs><value>Israel Post</value></language></delivery_in_stock><delivery_out_stock><language><attrs><id>1</id></attrs><value>המלאי אזל</value></language><language><attrs><id>2</id></attrs><value>המלאי אזל</value></language><language><attrs><id>3</id></attrs><value>המלאי אזל</value></language></delivery_out_stock><depth></depth><description><language><attrs><id>1</id></attrs><value>כפות ידיים מטופחות הן כרטיס הביקור של כל אישה ועבורן נוצר קרם ידיים מהטובים שיש. משמש ככפפה להגנת העור מפני השפעותיהם המזיקות של חומרי הניקוי. מכיל רכיבים צמחיים כגון שמן אבוקדו, שמן זית, שמן עץ התה, שמן קלנדולה, שמן לבנדר, תמצית ורדים, חמאת שיאה, שמן קוקוס ובנוסף דבש ואלוורה להרגעה. זהו שילוב מנצח לתוצאות בדוקות, להחלקת וריכוך הידיים וחיזוק ציפורניים שבורות ומפוצלות. מועשר בויטמינים A+E+С ו-26 מינרלים מים המלח. מומלץ להחזיק שפופרת של קרם זה בתיק, ברכב ובמשרד.</value></language><language><attrs><id>2</id></attrs><value>כפות ידיים מטופחות הן כרטיס הביקור של כל אישה ועבורן נוצר קרם ידיים מהטובים שיש. משמש ככפפה להגנת העור מפני השפעותיהם המזיקות של חומרי הניקוי. מכיל רכיבים צמחיים כגון שמן אבוקדו, שמן זית, שמן עץ התה, שמן קלנדולה, שמן לבנדר, תמצית ורדים, חמאת שיאה, שמן קוקוס ובנוסף דבש ואלוורה להרגעה. זהו שילוב מנצח לתוצאות בדוקות, להחלקת וריכוך הידיים וחיזוק ציפורניים שבורות ומפוצלות. מועשר בויטמינים A+E+С ו-26 מינרלים מים המלח. מומלץ להחזיק שפופרת של קרם זה בתיק, ברכב ובמשרד.</value></language><language><attrs><id>3</id></attrs><value>כפות ידיים מטופחות הן כרטיס הביקור של כל אישה ועבורן נוצר קרם ידיים מהטובים שיש. משמש ככפפה להגנת העור מפני השפעותיהם המזיקות של חומרי הניקוי. מכיל רכיבים צמחיים כגון שמן אבוקדו, שמן זית, שמן עץ התה, שמן קלנדולה, שמן לבנדר, תמצית ורדים, חמאת שיאה, שמן קוקוס ובנוסף דבש ואלוורה להרגעה. זהו שילוב מנצח לתוצאות בדוקות, להחלקת וריכוך הידיים וחיזוק ציפורניים שבורות ומפוצלות. מועשר בויטמינים A+E+С ו-26 מינרלים מים המלח. מומלץ להחזיק שפופרת של קרם זה בתיק, ברכב ובמשרד.</value></language></description><description_short><language><attrs><id>1</id></attrs><value>כפות ידיים מטופחות הן כרטיס הביקור של כל אישה ועבורן נוצר קרם ידיים מהטובים שיש. משמש ככפפה להגנת העור מפני השפעותיהם המזיקות של חומרי הניקוי. מכיל רכיבים צמחיים כגון שמן אבוקדו, שמן זית, שמן עץ התה, שמן קלנדולה, שמן לבנדר, תמצית ורדים, חמאת שיאה, שמן קוקוס ובנוסף דבש ואלוורה להרגעה. זהו שילוב מנצח לתוצאות בדוקות, להחלקת וריכוך הידיים וחיזוק ציפורניים שבורות ומפוצלות. מועשר בויטמינים A+E+С ו-26 מינרלים מים המלח. מומלץ להחזיק שפופרת של קרם זה בתיק, ברכב ובמשרד.</value></language><language><attrs><id>2</id></attrs><value>כפות ידיים מטופחות הן כרטיס הביקור של כל אישה ועבורן נוצר קרם ידיים מהטובים שיש. משמש ככפפה להגנת העור מפני השפעותיהם המזיקות של חומרי הניקוי. מכיל רכיבים צמחיים כגון שמן אבוקדו, שמן זית, שמן עץ התה, שמן קלנדולה, שמן לבנדר, תמצית ורדים, חמאת שיאה, שמן קוקוס ובנוסף דבש ואלוורה להרגעה. זהו שילוב מנצח לתוצאות בדוקות, להחלקת וריכוך הידיים וחיזוק ציפורניים שבורות ומפוצלות. מועשר בויטמינים A+E+С ו-26 מינרלים מים המלח. מומלץ להחזיק שפופרת של קרם זה בתיק, ברכב ובמשרד.</value></language><language><attrs><id>3</id></attrs><value>כפות ידיים מטופחות הן כרטיס הביקור של כל אישה ועבורן נוצר קרם ידיים מהטובים שיש. משמש ככפפה להגנת העור מפני השפעותיהם המזיקות של חומרי הניקוי. מכיל רכיבים צמחיים כגון שמן אבוקדו, שמן זית, שמן עץ התה, שמן קלנדולה, שמן לבנדר, תמצית ורדים, חמאת שיאה, שמן קוקוס ובנוסף דבש ואלוורה להרגעה. זהו שילוב מנצח לתוצאות בדוקות, להחלקת וריכוך הידיים וחיזוק ציפורניים שבורות ומפוצלות. מועשר בויטמינים A+E+С ו-26 מינרלים מים המלח. מומלץ להחזיק שפופרת של קרם זה בתיק, ברכב ובמשרד.</value></language></description_short><ean13></ean13><ecotax></ecotax><height></height><how_to_use><language><attrs><id>1</id></attrs><value>אופן השימוש: יש לעסות את הידיים והציפורניים לאחר כל שטיפת ידיים בסבון. יש להשתמש בתמרוק רק למטרה שלשמה הוא נועד ובהתאם להוראות שימוש, אין לבלוע, יש להימנע ממגע בעיניים, להרחיק מילדים, לשימוש חיצוני בלבד, אין להשתמש במוצר אם ידועה רגישות לאחד המרכיבים, לא לשימוש בתינוקות.</value></language><language><attrs><id>2</id></attrs><value>אופן השימוש: יש לעסות את הידיים והציפורניים לאחר כל שטיפת ידיים בסבון. יש להשתמש בתמרוק רק למטרה שלשמה הוא נועד ובהתאם להוראות שימוש, אין לבלוע, יש להימנע ממגע בעיניים, להרחיק מילדים, לשימוש חיצוני בלבד, אין להשתמש במוצר אם ידועה רגישות לאחד המרכיבים, לא לשימוש בתינוקות.</value></language><language><attrs><id>3</id></attrs><value>אופן השימוש: יש לעסות את הידיים והציפורניים לאחר כל שטיפת ידיים בסבון. יש להשתמש בתמרוק רק למטרה שלשמה הוא נועד ובהתאם להוראות שימוש, אין לבלוע, יש להימנע ממגע בעיניים, להרחיק מילדים, לשימוש חיצוני בלבד, אין להשתמש במוצר אם ידועה רגישות לאחד המרכיבים, לא לשימוש בתינוקות.</value></language></how_to_use><id_category_default>11259</id_category_default><id_default_combination></id_default_combination><id_default_image></id_default_image><id_manufacturer></id_manufacturer><id_product></id_product><id_shop_default>1</id_shop_default><id_shop></id_shop><id_supplier>11267</id_supplier><id_tax>13</id_tax><id_type_redirected></id_type_redirected><indexed></indexed><ingredients><language><attrs><id>1</id></attrs><value>מינרלים מים המלח\\nויטמין E\\nויטמין C\\nויטמין A\\nחמאת שיאה\\nשמן זית\\nאבוקדו\\nשמן קלנדולה\\nדבש\\nאלוורה</value></language><language><attrs><id>2</id></attrs><value>מינרלים מים המלח\\nויטמין E\\nויטמין C\\nויטמין A\\nחמאת שיאה\\nשמן זית\\nאבוקדו\\nשמן קלנדולה\\nדבש\\nאלוורה</value></language><language><attrs><id>3</id></attrs><value>מינרלים מים המלח\\nויטמין E\\nוי�'}}}"
     ]
    },
    {
     "name": "stderr",
     "output_type": "stream",
     "text": [
      "\n",
      "Traceback (most recent call last):\n",
      "  File \"C:\\Users\\user\\Documents\\repos\\hypotez\\src\\PrestaShop\\product.py\", line 163, in add\n",
      "    response = PrestaAPIV2.add('products', data, data_format)['product']\n",
      "               ^^^^^^^^^^^^^^^^^^^^^^^^^^^^^^^^^^^^^^^^^^^^^^\n",
      "  File \"C:\\Users\\user\\Documents\\repos\\hypotez\\src\\PrestaShop\\presta_apis\\presta_python_api_v2\\PrestaShop_api.py\", line 45, in add\n",
      "    return self._request('POST', resource, data = data, data_format = data_format )\n",
      "           ^^^^^^^^^^^^^^^^^^^^^^^^^^^^^^^^^^^^^^^^^^^^^^^^^^^^^^^^^^^^^^^^^^^^^^^^\n",
      "  File \"C:\\Users\\user\\Documents\\repos\\hypotez\\src\\PrestaShop\\presta_apis\\presta_python_api_v2\\PrestaShop_api.py\", line 42, in _request\n",
      "    return self._check_response(res, xmltodict.parse(res.text)['PrestaShop'] if not files and res.text and res.text != '[]' else None)\n",
      "           ^^^^^^^^^^^^^^^^^^^^^^^^^^^^^^^^^^^^^^^^^^^^^^^^^^^^^^^^^^^^^^^^^^^^^^^^^^^^^^^^^^^^^^^^^^^^^^^^^^^^^^^^^^^^^^^^^^^^^^^^^^^\n",
      "  File \"C:\\Users\\user\\Documents\\repos\\hypotez\\src\\PrestaShop\\presta_apis\\presta_python_api_v2\\PrestaShop_api.py\", line 33, in _check_response\n",
      "    raise PrestaShopException_V2('Status %s, %s' % (res.status_code, ret))\n",
      "src.PrestaShop.presta_apis.presta_python_api_v2.PrestaShop_api.PrestaShopException_V2: Status 500, {'@xmlns:xlink': 'http://www.w3.org/1999/xlink', 'errors': {'error': {'code': '127', 'message': 'XML error : String could not be parsed as XML\\nXML length : 11103\\nOriginal XML : <?xml version=\"1.0\" encoding=\"utf-8\"?>\\n<PrestaShop><product><active>1</active><additional_delivery_times></additional_delivery_times><additional_shipping_cost>30</additional_shipping_cost><advanced_stock_management></advanced_stock_management><affiliate_short_link><language><attrs><id>1</id></attrs><value>https://hbdeadsea.co.il/product/%d7%a7%d7%a8%d7%9d-%d7%98%d7%99%d7%a4%d7%95%d7%9c%d7%99-%d7%9c%d7%99%d7%93%d7%99%d7%99%d7%9d-%d7%95%d7%9c%d7%a6%d7%99%d7%a4%d7%95%d7%a8%d7%a0%d7%99%d7%99%d7%9d-3/</value></language><language><attrs><id>2</id></attrs><value>https://hbdeadsea.co.il/product/%d7%a7%d7%a8%d7%9d-%d7%98%d7%99%d7%a4%d7%95%d7%9c%d7%99-%d7%9c%d7%99%d7%93%d7%99%d7%99%d7%9d-%d7%95%d7%9c%d7%a6%d7%99%d7%a4%d7%95%d7%a8%d7%a0%d7%99%d7%99%d7%9d-3/</value></language><language><attrs><id>3</id></attrs><value>https://hbdeadsea.co.il/product/%d7%a7%d7%a8%d7%9d-%d7%98%d7%99%d7%a4%d7%95%d7%9c%d7%99-%d7%9c%d7%99%d7%93%d7%99%d7%99%d7%9d-%d7%95%d7%9c%d7%a6%d7%99%d7%a4%d7%95%d7%a8%d7%a0%d7%99%d7%99%d7%9d-3/</value></language></affiliate_short_link><affiliate_summary><language><attrs><id>1</id></attrs><value></value></language><language><attrs><id>2</id></attrs><value></value></language><language><attrs><id>3</id></attrs><value></value></language></affiliate_summary><affiliate_summary_2><language><attrs><id>1</id></attrs><value></value></language><language><attrs><id>2</id></attrs><value></value></language><language><attrs><id>3</id></attrs><value></value></language></affiliate_summary_2><affiliate_text><language><attrs><id>1</id></attrs><value></value></language><language><attrs><id>2</id></attrs><value></value></language><language><attrs><id>3</id></attrs><value></value></language></affiliate_text><associations><categories><id>2</id></categories></associations><available_date></available_date><available_for_order>1</available_for_order><available_later><language><attrs><id>1</id></attrs><value></value></language><language><attrs><id>2</id></attrs><value></value></language><language><attrs><id>3</id></attrs><value></value></language></available_later><available_now><language><attrs><id>1</id></attrs><value></value></language><language><attrs><id>2</id></attrs><value></value></language><language><attrs><id>3</id></attrs><value></value></language></available_now><cache_default_attribute></cache_default_attribute><cache_has_attachments></cache_has_attachments><cache_is_pack></cache_is_pack><condition>new</condition><customizable></customizable><date_add></date_add><date_upd></date_upd><delivery_in_stock><language><attrs><id>1</id></attrs><value>Israel Post</value></language><language><attrs><id>2</id></attrs><value>Israel Post</value></language><language><attrs><id>3</id></attrs><value>Israel Post</value></language></delivery_in_stock><delivery_out_stock><language><attrs><id>1</id></attrs><value>המלאי אזל</value></language><language><attrs><id>2</id></attrs><value>המלאי אזל</value></language><language><attrs><id>3</id></attrs><value>המלאי אזל</value></language></delivery_out_stock><depth></depth><description><language><attrs><id>1</id></attrs><value>כפות ידיים מטופחות הן כרטיס הביקור של כל אישה ועבורן נוצר קרם ידיים מהטובים שיש. משמש ככפפה להגנת העור מפני השפעותיהם המזיקות של חומרי הניקוי. מכיל רכיבים צמחיים כגון שמן אבוקדו, שמן זית, שמן עץ התה, שמן קלנדולה, שמן לבנדר, תמצית ורדים, חמאת שיאה, שמן קוקוס ובנוסף דבש ואלוורה להרגעה. זהו שילוב מנצח לתוצאות בדוקות, להחלקת וריכוך הידיים וחיזוק ציפורניים שבורות ומפוצלות. מועשר בויטמינים A+E+С ו-26 מינרלים מים המלח. מומלץ להחזיק שפופרת של קרם זה בתיק, ברכב ובמשרד.</value></language><language><attrs><id>2</id></attrs><value>כפות ידיים מטופחות הן כרטיס הביקור של כל אישה ועבורן נוצר קרם ידיים מהטובים שיש. משמש ככפפה להגנת העור מפני השפעותיהם המזיקות של חומרי הניקוי. מכיל רכיבים צמחיים כגון שמן אבוקדו, שמן זית, שמן עץ התה, שמן קלנדולה, שמן לבנדר, תמצית ורדים, חמאת שיאה, שמן קוקוס ובנוסף דבש ואלוורה להרגעה. זהו שילוב מנצח לתוצאות בדוקות, להחלקת וריכוך הידיים וחיזוק ציפורניים שבורות ומפוצלות. מועשר בויטמינים A+E+С ו-26 מינרלים מים המלח. מומלץ להחזיק שפופרת של קרם זה בתיק, ברכב ובמשרד.</value></language><language><attrs><id>3</id></attrs><value>כפות ידיים מטופחות הן כרטיס הביקור של כל אישה ועבורן נוצר קרם ידיים מהטובים שיש. משמש ככפפה להגנת העור מפני השפעותיהם המזיקות של חומרי הניקוי. מכיל רכיבים צמחיים כגון שמן אבוקדו, שמן זית, שמן עץ התה, שמן קלנדולה, שמן לבנדר, תמצית ורדים, חמאת שיאה, שמן קוקוס ובנוסף דבש ואלוורה להרגעה. זהו שילוב מנצח לתוצאות בדוקות, להחלקת וריכוך הידיים וחיזוק ציפורניים שבורות ומפוצלות. מועשר בויטמינים A+E+С ו-26 מינרלים מים המלח. מומלץ להחזיק שפופרת של קרם זה בתיק, ברכב ובמשרד.</value></language></description><description_short><language><attrs><id>1</id></attrs><value>כפות ידיים מטופחות הן כרטיס הביקור של כל אישה ועבורן נוצר קרם ידיים מהטובים שיש. משמש ככפפה להגנת העור מפני השפעותיהם המזיקות של חומרי הניקוי. מכיל רכיבים צמחיים כגון שמן אבוקדו, שמן זית, שמן עץ התה, שמן קלנדולה, שמן לבנדר, תמצית ורדים, חמאת שיאה, שמן קוקוס ובנוסף דבש ואלוורה להרגעה. זהו שילוב מנצח לתוצאות בדוקות, להחלקת וריכוך הידיים וחיזוק ציפורניים שבורות ומפוצלות. מועשר בויטמינים A+E+С ו-26 מינרלים מים המלח. מומלץ להחזיק שפופרת של קרם זה בתיק, ברכב ובמשרד.</value></language><language><attrs><id>2</id></attrs><value>כפות ידיים מטופחות הן כרטיס הביקור של כל אישה ועבורן נוצר קרם ידיים מהטובים שיש. משמש ככפפה להגנת העור מפני השפעותיהם המזיקות של חומרי הניקוי. מכיל רכיבים צמחיים כגון שמן אבוקדו, שמן זית, שמן עץ התה, שמן קלנדולה, שמן לבנדר, תמצית ורדים, חמאת שיאה, שמן קוקוס ובנוסף דבש ואלוורה להרגעה. זהו שילוב מנצח לתוצאות בדוקות, להחלקת וריכוך הידיים וחיזוק ציפורניים שבורות ומפוצלות. מועשר בויטמינים A+E+С ו-26 מינרלים מים המלח. מומלץ להחזיק שפופרת של קרם זה בתיק, ברכב ובמשרד.</value></language><language><attrs><id>3</id></attrs><value>כפות ידיים מטופחות הן כרטיס הביקור של כל אישה ועבורן נוצר קרם ידיים מהטובים שיש. משמש ככפפה להגנת העור מפני השפעותיהם המזיקות של חומרי הניקוי. מכיל רכיבים צמחיים כגון שמן אבוקדו, שמן זית, שמן עץ התה, שמן קלנדולה, שמן לבנדר, תמצית ורדים, חמאת שיאה, שמן קוקוס ובנוסף דבש ואלוורה להרגעה. זהו שילוב מנצח לתוצאות בדוקות, להחלקת וריכוך הידיים וחיזוק ציפורניים שבורות ומפוצלות. מועשר בויטמינים A+E+С ו-26 מינרלים מים המלח. מומלץ להחזיק שפופרת של קרם זה בתיק, ברכב ובמשרד.</value></language></description_short><ean13></ean13><ecotax></ecotax><height></height><how_to_use><language><attrs><id>1</id></attrs><value>אופן השימוש: יש לעסות את הידיים והציפורניים לאחר כל שטיפת ידיים בסבון. יש להשתמש בתמרוק רק למטרה שלשמה הוא נועד ובהתאם להוראות שימוש, אין לבלוע, יש להימנע ממגע בעיניים, להרחיק מילדים, לשימוש חיצוני בלבד, אין להשתמש במוצר אם ידועה רגישות לאחד המרכיבים, לא לשימוש בתינוקות.</value></language><language><attrs><id>2</id></attrs><value>אופן השימוש: יש לעסות את הידיים והציפורניים לאחר כל שטיפת ידיים בסבון. יש להשתמש בתמרוק רק למטרה שלשמה הוא נועד ובהתאם להוראות שימוש, אין לבלוע, יש להימנע ממגע בעיניים, להרחיק מילדים, לשימוש חיצוני בלבד, אין להשתמש במוצר אם ידועה רגישות לאחד המרכיבים, לא לשימוש בתינוקות.</value></language><language><attrs><id>3</id></attrs><value>אופן השימוש: יש לעסות את הידיים והציפורניים לאחר כל שטיפת ידיים בסבון. יש להשתמש בתמרוק רק למטרה שלשמה הוא נועד ובהתאם להוראות שימוש, אין לבלוע, יש להימנע ממגע בעיניים, להרחיק מילדים, לשימוש חיצוני בלבד, אין להשתמש במוצר אם ידועה רגישות לאחד המרכיבים, לא לשימוש בתינוקות.</value></language></how_to_use><id_category_default>11259</id_category_default><id_default_combination></id_default_combination><id_default_image></id_default_image><id_manufacturer></id_manufacturer><id_product></id_product><id_shop_default>1</id_shop_default><id_shop></id_shop><id_supplier>11267</id_supplier><id_tax>13</id_tax><id_type_redirected></id_type_redirected><indexed></indexed><ingredients><language><attrs><id>1</id></attrs><value>מינרלים מים המלח\\nויטמין E\\nויטמין C\\nויטמין A\\nחמאת שיאה\\nשמן זית\\nאבוקדו\\nשמן קלנדולה\\nדבש\\nאלוורה</value></language><language><attrs><id>2</id></attrs><value>מינרלים מים המלח\\nויטמין E\\nויטמין C\\nויטמין A\\nחמאת שיאה\\nשמן זית\\nאבוקדו\\nשמן קלנדולה\\nדבש\\nאלוורה</value></language><language><attrs><id>3</id></attrs><value>מינרלים מים המלח\\nויטמין E\\nוי�'}}}\n"
     ]
    },
    {
     "name": "stderr",
     "output_type": "stream",
     "text": [
      "Traceback (most recent call last):\n",
      "  File \"C:\\Users\\user\\Documents\\repos\\hypotez\\src\\PrestaShop\\product.py\", line 163, in add\n",
      "    response = PrestaAPIV2.add('products', data, data_format)['product']\n",
      "               ^^^^^^^^^^^^^^^^^^^^^^^^^^^^^^^^^^^^^^^^^^^^^^\n",
      "  File \"C:\\Users\\user\\Documents\\repos\\hypotez\\src\\PrestaShop\\presta_apis\\presta_python_api_v2\\PrestaShop_api.py\", line 45, in add\n",
      "    return self._request('POST', resource, data = data, data_format = data_format )\n",
      "           ^^^^^^^^^^^^^^^^^^^^^^^^^^^^^^^^^^^^^^^^^^^^^^^^^^^^^^^^^^^^^^^^^^^^^^^^\n",
      "  File \"C:\\Users\\user\\Documents\\repos\\hypotez\\src\\PrestaShop\\presta_apis\\presta_python_api_v2\\PrestaShop_api.py\", line 42, in _request\n",
      "    return self._check_response(res, xmltodict.parse(res.text)['PrestaShop'] if not files and res.text and res.text != '[]' else None)\n",
      "           ^^^^^^^^^^^^^^^^^^^^^^^^^^^^^^^^^^^^^^^^^^^^^^^^^^^^^^^^^^^^^^^^^^^^^^^^^^^^^^^^^^^^^^^^^^^^^^^^^^^^^^^^^^^^^^^^^^^^^^^^^^^\n",
      "  File \"C:\\Users\\user\\Documents\\repos\\hypotez\\src\\PrestaShop\\presta_apis\\presta_python_api_v2\\PrestaShop_api.py\", line 33, in _check_response\n",
      "    raise PrestaShopException_V2('Status %s, %s' % (res.status_code, ret))\n",
      "src.PrestaShop.presta_apis.presta_python_api_v2.PrestaShop_api.PrestaShopException_V2: Status 500, {'@xmlns:xlink': 'http://www.w3.org/1999/xlink', 'errors': {'error': {'code': '127', 'message': 'XML error : String could not be parsed as XML\\nXML length : 11103\\nOriginal XML : <?xml version=\"1.0\" encoding=\"utf-8\"?>\\n<PrestaShop><product><active>1</active><additional_delivery_times></additional_delivery_times><additional_shipping_cost>30</additional_shipping_cost><advanced_stock_management></advanced_stock_management><affiliate_short_link><language><attrs><id>1</id></attrs><value>https://hbdeadsea.co.il/product/%d7%a7%d7%a8%d7%9d-%d7%98%d7%99%d7%a4%d7%95%d7%9c%d7%99-%d7%9c%d7%99%d7%93%d7%99%d7%99%d7%9d-%d7%95%d7%9c%d7%a6%d7%99%d7%a4%d7%95%d7%a8%d7%a0%d7%99%d7%99%d7%9d-3/</value></language><language><attrs><id>2</id></attrs><value>https://hbdeadsea.co.il/product/%d7%a7%d7%a8%d7%9d-%d7%98%d7%99%d7%a4%d7%95%d7%9c%d7%99-%d7%9c%d7%99%d7%93%d7%99%d7%99%d7%9d-%d7%95%d7%9c%d7%a6%d7%99%d7%a4%d7%95%d7%a8%d7%a0%d7%99%d7%99%d7%9d-3/</value></language><language><attrs><id>3</id></attrs><value>https://hbdeadsea.co.il/product/%d7%a7%d7%a8%d7%9d-%d7%98%d7%99%d7%a4%d7%95%d7%9c%d7%99-%d7%9c%d7%99%d7%93%d7%99%d7%99%d7%9d-%d7%95%d7%9c%d7%a6%d7%99%d7%a4%d7%95%d7%a8%d7%a0%d7%99%d7%99%d7%9d-3/</value></language></affiliate_short_link><affiliate_summary><language><attrs><id>1</id></attrs><value></value></language><language><attrs><id>2</id></attrs><value></value></language><language><attrs><id>3</id></attrs><value></value></language></affiliate_summary><affiliate_summary_2><language><attrs><id>1</id></attrs><value></value></language><language><attrs><id>2</id></attrs><value></value></language><language><attrs><id>3</id></attrs><value></value></language></affiliate_summary_2><affiliate_text><language><attrs><id>1</id></attrs><value></value></language><language><attrs><id>2</id></attrs><value></value></language><language><attrs><id>3</id></attrs><value></value></language></affiliate_text><associations><categories><id>2</id></categories></associations><available_date></available_date><available_for_order>1</available_for_order><available_later><language><attrs><id>1</id></attrs><value></value></language><language><attrs><id>2</id></attrs><value></value></language><language><attrs><id>3</id></attrs><value></value></language></available_later><available_now><language><attrs><id>1</id></attrs><value></value></language><language><attrs><id>2</id></attrs><value></value></language><language><attrs><id>3</id></attrs><value></value></language></available_now><cache_default_attribute></cache_default_attribute><cache_has_attachments></cache_has_attachments><cache_is_pack></cache_is_pack><condition>new</condition><customizable></customizable><date_add></date_add><date_upd></date_upd><delivery_in_stock><language><attrs><id>1</id></attrs><value>Israel Post</value></language><language><attrs><id>2</id></attrs><value>Israel Post</value></language><language><attrs><id>3</id></attrs><value>Israel Post</value></language></delivery_in_stock><delivery_out_stock><language><attrs><id>1</id></attrs><value>המלאי אזל</value></language><language><attrs><id>2</id></attrs><value>המלאי אזל</value></language><language><attrs><id>3</id></attrs><value>המלאי אזל</value></language></delivery_out_stock><depth></depth><description><language><attrs><id>1</id></attrs><value>כפות ידיים מטופחות הן כרטיס הביקור של כל אישה ועבורן נוצר קרם ידיים מהטובים שיש. משמש ככפפה להגנת העור מפני השפעותיהם המזיקות של חומרי הניקוי. מכיל רכיבים צמחיים כגון שמן אבוקדו, שמן זית, שמן עץ התה, שמן קלנדולה, שמן לבנדר, תמצית ורדים, חמאת שיאה, שמן קוקוס ובנוסף דבש ואלוורה להרגעה. זהו שילוב מנצח לתוצאות בדוקות, להחלקת וריכוך הידיים וחיזוק ציפורניים שבורות ומפוצלות. מועשר בויטמינים A+E+С ו-26 מינרלים מים המלח. מומלץ להחזיק שפופרת של קרם זה בתיק, ברכב ובמשרד.</value></language><language><attrs><id>2</id></attrs><value>כפות ידיים מטופחות הן כרטיס הביקור של כל אישה ועבורן נוצר קרם ידיים מהטובים שיש. משמש ככפפה להגנת העור מפני השפעותיהם המזיקות של חומרי הניקוי. מכיל רכיבים צמחיים כגון שמן אבוקדו, שמן זית, שמן עץ התה, שמן קלנדולה, שמן לבנדר, תמצית ורדים, חמאת שיאה, שמן קוקוס ובנוסף דבש ואלוורה להרגעה. זהו שילוב מנצח לתוצאות בדוקות, להחלקת וריכוך הידיים וחיזוק ציפורניים שבורות ומפוצלות. מועשר בויטמינים A+E+С ו-26 מינרלים מים המלח. מומלץ להחזיק שפופרת של קרם זה בתיק, ברכב ובמשרד.</value></language><language><attrs><id>3</id></attrs><value>כפות ידיים מטופחות הן כרטיס הביקור של כל אישה ועבורן נוצר קרם ידיים מהטובים שיש. משמש ככפפה להגנת העור מפני השפעותיהם המזיקות של חומרי הניקוי. מכיל רכיבים צמחיים כגון שמן אבוקדו, שמן זית, שמן עץ התה, שמן קלנדולה, שמן לבנדר, תמצית ורדים, חמאת שיאה, שמן קוקוס ובנוסף דבש ואלוורה להרגעה. זהו שילוב מנצח לתוצאות בדוקות, להחלקת וריכוך הידיים וחיזוק ציפורניים שבורות ומפוצלות. מועשר בויטמינים A+E+С ו-26 מינרלים מים המלח. מומלץ להחזיק שפופרת של קרם זה בתיק, ברכב ובמשרד.</value></language></description><description_short><language><attrs><id>1</id></attrs><value>כפות ידיים מטופחות הן כרטיס הביקור של כל אישה ועבורן נוצר קרם ידיים מהטובים שיש. משמש ככפפה להגנת העור מפני השפעותיהם המזיקות של חומרי הניקוי. מכיל רכיבים צמחיים כגון שמן אבוקדו, שמן זית, שמן עץ התה, שמן קלנדולה, שמן לבנדר, תמצית ורדים, חמאת שיאה, שמן קוקוס ובנוסף דבש ואלוורה להרגעה. זהו שילוב מנצח לתוצאות בדוקות, להחלקת וריכוך הידיים וחיזוק ציפורניים שבורות ומפוצלות. מועשר בויטמינים A+E+С ו-26 מינרלים מים המלח. מומלץ להחזיק שפופרת של קרם זה בתיק, ברכב ובמשרד.</value></language><language><attrs><id>2</id></attrs><value>כפות ידיים מטופחות הן כרטיס הביקור של כל אישה ועבורן נוצר קרם ידיים מהטובים שיש. משמש ככפפה להגנת העור מפני השפעותיהם המזיקות של חומרי הניקוי. מכיל רכיבים צמחיים כגון שמן אבוקדו, שמן זית, שמן עץ התה, שמן קלנדולה, שמן לבנדר, תמצית ורדים, חמאת שיאה, שמן קוקוס ובנוסף דבש ואלוורה להרגעה. זהו שילוב מנצח לתוצאות בדוקות, להחלקת וריכוך הידיים וחיזוק ציפורניים שבורות ומפוצלות. מועשר בויטמינים A+E+С ו-26 מינרלים מים המלח. מומלץ להחזיק שפופרת של קרם זה בתיק, ברכב ובמשרד.</value></language><language><attrs><id>3</id></attrs><value>כפות ידיים מטופחות הן כרטיס הביקור של כל אישה ועבורן נוצר קרם ידיים מהטובים שיש. משמש ככפפה להגנת העור מפני השפעותיהם המזיקות של חומרי הניקוי. מכיל רכיבים צמחיים כגון שמן אבוקדו, שמן זית, שמן עץ התה, שמן קלנדולה, שמן לבנדר, תמצית ורדים, חמאת שיאה, שמן קוקוס ובנוסף דבש ואלוורה להרגעה. זהו שילוב מנצח לתוצאות בדוקות, להחלקת וריכוך הידיים וחיזוק ציפורניים שבורות ומפוצלות. מועשר בויטמינים A+E+С ו-26 מינרלים מים המלח. מומלץ להחזיק שפופרת של קרם זה בתיק, ברכב ובמשרד.</value></language></description_short><ean13></ean13><ecotax></ecotax><height></height><how_to_use><language><attrs><id>1</id></attrs><value>אופן השימוש: יש לעסות את הידיים והציפורניים לאחר כל שטיפת ידיים בסבון. יש להשתמש בתמרוק רק למטרה שלשמה הוא נועד ובהתאם להוראות שימוש, אין לבלוע, יש להימנע ממגע בעיניים, להרחיק מילדים, לשימוש חיצוני בלבד, אין להשתמש במוצר אם ידועה רגישות לאחד המרכיבים, לא לשימוש בתינוקות.</value></language><language><attrs><id>2</id></attrs><value>אופן השימוש: יש לעסות את הידיים והציפורניים לאחר כל שטיפת ידיים בסבון. יש להשתמש בתמרוק רק למטרה שלשמה הוא נועד ובהתאם להוראות שימוש, אין לבלוע, יש להימנע ממגע בעיניים, להרחיק מילדים, לשימוש חיצוני בלבד, אין להשתמש במוצר אם ידועה רגישות לאחד המרכיבים, לא לשימוש בתינוקות.</value></language><language><attrs><id>3</id></attrs><value>אופן השימוש: יש לעסות את הידיים והציפורניים לאחר כל שטיפת ידיים בסבון. יש להשתמש בתמרוק רק למטרה שלשמה הוא נועד ובהתאם להוראות שימוש, אין לבלוע, יש להימנע ממגע בעיניים, להרחיק מילדים, לשימוש חיצוני בלבד, אין להשתמש במוצר אם ידועה רגישות לאחד המרכיבים, לא לשימוש בתינוקות.</value></language></how_to_use><id_category_default>11259</id_category_default><id_default_combination></id_default_combination><id_default_image></id_default_image><id_manufacturer></id_manufacturer><id_product></id_product><id_shop_default>1</id_shop_default><id_shop></id_shop><id_supplier>11267</id_supplier><id_tax>13</id_tax><id_type_redirected></id_type_redirected><indexed></indexed><ingredients><language><attrs><id>1</id></attrs><value>מינרלים מים המלח\\nויטמין E\\nויטמין C\\nויטמין A\\nחמאת שיאה\\nשמן זית\\nאבוקדו\\nשמן קלנדולה\\nדבש\\nאלוורה</value></language><language><attrs><id>2</id></attrs><value>מינרלים מים המלח\\nויטמין E\\nויטמין C\\nויטמין A\\nחמאת שיאה\\nשמן זית\\nאבוקדו\\nשמן קלנדולה\\nדבש\\nאלוורה</value></language><language><attrs><id>3</id></attrs><value>מינרלים מים המלח\\nויטמין E\\nוי�'}}}\n"
     ]
    },
    {
     "name": "stderr",
     "output_type": "stream",
     "text": [
      "--- Logging error ---\n",
      "Traceback (most recent call last):\n",
      "  File \"C:\\Users\\user\\Documents\\repos\\hypotez\\src\\PrestaShop\\product.py\", line 163, in add\n",
      "    response = PrestaAPIV2.add('products', data, data_format)['product']\n",
      "               ^^^^^^^^^^^^^^^^^^^^^^^^^^^^^^^^^^^^^^^^^^^^^^\n",
      "  File \"C:\\Users\\user\\Documents\\repos\\hypotez\\src\\PrestaShop\\presta_apis\\presta_python_api_v2\\PrestaShop_api.py\", line 45, in add\n",
      "    return self._request('POST', resource, data = data, data_format = data_format )\n",
      "           ^^^^^^^^^^^^^^^^^^^^^^^^^^^^^^^^^^^^^^^^^^^^^^^^^^^^^^^^^^^^^^^^^^^^^^^^\n",
      "  File \"C:\\Users\\user\\Documents\\repos\\hypotez\\src\\PrestaShop\\presta_apis\\presta_python_api_v2\\PrestaShop_api.py\", line 42, in _request\n",
      "    return self._check_response(res, xmltodict.parse(res.text)['PrestaShop'] if not files and res.text and res.text != '[]' else None)\n",
      "           ^^^^^^^^^^^^^^^^^^^^^^^^^^^^^^^^^^^^^^^^^^^^^^^^^^^^^^^^^^^^^^^^^^^^^^^^^^^^^^^^^^^^^^^^^^^^^^^^^^^^^^^^^^^^^^^^^^^^^^^^^^^\n",
      "  File \"C:\\Users\\user\\Documents\\repos\\hypotez\\src\\PrestaShop\\presta_apis\\presta_python_api_v2\\PrestaShop_api.py\", line 33, in _check_response\n",
      "    raise PrestaShopException_V2('Status %s, %s' % (res.status_code, ret))\n",
      "src.PrestaShop.presta_apis.presta_python_api_v2.PrestaShop_api.PrestaShopException_V2: Status 500, {'@xmlns:xlink': 'http://www.w3.org/1999/xlink', 'errors': {'error': {'code': '127', 'message': 'XML error : String could not be parsed as XML\\nXML length : 11103\\nOriginal XML : <?xml version=\"1.0\" encoding=\"utf-8\"?>\\n<PrestaShop><product><active>1</active><additional_delivery_times></additional_delivery_times><additional_shipping_cost>30</additional_shipping_cost><advanced_stock_management></advanced_stock_management><affiliate_short_link><language><attrs><id>1</id></attrs><value>https://hbdeadsea.co.il/product/%d7%a7%d7%a8%d7%9d-%d7%98%d7%99%d7%a4%d7%95%d7%9c%d7%99-%d7%9c%d7%99%d7%93%d7%99%d7%99%d7%9d-%d7%95%d7%9c%d7%a6%d7%99%d7%a4%d7%95%d7%a8%d7%a0%d7%99%d7%99%d7%9d-3/</value></language><language><attrs><id>2</id></attrs><value>https://hbdeadsea.co.il/product/%d7%a7%d7%a8%d7%9d-%d7%98%d7%99%d7%a4%d7%95%d7%9c%d7%99-%d7%9c%d7%99%d7%93%d7%99%d7%99%d7%9d-%d7%95%d7%9c%d7%a6%d7%99%d7%a4%d7%95%d7%a8%d7%a0%d7%99%d7%99%d7%9d-3/</value></language><language><attrs><id>3</id></attrs><value>https://hbdeadsea.co.il/product/%d7%a7%d7%a8%d7%9d-%d7%98%d7%99%d7%a4%d7%95%d7%9c%d7%99-%d7%9c%d7%99%d7%93%d7%99%d7%99%d7%9d-%d7%95%d7%9c%d7%a6%d7%99%d7%a4%d7%95%d7%a8%d7%a0%d7%99%d7%99%d7%9d-3/</value></language></affiliate_short_link><affiliate_summary><language><attrs><id>1</id></attrs><value></value></language><language><attrs><id>2</id></attrs><value></value></language><language><attrs><id>3</id></attrs><value></value></language></affiliate_summary><affiliate_summary_2><language><attrs><id>1</id></attrs><value></value></language><language><attrs><id>2</id></attrs><value></value></language><language><attrs><id>3</id></attrs><value></value></language></affiliate_summary_2><affiliate_text><language><attrs><id>1</id></attrs><value></value></language><language><attrs><id>2</id></attrs><value></value></language><language><attrs><id>3</id></attrs><value></value></language></affiliate_text><associations><categories><id>2</id></categories></associations><available_date></available_date><available_for_order>1</available_for_order><available_later><language><attrs><id>1</id></attrs><value></value></language><language><attrs><id>2</id></attrs><value></value></language><language><attrs><id>3</id></attrs><value></value></language></available_later><available_now><language><attrs><id>1</id></attrs><value></value></language><language><attrs><id>2</id></attrs><value></value></language><language><attrs><id>3</id></attrs><value></value></language></available_now><cache_default_attribute></cache_default_attribute><cache_has_attachments></cache_has_attachments><cache_is_pack></cache_is_pack><condition>new</condition><customizable></customizable><date_add></date_add><date_upd></date_upd><delivery_in_stock><language><attrs><id>1</id></attrs><value>Israel Post</value></language><language><attrs><id>2</id></attrs><value>Israel Post</value></language><language><attrs><id>3</id></attrs><value>Israel Post</value></language></delivery_in_stock><delivery_out_stock><language><attrs><id>1</id></attrs><value>המלאי אזל</value></language><language><attrs><id>2</id></attrs><value>המלאי אזל</value></language><language><attrs><id>3</id></attrs><value>המלאי אזל</value></language></delivery_out_stock><depth></depth><description><language><attrs><id>1</id></attrs><value>כפות ידיים מטופחות הן כרטיס הביקור של כל אישה ועבורן נוצר קרם ידיים מהטובים שיש. משמש ככפפה להגנת העור מפני השפעותיהם המזיקות של חומרי הניקוי. מכיל רכיבים צמחיים כגון שמן אבוקדו, שמן זית, שמן עץ התה, שמן קלנדולה, שמן לבנדר, תמצית ורדים, חמאת שיאה, שמן קוקוס ובנוסף דבש ואלוורה להרגעה. זהו שילוב מנצח לתוצאות בדוקות, להחלקת וריכוך הידיים וחיזוק ציפורניים שבורות ומפוצלות. מועשר בויטמינים A+E+С ו-26 מינרלים מים המלח. מומלץ להחזיק שפופרת של קרם זה בתיק, ברכב ובמשרד.</value></language><language><attrs><id>2</id></attrs><value>כפות ידיים מטופחות הן כרטיס הביקור של כל אישה ועבורן נוצר קרם ידיים מהטובים שיש. משמש ככפפה להגנת העור מפני השפעותיהם המזיקות של חומרי הניקוי. מכיל רכיבים צמחיים כגון שמן אבוקדו, שמן זית, שמן עץ התה, שמן קלנדולה, שמן לבנדר, תמצית ורדים, חמאת שיאה, שמן קוקוס ובנוסף דבש ואלוורה להרגעה. זהו שילוב מנצח לתוצאות בדוקות, להחלקת וריכוך הידיים וחיזוק ציפורניים שבורות ומפוצלות. מועשר בויטמינים A+E+С ו-26 מינרלים מים המלח. מומלץ להחזיק שפופרת של קרם זה בתיק, ברכב ובמשרד.</value></language><language><attrs><id>3</id></attrs><value>כפות ידיים מטופחות הן כרטיס הביקור של כל אישה ועבורן נוצר קרם ידיים מהטובים שיש. משמש ככפפה להגנת העור מפני השפעותיהם המזיקות של חומרי הניקוי. מכיל רכיבים צמחיים כגון שמן אבוקדו, שמן זית, שמן עץ התה, שמן קלנדולה, שמן לבנדר, תמצית ורדים, חמאת שיאה, שמן קוקוס ובנוסף דבש ואלוורה להרגעה. זהו שילוב מנצח לתוצאות בדוקות, להחלקת וריכוך הידיים וחיזוק ציפורניים שבורות ומפוצלות. מועשר בויטמינים A+E+С ו-26 מינרלים מים המלח. מומלץ להחזיק שפופרת של קרם זה בתיק, ברכב ובמשרד.</value></language></description><description_short><language><attrs><id>1</id></attrs><value>כפות ידיים מטופחות הן כרטיס הביקור של כל אישה ועבורן נוצר קרם ידיים מהטובים שיש. משמש ככפפה להגנת העור מפני השפעותיהם המזיקות של חומרי הניקוי. מכיל רכיבים צמחיים כגון שמן אבוקדו, שמן זית, שמן עץ התה, שמן קלנדולה, שמן לבנדר, תמצית ורדים, חמאת שיאה, שמן קוקוס ובנוסף דבש ואלוורה להרגעה. זהו שילוב מנצח לתוצאות בדוקות, להחלקת וריכוך הידיים וחיזוק ציפורניים שבורות ומפוצלות. מועשר בויטמינים A+E+С ו-26 מינרלים מים המלח. מומלץ להחזיק שפופרת של קרם זה בתיק, ברכב ובמשרד.</value></language><language><attrs><id>2</id></attrs><value>כפות ידיים מטופחות הן כרטיס הביקור של כל אישה ועבורן נוצר קרם ידיים מהטובים שיש. משמש ככפפה להגנת העור מפני השפעותיהם המזיקות של חומרי הניקוי. מכיל רכיבים צמחיים כגון שמן אבוקדו, שמן זית, שמן עץ התה, שמן קלנדולה, שמן לבנדר, תמצית ורדים, חמאת שיאה, שמן קוקוס ובנוסף דבש ואלוורה להרגעה. זהו שילוב מנצח לתוצאות בדוקות, להחלקת וריכוך הידיים וחיזוק ציפורניים שבורות ומפוצלות. מועשר בויטמינים A+E+С ו-26 מינרלים מים המלח. מומלץ להחזיק שפופרת של קרם זה בתיק, ברכב ובמשרד.</value></language><language><attrs><id>3</id></attrs><value>כפות ידיים מטופחות הן כרטיס הביקור של כל אישה ועבורן נוצר קרם ידיים מהטובים שיש. משמש ככפפה להגנת העור מפני השפעותיהם המזיקות של חומרי הניקוי. מכיל רכיבים צמחיים כגון שמן אבוקדו, שמן זית, שמן עץ התה, שמן קלנדולה, שמן לבנדר, תמצית ורדים, חמאת שיאה, שמן קוקוס ובנוסף דבש ואלוורה להרגעה. זהו שילוב מנצח לתוצאות בדוקות, להחלקת וריכוך הידיים וחיזוק ציפורניים שבורות ומפוצלות. מועשר בויטמינים A+E+С ו-26 מינרלים מים המלח. מומלץ להחזיק שפופרת של קרם זה בתיק, ברכב ובמשרד.</value></language></description_short><ean13></ean13><ecotax></ecotax><height></height><how_to_use><language><attrs><id>1</id></attrs><value>אופן השימוש: יש לעסות את הידיים והציפורניים לאחר כל שטיפת ידיים בסבון. יש להשתמש בתמרוק רק למטרה שלשמה הוא נועד ובהתאם להוראות שימוש, אין לבלוע, יש להימנע ממגע בעיניים, להרחיק מילדים, לשימוש חיצוני בלבד, אין להשתמש במוצר אם ידועה רגישות לאחד המרכיבים, לא לשימוש בתינוקות.</value></language><language><attrs><id>2</id></attrs><value>אופן השימוש: יש לעסות את הידיים והציפורניים לאחר כל שטיפת ידיים בסבון. יש להשתמש בתמרוק רק למטרה שלשמה הוא נועד ובהתאם להוראות שימוש, אין לבלוע, יש להימנע ממגע בעיניים, להרחיק מילדים, לשימוש חיצוני בלבד, אין להשתמש במוצר אם ידועה רגישות לאחד המרכיבים, לא לשימוש בתינוקות.</value></language><language><attrs><id>3</id></attrs><value>אופן השימוש: יש לעסות את הידיים והציפורניים לאחר כל שטיפת ידיים בסבון. יש להשתמש בתמרוק רק למטרה שלשמה הוא נועד ובהתאם להוראות שימוש, אין לבלוע, יש להימנע ממגע בעיניים, להרחיק מילדים, לשימוש חיצוני בלבד, אין להשתמש במוצר אם ידועה רגישות לאחד המרכיבים, לא לשימוש בתינוקות.</value></language></how_to_use><id_category_default>11259</id_category_default><id_default_combination></id_default_combination><id_default_image></id_default_image><id_manufacturer></id_manufacturer><id_product></id_product><id_shop_default>1</id_shop_default><id_shop></id_shop><id_supplier>11267</id_supplier><id_tax>13</id_tax><id_type_redirected></id_type_redirected><indexed></indexed><ingredients><language><attrs><id>1</id></attrs><value>מינרלים מים המלח\\nויטמין E\\nויטמין C\\nויטמין A\\nחמאת שיאה\\nשמן זית\\nאבוקדו\\nשמן קלנדולה\\nדבש\\nאלוורה</value></language><language><attrs><id>2</id></attrs><value>מינרלים מים המלח\\nויטמין E\\nויטמין C\\nויטמין A\\nחמאת שיאה\\nשמן זית\\nאבוקדו\\nשמן קלנדולה\\nדבש\\nאלוורה</value></language><language><attrs><id>3</id></attrs><value>מינרלים מים המלח\\nויטמין E\\nוי�'}}}\n"
     ]
    },
    {
     "name": "stderr",
     "output_type": "stream",
     "text": [
      "\n",
      "During handling of the above exception, another exception occurred:\n",
      "\n",
      "Traceback (most recent call last):\n",
      "  File \"C:\\Program Files\\WindowsApps\\PythonSoftwareFoundation.Python.3.11_3.11.2288.0_x64__qbz5n2kfra8p0\\Lib\\logging\\__init__.py\", line 1110, in emit\n",
      "    msg = self.format(record)\n",
      "          ^^^^^^^^^^^^^^^^^^^\n",
      "  File \"C:\\Program Files\\WindowsApps\\PythonSoftwareFoundation.Python.3.11_3.11.2288.0_x64__qbz5n2kfra8p0\\Lib\\logging\\__init__.py\", line 953, in format\n",
      "    return fmt.format(record)\n",
      "           ^^^^^^^^^^^^^^^^^^\n",
      "  File \"C:\\Program Files\\WindowsApps\\PythonSoftwareFoundation.Python.3.11_3.11.2288.0_x64__qbz5n2kfra8p0\\Lib\\logging\\__init__.py\", line 687, in format\n",
      "    record.message = record.getMessage()\n",
      "                     ^^^^^^^^^^^^^^^^^^^\n",
      "  File \"C:\\Program Files\\WindowsApps\\PythonSoftwareFoundation.Python.3.11_3.11.2288.0_x64__qbz5n2kfra8p0\\Lib\\logging\\__init__.py\", line 377, in getMessage\n",
      "    msg = msg % self.args\n",
      "          ~~~~^~~~~~~~~~~\n",
      "TypeError: %d format: a real number is required, not NoneType\n",
      "Call stack:\n",
      "  File \"<frozen runpy>\", line 198, in _run_module_as_main\n",
      "  File \"<frozen runpy>\", line 88, in _run_code\n",
      "  File \"C:\\Users\\user\\Documents\\repos\\hypotez\\venv\\Lib\\site-packages\\ipykernel_launcher.py\", line 17, in <module>\n",
      "    app.launch_new_instance()\n",
      "  File \"C:\\Users\\user\\Documents\\repos\\hypotez\\venv\\Lib\\site-packages\\traitlets\\config\\application.py\", line 1043, in launch_instance\n",
      "    app.start()\n",
      "  File \"C:\\Users\\user\\Documents\\repos\\hypotez\\venv\\Lib\\site-packages\\ipykernel\\kernelapp.py\", line 725, in start\n",
      "    self.io_loop.start()\n",
      "  File \"C:\\Users\\user\\Documents\\repos\\hypotez\\venv\\Lib\\site-packages\\tornado\\platform\\asyncio.py\", line 195, in start\n",
      "    self.asyncio_loop.run_forever()\n",
      "  File \"C:\\Program Files\\WindowsApps\\PythonSoftwareFoundation.Python.3.11_3.11.2288.0_x64__qbz5n2kfra8p0\\Lib\\asyncio\\base_events.py\", line 608, in run_forever\n",
      "    self._run_once()\n",
      "  File \"C:\\Program Files\\WindowsApps\\PythonSoftwareFoundation.Python.3.11_3.11.2288.0_x64__qbz5n2kfra8p0\\Lib\\asyncio\\base_events.py\", line 1936, in _run_once\n",
      "    handle._run()\n",
      "  File \"C:\\Program Files\\WindowsApps\\PythonSoftwareFoundation.Python.3.11_3.11.2288.0_x64__qbz5n2kfra8p0\\Lib\\asyncio\\events.py\", line 84, in _run\n",
      "    self._context.run(self._callback, *self._args)\n",
      "  File \"C:\\Users\\user\\Documents\\repos\\hypotez\\venv\\Lib\\site-packages\\ipykernel\\kernelbase.py\", line 513, in dispatch_queue\n",
      "    await self.process_one()\n",
      "  File \"C:\\Users\\user\\Documents\\repos\\hypotez\\venv\\Lib\\site-packages\\ipykernel\\kernelbase.py\", line 502, in process_one\n",
      "    await dispatch(*args)\n",
      "  File \"C:\\Users\\user\\Documents\\repos\\hypotez\\venv\\Lib\\site-packages\\ipykernel\\kernelbase.py\", line 409, in dispatch_shell\n",
      "    await result\n",
      "  File \"C:\\Users\\user\\Documents\\repos\\hypotez\\venv\\Lib\\site-packages\\ipykernel\\kernelbase.py\", line 729, in execute_request\n",
      "    reply_content = await reply_content\n",
      "  File \"C:\\Users\\user\\Documents\\repos\\hypotez\\venv\\Lib\\site-packages\\ipykernel\\ipkernel.py\", line 422, in do_execute\n",
      "    res = shell.run_cell(\n",
      "  File \"C:\\Users\\user\\Documents\\repos\\hypotez\\venv\\Lib\\site-packages\\ipykernel\\zmqshell.py\", line 540, in run_cell\n",
      "    return super().run_cell(*args, **kwargs)\n",
      "  File \"C:\\Users\\user\\Documents\\repos\\hypotez\\venv\\Lib\\site-packages\\IPython\\core\\interactiveshell.py\", line 3009, in run_cell\n",
      "    result = self._run_cell(\n",
      "  File \"C:\\Users\\user\\Documents\\repos\\hypotez\\venv\\Lib\\site-packages\\IPython\\core\\interactiveshell.py\", line 3064, in _run_cell\n",
      "    result = runner(coro)\n",
      "  File \"C:\\Users\\user\\Documents\\repos\\hypotez\\venv\\Lib\\site-packages\\IPython\\core\\async_helpers.py\", line 129, in _pseudo_sync_runner\n",
      "    coro.send(None)\n",
      "  File \"C:\\Users\\user\\Documents\\repos\\hypotez\\venv\\Lib\\site-packages\\IPython\\core\\interactiveshell.py\", line 3269, in run_cell_async\n",
      "    has_raised = await self.run_ast_nodes(code_ast.body, cell_name,\n",
      "  File \"C:\\Users\\user\\Documents\\repos\\hypotez\\venv\\Lib\\site-packages\\IPython\\core\\interactiveshell.py\", line 3448, in run_ast_nodes\n",
      "    if await self.run_code(code, result, async_=asy):\n",
      "  File \"C:\\Users\\user\\Documents\\repos\\hypotez\\venv\\Lib\\site-packages\\IPython\\core\\interactiveshell.py\", line 3508, in run_code\n",
      "    exec(code_obj, self.user_global_ns, self.user_ns)\n",
      "  File \"C:\\Users\\user\\AppData\\Local\\Temp\\ipykernel_6224\\2221610856.py\", line 2, in <module>\n",
      "    response = p.add(f.presta_fields_dict, 'JSON', 'V2')\n",
      "  File \"C:\\Users\\user\\Documents\\repos\\hypotez\\src\\PrestaShop\\product.py\", line 167, in add\n",
      "    logger.error(ex)\n",
      "  File \"C:\\Users\\user\\Documents\\repos\\hypotez\\src\\helpers\\logger.py\", line 202, in error\n",
      "    self.logger_file.error (message, self._get_formatted_traceback(ex))\n",
      "Message: PrestaShopException_V2('Status 500, {\\'@xmlns:xlink\\': \\'http://www.w3.org/1999/xlink\\', \\'errors\\': {\\'error\\': {\\'code\\': \\'127\\', \\'message\\': \\'XML error : String could not be parsed as XML\\\\nXML length : 11103\\\\nOriginal XML : <?xml version=\"1.0\" encoding=\"utf-8\"?>\\\\n<PrestaShop><product><active>1</active><additional_delivery_times></additional_delivery_times><additional_shipping_cost>30</additional_shipping_cost><advanced_stock_management></advanced_stock_management><affiliate_short_link><language><attrs><id>1</id></attrs><value>https://hbdeadsea.co.il/product/%d7%a7%d7%a8%d7%9d-%d7%98%d7%99%d7%a4%d7%95%d7%9c%d7%99-%d7%9c%d7%99%d7%93%d7%99%d7%99%d7%9d-%d7%95%d7%9c%d7%a6%d7%99%d7%a4%d7%95%d7%a8%d7%a0%d7%99%d7%99%d7%9d-3/</value></language><language><attrs><id>2</id></attrs><value>https://hbdeadsea.co.il/product/%d7%a7%d7%a8%d7%9d-%d7%98%d7%99%d7%a4%d7%95%d7%9c%d7%99-%d7%9c%d7%99%d7%93%d7%99%d7%99%d7%9d-%d7%95%d7%9c%d7%a6%d7%99%d7%a4%d7%95%d7%a8%d7%a0%d7%99%d7%99%d7%9d-3/</value></language><language><attrs><id>3</id></attrs><value>https://hbdeadsea.co.il/product/%d7%a7%d7%a8%d7%9d-%d7%98%d7%99%d7%a4%d7%95%d7%9c%d7%99-%d7%9c%d7%99%d7%93%d7%99%d7%99%d7%9d-%d7%95%d7%9c%d7%a6%d7%99%d7%a4%d7%95%d7%a8%d7%a0%d7%99%d7%99%d7%9d-3/</value></language></affiliate_short_link><affiliate_summary><language><attrs><id>1</id></attrs><value></value></language><language><attrs><id>2</id></attrs><value></value></language><language><attrs><id>3</id></attrs><value></value></language></affiliate_summary><affiliate_summary_2><language><attrs><id>1</id></attrs><value></value></language><language><attrs><id>2</id></attrs><value></value></language><language><attrs><id>3</id></attrs><value></value></language></affiliate_summary_2><affiliate_text><language><attrs><id>1</id></attrs><value></value></language><language><attrs><id>2</id></attrs><value></value></language><language><attrs><id>3</id></attrs><value></value></language></affiliate_text><associations><categories><id>2</id></categories></associations><available_date></available_date><available_for_order>1</available_for_order><available_later><language><attrs><id>1</id></attrs><value></value></language><language><attrs><id>2</id></attrs><value></value></language><language><attrs><id>3</id></attrs><value></value></language></available_later><available_now><language><attrs><id>1</id></attrs><value></value></language><language><attrs><id>2</id></attrs><value></value></language><language><attrs><id>3</id></attrs><value></value></language></available_now><cache_default_attribute></cache_default_attribute><cache_has_attachments></cache_has_attachments><cache_is_pack></cache_is_pack><condition>new</condition><customizable></customizable><date_add></date_add><date_upd></date_upd><delivery_in_stock><language><attrs><id>1</id></attrs><value>Israel Post</value></language><language><attrs><id>2</id></attrs><value>Israel Post</value></language><language><attrs><id>3</id></attrs><value>Israel Post</value></language></delivery_in_stock><delivery_out_stock><language><attrs><id>1</id></attrs><value>המלאי אזל</value></language><language><attrs><id>2</id></attrs><value>המלאי אזל</value></language><language><attrs><id>3</id></attrs><value>המלאי אזל</value></language></delivery_out_stock><depth></depth><description><language><attrs><id>1</id></attrs><value>כפות ידיים מטופחות הן כרטיס הביקור של כל אישה ועבורן נוצר קרם ידיים מהטובים שיש. משמש ככפפה להגנת העור מפני השפעותיהם המזיקות של חומרי הניקוי. מכיל רכיבים צמחיים כגון שמן אבוקדו, שמן זית, שמן עץ התה, שמן קלנדולה, שמן לבנדר, תמצית ורדים, חמאת שיאה, שמן קוקוס ובנוסף דבש ואלוורה להרגעה. זהו שילוב מנצח לתוצאות בדוקות, להחלקת וריכוך הידיים וחיזוק ציפורניים שבורות ומפוצלות. מועשר בויטמינים A+E+С ו-26 מינרלים מים המלח. מומלץ להחזיק שפופרת של קרם זה בתיק, ברכב ובמשרד.</value></language><language><attrs><id>2</id></attrs><value>כפות ידיים מטופחות הן כרטיס הביקור של כל אישה ועבורן נוצר קרם ידיים מהטובים שיש. משמש ככפפה להגנת העור מפני השפעותיהם המזיקות של חומרי הניקוי. מכיל רכיבים צמחיים כגון שמן אבוקדו, שמן זית, שמן עץ התה, שמן קלנדולה, שמן לבנדר, תמצית ורדים, חמאת שיאה, שמן קוקוס ובנוסף דבש ואלוורה להרגעה. זהו שילוב מנצח לתוצאות בדוקות, להחלקת וריכוך הידיים וחיזוק ציפורניים שבורות ומפוצלות. מועשר בויטמינים A+E+С ו-26 מינרלים מים המלח. מומלץ להחזיק שפופרת של קרם זה בתיק, ברכב ובמשרד.</value></language><language><attrs><id>3</id></attrs><value>כפות ידיים מטופחות הן כרטיס הביקור של כל אישה ועבורן נוצר קרם ידיים מהטובים שיש. משמש ככפפה להגנת העור מפני השפעותיהם המזיקות של חומרי הניקוי. מכיל רכיבים צמחיים כגון שמן אבוקדו, שמן זית, שמן עץ התה, שמן קלנדולה, שמן לבנדר, תמצית ורדים, חמאת שיאה, שמן קוקוס ובנוסף דבש ואלוורה להרגעה. זהו שילוב מנצח לתוצאות בדוקות, להחלקת וריכוך הידיים וחיזוק ציפורניים שבורות ומפוצלות. מועשר בויטמינים A+E+С ו-26 מינרלים מים המלח. מומלץ להחזיק שפופרת של קרם זה בתיק, ברכב ובמשרד.</value></language></description><description_short><language><attrs><id>1</id></attrs><value>כפות ידיים מטופחות הן כרטיס הביקור של כל אישה ועבורן נוצר קרם ידיים מהטובים שיש. משמש ככפפה להגנת העור מפני השפעותיהם המזיקות של חומרי הניקוי. מכיל רכיבים צמחיים כגון שמן אבוקדו, שמן זית, שמן עץ התה, שמן קלנדולה, שמן לבנדר, תמצית ורדים, חמאת שיאה, שמן קוקוס ובנוסף דבש ואלוורה להרגעה. זהו שילוב מנצח לתוצאות בדוקות, להחלקת וריכוך הידיים וחיזוק ציפורניים שבורות ומפוצלות. מועשר בויטמינים A+E+С ו-26 מינרלים מים המלח. מומלץ להחזיק שפופרת של קרם זה בתיק, ברכב ובמשרד.</value></language><language><attrs><id>2</id></attrs><value>כפות ידיים מטופחות הן כרטיס הביקור של כל אישה ועבורן נוצר קרם ידיים מהטובים שיש. משמש ככפפה להגנת העור מפני השפעותיהם המזיקות של חומרי הניקוי. מכיל רכיבים צמחיים כגון שמן אבוקדו, שמן זית, שמן עץ התה, שמן קלנדולה, שמן לבנדר, תמצית ורדים, חמאת שיאה, שמן קוקוס ובנוסף דבש ואלוורה להרגעה. זהו שילוב מנצח לתוצאות בדוקות, להחלקת וריכוך הידיים וחיזוק ציפורניים שבורות ומפוצלות. מועשר בויטמינים A+E+С ו-26 מינרלים מים המלח. מומלץ להחזיק שפופרת של קרם זה בתיק, ברכב ובמשרד.</value></language><language><attrs><id>3</id></attrs><value>כפות ידיים מטופחות הן כרטיס הביקור של כל אישה ועבורן נוצר קרם ידיים מהטובים שיש. משמש ככפפה להגנת העור מפני השפעותיהם המזיקות של חומרי הניקוי. מכיל רכיבים צמחיים כגון שמן אבוקדו, שמן זית, שמן עץ התה, שמן קלנדולה, שמן לבנדר, תמצית ורדים, חמאת שיאה, שמן קוקוס ובנוסף דבש ואלוורה להרגעה. זהו שילוב מנצח לתוצאות בדוקות, להחלקת וריכוך הידיים וחיזוק ציפורניים שבורות ומפוצלות. מועשר בויטמינים A+E+С ו-26 מינרלים מים המלח. מומלץ להחזיק שפופרת של קרם זה בתיק, ברכב ובמשרד.</value></language></description_short><ean13></ean13><ecotax></ecotax><height></height><how_to_use><language><attrs><id>1</id></attrs><value>אופן השימוש: יש לעסות את הידיים והציפורניים לאחר כל שטיפת ידיים בסבון. יש להשתמש בתמרוק רק למטרה שלשמה הוא נועד ובהתאם להוראות שימוש, אין לבלוע, יש להימנע ממגע בעיניים, להרחיק מילדים, לשימוש חיצוני בלבד, אין להשתמש במוצר אם ידועה רגישות לאחד המרכיבים, לא לשימוש בתינוקות.</value></language><language><attrs><id>2</id></attrs><value>אופן השימוש: יש לעסות את הידיים והציפורניים לאחר כל שטיפת ידיים בסבון. יש להשתמש בתמרוק רק למטרה שלשמה הוא נועד ובהתאם להוראות שימוש, אין לבלוע, יש להימנע ממגע בעיניים, להרחיק מילדים, לשימוש חיצוני בלבד, אין להשתמש במוצר אם ידועה רגישות לאחד המרכיבים, לא לשימוש בתינוקות.</value></language><language><attrs><id>3</id></attrs><value>אופן השימוש: יש לעסות את הידיים והציפורניים לאחר כל שטיפת ידיים בסבון. יש להשתמש בתמרוק רק למטרה שלשמה הוא נועד ובהתאם להוראות שימוש, אין לבלוע, יש להימנע ממגע בעיניים, להרחיק מילדים, לשימוש חיצוני בלבד, אין להשתמש במוצר אם ידועה רגישות לאחד המרכיבים, לא לשימוש בתינוקות.</value></language></how_to_use><id_category_default>11259</id_category_default><id_default_combination></id_default_combination><id_default_image></id_default_image><id_manufacturer></id_manufacturer><id_product></id_product><id_shop_default>1</id_shop_default><id_shop></id_shop><id_supplier>11267</id_supplier><id_tax>13</id_tax><id_type_redirected></id_type_redirected><indexed></indexed><ingredients><language><attrs><id>1</id></attrs><value>מינרלים מים המלח\\\\nויטמין E\\\\nויטמין C\\\\nויטמין A\\\\nחמאת שיאה\\\\nשמן זית\\\\nאבוקדו\\\\nשמן קלנדולה\\\\nדבש\\\\nאלוורה</value></language><language><attrs><id>2</id></attrs><value>מינרלים מים המלח\\\\nויטמין E\\\\nויטמין C\\\\nויטמין A\\\\nחמאת שיאה\\\\nשמן זית\\\\nאבוקדו\\\\nשמן קלנדולה\\\\nדבש\\\\nאלוורה</value></language><language><attrs><id>3</id></attrs><value>מינרלים מים המלח\\\\nויטמין E\\\\nוי�\\'}}}')\n",
      "Arguments: (None,)\n"
     ]
    },
    {
     "name": "stdout",
     "output_type": "stream",
     "text": [
      "---------------------------------------------------------------\n"
     ]
    }
   ],
   "source": [
    "#response = p.add(presta_fields_dict, 'JSON', 'V2')['product']\n",
    "response = p.add(f.presta_fields_dict, 'JSON', 'V2')"
   ]
  },
  {
   "cell_type": "markdown",
   "id": "ecee9b30",
   "metadata": {},
   "source": [
    "## Тест add()"
   ]
  },
  {
   "cell_type": "code",
   "execution_count": null,
   "id": "ed9d4a5c",
   "metadata": {},
   "outputs": [],
   "source": []
  },
  {
   "cell_type": "code",
   "execution_count": null,
   "id": "ea1eb0c3",
   "metadata": {},
   "outputs": [],
   "source": [
    "p.add(presta_fields_dict,'V1')"
   ]
  },
  {
   "cell_type": "code",
   "execution_count": null,
   "id": "e90f8622",
   "metadata": {},
   "outputs": [],
   "source": []
  },
  {
   "cell_type": "code",
   "execution_count": null,
   "id": "0e97e39a",
   "metadata": {},
   "outputs": [],
   "source": [
    "\n",
    "def field_available_date():\n",
    "    \"\"\"!  \n",
    "    \n",
    "    @details\n",
    "    \"\"\"\n",
    "    return f.available_date\n",
    "    ...\n",
    "        \n",
    "    \n"
   ]
  },
  {
   "cell_type": "code",
   "execution_count": null,
   "id": "f2b76846",
   "metadata": {},
   "outputs": [],
   "source": [
    "\n",
    "def field_available_for_order():\n",
    "    \"\"\"!  \n",
    "    \n",
    "    @details\n",
    "    \"\"\"\n",
    "    ...\n",
    "\n"
   ]
  },
  {
   "cell_type": "code",
   "execution_count": null,
   "id": "8e3396db",
   "metadata": {},
   "outputs": [],
   "source": [
    "\n",
    "def field_available_later():\n",
    "    \"\"\"!  \n",
    "    \n",
    "    @details\n",
    "    \"\"\"\n",
    "    return f.available_later\n",
    "    ...\n"
   ]
  },
  {
   "cell_type": "code",
   "execution_count": null,
   "id": "1537bbc1",
   "metadata": {},
   "outputs": [],
   "source": [
    "\n",
    "def field_available_now():\n",
    "    \"\"\"!  \n",
    "    \n",
    "    @details\n",
    "    \"\"\"\n",
    "    return f.available_now\n",
    "    ...\n",
    "\n",
    "\n"
   ]
  },
  {
   "cell_type": "code",
   "execution_count": null,
   "id": "e30d083a",
   "metadata": {},
   "outputs": [],
   "source": [
    "\n",
    "def field_category_ids():\n",
    "\t\"\"\"!  \n",
    "\t\n",
    "\t@details\n",
    "\t\"\"\"\n",
    "\treturn f.category_ids\n",
    "\t...\n",
    "\t\n"
   ]
  },
  {
   "cell_type": "code",
   "execution_count": null,
   "id": "2af10c1e",
   "metadata": {},
   "outputs": [],
   "source": [
    "\n",
    "def field_category_ids_append():\n",
    "\t\"\"\"!  \n",
    "\t\n",
    "\t@details\n",
    "\t\"\"\"\n",
    "\treturn f.category_ids_append\n",
    "\t...\n",
    "\t\n",
    "       "
   ]
  },
  {
   "cell_type": "code",
   "execution_count": null,
   "id": "8cef895c",
   "metadata": {},
   "outputs": [],
   "source": [
    "         \n",
    "\n",
    "\n",
    "def field_cache_default_attribute():\n",
    "    \"\"\"!  \n",
    "    \n",
    "    @details\n",
    "    \"\"\"\n",
    "    return f.cache_default_attribute\n",
    "    ...\n"
   ]
  },
  {
   "cell_type": "code",
   "execution_count": null,
   "id": "982e9de2",
   "metadata": {},
   "outputs": [],
   "source": [
    "\n",
    "\n",
    "\n",
    "def field_cache_has_attachments():\n",
    "    \"\"\"!  \n",
    "    \n",
    "    @details\n",
    "    \"\"\"\n",
    "    return f.cache_has_attachments\n",
    "    ...\t\n",
    "        \n",
    "   "
   ]
  },
  {
   "cell_type": "code",
   "execution_count": null,
   "id": "0ff713c1",
   "metadata": {},
   "outputs": [],
   "source": [
    "             \n",
    "\n",
    "\n",
    "def field_cache_is_pack():\n",
    "\t\"\"\"!  \n",
    "\t\n",
    "\t@details\n",
    "\t\"\"\"\n",
    "\treturn f.cache_is_pack\n",
    "\t...\n",
    "\t\n"
   ]
  },
  {
   "cell_type": "code",
   "execution_count": null,
   "id": "c3a1ddd9",
   "metadata": {},
   "outputs": [],
   "source": [
    "\n",
    "\n",
    "def field_condition(arg):\n",
    "\t\"\"\"!  \n",
    "\t\n",
    "\t@details\n",
    "\t\"\"\"\n",
    "\t...\n",
    "\treturn f.condition\n",
    "        \n"
   ]
  },
  {
   "cell_type": "code",
   "execution_count": null,
   "id": "1b9bcbf9",
   "metadata": {},
   "outputs": [],
   "source": [
    "\n",
    "def field_customizable():\n",
    "\t\"\"\"!  \n",
    "\t\n",
    "\t@details\n",
    "\t\"\"\"\n",
    "\treturn f.customizable\n",
    "\t...\n"
   ]
  },
  {
   "cell_type": "code",
   "execution_count": null,
   "id": "b004a87e",
   "metadata": {},
   "outputs": [],
   "source": [
    "\n",
    "\n",
    "def field_date_add():\n",
    "\t\"\"\"!  \n",
    "\t\n",
    "\t@details\n",
    "\t\"\"\"\n",
    "\treturn f.date_add\n",
    "\t...\n",
    "\t\n"
   ]
  },
  {
   "cell_type": "code",
   "execution_count": null,
   "id": "7d7e0616",
   "metadata": {},
   "outputs": [],
   "source": [
    "\n",
    "\n",
    "def field_date_upd():\n",
    "\t\"\"\"!  \n",
    "\t\n",
    "\t@details\n",
    "\t\"\"\"\n",
    "\treturn f.date_upd\n",
    "\t...\n",
    "\t\n"
   ]
  },
  {
   "cell_type": "code",
   "execution_count": null,
   "id": "cc79dec9",
   "metadata": {},
   "outputs": [],
   "source": [
    "\n",
    "def field_delivery_in_stock():\n",
    "\treturn d.execute_locator(l['delivery_in_stock'])\n",
    "\t...\n",
    "        \n"
   ]
  },
  {
   "cell_type": "code",
   "execution_count": null,
   "id": "cac5a84e",
   "metadata": {},
   "outputs": [],
   "source": [
    "\n",
    "\n",
    "def field_depth():\n",
    "\n",
    "\treturn f.depth\n",
    "\t...\n",
    "\t\n"
   ]
  },
  {
   "cell_type": "code",
   "execution_count": null,
   "id": "64059b72",
   "metadata": {},
   "outputs": [],
   "source": [
    "\n",
    "\n",
    "\n",
    "\n"
   ]
  },
  {
   "cell_type": "code",
   "execution_count": null,
   "id": "b358de73",
   "metadata": {},
   "outputs": [],
   "source": [
    "\n"
   ]
  },
  {
   "cell_type": "code",
   "execution_count": null,
   "id": "55b67d9d",
   "metadata": {},
   "outputs": [],
   "source": [
    "\n",
    "\n",
    "def field_ean13():\n",
    "\t\"\"\"!  \n",
    "\t\n",
    "\t@details\n",
    "\t\"\"\"\n",
    "\treturn f.ean13\n",
    "\t...\n",
    "\n"
   ]
  },
  {
   "cell_type": "code",
   "execution_count": null,
   "id": "812d033a",
   "metadata": {},
   "outputs": [],
   "source": [
    "\n",
    "\n",
    "def field_ecotax():\n",
    "\t\"\"\"!  \n",
    "\t\n",
    "\t@details\n",
    "\t\"\"\"\n",
    "\treturn f.ecotax\n",
    "\t...\n",
    "\t\n",
    "        \t\n",
    "                \n"
   ]
  },
  {
   "cell_type": "code",
   "execution_count": null,
   "id": "744a3251",
   "metadata": {},
   "outputs": [],
   "source": [
    "\n",
    "\n",
    "def field_height():\n",
    "\t\"\"\"!  \n",
    "\t\n",
    "\t@details\n",
    "\t\"\"\"\n",
    "\treturn f.height\n",
    "\t...\n",
    "\t\n"
   ]
  },
  {
   "cell_type": "code",
   "execution_count": null,
   "id": "28e2bf03",
   "metadata": {},
   "outputs": [],
   "source": [
    "\n",
    "\n",
    "def field_how_to_use():\n",
    "\t\"\"\"!  \n",
    "\t\n",
    "\t@details\n",
    "\t\"\"\"\n",
    "\treturn f.how_to_use\n",
    "\t...\n",
    "\t\n",
    "                \t\n"
   ]
  },
  {
   "cell_type": "code",
   "execution_count": null,
   "id": "389a9a8f",
   "metadata": {},
   "outputs": [],
   "source": [
    "\n",
    "\"\"\"!\n",
    "def field_id_category_default():\n",
    "\t\"\"\"!  \n",
    "\t\n",
    "\t@details\n",
    "\t\"\"\"\n",
    "\treturn f.id_category_default\n",
    "\t...\n",
    "\"\"\"\n"
   ]
  },
  {
   "cell_type": "code",
   "execution_count": null,
   "id": "dda004a6",
   "metadata": {},
   "outputs": [],
   "source": [
    "\n",
    "\n",
    "def field_id_default_combination():\n",
    "\t\"\"\"!  \n",
    "\t\n",
    "\t@details\n",
    "\t\"\"\"\n",
    "\treturn f.id_default_combination\n",
    "\t...\n",
    "\t\n"
   ]
  },
  {
   "cell_type": "code",
   "execution_count": null,
   "id": "982c20f0",
   "metadata": {},
   "outputs": [],
   "source": [
    "\n",
    "\n",
    "def field_id_default_image():\n",
    "\t\"\"\"!  \n",
    "\t\n",
    "\t@details\n",
    "\t\"\"\"\n",
    "\treturn f.id_default_image\n",
    "\t...\n",
    "\t\n"
   ]
  },
  {
   "cell_type": "code",
   "execution_count": null,
   "id": "d8c380dd",
   "metadata": {},
   "outputs": [],
   "source": [
    "\n",
    "def field_id_lang():\n",
    "\t\"\"\"!  \n",
    "\t\n",
    "\t@details\n",
    "\t\"\"\"\n",
    "\treturn f.id_lang\n",
    "\t...\n",
    "\t\n"
   ]
  },
  {
   "cell_type": "code",
   "execution_count": null,
   "id": "9e49cb9e",
   "metadata": {},
   "outputs": [],
   "source": [
    "\n",
    "def field_id_manufacturer():\n",
    "\t\"\"\"!  \n",
    "\t\n",
    "\t@details\n",
    "\t\"\"\"\n",
    "\treturn f.id_manufacturer\n",
    "\t...\n",
    "\t\n"
   ]
  },
  {
   "cell_type": "code",
   "execution_count": null,
   "id": "544c9a8b",
   "metadata": {},
   "outputs": [],
   "source": [
    "\n",
    "def field_id_product():\n",
    "\t\"\"\"!  \n",
    "\t\n",
    "\t@details\n",
    "\t\"\"\"\n",
    "\treturn f.id_product\n",
    "\t...\n"
   ]
  },
  {
   "cell_type": "code",
   "execution_count": null,
   "id": "81dbfeed",
   "metadata": {},
   "outputs": [],
   "source": [
    "\n",
    "\n",
    "def field_id_shop_default():\n",
    "\t\"\"\"!  \n",
    "\t\n",
    "\t@details\n",
    "\t\"\"\"\n",
    "\treturn f.id_shop_default\n",
    "\t...\n",
    "\t\n"
   ]
  },
  {
   "cell_type": "code",
   "execution_count": null,
   "id": "bde93039",
   "metadata": {},
   "outputs": [],
   "source": [
    "\n",
    "def field_id_supplier():\n",
    "\t\"\"\"!  \n",
    "\t\n",
    "\t@details\n",
    "\t\"\"\"\n",
    "\treturn f.id_supplier\n",
    "\t...\n",
    "\t\n"
   ]
  },
  {
   "cell_type": "code",
   "execution_count": null,
   "id": "cec78525",
   "metadata": {},
   "outputs": [],
   "source": [
    "\n",
    "def field_id_tax():\n",
    "\t\"\"\"!  \n",
    "\t\n",
    "\t@details\n",
    "\t\"\"\"\n",
    "\treturn f.id_tax\n",
    "\t...\n",
    "\t\n"
   ]
  },
  {
   "cell_type": "code",
   "execution_count": null,
   "id": "bbb25a6a",
   "metadata": {},
   "outputs": [],
   "source": [
    "\n",
    "def field_id_type_redirected():\n",
    "\t\"\"\"!  \n",
    "\t\n",
    "\t@details\n",
    "\t\"\"\"\n",
    "\treturn f.id_type_redirected\n",
    "\t...\n",
    "\n"
   ]
  },
  {
   "cell_type": "code",
   "execution_count": null,
   "id": "ce3b953c",
   "metadata": {},
   "outputs": [],
   "source": [
    "\n",
    "def field_images_urls():\n",
    "\t\"\"\"!  \n",
    "\t\n",
    "\t@details\n",
    "\t\"\"\"\n",
    "\treturn f.images_urls\n",
    "\t...\n",
    "\t\n"
   ]
  },
  {
   "cell_type": "code",
   "execution_count": null,
   "id": "8ab6d441",
   "metadata": {},
   "outputs": [],
   "source": [
    "\n",
    "\n",
    "def field_indexed():\n",
    "\t\"\"\"!  \n",
    "\t\n",
    "\t@details\n",
    "\t\"\"\"\n",
    "\treturn f.indexed\n",
    "\t...\n",
    "\t\n",
    "     "
   ]
  },
  {
   "cell_type": "code",
   "execution_count": null,
   "id": "84502f56",
   "metadata": {},
   "outputs": [],
   "source": []
  },
  {
   "cell_type": "code",
   "execution_count": null,
   "id": "a2a66589",
   "metadata": {},
   "outputs": [],
   "source": [
    "\n",
    "\n",
    "def field_is_virtual():\n",
    "\t\"\"\"!  \n",
    "\t\n",
    "\t@details\n",
    "\t\"\"\"\n",
    "\treturn f.is_virtual\n",
    "\t...\n",
    "\n"
   ]
  },
  {
   "cell_type": "code",
   "execution_count": null,
   "id": "268a6c9d",
   "metadata": {},
   "outputs": [],
   "source": [
    "\n",
    "\n",
    "def field_isbn():\n",
    "\t\"\"\"!  \n",
    "\t\n",
    "\t@details\n",
    "\t\"\"\"\n",
    "\treturn f.isbn\n",
    "\t...\n",
    "\t\n"
   ]
  },
  {
   "cell_type": "code",
   "execution_count": null,
   "id": "57a7432d",
   "metadata": {},
   "outputs": [],
   "source": [
    "\n",
    "\n",
    "def field_link_rewrite():\n",
    "\t\"\"\"!  \n",
    "\t\n",
    "\t@details\n",
    "\t\"\"\"\n",
    "\treturn f.link_rewrite\n",
    "\t...\n",
    "\t\n",
    "        \n"
   ]
  },
  {
   "cell_type": "code",
   "execution_count": null,
   "id": "b5b45667",
   "metadata": {},
   "outputs": [],
   "source": [
    "\n",
    "\n",
    "def field_location():\n",
    "\t\"\"\"!  \n",
    "\t\n",
    "\t@details\n",
    "\t\"\"\"\n",
    "\treturn f.location\n",
    "\t...\n",
    "\t\n"
   ]
  },
  {
   "cell_type": "code",
   "execution_count": null,
   "id": "fc5d5aa9",
   "metadata": {},
   "outputs": [],
   "source": [
    "\n",
    "\n",
    "def field_low_stock_alert():\n",
    "\t\"\"\"!  \n",
    "\t\n",
    "\t@details\n",
    "\t\"\"\"\n",
    "\treturn f.low_stock_alert\n",
    "\t...\n",
    "\t\n",
    "    \n"
   ]
  },
  {
   "cell_type": "code",
   "execution_count": null,
   "id": "913a2c01",
   "metadata": {},
   "outputs": [],
   "source": [
    "\n",
    "\n",
    "def field_low_stock_threshold():\n",
    "\t\"\"\"!  \n",
    "\t\n",
    "\t@details\n",
    "\t\"\"\"\n",
    "\treturn f.low_stock_threshold\n",
    "\t...\n",
    "\t\n"
   ]
  },
  {
   "cell_type": "code",
   "execution_count": null,
   "id": "cf092a04",
   "metadata": {},
   "outputs": [],
   "source": [
    "\n",
    "\n",
    "def field_meta_description():\n",
    "\t\"\"\"!  \n",
    "\t\n",
    "\t@details\n",
    "\t\"\"\"\n",
    "\t...\n",
    "\t\n"
   ]
  },
  {
   "cell_type": "code",
   "execution_count": null,
   "id": "4d43bdad",
   "metadata": {},
   "outputs": [],
   "source": [
    "\n",
    "\n",
    "def field_meta_keywords():\n",
    "\t\"\"\"!  \n",
    "\t\n",
    "\t@details\n",
    "\t\"\"\"\n",
    "\treturn f.meta_keywords\n",
    "\t...\n",
    "\t\n",
    "        \n"
   ]
  },
  {
   "cell_type": "code",
   "execution_count": null,
   "id": "e888e867",
   "metadata": {},
   "outputs": [],
   "source": [
    "\n",
    "\n",
    "def field_meta_title():\n",
    "\t\"\"\"!  \n",
    "\t\n",
    "\t@details\n",
    "\t\"\"\"\n",
    "\treturn f.meta_title\n",
    "\t...\n",
    "\t\n"
   ]
  },
  {
   "cell_type": "code",
   "execution_count": null,
   "id": "fb8c5088",
   "metadata": {},
   "outputs": [],
   "source": [
    "\n",
    "\n",
    "\n",
    "def field_minimal_quantity():\n",
    "\t\"\"\"!  \n",
    "\t\n",
    "\t@details\n",
    "\t\"\"\"\n",
    "\treturn f.minimal_quantity\n",
    "\t...\n",
    "\n"
   ]
  },
  {
   "cell_type": "code",
   "execution_count": null,
   "id": "fae6945f",
   "metadata": {},
   "outputs": [],
   "source": [
    "\n",
    "\n",
    "def field_mpn():\n",
    "\t\"\"\"!  \n",
    "\t\n",
    "\t@details\n",
    "\t\"\"\"\n",
    "\treturn f.mpn\n",
    "\t...\n",
    "\t\n"
   ]
  },
  {
   "cell_type": "code",
   "execution_count": null,
   "id": "2cf0fac9",
   "metadata": {},
   "outputs": [],
   "source": [
    "# 10\n",
    "\n",
    "def field_name():\n",
    "\t\"\"\"!  \n",
    "\t\n",
    "\t@details\n",
    "\t\"\"\"\n",
    "\tf.name =  d.execute_locator(l['name'])\n"
   ]
  },
  {
   "cell_type": "code",
   "execution_count": null,
   "id": "5f6bcf51",
   "metadata": {},
   "outputs": [],
   "source": []
  },
  {
   "cell_type": "code",
   "execution_count": null,
   "id": "c5a65b95",
   "metadata": {},
   "outputs": [],
   "source": [
    "\n",
    "\n",
    "def field_online_only():\n",
    "\t\"\"\"!  \n",
    "\t\n",
    "\t@details\n",
    "\t\"\"\"\n",
    "\treturn f.online_only\n",
    "\t...\n",
    "\t\n"
   ]
  },
  {
   "cell_type": "code",
   "execution_count": null,
   "id": "c93d8ef8",
   "metadata": {},
   "outputs": [],
   "source": [
    "\n",
    "def field_on_sale():\n",
    "\t\"\"\"!  \n",
    "\t\n",
    "\t@details\n",
    "\t\"\"\"\n",
    "\treturn f.on_sale\n",
    "\t...\n",
    "\t\n"
   ]
  },
  {
   "cell_type": "code",
   "execution_count": null,
   "id": "19fc9748",
   "metadata": {},
   "outputs": [],
   "source": [
    "\n",
    "\n",
    "def field_out_of_stock():\n",
    "\t\"\"\"!  \n",
    "\t\n",
    "\t@details`\n",
    "\t\"\"\"\n",
    "\treturn f.out_of_stock\n",
    "\t...\n",
    "\t\n",
    "\n"
   ]
  },
  {
   "cell_type": "code",
   "execution_count": null,
   "id": "486f0543",
   "metadata": {},
   "outputs": [],
   "source": [
    "\n",
    "def field_pack_stock_type():\n",
    "\t\"\"\"!  \n",
    "\t\n",
    "\t@details\n",
    "\t\"\"\"\n",
    "\treturn f.pack_stock_type\n",
    "\t...\n",
    "\t\n"
   ]
  },
  {
   "cell_type": "code",
   "execution_count": null,
   "id": "4bc14111",
   "metadata": {},
   "outputs": [],
   "source": [
    "\n",
    "\n",
    "def field_position_in_category():\n",
    "\t\"\"\"!  \n",
    "\t\n",
    "\t@details\n",
    "\t\"\"\"\n",
    "\treturn f.position_in_category\n",
    "\t...\n",
    "\t\n",
    "              "
   ]
  },
  {
   "cell_type": "code",
   "execution_count": null,
   "id": "15091dc7",
   "metadata": {},
   "outputs": [],
   "source": [
    "                  \n",
    "\n",
    "\n",
    "def field_price():\n",
    "\t\"\"\"!  \n",
    "\t\n",
    "\t@details\n",
    "\t\"\"\"\n",
    "\treturn f.price\n",
    "\t...\n",
    "\t\n"
   ]
  },
  {
   "cell_type": "code",
   "execution_count": null,
   "id": "b89abe19",
   "metadata": {},
   "outputs": [],
   "source": [
    "\n",
    "\n",
    "def field_product_type():\n",
    "\t\"\"\"!  \n",
    "\t\n",
    "\t@details\n",
    "\t\"\"\"\n",
    "\treturn f.product_type\n",
    "\t...\n",
    "\t\n",
    "\n"
   ]
  },
  {
   "cell_type": "code",
   "execution_count": null,
   "id": "6fb081d9",
   "metadata": {},
   "outputs": [],
   "source": [
    "\n",
    "def field_quantity():\n",
    "\t\"\"\"!  \n",
    "\t\n",
    "\t@details\n",
    "\t\"\"\"\n",
    "\treturn f.quantity\n",
    "\t...\n",
    "\t\n"
   ]
  },
  {
   "cell_type": "code",
   "execution_count": null,
   "id": "88521206",
   "metadata": {},
   "outputs": [],
   "source": [
    "\n",
    "\n",
    "def field_quantity_discount():\n",
    "\t\"\"\"!  \n",
    "\t\n",
    "\t@details\n",
    "\t\"\"\"\n",
    "\treturn f.quantity_discount\n",
    "\t...\n",
    "\t\n"
   ]
  },
  {
   "cell_type": "code",
   "execution_count": null,
   "id": "d9e5c74f",
   "metadata": {},
   "outputs": [],
   "source": [
    "\n",
    "\n",
    "def field_redirect_type():\n",
    "\t\"\"\"!  \n",
    "\t\n",
    "\t@details\n",
    "\t\"\"\"\n",
    "\treturn f.redirect_type\n",
    "\t...\n",
    "\t\n"
   ]
  },
  {
   "cell_type": "code",
   "execution_count": null,
   "id": "a391d2ba",
   "metadata": {},
   "outputs": [],
   "source": [
    "\n",
    "\n",
    "def field_reference():\n",
    "\t\"\"\"!  \n",
    "\t\n",
    "\t@details\n",
    "\t\"\"\"\n",
    "\treturn d.async_execute_locator(l['reference']) if async_run else d.execute_locator(l['reference'])\n",
    "\t...\n",
    "\t\n"
   ]
  },
  {
   "cell_type": "code",
   "execution_count": null,
   "id": "4cde8154",
   "metadata": {},
   "outputs": [],
   "source": [
    "\n",
    "\n",
    "def field_show_condition():\n",
    "\t\"\"\"!  \n",
    "\t\n",
    "\t@details\n",
    "\t\"\"\"\n",
    "\t#return f.show_condition\n",
    "\treturn 0\n",
    "\t...\n",
    "\n",
    "\n"
   ]
  },
  {
   "cell_type": "code",
   "execution_count": null,
   "id": "88a57304",
   "metadata": {},
   "outputs": [],
   "source": [
    "\n",
    "def field_show_price():\n",
    "\t\"\"\"!  \n",
    "\t\n",
    "\t@details\n",
    "\t\"\"\"\n",
    "\treturn f.show_price\n",
    "\t...\n",
    "\n"
   ]
  },
  {
   "cell_type": "code",
   "execution_count": null,
   "id": "a5510bd3",
   "metadata": {},
   "outputs": [],
   "source": [
    "\n",
    "\n",
    "def field_state():\n",
    "\t\"\"\"!  \n",
    "\t\n",
    "\t@details\n",
    "\t\"\"\"\n",
    "\treturn f.state\n",
    "\t...\n"
   ]
  },
  {
   "cell_type": "code",
   "execution_count": null,
   "id": "816d93d4",
   "metadata": {},
   "outputs": [],
   "source": [
    "\n",
    "\n",
    "\n",
    "def field_supplier_reference():\n",
    "\t\"\"\"!  \n",
    "\t\n",
    "\t@details\n",
    "\t\"\"\"\n",
    "\treturn f.supplier_reference\n",
    "\t...\n",
    "\t\n",
    "\n"
   ]
  },
  {
   "cell_type": "code",
   "execution_count": null,
   "id": "f291dfe2",
   "metadata": {},
   "outputs": [],
   "source": [
    "\n",
    "\n",
    "def field_text_fields():\n",
    "\t\"\"\"!  \n",
    "\t\n",
    "\t@details\n",
    "\t\"\"\"\n",
    "\treturn f.text_fields\n",
    "\t...\n",
    "\t\n"
   ]
  },
  {
   "cell_type": "code",
   "execution_count": null,
   "id": "5e4570b1",
   "metadata": {},
   "outputs": [],
   "source": [
    "\n",
    "\n",
    "def field_unit_price_ratio():\n",
    "\t\"\"\"!  \n",
    "\t\n",
    "\t@details\n",
    "\t\"\"\"\n",
    "\treturn f.unit_price_ratio\n",
    "\t...\n",
    "\t\n",
    "\n"
   ]
  },
  {
   "cell_type": "code",
   "execution_count": null,
   "id": "545618de",
   "metadata": {},
   "outputs": [],
   "source": [
    "\n",
    "def field_unity():\n",
    "\t\"\"\"!  \n",
    "\t\n",
    "\t@details\n",
    "\t\"\"\"\n",
    "\treturn f.unity\n",
    "\t...\n",
    "\t\n",
    "        \n"
   ]
  },
  {
   "cell_type": "code",
   "execution_count": null,
   "id": "17f57e24",
   "metadata": {},
   "outputs": [],
   "source": [
    "\n",
    "\n",
    "def field_upc():\n",
    "\t\"\"\"!  \n",
    "\t\n",
    "\t@details\n",
    "\t\"\"\"\n",
    "\treturn f.upc\n",
    "\t...\n",
    "\t\n"
   ]
  },
  {
   "cell_type": "code",
   "execution_count": null,
   "id": "3143af43",
   "metadata": {},
   "outputs": [],
   "source": [
    "\n",
    "\n",
    "def field_uploadable_files():\n",
    "\t\"\"\"!  \n",
    "\t\n",
    "\t@details\n",
    "\t\"\"\"\n",
    "\treturn f.uploadable_files\n",
    "\t...\n",
    "\t\n"
   ]
  },
  {
   "cell_type": "code",
   "execution_count": null,
   "id": "bb1e362b",
   "metadata": {},
   "outputs": [],
   "source": [
    "\n",
    "\n",
    "def field_default_image_url():\n",
    "\t\"\"\"!  \n",
    "\t\n",
    "\t@details\n",
    "\t\"\"\"\n",
    "\treturn f.default_image_url\n",
    "\t...\n",
    "\t\n"
   ]
  },
  {
   "cell_type": "code",
   "execution_count": null,
   "id": "2cf82b02",
   "metadata": {},
   "outputs": [],
   "source": [
    "\n",
    "\n",
    "def field_visibility():\n",
    "\t\"\"\"!  \n",
    "\t\n",
    "\t@details\n",
    "\t\"\"\"\n",
    "\treturn f.visibility\n",
    "\t...\n",
    "\t\n"
   ]
  },
  {
   "cell_type": "code",
   "execution_count": null,
   "id": "a19566b6",
   "metadata": {},
   "outputs": [],
   "source": [
    "\n",
    "\n",
    "def field_weight():\n",
    "\t\"\"\"!  \n",
    "\t\n",
    "\t@details\n",
    "\t\"\"\"\n",
    "\treturn f.weight\n",
    "\t...\n",
    "\t\n"
   ]
  },
  {
   "cell_type": "code",
   "execution_count": null,
   "id": "ba8d990e",
   "metadata": {},
   "outputs": [],
   "source": [
    "\n",
    "\n",
    "def field_wholesale_price():\n",
    "\t\"\"\"!  \n",
    "\t\n",
    "\t@details\n",
    "\t\"\"\"\n",
    "\treturn f.wholesale_price\n",
    "\t...\n",
    "\t\n"
   ]
  },
  {
   "cell_type": "code",
   "execution_count": null,
   "id": "2db6bb02",
   "metadata": {},
   "outputs": [],
   "source": [
    "\n",
    "\n",
    "def field_width():\n",
    "\t\"\"\"!  \n",
    "\t\n",
    "\t@details\n",
    "\t\"\"\"\n",
    "\treturn f.width\n",
    "\t...\n",
    "\t\n",
    "        "
   ]
  },
  {
   "cell_type": "markdown",
   "id": "86a60b05",
   "metadata": {},
   "source": [
    "#### Сбор всех полей на странице\n",
    "<a id=FillAllFields></a>"
   ]
  },
  {
   "cell_type": "code",
   "execution_count": null,
   "id": "d7b0b1f6-bde1-4b0b-af3b-2aa030efd038",
   "metadata": {},
   "outputs": [],
   "source": [
    "f.supplier_reference = d.current_url.split('item/')[-1].split('.')[0]\n",
    "f.reference = f'''{s.supplier_id}-{f.supplier_reference}'''\n",
    "f.name = d.execute_locator(l['name'])\n",
    "pprint(f.name)\n",
    "#_f.name = StringFormatter.remove_special_characters(_f.name)"
   ]
  },
  {
   "cell_type": "code",
   "execution_count": null,
   "id": "6201a2f0-74b5-49dd-9c5d-382c60d2d933",
   "metadata": {},
   "outputs": [],
   "source": [
    "print(f.reference)"
   ]
  },
  {
   "cell_type": "code",
   "execution_count": null,
   "id": "fc00ebe7-bfa7-47de-9849-31d88eab265d",
   "metadata": {},
   "outputs": [],
   "source": [
    "d.execute_locator(l['additional_delivery_times'])"
   ]
  },
  {
   "cell_type": "code",
   "execution_count": null,
   "id": "699ffb48-4e76-48a5-b082-16179514f132",
   "metadata": {},
   "outputs": [],
   "source": [
    "f.price = _(l['price'])\n",
    "print(f.price)"
   ]
  },
  {
   "cell_type": "code",
   "execution_count": null,
   "id": "00fea16b-14e9-4237-93c6-bd4362ddbc9c",
   "metadata": {},
   "outputs": [],
   "source": [
    "product_in_presta_db = p.check_if_product_in_presta_db(f.reference)"
   ]
  },
  {
   "cell_type": "code",
   "execution_count": null,
   "id": "6489eb29-89a7-41e3-88b4-1a70b3cdcdfb",
   "metadata": {},
   "outputs": [],
   "source": [
    "if not product_in_presta_db:\n",
    "    p.add_2_PrestaShop(p.fields)"
   ]
  },
  {
   "cell_type": "code",
   "execution_count": null,
   "id": "b3204284-af8f-4777-ad56-5ea55d9db35f",
   "metadata": {},
   "outputs": [],
   "source": [
    "prod_dict =             {\n",
    "                \"id\": \"\",\n",
    "                \"id_manufacturer\": \"\",\n",
    "                \"id_supplier\": \"\",\n",
    "                \"id_category_default\": \"\",\n",
    "                \"new\": \"\",\n",
    "                \"cache_default_attribute\": \"\",\n",
    "                \"id_default_image\": \"\",\n",
    "                \"id_default_combination\": \"\",\n",
    "                \"id_tax\": \"\",\n",
    "                \"position_in_category\": \"\",\n",
    "                \"type\": \"\",\n",
    "                \"id_shop_default\": \"\",\n",
    "                \"reference\": \"1005004931672329\",\n",
    "                \"supplier_reference\": \"\",\n",
    "                \"location\": \"\",\n",
    "                \"width\": \"\",\n",
    "                \"height\": \"\",\n",
    "                \"depth\": \"\",\n",
    "                \"weight\": \"\",\n",
    "                \"quantity_discount\": \"\",\n",
    "                \"ean13\": \"\",\n",
    "                \"isbn\": \"\",\n",
    "                \"upc\": \"\",\n",
    "                \"mpn\": \"\",\n",
    "                \"cache_is_pack\": \"\",\n",
    "                \"cache_has_attachments\": \"\",\n",
    "                \"is_virtual\": \"\",\n",
    "                \"state\": \"\",\n",
    "                \"additional_delivery_times\": \"\",\n",
    "                \"delivery_in_stock\": {\n",
    "                    \"language\": [\n",
    "                        {\n",
    "                            \"attrs\": {\n",
    "                                \"id\": \"1\"\n",
    "                            },\n",
    "                            \"value\": \"\"\n",
    "                        },\n",
    "                        {\n",
    "                            \"attrs\": {\n",
    "                                \"id\": \"2\"\n",
    "                            },\n",
    "                            \"value\": \"\"\n",
    "                        },\n",
    "                        {\n",
    "                            \"attrs\": {\n",
    "                                \"id\": \"3\"\n",
    "                            },\n",
    "                            \"value\": \"\"\n",
    "                        }\n",
    "                    ]\n",
    "                },\n",
    "                \"delivery_out_stock\": {\n",
    "                    \"language\": [\n",
    "                        {\n",
    "                            \"attrs\": {\n",
    "                                \"id\": \"1\"\n",
    "                            },\n",
    "                            \"value\": \"\"\n",
    "                        },\n",
    "                        {\n",
    "                            \"attrs\": {\n",
    "                                \"id\": \"2\"\n",
    "                            },\n",
    "                            \"value\": \"\"\n",
    "                        },\n",
    "                        {\n",
    "                            \"attrs\": {\n",
    "                                \"id\": \"3\"\n",
    "                            },\n",
    "                            \"value\": \"\"\n",
    "                        }\n",
    "                    ]\n",
    "                },\n",
    "                \"product_type\": \"\",\n",
    "                \"on_sale\": \"\",\n",
    "                \"online_only\": \"\",\n",
    "                \"ecotax\": \"\",\n",
    "                \"minimal_quantity\": \"\",\n",
    "                \"low_stock_threshold\": \"\",\n",
    "                \"low_stock_alert\": \"\",\n",
    "                \"price\": 2439.51,\n",
    "                \"wholesale_price\": \"\",\n",
    "                \"unity\": \"\",\n",
    "                \"unit_price_ratio\": \"\",\n",
    "                \"additional_shipping_cost\": \"\",\n",
    "                \"customizable\": \"\",\n",
    "                \"text_fields\": \"\",\n",
    "                \"uploadable_files\": \"\",\n",
    "                \"active\": \"\",\n",
    "                \"redirect_type\": \"\",\n",
    "                \"id_type_redirected\": \"\",\n",
    "                \"available_for_order\": \"\",\n",
    "                \"available_date\": \"\",\n",
    "                \"show_condition\": \"\",\n",
    "                \"condition\": \"\",\n",
    "                \"show_price\": \"\",\n",
    "                \"indexed\": \"\",\n",
    "                \"visibility\": \"\",\n",
    "                \"advanced_stock_management\": \"\",\n",
    "                \"date_add\": \"\",\n",
    "                \"date_upd\": \"\",\n",
    "                \"pack_stock_type\": \"\",\n",
    "                \"meta_description\": {\n",
    "                    \"language\": [\n",
    "                        {\n",
    "                            \"attrs\": {\n",
    "                                \"id\": \"1\"\n",
    "                            },\n",
    "                            \"value\": \"\"\n",
    "                        },\n",
    "                        {\n",
    "                            \"attrs\": {\n",
    "                                \"id\": \"2\"\n",
    "                            },\n",
    "                            \"value\": \"\"\n",
    "                        },\n",
    "                        {\n",
    "                            \"attrs\": {\n",
    "                                \"id\": \"3\"\n",
    "                            },\n",
    "                            \"value\": \"\"\n",
    "                        }\n",
    "                    ]\n",
    "                },\n",
    "                \"meta_keywords\": {\n",
    "                    \"language\": [\n",
    "                        {\n",
    "                            \"attrs\": {\n",
    "                                \"id\": \"1\"\n",
    "                            },\n",
    "                            \"value\": \"\"\n",
    "                        },\n",
    "                        {\n",
    "                            \"attrs\": {\n",
    "                                \"id\": \"2\"\n",
    "                            },\n",
    "                            \"value\": \"\"\n",
    "                        },\n",
    "                        {\n",
    "                            \"attrs\": {\n",
    "                                \"id\": \"3\"\n",
    "                            },\n",
    "                            \"value\": \"\"\n",
    "                        }\n",
    "                    ]\n",
    "                },\n",
    "                \"meta_title\": {\n",
    "                    \"language\": [\n",
    "                        {\n",
    "                            \"attrs\": {\n",
    "                                \"id\": \"1\"\n",
    "                            },\n",
    "                            \"value\": \"\"\n",
    "                        },\n",
    "                        {\n",
    "                            \"attrs\": {\n",
    "                                \"id\": \"2\"\n",
    "                            },\n",
    "                            \"value\": \"\"\n",
    "                        },\n",
    "                        {\n",
    "                            \"attrs\": {\n",
    "                                \"id\": \"3\"\n",
    "                            },\n",
    "                            \"value\": \"\"\n",
    "                        }\n",
    "                    ]\n",
    "                },\n",
    "                \"link_rewrite\": {\n",
    "                    \"language\": [\n",
    "                        {\n",
    "                            \"attrs\": {\n",
    "                                \"id\": \"1\"\n",
    "                            },\n",
    "                            \"value\": \"\"\n",
    "                        },\n",
    "                        {\n",
    "                            \"attrs\": {\n",
    "                                \"id\": \"2\"\n",
    "                            },\n",
    "                            \"value\": \"\"\n",
    "                        },\n",
    "                        {\n",
    "                            \"attrs\": {\n",
    "                                \"id\": \"3\"\n",
    "                            },\n",
    "                            \"value\": \"\"\n",
    "                        }\n",
    "                    ]\n",
    "                },\n",
    "                \"name\": {\n",
    "                    \"language\": [\n",
    "                        {\n",
    "                            \"attrs\": {\n",
    "                                \"id\": \"1\"\n",
    "                            },\n",
    "                            \"value\": \"\"\n",
    "                        },\n",
    "                        {\n",
    "                            \"attrs\": {\n",
    "                                \"id\": \"2\"\n",
    "                            },\n",
    "                            \"value\": \"\"\n",
    "                        },\n",
    "                        {\n",
    "                            \"attrs\": {\n",
    "                                \"id\": \"3\"\n",
    "                            },\n",
    "                            \"value\": \"\"\n",
    "                        }\n",
    "                    ]\n",
    "                },\n",
    "                \"description\": {\n",
    "                    \"language\": [\n",
    "                        {\n",
    "                            \"attrs\": {\n",
    "                                \"id\": \"1\"\n",
    "                            },\n",
    "                            \"value\": \"\"\n",
    "                        },\n",
    "                        {\n",
    "                            \"attrs\": {\n",
    "                                \"id\": \"2\"\n",
    "                            },\n",
    "                            \"value\": \"\"\n",
    "                        },\n",
    "                        {\n",
    "                            \"attrs\": {\n",
    "                                \"id\": \"3\"\n",
    "                            },\n",
    "                            \"value\": \"\"\n",
    "                        }\n",
    "                    ]\n",
    "                },\n",
    "                \"description_short\": {\n",
    "                    \"language\": [\n",
    "                        {\n",
    "                            \"attrs\": {\n",
    "                                \"id\": \"1\"\n",
    "                            },\n",
    "                            \"value\": \"\"\n",
    "                        },\n",
    "                        {\n",
    "                            \"attrs\": {\n",
    "                                \"id\": \"2\"\n",
    "                            },\n",
    "                            \"value\": \"\"\n",
    "                        },\n",
    "                        {\n",
    "                            \"attrs\": {\n",
    "                                \"id\": \"3\"\n",
    "                            },\n",
    "                            \"value\": \"\"\n",
    "                        }\n",
    "                    ]\n",
    "                },\n",
    "                \"available_now\": {\n",
    "                    \"language\": [\n",
    "                        {\n",
    "                            \"attrs\": {\n",
    "                                \"id\": \"1\"\n",
    "                            },\n",
    "                            \"value\": \"\"\n",
    "                        },\n",
    "                        {\n",
    "                            \"attrs\": {\n",
    "                                \"id\": \"2\"\n",
    "                            },\n",
    "                            \"value\": \"\"\n",
    "                        },\n",
    "                        {\n",
    "                            \"attrs\": {\n",
    "                                \"id\": \"3\"\n",
    "                            },\n",
    "                            \"value\": \"\"\n",
    "                        }\n",
    "                    ]\n",
    "                },\n",
    "                \"available_later\": {\n",
    "                    \"language\": [\n",
    "                        {\n",
    "                            \"attrs\": {\n",
    "                                \"id\": \"1\"\n",
    "                            },\n",
    "                            \"value\": \"\"\n",
    "                        },\n",
    "                        {\n",
    "                            \"attrs\": {\n",
    "                                \"id\": \"2\"\n",
    "                            },\n",
    "                            \"value\": \"\"\n",
    "                        },\n",
    "                        {\n",
    "                            \"attrs\": {\n",
    "                                \"id\": \"3\"\n",
    "                            },\n",
    "                            \"value\": \"\"\n",
    "                        }\n",
    "                    ]\n",
    "                },\n",
    "                \"affiliate_short_link\": {\n",
    "                    \"language\": [\n",
    "                        {\n",
    "                            \"attrs\": {\n",
    "                                \"id\": \"1\"\n",
    "                            },\n",
    "                            \"value\": \"\"\n",
    "                        },\n",
    "                        {\n",
    "                            \"attrs\": {\n",
    "                                \"id\": \"2\"\n",
    "                            },\n",
    "                            \"value\": \"\"\n",
    "                        },\n",
    "                        {\n",
    "                            \"attrs\": {\n",
    "                                \"id\": \"3\"\n",
    "                            },\n",
    "                            \"value\": \"\"\n",
    "                        }\n",
    "                    ]\n",
    "                },\n",
    "                \"affiliate_text\": {\n",
    "                    \"language\": [\n",
    "                        {\n",
    "                            \"attrs\": {\n",
    "                                \"id\": \"1\"\n",
    "                            },\n",
    "                            \"value\": \"\"\n",
    "                        },\n",
    "                        {\n",
    "                            \"attrs\": {\n",
    "                                \"id\": \"2\"\n",
    "                            },\n",
    "                            \"value\": \"\"\n",
    "                        },\n",
    "                        {\n",
    "                            \"attrs\": {\n",
    "                                \"id\": \"3\"\n",
    "                            },\n",
    "                            \"value\": \"\"\n",
    "                        }\n",
    "                    ]\n",
    "                },\n",
    "                \"affiliate_summary\": {\n",
    "                    \"language\": [\n",
    "                        {\n",
    "                            \"attrs\": {\n",
    "                                \"id\": \"1\"\n",
    "                            },\n",
    "                            \"value\": \"\"\n",
    "                        },\n",
    "                        {\n",
    "                            \"attrs\": {\n",
    "                                \"id\": \"2\"\n",
    "                            },\n",
    "                            \"value\": \"\"\n",
    "                        },\n",
    "                        {\n",
    "                            \"attrs\": {\n",
    "                                \"id\": \"3\"\n",
    "                            },\n",
    "                            \"value\": \"\"\n",
    "                        }\n",
    "                    ]\n",
    "                },\n",
    "                \"affiliate_summary_2\": {\n",
    "                    \"language\": [\n",
    "                        {\n",
    "                            \"attrs\": {\n",
    "                                \"id\": \"1\"\n",
    "                            },\n",
    "                            \"value\": \"\"\n",
    "                        },\n",
    "                        {\n",
    "                            \"attrs\": {\n",
    "                                \"id\": \"2\"\n",
    "                            },\n",
    "                            \"value\": \"\"\n",
    "                        },\n",
    "                        {\n",
    "                            \"attrs\": {\n",
    "                                \"id\": \"3\"\n",
    "                            },\n",
    "                            \"value\": \"\"\n",
    "                        }\n",
    "                    ]\n",
    "                },\n",
    "                \"associations\": {\n",
    "                    \"categories\": {\n",
    "                        \"category\": {\n",
    "                            \"id\": \"\"\n",
    "                        }\n",
    "                    },\n",
    "                    \"images\": {\n",
    "                        \"image\": {\n",
    "                            \"id\": \"\"\n",
    "                        }\n",
    "                    },\n",
    "                    \"combinations\": {\n",
    "                        \"combination\": {\n",
    "                            \"id\": \"\"\n",
    "                        }\n",
    "                    },\n",
    "                    \"product_option_values\": {\n",
    "                        \"product_option_value\": {\n",
    "                            \"id\": \"\"\n",
    "                        }\n",
    "                    },\n",
    "                    \"product_features\": {\n",
    "                        \"product_feature\": {\n",
    "                            \"id\": \"\",\n",
    "                            \"id_feature_value\": \"\"\n",
    "                        }\n",
    "                    },\n",
    "                    \"tags\": {\n",
    "                        \"tag\": {\n",
    "                            \"id\": \"\"\n",
    "                        }\n",
    "                    },\n",
    "                    \"stock_availables\": {\n",
    "                        \"stock_available\": {\n",
    "                            \"id\": \"\",\n",
    "                            \"id_product_attribute\": \"\"\n",
    "                        }\n",
    "                    },\n",
    "                    \"attachments\": {\n",
    "                        \"attachment\": {\n",
    "                            \"id\": \"\"\n",
    "                        }\n",
    "                    },\n",
    "                    \"accessories\": {\n",
    "                        \"product\": {\n",
    "                            \"id\": \"\"\n",
    "                        }\n",
    "                    },\n",
    "                    \"product_bundle\": {\n",
    "                        \"product\": {\n",
    "                            \"id\": \"\",\n",
    "                            \"id_product_attribute\": \"\",\n",
    "                            \"quantity\": \"\"\n",
    "                        }\n",
    "                    }\n",
    "                }\n",
    "            }"
   ]
  },
  {
   "cell_type": "code",
   "execution_count": null,
   "id": "89d9cf10-6e77-4a16-ac33-24f72e607aea",
   "metadata": {},
   "outputs": [],
   "source": [
    "\n",
    "def fill_fields(f):\n",
    "    f.id_product = ''\n",
    "    f.reference = f.supplier_reference = d.current_url.split('/')[-1].split('.')[0]\n",
    "    f.price = _(l['price'])[0]\n",
    "    #f.price = '$151'\n",
    "    f.name = _(l['name'])[0]\n",
    "    f.summary = _(l['summary'])[0]\n",
    "    return f\n",
    "\n",
    "#fill_fields(f)\n",
    "..."
   ]
  }
 ],
 "metadata": {
  "kernelspec": {
   "display_name": "Python 3 (ipykernel)",
   "language": "python",
   "name": "python3"
  },
  "language_info": {
   "codemirror_mode": {
    "name": "ipython",
    "version": 3
   },
   "file_extension": ".py",
   "mimetype": "text/x-python",
   "name": "python",
   "nbconvert_exporter": "python",
   "pygments_lexer": "ipython3",
   "version": "3.11.8"
  }
 },
 "nbformat": 4,
 "nbformat_minor": 5
}
