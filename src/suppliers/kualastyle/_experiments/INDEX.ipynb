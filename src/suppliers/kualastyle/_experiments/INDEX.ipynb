{
 "cells": [
  {
   "cell_type": "markdown",
   "id": "e890c0aa",
   "metadata": {},
   "source": [
    "# ALIEXPRESS"
   ]
  },
  {
   "cell_type": "markdown",
   "id": "70479a58",
   "metadata": {},
   "source": [
    "[Тесты и исследования сценариев](JUPYTER_test_scenario.ipynb)\n",
    "\n",
    "[Исследования полей товара](JUPYTER_research_fields.ipynb)"
   ]
  },
  {
   "cell_type": "code",
   "execution_count": null,
   "id": "d6ab0e38",
   "metadata": {},
   "outputs": [],
   "source": []
  }
 ],
 "metadata": {
  "kernelspec": {
   "display_name": "Python 3 (ipykernel)",
   "language": "python",
   "name": "python3"
  },
  "language_info": {
   "codemirror_mode": {
    "name": "ipython",
    "version": 3
   },
   "file_extension": ".py",
   "mimetype": "text/x-python",
   "name": "python",
   "nbconvert_exporter": "python",
   "pygments_lexer": "ipython3",
   "version": "3.11.6"
  }
 },
 "nbformat": 4,
 "nbformat_minor": 5
}
