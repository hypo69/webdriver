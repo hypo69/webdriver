{
 "cells": [
  {
   "cell_type": "code",
   "execution_count": 1,
   "id": "7b02b6f7-3bac-4785-8efe-4d917b28d586",
   "metadata": {},
   "outputs": [
    {
     "name": "stdout",
     "output_type": "stream",
     "text": [
      "\u001b[1m\u001b[33m\u001b[32m->INFO\u001b[0m\u001b[1m\u001b[33m 20:07:28 from start: 0:00:00.013828 User {{user_id}} logged in\n",
      "\t\u001b[30mhelpers.logger\u001b[0m\u001b[1m\u001b[33m:\u001b[36m<module>:48\u001b[0m\u001b[1m\u001b[33m\n",
      "\u001b[0m\u001b[1m\u001b[0m\n"
     ]
    },
    {
     "name": "stderr",
     "output_type": "stream",
     "text": [
      "NoneType: None\n"
     ]
    },
    {
     "name": "stdout",
     "output_type": "stream",
     "text": [
      "\u001b[1m\u001b[33m\u001b[32m->INFO\u001b[0m\u001b[1m\u001b[33m 20:07:28 from start: 0:00:00.746281 caller: __init__ file: <attrs generated init gs.GlobalSettings>\n",
      "\t\u001b[30mgs\u001b[0m\u001b[1m\u001b[33m:\u001b[36m__init__:72\u001b[0m\u001b[1m\u001b[33m\n",
      "\u001b[0m\u001b[1m\u001b[0m\n",
      "True\n",
      "\u001b[1m\u001b[33m\u001b[32m->INFO\u001b[0m\u001b[1m\u001b[33m 20:07:29 from start: 0:00:01.278120  Start: kualastyle ... \n",
      "\t\u001b[30msuppliers.supplier\u001b[0m\u001b[1m\u001b[33m:\u001b[36m__init__:86\u001b[0m\u001b[1m\u001b[33m\n",
      "\u001b[0m\u001b[1m\u001b[0m\n",
      "\u001b[1m\u001b[33m\u001b[32m->INFO\u001b[0m\u001b[1m\u001b[33m 20:07:29 from start: 0:00:01.320977 kualastyle begin to attach driver ...\n",
      "\t\u001b[30msuppliers.supplier\u001b[0m\u001b[1m\u001b[33m:\u001b[36m_load_settings:123\u001b[0m\u001b[1m\u001b[33m\n",
      "\u001b[0m\u001b[1m\u001b[0m\n",
      "\u001b[1m\u001b[33m\u001b[32m->INFO\u001b[0m\u001b[1m\u001b[33m 20:07:29 from start: 0:00:01.323979  \n",
      "        ----------------------\n",
      "        Старт вебдрайвера firefox. \n",
      "        Будет выбран драйвер, подключатся настройки и профиль.\n",
      "        На моем компьютере это занимает около полуминуты\n",
      "        Ждем...\n",
      "        ----------------------\n",
      "        \n",
      "\t\u001b[30mwebdriver.Driver\u001b[0m\u001b[1m\u001b[33m:\u001b[36m__init__:206\u001b[0m\u001b[1m\u001b[33m\n",
      "\u001b[0m\u001b[1m\u001b[0m\n",
      "\u001b[1m\u001b[33m\u001b[32m->INFO\u001b[0m\u001b[1m\u001b[33m 20:07:29 from start: 0:00:01.325977  Firefox ... \n",
      "\t\u001b[30mwebdriver.Firefox\u001b[0m\u001b[1m\u001b[33m:\u001b[36m__init__:71\u001b[0m\u001b[1m\u001b[33m\n",
      "\u001b[0m\u001b[1m\u001b[0m\n",
      "\u001b[34m\u001b[1m\n",
      "            \u001b[32m->DEBUG\u001b[0m\u001b[34m\u001b[1m 20:07:29 from start: 0:00:01.811520 \u001b[33m\u001b[1mПрофиль C:\\Users\\user\\AppData\\Local\\Temp\\tmpbcet2tpa\\webdriver-py-profilecopy\\user.js\u001b[0m\u001b[34m\u001b[1m\u001b[33m\u001b[0m\u001b[34m\u001b[1m\n",
      "            \t\u001b[30mwebdriver.Firefox\u001b[0m\u001b[34m\u001b[1m:\u001b[36m__init__:89\u001b[0m\u001b[34m\u001b[1m\n",
      "\u001b[0m\n",
      "\u001b[1m\u001b[33m\u001b[32m->INFO\u001b[0m\u001b[1m\u001b[33m 20:07:39 from start: 0:00:11.322359  ... стартовал \n",
      "\t\u001b[30mwebdriver.Firefox\u001b[0m\u001b[1m\u001b[33m:\u001b[36m__init__:147\u001b[0m\u001b[1m\u001b[33m\n",
      "\u001b[0m\u001b[1m\u001b[0m\n",
      "\u001b[1m\u001b[33m\u001b[32m->INFO\u001b[0m\u001b[1m\u001b[33m 20:07:39 from start: 0:00:11.322359  ... driver attached succeStringFormatterully in 10 seconds \n",
      "\t\u001b[30msuppliers.supplier\u001b[0m\u001b[1m\u001b[33m:\u001b[36m_load_settings:128\u001b[0m\u001b[1m\u001b[33m\n",
      "\u001b[0m\u001b[1m\u001b[0m\n",
      "\u001b[1m\u001b[33m\u001b[32m->INFO\u001b[0m\u001b[1m\u001b[33m 20:07:39 from start: 0:00:11.322359 ... kualastyle started succeStringFormatterully!\n",
      "\t\u001b[30msuppliers.supplier\u001b[0m\u001b[1m\u001b[33m:\u001b[36m_load_settings:131\u001b[0m\u001b[1m\u001b[33m\n",
      "\u001b[0m\u001b[1m\u001b[0m\n"
     ]
    }
   ],
   "source": [
    "import header\n",
    "from header import Product, ProductFields, start_supplier\n",
    "s = start_supplier('kualastyle')\n",
    "\"\"\" s - на протяжении всего кода означает класс `Supplier` \"\"\"\n",
    "\n",
    "\n",
    "from dict_scenarios import scenario as scenarios\n",
    "for scenario in scenarios:\n",
    "    s.current_scenario = scenario\n",
    "\n",
    "# -------------- сокращения -------\n",
    "l = s.reread_locators('product')\n",
    "d = s.driver\n",
    "_ = d.execute_locator\n",
    "# --------------------------------"
   ]
  },
  {
   "cell_type": "code",
   "execution_count": null,
   "id": "fd7ca853-c015-4a44-a0e1-e65e1aa9decf",
   "metadata": {},
   "outputs": [],
   "source": [
    "s.run_scenario(s.current_scenario)"
   ]
  },
  {
   "cell_type": "code",
   "execution_count": null,
   "id": "04fca31d-4328-44e3-ac2b-2569bee79fa2",
   "metadata": {},
   "outputs": [],
   "source": [
    "print(s.current_scenario['presta_categories'])"
   ]
  },
  {
   "cell_type": "code",
   "execution_count": null,
   "id": "a4d54301-3e43-43b2-88da-aa331f18f88d",
   "metadata": {},
   "outputs": [],
   "source": []
  }
 ],
 "metadata": {
  "kernelspec": {
   "display_name": "Python 3 (ipykernel)",
   "language": "python",
   "name": "python3"
  },
  "language_info": {
   "codemirror_mode": {
    "name": "ipython",
    "version": 3
   },
   "file_extension": ".py",
   "mimetype": "text/x-python",
   "name": "python",
   "nbconvert_exporter": "python",
   "pygments_lexer": "ipython3",
   "version": "3.11.4"
  }
 },
 "nbformat": 4,
 "nbformat_minor": 5
}
