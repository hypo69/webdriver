{
 "cells": [
  {
   "cell_type": "code",
   "execution_count": 1,
   "id": "e1cd1b88-4caa-4f25-9980-cf7832165ca3",
   "metadata": {},
   "outputs": [
    {
     "name": "stdout",
     "output_type": "stream",
     "text": [
      "\u001b[1m\u001b[32m\u001b[1m\u001b[32m-> INFO \u001b[0m\u001b[1m\u001b[32m\u001b[1m\u001b[0m\u001b[1m\u001b[32m2023-05-13T23:21:33.987049+0300: User logged in\n",
      "\t\u001b[30mhelpers.logger\u001b[0m\u001b[1m\u001b[32m:\u001b[36m<module>\u001b[0m\u001b[1m\u001b[32m:\u001b[36m54\u001b[0m\u001b[1m\u001b[32m\u001b[0m\u001b[1m\u001b[0m\n"
     ]
    },
    {
     "name": "stderr",
     "output_type": "stream",
     "text": [
      "NoneType: None\n"
     ]
    }
   ],
   "source": [
    "import sys\n",
    "import os\n",
    "path = os.getcwd()[:os.getcwd().rfind(r'\\hypotez')]\n",
    "sys.path.append(path)  # Добавляю корневую папку в sys.path\n",
    "\n",
    "from hypotez import Product"
   ]
  },
  {
   "cell_type": "code",
   "execution_count": null,
   "id": "6ffdcdae-8a2d-4d97-bd47-8c2249caf6e1",
   "metadata": {},
   "outputs": [],
   "source": []
  }
 ],
 "metadata": {
  "kernelspec": {
   "display_name": "Python 3 (ipykernel)",
   "language": "python",
   "name": "python3"
  },
  "language_info": {
   "codemirror_mode": {
    "name": "ipython",
    "version": 3
   },
   "file_extension": ".py",
   "mimetype": "text/x-python",
   "name": "python",
   "nbconvert_exporter": "python",
   "pygments_lexer": "ipython3",
   "version": "3.11.3"
  }
 },
 "nbformat": 4,
 "nbformat_minor": 5
}
