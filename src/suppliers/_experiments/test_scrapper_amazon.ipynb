{
 "cells": [
  {
   "cell_type": "code",
   "execution_count": 1,
   "id": "a60036a8-8328-4090-823f-5b22f1820ed5",
   "metadata": {
    "tags": []
   },
   "outputs": [
    {
     "name": "stdout",
     "output_type": "stream",
     "text": [
      "\u001b[1m\u001b[32m\u001b[1m\u001b[32m-> INFO \u001b[0m\u001b[1m\u001b[32m\u001b[1m\u001b[0m\u001b[1m\u001b[32m2023-05-14T04:55:45.497061+0300: User logged in\n",
      "\t\u001b[30mhelpers.logger\u001b[0m\u001b[1m\u001b[32m:\u001b[36m<module>\u001b[0m\u001b[1m\u001b[32m:\u001b[36m54\u001b[0m\u001b[1m\u001b[32m\u001b[0m\u001b[1m\u001b[0m\n"
     ]
    },
    {
     "name": "stderr",
     "output_type": "stream",
     "text": [
      "NoneType: None\n"
     ]
    }
   ],
   "source": [
    "import sys\n",
    "import os\n",
    "path = os.getcwd()[:os.getcwd().rfind(r'\\hypotez')]\n",
    "sys.path.append(path)  # Добавляю корневую папку в sys.path\n",
    "\n",
    "from hypotez import Supplier,Product"
   ]
  },
  {
   "cell_type": "code",
   "execution_count": 2,
   "id": "87acad6b-3aff-469f-9bb5-5b9756597436",
   "metadata": {
    "tags": []
   },
   "outputs": [],
   "source": [
    "params: dict = {'supplier_prefix':'amazon'}\n"
   ]
  },
  {
   "cell_type": "code",
   "execution_count": 3,
   "id": "77f958f6-95c6-487e-8ef0-b86953dc83d9",
   "metadata": {
    "tags": []
   },
   "outputs": [
    {
     "name": "stdout",
     "output_type": "stream",
     "text": [
      "\u001b[1m\u001b[32m\u001b[1m\u001b[32m-> INFO \u001b[0m\u001b[1m\u001b[32m\u001b[1m\u001b[0m\u001b[1m\u001b[32m2023-05-14T04:55:46.388391+0300: start: amazon ...\n",
      "\t\u001b[30mhypotez.suppliers.Supplier\u001b[0m\u001b[1m\u001b[32m:\u001b[36m__init__\u001b[0m\u001b[1m\u001b[32m:\u001b[36m52\u001b[0m\u001b[1m\u001b[32m\u001b[0m\u001b[1m\u001b[0m\n",
      "\u001b[1m\u001b[32m\u001b[1m\u001b[32m-> INFO \u001b[0m\u001b[1m\u001b[32m\u001b[1m\u001b[0m\u001b[1m\u001b[32m2023-05-14T04:55:46.391391+0300: amazon attach driver ...\n",
      "\t\u001b[30mhypotez.suppliers.Supplier\u001b[0m\u001b[1m\u001b[32m:\u001b[36m_load_settings\u001b[0m\u001b[1m\u001b[32m:\u001b[36m76\u001b[0m\u001b[1m\u001b[32m\u001b[0m\u001b[1m\u001b[0m\n",
      "\u001b[1m\u001b[32m\u001b[1m\u001b[32m-> INFO \u001b[0m\u001b[1m\u001b[32m\u001b[1m\u001b[0m\u001b[1m\u001b[32m2023-05-14T04:55:46.392393+0300:  Старт драйвера \n",
      "\t\u001b[30mwebdriver.Driver\u001b[0m\u001b[1m\u001b[32m:\u001b[36m__init__\u001b[0m\u001b[1m\u001b[32m:\u001b[36m191\u001b[0m\u001b[1m\u001b[32m\u001b[0m\u001b[1m\u001b[0m\n",
      "\u001b[1m\u001b[32m\u001b[1m\u001b[32m-> INFO \u001b[0m\u001b[1m\u001b[32m\u001b[1m\u001b[0m\u001b[1m\u001b[32m2023-05-14T04:55:46.394396+0300:  Firefox ... \n",
      "\t\u001b[30mwebdriver.Firefox\u001b[0m\u001b[1m\u001b[32m:\u001b[36m__init__\u001b[0m\u001b[1m\u001b[32m:\u001b[36m67\u001b[0m\u001b[1m\u001b[32m\u001b[0m\u001b[1m\u001b[0m\n",
      "\u001b[1m\u001b[32m\u001b[1m\u001b[32m-> INFO \u001b[0m\u001b[1m\u001b[32m\u001b[1m\u001b[0m\u001b[1m\u001b[32m2023-05-14T04:56:33.547621+0300:  ... стартовал \n",
      "\t\u001b[30mwebdriver.Firefox\u001b[0m\u001b[1m\u001b[32m:\u001b[36m__init__\u001b[0m\u001b[1m\u001b[32m:\u001b[36m95\u001b[0m\u001b[1m\u001b[32m\u001b[0m\u001b[1m\u001b[0m\n",
      "\u001b[1m\u001b[32m\u001b[1m\u001b[32m-> INFO \u001b[0m\u001b[1m\u001b[32m\u001b[1m\u001b[0m\u001b[1m\u001b[32m2023-05-14T04:56:33.549621+0300: ... driver attached succeStringFormatterully\n",
      "\t\u001b[30mhypotez.suppliers.Supplier\u001b[0m\u001b[1m\u001b[32m:\u001b[36m_load_settings\u001b[0m\u001b[1m\u001b[32m:\u001b[36m78\u001b[0m\u001b[1m\u001b[32m\u001b[0m\u001b[1m\u001b[0m\n",
      "\u001b[1m\u001b[32m\u001b[1m\u001b[32m-> INFO \u001b[0m\u001b[1m\u001b[32m\u001b[1m\u001b[0m\u001b[1m\u001b[32m2023-05-14T04:56:33.682210+0300: ... amazon started succeStringFormatterully!\n",
      "\t\u001b[30mhypotez.suppliers.Supplier\u001b[0m\u001b[1m\u001b[32m:\u001b[36m_load_settings\u001b[0m\u001b[1m\u001b[32m:\u001b[36m81\u001b[0m\u001b[1m\u001b[32m\u001b[0m\u001b[1m\u001b[0m\n"
     ]
    }
   ],
   "source": [
    "s = Supplier(**params)"
   ]
  },
  {
   "cell_type": "code",
   "execution_count": 4,
   "id": "03721d8f-af37-4fe8-a804-04e5d4bbdd77",
   "metadata": {
    "tags": []
   },
   "outputs": [],
   "source": [
    "scenario: dict = { \n",
    "    \"Apple Wathes\": {\n",
    "        \"url\": \"https://www.amazon.com/s?i=electronics-intl-ship&bbn=16225009011&rh=n%3A2811119011%2Cn%3A2407755011%2Cn%3A7939902011%2Cp_n_is_free_shipping%3A10236242011%2Cp_89%3AApple&dc&ds=v1%3AyDxGiVC9lCk%2BzGvhkah6ZCjaellz7FcqKtRIfFA3o2A&qid=1671818889&rnid=2407755011&ref=sr_nr_n_2\",\n",
    "        \"active\": True,\n",
    "        \"condition\":\"new\",\n",
    "        \"presta_categories\": {\n",
    "        \"template\": { \"apple\": \"WATCHES\" }\n",
    "      },\n",
    "      \"checkbox\": False,\n",
    "\n",
    "      \"price_rule\": 1\n",
    "    }\n",
    "}"
   ]
  },
  {
   "cell_type": "code",
   "execution_count": 5,
   "id": "ccdc6fec-5da5-46cd-bb66-59245c623bbe",
   "metadata": {
    "tags": []
   },
   "outputs": [
    {
     "name": "stdout",
     "output_type": "stream",
     "text": [
      "\u001b[1m\u001b[32m\u001b[1m\u001b[32m-> INFO \u001b[0m\u001b[1m\u001b[32m\u001b[1m\u001b[0m\u001b[1m\u001b[32m2023-05-14T04:56:33.715371+0300: Started scenario {'url': 'https://www.amazon.com/s?i=electronics-intl-ship&bbn=16225009011&rh=n%3A2811119011%2Cn%3A2407755011%2Cn%3A7939902011%2Cp_n_is_free_shipping%3A10236242011%2Cp_89%3AApple&dc&ds=v1%3AyDxGiVC9lCk%2BzGvhkah6ZCjaellz7FcqKtRIfFA3o2A&qid=1671818889&rnid=2407755011&ref=sr_nr_n_2', 'active': True, 'condition': 'new', 'presta_categories': {'template': {'apple': 'WATCHES'}}, 'checkbox': False, 'price_rule': 1}\n",
      "\t\u001b[30mhypotez.suppliers.execute_scenarios\u001b[0m\u001b[1m\u001b[32m:\u001b[36mrun_scenario\u001b[0m\u001b[1m\u001b[32m:\u001b[36m186\u001b[0m\u001b[1m\u001b[32m\u001b[0m\u001b[1m\u001b[0m\n",
      "\u001b[1m\u001b[32m\u001b[1m\u001b[32m-> INFO \u001b[0m\u001b[1m\u001b[32m\u001b[1m\u001b[0m\u001b[1m\u001b[32m2023-05-14T04:56:38.884286+0300:  Найдено 10 товаров \n",
      "\t\u001b[30msuppliers.amazon.via_webdriver\u001b[0m\u001b[1m\u001b[32m:\u001b[36mget_list_products_in_category\u001b[0m\u001b[1m\u001b[32m:\u001b[36m37\u001b[0m\u001b[1m\u001b[32m\u001b[0m\u001b[1m\u001b[0m\n",
      "\u001b[31m\u001b[1m\u001b[31m\u001b[1m\u001b[31m\u001b[1m\u001b[32m-> ERROR \u001b[0m\u001b[31m\u001b[1m\u001b[31m\u001b[1m\u001b[31m\u001b[1m\u001b[0m\u001b[31m\u001b[1m\u001b[31m\u001b[1m2023-05-14T04:56:43.068013+0300: Ошибка заполнения поля: 'Name*' данными Apple Watch Series 4 (GPS, 44MM) - Space Gray Aluminum Case with Black Sport Band (Renewed)\n",
      "            Ошибка: 'name'\n",
      "\n",
      "\t\u001b[30msuppliers.product_fields\u001b[0m\u001b[31m\u001b[1m\u001b[31m\u001b[1m:\u001b[36mfield_name\u001b[0m\u001b[31m\u001b[1m\u001b[31m\u001b[1m:\u001b[36m101\u001b[0m\u001b[31m\u001b[1m\u001b[31m\u001b[1m\u001b[0m\u001b[31m\u001b[1m\u001b[31m\u001b[0m\u001b[31m\u001b[1m\u001b[0m\n",
      "\u001b[31m\u001b[1m\u001b[31m\u001b[1m\u001b[31m\u001b[1m\u001b[32m-> ERROR \u001b[0m\u001b[31m\u001b[1m\u001b[31m\u001b[1m\u001b[31m\u001b[1m\u001b[0m\u001b[31m\u001b[1m\u001b[31m\u001b[1m2023-05-14T04:56:43.491955+0300: Ошибка заполнения поля: 'Summary' данными   <tbody><tr class=\"a-spacing-small po-brand\"> <td class=\"a-span3\">        <span class=\"a-size-base a-text-bold\">Brand</span>      </td> <td class=\"a-span9\">    <span class=\"a-size-base po-break-word\">Apple</span>   </td> </tr>  <tr class=\"a-spacing-small po-model_name\"> <td class=\"a-span3\">        <span class=\"a-size-base a-text-bold\">Model Name</span>      </td> <td class=\"a-span9\">    <span class=\"a-size-base po-break-word\">Apple Watch Series 4</span>   </td> </tr>  <tr class=\"a-spacing-small po-style\"> <td class=\"a-span3\">        <span class=\"a-size-base a-text-bold\">Style</span>      </td> <td class=\"a-span9\">    <span class=\"a-size-base po-break-word\">Space Gray Aluminum + Black Sport Band</span>   </td> </tr>  <tr class=\"a-spacing-small po-color\"> <td class=\"a-span3\">        <span class=\"a-size-base a-text-bold\">Color</span>      </td> <td class=\"a-span9\">    <span class=\"a-size-base po-break-word\">Space Gray, Black</span>   </td> </tr>  <tr class=\"a-spacing-small po-display.size\"> <td class=\"a-span3\">        <span class=\"a-size-base a-text-bold\">Screen Size</span>      </td> <td class=\"a-span9\">    <span class=\"a-size-base po-break-word\">44 Millimeters</span>   </td> </tr>  <tr class=\"a-spacing-small po-special_feature\"> <td class=\"a-span3\">        <span class=\"a-size-base a-text-bold\">Special Feature</span>      </td> <td class=\"a-span9\">       <script type=\"text/javascript\">(function(f) {var _np=(window.P._@namespace src(\"DetailPageProductOverviewtemplatesJava\"));if(_np.guardFatal){_np.guardFatal(f)(_np);}else{f(_np);}}(function(P) {\n",
      "                                    P.when('A').execute(function(A){\n",
      "                                        A.on('a:truncate:po-attribute-truncate-5:updated', function(data) {\n",
      "                                            var isTruncated = !data.truncateInstance.getIfTextFits();\n",
      "                                            var seeMoreElement = document.getElementById('po-attribute-see-more-id-5');\n",
      "                                            if(seeMoreElement) {\n",
      "                                                seeMoreElement.style.display = isTruncated ?  ''  :  'none';\n",
      "                                            }\n",
      "                                        })\n",
      "                                    });\n",
      "                                }));</script>  <span class=\"a-size-base\"><span class=\"a-truncate po-truncate-attribute\" data-a-word-break=\"normal\" data-a-truncate-name=\"po-attribute-truncate-5\" data-a-max-rows=\"3\" data-a-overflow-marker=\"&amp;hellip;\" style=\"line-height: 1.3em !important; max-height: 3.9em;\" data-a-recalculate=\"false\" data-a-updated=\"true\"><span class=\"a-truncate-full a-offscreen\">Electrocardiography, Heart rate, Accelerometer, Altimeter, Ambient light sensor, Gyro sensor, Heart rate sensor, GPS,Time Display,Phone Call, Notifications</span><span class=\"a-truncate-cut\" aria-hidden=\"true\" style=\"height: auto;\">Electrocardiography, Heart rate, Accelerometer, Altimeter, Ambient light sensor, Gyro sensor, Heart rate sensor, GPS,Time Display,Phone Call, Notifications</span></span></span>  <span class=\"a-declarative\" data-action=\"a-modal\" data-csa-c-type=\"widget\" data-csa-c-func-deps=\"aui-da-a-modal\" data-a-modal=\"{&quot;max-height&quot;:&quot;400&quot;,&quot;width&quot;:&quot;800&quot;,&quot;header&quot;:&quot;Special Feature&quot;,&quot;inlineContent&quot;:&quot;Electrocardiography, Heart rate, Accelerometer, Altimeter, Ambient light sensor, Gyro sensor, Heart rate sensor, GPS,Time Display,Phone Call, Notifications&quot;}\" id=\"po-attribute-see-more-id-5\" style=\"display: none;\" data-csa-c-id=\"vgxrpv-pgcz5b-tyszg2-dch9vc\"> <a href=\"javascript:void(0)\" role=\"button\" class=\"a-popover-trigger a-declarative\">See more<i class=\"a-icon a-icon-popover\"></i></a> </span>    </td> </tr>  <tr class=\"a-spacing-small po-item_shape\"> <td class=\"a-span3\">        <span class=\"a-size-base a-text-bold\">Shape</span>      </td> <td class=\"a-span9\">    <span class=\"a-size-base po-break-word\">Rectangular</span>   </td> </tr>  <tr class=\"a-spacing-small po-target_audience\"> <td class=\"a-span3\">        <span class=\"a-size-base a-text-bold\">Target Audience</span>      </td> <td class=\"a-span9\">    <span class=\"a-size-base po-break-word\">Unisex Adult</span>   </td> </tr>  <tr class=\"a-spacing-small po-age_range_description\"> <td class=\"a-span3\">        <span class=\"a-size-base a-text-bold\">Age Range (Description)</span>      </td> <td class=\"a-span9\">    <span class=\"a-size-base po-break-word\">Adult</span>   </td> </tr>  <tr class=\"a-spacing-small po-compatible_devices\"> <td class=\"a-span3\">        <span class=\"a-size-base a-text-bold\">Compatible Devices</span>      </td> <td class=\"a-span9\">    <span class=\"a-size-base po-break-word\">Smartphone</span>   </td> </tr>   </tbody>\n",
      "            Ошибка: 'description_short'\n",
      "\t\u001b[30msuppliers.product_fields\u001b[0m\u001b[31m\u001b[1m\u001b[31m\u001b[1m:\u001b[36mfield_summary\u001b[0m\u001b[31m\u001b[1m\u001b[31m\u001b[1m:\u001b[36m572\u001b[0m\u001b[31m\u001b[1m\u001b[31m\u001b[1m\u001b[0m\u001b[31m\u001b[1m\u001b[31m\u001b[0m\u001b[31m\u001b[1m\u001b[0m\n",
      "\u001b[31m\u001b[1m\u001b[31m\u001b[1m\u001b[31m\u001b[1m\u001b[32m-> ERROR \u001b[0m\u001b[31m\u001b[1m\u001b[31m\u001b[1m\u001b[31m\u001b[1m\u001b[0m\u001b[31m\u001b[1m\u001b[31m\u001b[1m2023-05-14T04:56:43.492955+0300: Не определен метод захвата элемента! \n",
      "\t\u001b[30mwebdriver.execute_locator\u001b[0m\u001b[31m\u001b[1m\u001b[31m\u001b[1m:\u001b[36mget_webelments_from_page\u001b[0m\u001b[31m\u001b[1m\u001b[31m\u001b[1m:\u001b[36m341\u001b[0m\u001b[31m\u001b[1m\u001b[31m\u001b[1m\u001b[0m\u001b[31m\u001b[1m\u001b[31m\u001b[0m\u001b[31m\u001b[1m\u001b[0m\n",
      "\u001b[31m\u001b[1m\u001b[31m\u001b[1m\u001b[31m\u001b[1m\u001b[32m-> ERROR \u001b[0m\u001b[31m\u001b[1m\u001b[31m\u001b[1m\u001b[31m\u001b[1m\u001b[0m\u001b[31m\u001b[1m\u001b[31m\u001b[1m2023-05-14T04:56:43.767113+0300: Ошибка заполнения поля: 'Description' данными This Apple Watch 44mm Series 4 is in used condition. It is 100% functional but will show signs of use, including scratches and dents on the front, back, and corners of the product. This item will NOT come in its original packaging but will include a certified cable and power adapter. Manual is not included! Apple Watches are compatible with iPhone models 6 and up.\n",
      "\n",
      "\n",
      "PACKAGE CONTENTS:\n",
      "\n",
      "Apple Watch 40mm Series 4\n",
      "\n",
      "Charging Cable\n",
      "\n",
      "Square Wall Socket Charging Adapter\n",
      "\n",
      "*Please Note*\n",
      "\n",
      "Item comes packaged in an Aftermarket Box.\n",
      "\n",
      "User Manual & Headsets are NOT included!\n",
      "            Ошибка: 'description'\n",
      "\t\u001b[30msuppliers.product_fields\u001b[0m\u001b[31m\u001b[1m\u001b[31m\u001b[1m:\u001b[36mfield_description\u001b[0m\u001b[31m\u001b[1m\u001b[31m\u001b[1m:\u001b[36m593\u001b[0m\u001b[31m\u001b[1m\u001b[31m\u001b[1m\u001b[0m\u001b[31m\u001b[1m\u001b[31m\u001b[0m\u001b[31m\u001b[1m\u001b[0m\n"
     ]
    },
    {
     "ename": "KeyError",
     "evalue": "'refurbished_description'",
     "output_type": "error",
     "traceback": [
      "\u001b[1;31m---------------------------------------------------------------------------\u001b[0m",
      "\u001b[1;31mKeyError\u001b[0m                                  Traceback (most recent call last)",
      "Cell \u001b[1;32mIn[5], line 1\u001b[0m\n\u001b[1;32m----> 1\u001b[0m \u001b[43ms\u001b[49m\u001b[38;5;241;43m.\u001b[39;49m\u001b[43mrun_scenario\u001b[49m\u001b[43m(\u001b[49m\u001b[43mscenario\u001b[49m\u001b[43m[\u001b[49m\u001b[38;5;124;43m'\u001b[39;49m\u001b[38;5;124;43mApple Wathes\u001b[39;49m\u001b[38;5;124;43m'\u001b[39;49m\u001b[43m]\u001b[49m\u001b[43m)\u001b[49m\n",
      "File \u001b[1;32m~\\OneDrive\\REPOS\\DavidkaBenAvraham\\hypotez\\suppliers\\Supplier.py:140\u001b[0m, in \u001b[0;36mSupplier.run_scenario\u001b[1;34m(self, scenario)\u001b[0m\n\u001b[0;32m    137\u001b[0m     \u001b[38;5;28;01mreturn\u001b[39;00m \u001b[38;5;28mself\u001b[39m\u001b[38;5;241m.\u001b[39msupplier_related_modules\u001b[38;5;241m.\u001b[39mrun_scenario_via_api(\u001b[38;5;28mself\u001b[39m, scenario_files)\n\u001b[0;32m    139\u001b[0m \u001b[38;5;28;01melif\u001b[39;00m \u001b[38;5;28mself\u001b[39m\u001b[38;5;241m.\u001b[39mparcing_method\u001b[38;5;241m.\u001b[39mlower() \u001b[38;5;241m==\u001b[39m \u001b[38;5;124m'\u001b[39m\u001b[38;5;124mwebdriver\u001b[39m\u001b[38;5;124m'\u001b[39m:\n\u001b[1;32m--> 140\u001b[0m     \u001b[38;5;28;01mreturn\u001b[39;00m \u001b[43mrun_scenario\u001b[49m\u001b[43m(\u001b[49m\u001b[38;5;28;43mself\u001b[39;49m\u001b[43m,\u001b[49m\u001b[43m \u001b[49m\u001b[43mscenario\u001b[49m\u001b[43m)\u001b[49m\n",
      "File \u001b[1;32m~\\OneDrive\\REPOS\\DavidkaBenAvraham\\hypotez\\suppliers\\execute_scenarios.py:218\u001b[0m, in \u001b[0;36mrun_scenario\u001b[1;34m(s, scenario)\u001b[0m\n\u001b[0;32m    215\u001b[0m         \u001b[38;5;28;01mreturn\u001b[39;00m \u001b[38;5;28;01mFalse\u001b[39;00m\n\u001b[0;32m    217\u001b[0m _d\u001b[38;5;241m.\u001b[39mget_url(scenario[\u001b[38;5;124m\"\u001b[39m\u001b[38;5;124murl\u001b[39m\u001b[38;5;124m\"\u001b[39m])\n\u001b[1;32m--> 218\u001b[0m \u001b[43mrun\u001b[49m\u001b[43m(\u001b[49m\u001b[43ms\u001b[49m\u001b[43m)\u001b[49m\n\u001b[0;32m    219\u001b[0m _export()\n\u001b[0;32m    221\u001b[0m \u001b[38;5;28;01mreturn\u001b[39;00m \u001b[38;5;28;01mTrue\u001b[39;00m\n",
      "File \u001b[1;32m~\\OneDrive\\REPOS\\DavidkaBenAvraham\\hypotez\\suppliers\\execute_scenarios.py:204\u001b[0m, in \u001b[0;36mrun_scenario.<locals>.run\u001b[1;34m(s)\u001b[0m\n\u001b[0;32m    202\u001b[0m \u001b[38;5;28;01mfor\u001b[39;00m url \u001b[38;5;129;01min\u001b[39;00m list_products_in_category:\n\u001b[0;32m    203\u001b[0m     _d\u001b[38;5;241m.\u001b[39mget_url(url)\n\u001b[1;32m--> 204\u001b[0m     \u001b[43ms\u001b[49m\u001b[38;5;241;43m.\u001b[39;49m\u001b[43mgrab_product_page\u001b[49m\u001b[43m(\u001b[49m\u001b[43m)\u001b[49m\n",
      "File \u001b[1;32m~\\OneDrive\\REPOS\\DavidkaBenAvraham\\hypotez\\suppliers\\Product.py:179\u001b[0m, in \u001b[0;36mProduct.grab_product_page\u001b[1;34m(s)\u001b[0m\n\u001b[0;32m    172\u001b[0m \u001b[38;5;28;01mdef\u001b[39;00m \u001b[38;5;21mgrab_product_page\u001b[39m(s) \u001b[38;5;241m-\u001b[39m\u001b[38;5;241m>\u001b[39m \u001b[38;5;28mbool\u001b[39m:\n\u001b[0;32m    173\u001b[0m \u001b[38;5;250m    \u001b[39m\u001b[38;5;124;03m\"\"\" Собираю данные со страницы\u001b[39;00m\n\u001b[0;32m    174\u001b[0m \u001b[38;5;124;03m    Attrs:\u001b[39;00m\n\u001b[0;32m    175\u001b[0m \u001b[38;5;124;03m\u001b[39;00m\n\u001b[0;32m    176\u001b[0m \u001b[38;5;124;03m    \u001b[39;00m\n\u001b[0;32m    177\u001b[0m \u001b[38;5;124;03m    @returns\u001b[39;00m\n\u001b[0;32m    178\u001b[0m \u001b[38;5;124;03m\t\"\"\"\u001b[39;00m\n\u001b[1;32m--> 179\u001b[0m     \u001b[38;5;28;01mreturn\u001b[39;00m \u001b[43ms\u001b[49m\u001b[38;5;241;43m.\u001b[39;49m\u001b[43msupplier_related_modules\u001b[49m\u001b[38;5;241;43m.\u001b[39;49m\u001b[43mgrab_product_page\u001b[49m\u001b[43m(\u001b[49m\u001b[43ms\u001b[49m\u001b[43m)\u001b[49m\n",
      "File \u001b[1;32m~\\OneDrive\\REPOS\\DavidkaBenAvraham\\hypotez\\suppliers\\amazon\\scrapper.py:40\u001b[0m, in \u001b[0;36mgrab_product_page\u001b[1;34m(s)\u001b[0m\n\u001b[0;32m     36\u001b[0m p\u001b[38;5;241m.\u001b[39mfield_description \u001b[38;5;241m=\u001b[39m _d\u001b[38;5;241m.\u001b[39mexecute_locator(_l[\u001b[38;5;124m'\u001b[39m\u001b[38;5;124mDescription\u001b[39m\u001b[38;5;124m'\u001b[39m])\n\u001b[0;32m     38\u001b[0m screenshot \u001b[38;5;241m=\u001b[39m _d\u001b[38;5;241m.\u001b[39mexecute_locator(_l[\u001b[38;5;124m'\u001b[39m\u001b[38;5;124mScreenshot\u001b[39m\u001b[38;5;124m'\u001b[39m])\n\u001b[1;32m---> 40\u001b[0m p\u001b[38;5;241m.\u001b[39mfield_refurbished_product_decription \u001b[38;5;241m=\u001b[39m _d\u001b[38;5;241m.\u001b[39mexecute_locator(\u001b[43m_l\u001b[49m\u001b[43m[\u001b[49m\u001b[38;5;124;43m'\u001b[39;49m\u001b[38;5;124;43mrefurbished_description\u001b[39;49m\u001b[38;5;124;43m'\u001b[39;49m\u001b[43m]\u001b[49m)\n\u001b[0;32m     41\u001b[0m \u001b[38;5;28;01mif\u001b[39;00m p\u001b[38;5;241m.\u001b[39mfield_refurbished_product_decription \u001b[38;5;129;01mis\u001b[39;00m \u001b[38;5;28;01mNone\u001b[39;00m :\n\u001b[0;32m     42\u001b[0m     p\u001b[38;5;241m.\u001b[39mfield_condition \u001b[38;5;241m=\u001b[39m \u001b[38;5;124m'\u001b[39m\u001b[38;5;124mnew\u001b[39m\u001b[38;5;124m'\u001b[39m\n",
      "\u001b[1;31mKeyError\u001b[0m: 'refurbished_description'"
     ]
    }
   ],
   "source": [
    "s.run_scenario(scenario['Apple Wathes'])"
   ]
  },
  {
   "cell_type": "code",
   "execution_count": null,
   "id": "1468ff69-8024-429e-8dfd-dcbcb28b782a",
   "metadata": {
    "tags": []
   },
   "outputs": [],
   "source": [
    "d = s.driver"
   ]
  },
  {
   "cell_type": "code",
   "execution_count": null,
   "id": "40ba1ca9-07a2-49ed-925d-037a5d631aa2",
   "metadata": {
    "tags": []
   },
   "outputs": [],
   "source": [
    "l = s.locators_product"
   ]
  },
  {
   "cell_type": "code",
   "execution_count": null,
   "id": "44aeb4b5-c735-408c-b2ab-20a25f0f66a3",
   "metadata": {
    "tags": []
   },
   "outputs": [],
   "source": [
    "affiliate_short_link = d.execute_locator(l['affiliate short link'])"
   ]
  },
  {
   "cell_type": "code",
   "execution_count": null,
   "id": "823a22be-4a6a-4fd4-90c0-6f2b3d061e31",
   "metadata": {
    "tags": []
   },
   "outputs": [],
   "source": [
    "print(affiliate_short_link)"
   ]
  },
  {
   "cell_type": "code",
   "execution_count": null,
   "id": "40834613-d8d2-4024-8067-4c3cb401602a",
   "metadata": {
    "tags": []
   },
   "outputs": [],
   "source": [
    "l['summary'] = {\n",
    "    'about': 'может быть разная. Надо долго проверять локатор', \n",
    "    'attribute': 'innerHTML', 'logic for attribue[AND|OR|XOR|VALUE|null]': None, \n",
    "    'by': 'xpath', \n",
    "    'selector': \"//div[contains(@data-a-expander-name , 'product_overview')]//table\", \n",
    "    'logic for action[AND|OR|XOR|VALUE|null]': None, \n",
    "    'use_mouse': False, \n",
    "    'action': None\n",
    "}"
   ]
  },
  {
   "cell_type": "code",
   "execution_count": null,
   "id": "c58ed55d-5046-4b01-9db5-77743d5ef13b",
   "metadata": {
    "tags": []
   },
   "outputs": [],
   "source": [
    "keys = s.locators['product'].keys()\n",
    "for k in keys:\n",
    "    print(k)"
   ]
  },
  {
   "cell_type": "code",
   "execution_count": null,
   "id": "9e182060-adbe-4eca-bc7d-90b95d8f6699",
   "metadata": {
    "tags": []
   },
   "outputs": [],
   "source": [
    "ASIN = d.execute_locator(l['ASIN'])\n",
    "name = d.execute_locator(l['Name*'])\n",
    "price = d.execute_locator(l['Price tax excluded'])\n",
    "brand = d.execute_locator(l['Brand'])\n",
    "summary = d.execute_locator(l['Summary'])\n",
    "description = d.execute_locator(l['Description'])\n",
    "qty = d.execute_locator(l['qty'])\n",
    "affiliate_short_link = d.execute_locator(l['affiliate short link'])"
   ]
  },
  {
   "cell_type": "code",
   "execution_count": null,
   "id": "938cdd56-59da-4dd3-989b-a94af050c0be",
   "metadata": {
    "tags": []
   },
   "outputs": [],
   "source": [
    " {\n",
    "      \"attribute\": null,\n",
    "      \"logic for attribue[AND|OR|XOR|VALUE|null]\": null,\n",
    "      \"by\": null,\n",
    "      \"selector\": null,\n",
    "      \"logic for action[AND|OR|XOR|VALUE|null]\": null,\n",
    "      \"use_mouse\": false,\n",
    "      \"action\": null\n",
    "    },"
   ]
  }
 ],
 "metadata": {
  "kernelspec": {
   "display_name": "Python 3 (ipykernel)",
   "language": "python",
   "name": "python3"
  },
  "language_info": {
   "codemirror_mode": {
    "name": "ipython",
    "version": 3
   },
   "file_extension": ".py",
   "mimetype": "text/x-python",
   "name": "python",
   "nbconvert_exporter": "python",
   "pygments_lexer": "ipython3",
   "version": "3.11.3"
  },
  "toc-autonumbering": true,
  "toc-showcode": true,
  "toc-showmarkdowntxt": true
 },
 "nbformat": 4,
 "nbformat_minor": 5
}
